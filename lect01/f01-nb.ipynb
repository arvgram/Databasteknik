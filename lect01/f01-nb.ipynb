{
 "cells": [
  {
   "cell_type": "markdown",
   "metadata": {},
   "source": [
    "<!-- # -*- mode: markdown; coding: utf-8; fill-column: 60; org-indent-mode: t; column-number-mode: t; flyspell-mode: t; ispell-local-dictionary: \"en\"; eval: (visual-on); -*- -->\n",
    "\n",
    "<meta charset=\"utf-8\"/>\n",
    "<meta name=\"viewport\" content=\"width=device-width,initial-scale=1\"/>\n",
    "<link rel=\"stylesheet\" href=\"style.css\">\n",
    "\n",
    "\n",
    "# EDAF75 -- lectures 1 and 2\n",
    "\n",
    "In the text below there are two kinds of problems:\n",
    "\n",
    "+ **Problem:**-marked problems, which I intend to solve during the lecture. Depending on how fast we progress, I may or may not have time to solve them all -- those of the problems we have to skip during the lectures are left as exercises (see below), but we can discuss them during QA sessions.\n",
    "\n",
    "+ **Exercise:**-marked problems, which I suggest you solve yourselves (we can also work on them during the QA sessions).\n",
    "  \n",
    "-----\n",
    "\n",
    "# Index\n",
    "\n",
    "+ [Basic queries](#Basic-queries) (`SELECT-FROM-WHERE`, or SFW)\n",
    "+ [Set operations](#Set-operations)\n",
    "+ [Scalar functions and aggregate functions](#Scalar-functions-and-aggregate-functions)\n",
    "+ [Grouping](#Grouping) (`GROUP BY`)\n",
    "+ [Subqueries, Views and Common Table Expressions](#Subqueries,-Views-and-Common-Table-Expressions)\n",
    "+ [Exercises to prepare for lecture 2](Exercises-to-prepare-for-lecture-2)\n",
    "+ [Redundancy, and the case for splitting up tables](#Redundancy,-and-the-case-for-splitting-up-tables)\n",
    "+ [Joining tables together](#Joining-tables-together)\n",
    "\n",
    "-----\n",
    "\n",
    "\n",
    "This document should be used as a [_Jupyter notebook_](https://jupyter.org/), it contains _cells_ in which we can evaluate program code (I assume most of you have used notebooks before, but I'll have a QA-session after the lecture, where you can ask if you have any questions about it).\n",
    "\n",
    "Jupyter notebooks have built in support for _Julia_, _Python_, and _R_ (hence _Ju-Pyt-R_), here's some Python code:"
   ]
  },
  {
   "cell_type": "code",
   "execution_count": 1,
   "metadata": {},
   "outputs": [
    {
     "name": "stdin",
     "output_type": "stream",
     "text": [
      "What's your name:  Arvid\n"
     ]
    },
    {
     "name": "stdout",
     "output_type": "stream",
     "text": [
      "hello, Arvid!\n"
     ]
    }
   ],
   "source": [
    "def hello(name):\n",
    "    print(f\"hello, {name}!\")\n",
    "\n",
    "def main():\n",
    "    name = input(\"What's your name: \")\n",
    "    hello(name)\n",
    "    \n",
    "main()"
   ]
  },
  {
   "cell_type": "markdown",
   "metadata": {},
   "source": [
    "You can run the code snippet above by clicking somewhere in the box, and press Shift-Enter.\n",
    "\n",
    "We're primarily going to run SQL code (see below) in our notebooks, but I'll also show you some Python code later on in the course (you don't have to learn Python to take the course, though).\n",
    "\n",
    "\n",
    "# Introduction to relational databases\n",
    "\n",
    "If we were to keep track of all Nobel laureates in a Python or Java program, and didn't know about relational databases, we would probably define classes for the laureates, and put them in lists. We could also define classes for the categories, and have one list for each category, or have lists with one element per year, and somehow track all laureates in that year, or use some kind of dictionaries/maps. However we chose to keep track of the data, some searches, insertions and deletions would be easy to implement, and some would be cumbersome. We'd also have to be careful to keep our data consistent.\n",
    "\n",
    "In this course, we'll use a technique which may at first seem too simple to be useful, but which turns out to be *incredibly* powerful. We're going to use [_relational databases_](https://en.wikipedia.org/wiki/Relational_database), and we'll store the data in 'simple' [_tables_](https://en.wikipedia.org/wiki/Table_(database)). Each table looks like a simple spreadsheet -- here is a table with some Nobel laureates:\n",
    "\n",
    "<style type=\"text/css\">\n",
    ".tg  {border-collapse:collapse;border-spacing:0;border-color:#999;margin:0px auto}\n",
    ".tg td{font-family:Arial, sans-serif;font-size:14px;padding:10px 5px;border-style:solid;border-width:1px;overflow:hidden;word-break:normal;border-color:#999;color:#444;background-color:#F7FDFA;}\n",
    ".tg th{font-family:Arial, sans-serif;font-size:14px;font-weight:normal;padding:10px 5px;border-style:solid;border-width:1px;overflow:hidden;word-break:normal;border-color:#999;color:#fff;background-color:#26ADE4;}\n",
    ".tg .tg-e3zv{font-weight:bold}\n",
    ".tg .tg-9hbo{font-weight:bold;vertical-align:top}\n",
    ".tg .tg-yw4l{vertical-align:top}\n",
    "</style>\n",
    "<table class=\"tg\">\n",
    "  <tr>\n",
    "    <th class=\"tg-e3zv\">year</th>\n",
    "    <th class=\"tg-9hbo\">category</th>\n",
    "    <th class=\"tg-9hbo\">name</th>\n",
    "    <th class=\"tg-9hbo\">motivation</th>\n",
    "  </tr>\n",
    "  <tr>\n",
    "    <td class=\"tg-yw4l\">2011</td>\n",
    "    <td class=\"tg-yw4l\">Literature</td>\n",
    "    <td class=\"tg-yw4l\">Tomas Tranströmer</td>\n",
    "    <td class=\"tg-yw4l\">...</td>\n",
    "  </tr>\n",
    "  <tr>\n",
    "    <td class=\"tg-yw4l\">2011</td>\n",
    "    <td class=\"tg-yw4l\">Physics</td>\n",
    "    <td class=\"tg-yw4l\">Adam Riess</td>\n",
    "    <td class=\"tg-yw4l\">...</td>\n",
    "  </tr>\n",
    "  <tr>\n",
    "    <td class=\"tg-yw4l\">2011</td>\n",
    "    <td class=\"tg-yw4l\">Chemistry</td>\n",
    "    <td class=\"tg-yw4l\">Dan Shechtman</td>\n",
    "    <td class=\"tg-yw4l\">...</td>\n",
    "  </tr>\n",
    "  <tr>\n",
    "    <td class=\"tg-yw4l\">2011</td>\n",
    "    <td class=\"tg-yw4l\">Physiology or Medicine</td>\n",
    "    <td class=\"tg-yw4l\">Ralph Steinman</td>\n",
    "    <td class=\"tg-yw4l\">...</td>\n",
    "  </tr>\n",
    "</table>\n",
    "\n",
    "A _row_ represents an item, and a _column_ represents a property of the items.\n",
    "\n",
    "In the example above, each row describes a Nobel laurate, and for each laureate, we have columns showing what year the prize was awarded, in what category, the name of the laureate, and the motivation (not shown here).\n",
    "\n",
    "One basic idea of relational databases is that all 'cells' in a table should be simple values (no lists or objects), and that we can use simple operations from [_relational algebra_](https://en.wikipedia.org/wiki/Relational_algebra) to get information from it.\n",
    "We do it using a programming language which is highly specialized for manipulating and extracting information, it is called [SQL](https://en.wikipedia.org/wiki/SQL), which is short hand for _Structured Query Language_. SQL can be pronounced as either \"S-Q-L\", or \"sequel\".\n",
    "\n",
    "SQL is divided into several sub-languages:\n",
    "\n",
    " + _Data Definition Language_ (_DDL_): constructs used to define the tables of a database,\n",
    "\n",
    " + _Data Manipulation Language_ (_DML_): statements used to query and manipulate data in a database,\n",
    "   \n",
    " + _Transaction Control Language_ (_TCL_): commands used to handle transactions (we will return to what a transaction is later in the course), and\n",
    "   \n",
    " + _Data Control Language_ (_DCL_): commands used to controll access to our data (we'll will not deal with them in this course).\n",
    "\n",
    "This week we'll focus on \"Data Manipulation\", i.e., ways to query and modify our databases -- next week we'll look at how to design and create our databases, and then use DDL to define our tables.\n",
    "\n",
    "We'll begin by discussing the following operations from relational algebra:\n",
    "\n",
    " + _selection_: choosing some of the rows of a table\n",
    "\n",
    " + _projection_: choosing some of the columns of a table\n",
    "\n",
    "We will then see various ways to refine and combine queries.\n",
    "\n",
    "\n",
    "## An actual DBMS\n",
    "\n",
    "There are many different Relational Database Management Systems ([RDMBS:es](https://en.wikipedia.org/wiki/Relational_database)) which implements SQL, some of the most prominent are:\n",
    "\n",
    " *  [PostgreSQL](https://en.wikipedia.org/wiki/PostgreSQL)\n",
    " *  [MariaDB](https://en.wikipedia.org/wiki/MariaDB)\n",
    " *  [MySQL](https://en.wikipedia.org/wiki/MySQL)\n",
    " *  [Oracle](https://en.wikipedia.org/wiki/Oracle_Database)\n",
    " *  [Microsoft SQL Server](https://en.wikipedia.org/wiki/Microsoft_SQL_Server)\n",
    " *  [IBM DD2](https://en.wikipedia.org/wiki/IBM_Db2_Family)\n",
    " *  [SQLite](https://en.wikipedia.org/wiki/SQLite)\n",
    "\n",
    "Most of the systems above are [_client-server_](https://en.wikipedia.org/wiki/Client%E2%80%93server_model)-systems, i.e., they have one program, a SQL server, which handles the data, and clients who communicate with the server in various ways. There are several different kinds of clients:\n",
    "\n",
    "+ We can run an IDE, which allows us to see our tables in a GUI.\n",
    "\n",
    "+ We can run command line clients (CLI) -- they are text based programs who work like typical REPLs, output will just be text in a terminal window.\n",
    "\n",
    "+ We can write scripts which we send to the server, often through a CLI.\n",
    "  \n",
    "+ We can run a notebook (such as this one), and have it communicate with our database.\n",
    "\n",
    "+ We can write code in a general purpose language, and have it communicate with our database.\n",
    "  \n",
    "In the course, we'll try all of these methods to access our databases.\n",
    "\n",
    "The RDMBS we'll use in the course is [SQLite](https://en.wikipedia.org/wiki/SQLite), which is a lightweight but still very powerful system -- it is *by far* the most used RDBMS, and it's probably already running on all of your phones and computers (just as an example, if you use Chrome for browsing, your browsing history is typically saved in a SQL-database file `.config/google-chrome/Default/History `, and Mozilla use it for storing meta-data in Firefox and Thunderbird).\n",
    "It's actually not a client/server system (instead it is a library which keeps our databases in files on our computer) -- but in the course, we'll think of SQLite as if it were a traditional client/server system, because in many ways, it behaves as one.\n",
    "\n",
    "To be able to write SQL queries in this notebook, we first have to run:"
   ]
  },
  {
   "cell_type": "code",
   "execution_count": 8,
   "metadata": {},
   "outputs": [
    {
     "name": "stdout",
     "output_type": "stream",
     "text": [
      "Collecting ipython-sql\n",
      "  Using cached ipython_sql-0.4.1-py3-none-any.whl (21 kB)\n",
      "Requirement already satisfied, skipping upgrade: ipython-genutils>=0.1.0 in /Users/arvidgramer/opt/anaconda3/lib/python3.7/site-packages (from ipython-sql) (0.2.0)\n",
      "Processing /Users/arvidgramer/Library/Caches/pip/wheels/8c/76/0b/eb9eb3da7e2335e3577e3f96a0ae9f74f206e26457bd1a2bc8/prettytable-0.7.2-py3-none-any.whl\n",
      "Requirement already satisfied, skipping upgrade: six in /Users/arvidgramer/opt/anaconda3/lib/python3.7/site-packages (from ipython-sql) (1.14.0)\n",
      "Collecting sqlparse\n",
      "  Using cached sqlparse-0.4.3-py3-none-any.whl (42 kB)\n",
      "Requirement already satisfied, skipping upgrade: ipython>=1.0 in /Users/arvidgramer/opt/anaconda3/lib/python3.7/site-packages (from ipython-sql) (7.12.0)\n",
      "Requirement already satisfied, skipping upgrade: sqlalchemy>=0.6.7 in /Users/arvidgramer/opt/anaconda3/lib/python3.7/site-packages (from ipython-sql) (1.3.13)\n",
      "Requirement already satisfied, skipping upgrade: setuptools>=18.5 in /Users/arvidgramer/opt/anaconda3/lib/python3.7/site-packages (from ipython>=1.0->ipython-sql) (46.0.0.post20200309)\n",
      "Requirement already satisfied, skipping upgrade: pygments in /Users/arvidgramer/opt/anaconda3/lib/python3.7/site-packages (from ipython>=1.0->ipython-sql) (2.5.2)\n",
      "Requirement already satisfied, skipping upgrade: jedi>=0.10 in /Users/arvidgramer/opt/anaconda3/lib/python3.7/site-packages (from ipython>=1.0->ipython-sql) (0.14.1)\n",
      "Requirement already satisfied, skipping upgrade: pickleshare in /Users/arvidgramer/opt/anaconda3/lib/python3.7/site-packages (from ipython>=1.0->ipython-sql) (0.7.5)\n",
      "Requirement already satisfied, skipping upgrade: appnope; sys_platform == \"darwin\" in /Users/arvidgramer/opt/anaconda3/lib/python3.7/site-packages (from ipython>=1.0->ipython-sql) (0.1.0)\n",
      "Requirement already satisfied, skipping upgrade: traitlets>=4.2 in /Users/arvidgramer/opt/anaconda3/lib/python3.7/site-packages (from ipython>=1.0->ipython-sql) (4.3.3)\n",
      "Requirement already satisfied, skipping upgrade: prompt-toolkit!=3.0.0,!=3.0.1,<3.1.0,>=2.0.0 in /Users/arvidgramer/opt/anaconda3/lib/python3.7/site-packages (from ipython>=1.0->ipython-sql) (3.0.3)\n",
      "Requirement already satisfied, skipping upgrade: decorator in /Users/arvidgramer/opt/anaconda3/lib/python3.7/site-packages (from ipython>=1.0->ipython-sql) (4.4.1)\n",
      "Requirement already satisfied, skipping upgrade: pexpect; sys_platform != \"win32\" in /Users/arvidgramer/opt/anaconda3/lib/python3.7/site-packages (from ipython>=1.0->ipython-sql) (4.8.0)\n",
      "Requirement already satisfied, skipping upgrade: backcall in /Users/arvidgramer/opt/anaconda3/lib/python3.7/site-packages (from ipython>=1.0->ipython-sql) (0.1.0)\n",
      "Requirement already satisfied, skipping upgrade: parso>=0.5.0 in /Users/arvidgramer/opt/anaconda3/lib/python3.7/site-packages (from jedi>=0.10->ipython>=1.0->ipython-sql) (0.5.2)\n",
      "Requirement already satisfied, skipping upgrade: wcwidth in /Users/arvidgramer/opt/anaconda3/lib/python3.7/site-packages (from prompt-toolkit!=3.0.0,!=3.0.1,<3.1.0,>=2.0.0->ipython>=1.0->ipython-sql) (0.1.8)\n",
      "Requirement already satisfied, skipping upgrade: ptyprocess>=0.5 in /Users/arvidgramer/opt/anaconda3/lib/python3.7/site-packages (from pexpect; sys_platform != \"win32\"->ipython>=1.0->ipython-sql) (0.6.0)\n",
      "Installing collected packages: prettytable, sqlparse, ipython-sql\n",
      "\u001b[33m  WARNING: The script sqlformat is installed in '/Users/arvidgramer/.local/bin' which is not on PATH.\n",
      "  Consider adding this directory to PATH or, if you prefer to suppress this warning, use --no-warn-script-location.\u001b[0m\n",
      "Successfully installed ipython-sql-0.4.1 prettytable-0.7.2 sqlparse-0.4.3\n",
      "Note: you may need to restart the kernel to use updated packages.\n"
     ]
    }
   ],
   "source": [
    "pip install --user --upgrade ipython-sql"
   ]
  },
  {
   "cell_type": "code",
   "execution_count": 1,
   "metadata": {},
   "outputs": [
    {
     "name": "stdout",
     "output_type": "stream",
     "text": [
      "['/Users/arvidgramer/Desktop/F4/Databasteknik/lect01', '/Users/arvidgramer/opt/anaconda3/lib/python37.zip', '/Users/arvidgramer/opt/anaconda3/lib/python3.7', '/Users/arvidgramer/opt/anaconda3/lib/python3.7/lib-dynload', '', '/Users/arvidgramer/.local/lib/python3.7/site-packages', '/Users/arvidgramer/opt/anaconda3/lib/python3.7/site-packages', '/Users/arvidgramer/opt/anaconda3/lib/python3.7/site-packages/aeosa', '/Users/arvidgramer/opt/anaconda3/lib/python3.7/site-packages/IPython/extensions', '/Users/arvidgramer/.ipython']\n"
     ]
    }
   ],
   "source": [
    "import sys\n",
    "#sys.path.append(\"/Users/arvidgramer/.local/bin\")\n",
    "print(sys.path)"
   ]
  },
  {
   "cell_type": "code",
   "execution_count": 1,
   "metadata": {},
   "outputs": [],
   "source": [
    "%load_ext sql"
   ]
  },
  {
   "cell_type": "markdown",
   "metadata": {},
   "source": [
    "The zip-archive in which this notebook is distributed has a file `lect01.sqlite` which contains all Nobel Laureates since 1901 -- to use it in our notebook, we import it with:"
   ]
  },
  {
   "cell_type": "code",
   "execution_count": 2,
   "metadata": {},
   "outputs": [],
   "source": [
    "%sql sqlite:///lect01.sqlite"
   ]
  },
  {
   "cell_type": "markdown",
   "metadata": {},
   "source": [
    "Now we're good to go, we just have to prefix our SQL queries with `%sql` (one line of SQL) or `%%sql` (several lines of SQL, this is the form we will use in most cases).\n",
    "\n",
    "\n",
    "# Basic queries\n",
    "\n",
    "A simple _SQL query_ can be written as:"
   ]
  },
  {
   "cell_type": "markdown",
   "metadata": {},
   "source": [
    "~~~{.sql}\n",
    "SELECT <what we're looking for>\n",
    "FROM   <what table we're looking in>\n",
    "~~~\n"
   ]
  },
  {
   "cell_type": "markdown",
   "metadata": {},
   "source": [
    "Here `SELECT` is used to select all rows of a given table.\n",
    "\n",
    "If we're only interesting in some of the rows, and we normally are, we write:"
   ]
  },
  {
   "cell_type": "markdown",
   "metadata": {},
   "source": [
    "~~~{.sql}\n",
    "SELECT <what we're looking for>\n",
    "FROM   <what table we're looking in>\n",
    "WHERE  <what items we're interested in>\n",
    "~~~\n"
   ]
  },
  {
   "cell_type": "markdown",
   "metadata": {},
   "source": [
    "The latter form is so common that it's got its own acronym: \"SFW\" (short for `SELECT`-`FROM`-`WHERE`).\n",
    "\n",
    "You can see all versions of the `SELECT`-statement in SQLite on their [documentation for the `SELECT` statement](https://sqlite.org/lang_select.html) (there are corresponding pages for other commands).\n",
    "\n",
    "If we want to see all columns in our rows, we can use"
   ]
  },
  {
   "cell_type": "markdown",
   "metadata": {},
   "source": [
    "~~~{.text}\n",
    "SELECT *\n",
    "FROM   <what table we're looking in>\n",
    "WHERE  <what items we're interested in>\n",
    "~~~\n"
   ]
  },
  {
   "cell_type": "markdown",
   "metadata": {},
   "source": [
    "This is sometimes considered 'sloppy', and we can use a projection (see above) to get just the columns we're interested in:"
   ]
  },
  {
   "cell_type": "markdown",
   "metadata": {},
   "source": [
    "~~~{.text}\n",
    "SELECT <column 1>, <column 2>, ...\n",
    "FROM   <what table we're looking in>\n",
    "WHERE  <what items we're interested in>\n",
    "~~~\n"
   ]
  },
  {
   "cell_type": "markdown",
   "metadata": {},
   "source": [
    "Observe that the selection (what rows we're interested in) is given in the `WHERE` clause, whereas the projection (what columns we're interested in) is defined in the `SELECT` clause (the naming is somewhat counter-intuitive).\n",
    "\n",
    "Our Nobel Database contains the following information for each laureate:\n",
    "\n",
    " *  the _year_ the prize was awarded\n",
    " *  the _category_ ('chemistry', 'literature', 'physics', 'medicine')\n",
    " *  the _name_\n",
    " *  the _motivation_\n",
    "\n",
    "Let's use the first form above to see all Nobel prizes which has been handed out:"
   ]
  },
  {
   "cell_type": "code",
   "execution_count": 17,
   "metadata": {},
   "outputs": [
    {
     "name": "stdout",
     "output_type": "stream",
     "text": [
      " * sqlite:///lect01.sqlite\n",
      "Done.\n"
     ]
    },
    {
     "data": {
      "text/html": [
       "<table>\n",
       "    <tr>\n",
       "        <th>year</th>\n",
       "        <th>category</th>\n",
       "        <th>name</th>\n",
       "        <th>motivation</th>\n",
       "    </tr>\n",
       "    <tr>\n",
       "        <td>1905</td>\n",
       "        <td>chemistry</td>\n",
       "        <td>Johann Friedrich Wilhelm Adolf von Baeyer</td>\n",
       "        <td>in recognition of his services in the advancement of organic chemistry and the chemical industry, through his work on organic dyes and hydroaromatic compounds</td>\n",
       "    </tr>\n",
       "    <tr>\n",
       "        <td>1911</td>\n",
       "        <td>literature</td>\n",
       "        <td>Count Maurice (Mooris) Polidore Marie Bernhard Maeterlinck</td>\n",
       "        <td>in appreciation of his many-sided literary activities, and especially of his dramatic works, which are distinguished by a wealth of imagination and by a poetic fancy, which reveals, sometimes in the guise of a fairy tale, a deep inspiration, while in a mysterious way they appeal to the readers&#x27; own feelings and stimulate their imaginations</td>\n",
       "    </tr>\n",
       "    <tr>\n",
       "        <td>1929</td>\n",
       "        <td>physics</td>\n",
       "        <td>Prince Louis-Victor Pierre Raymond de Broglie</td>\n",
       "        <td>for his discovery of the wave nature of electrons</td>\n",
       "    </tr>\n",
       "    <tr>\n",
       "        <td>1949</td>\n",
       "        <td>medicine</td>\n",
       "        <td>Antonio Caetano de Abreu Freire Egas Moniz</td>\n",
       "        <td>for his discovery of the therapeutic value of leucotomy in certain psychoses</td>\n",
       "    </tr>\n",
       "</table>"
      ],
      "text/plain": [
       "[(1905, 'chemistry', 'Johann Friedrich Wilhelm Adolf von Baeyer', 'in recognition of his services in the advancement of organic chemistry and the chemical industry, through his work on organic dyes and hydroaromatic compounds'),\n",
       " (1911, 'literature', 'Count Maurice (Mooris) Polidore Marie Bernhard Maeterlinck', \"in appreciation of his many-sided literary activities, and especially of his dramatic works, which are distinguished by a wealth of imagination and b ... (43 characters truncated) ... in the guise of a fairy tale, a deep inspiration, while in a mysterious way they appeal to the readers' own feelings and stimulate their imaginations\"),\n",
       " (1929, 'physics', 'Prince Louis-Victor Pierre Raymond de Broglie', 'for his discovery of the wave nature of electrons'),\n",
       " (1949, 'medicine', 'Antonio Caetano de Abreu Freire Egas Moniz', 'for his discovery of the therapeutic value of leucotomy in certain psychoses')]"
      ]
     },
     "execution_count": 17,
     "metadata": {},
     "output_type": "execute_result"
    }
   ],
   "source": [
    "%%sql\n",
    "select *\n",
    "FROM nobel\n",
    "WHERE length(name) > 40"
   ]
  },
  {
   "cell_type": "markdown",
   "metadata": {},
   "source": [
    "This is too much to look through, so let's first limit the output to 10 rows (once again, look at the [documentation for `SELECT`](https://sqlite.org/lang_select.html), to see if you can find out how to do it).\n",
    "\n",
    "If we limit the number of returned rows, it's often useful to start listing a number of rows down into the table (otherwise we could only see the first few rows when we used `LIMIT`) -- we use `OFFSET` to do that.\n",
    "\n",
    "We can also select only those prizes awarded in 2013."
   ]
  },
  {
   "cell_type": "code",
   "execution_count": 20,
   "metadata": {},
   "outputs": [
    {
     "name": "stdout",
     "output_type": "stream",
     "text": [
      " * sqlite:///lect01.sqlite\n",
      "Done.\n"
     ]
    },
    {
     "data": {
      "text/html": [
       "<table>\n",
       "    <tr>\n",
       "        <th>year</th>\n",
       "        <th>category</th>\n",
       "        <th>name</th>\n",
       "        <th>motivation</th>\n",
       "    </tr>\n",
       "    <tr>\n",
       "        <td>1949</td>\n",
       "        <td>medicine</td>\n",
       "        <td>Walter Rudolf Hess</td>\n",
       "        <td>for his discovery of the functional organization of the interbrain as a coordinator of the activities of the internal organs</td>\n",
       "    </tr>\n",
       "    <tr>\n",
       "        <td>1949</td>\n",
       "        <td>physics</td>\n",
       "        <td>Hideki Yukawa</td>\n",
       "        <td>for his prediction of the existence of mesons on the basis of theoretical work on nuclear forces</td>\n",
       "    </tr>\n",
       "    <tr>\n",
       "        <td>1950</td>\n",
       "        <td>chemistry</td>\n",
       "        <td>Kurt Alder</td>\n",
       "        <td>for their discovery and development of the diene synthesis</td>\n",
       "    </tr>\n",
       "    <tr>\n",
       "        <td>1950</td>\n",
       "        <td>chemistry</td>\n",
       "        <td>Otto Paul Hermann Diels</td>\n",
       "        <td>for their discovery and development of the diene synthesis</td>\n",
       "    </tr>\n",
       "    <tr>\n",
       "        <td>1950</td>\n",
       "        <td>literature</td>\n",
       "        <td>Earl (Bertrand Arthur William) Russell</td>\n",
       "        <td>in recognition of his varied and significant writings in which he champions humanitarian ideals and freedom of thought</td>\n",
       "    </tr>\n",
       "    <tr>\n",
       "        <td>1950</td>\n",
       "        <td>medicine</td>\n",
       "        <td>Edward Calvin Kendall</td>\n",
       "        <td>for their discoveries relating to the hormones of the adrenal cortex, their structure and biological effects</td>\n",
       "    </tr>\n",
       "    <tr>\n",
       "        <td>1950</td>\n",
       "        <td>medicine</td>\n",
       "        <td>Philip Showalter Hench</td>\n",
       "        <td>for their discoveries relating to the hormones of the adrenal cortex, their structure and biological effects</td>\n",
       "    </tr>\n",
       "    <tr>\n",
       "        <td>1950</td>\n",
       "        <td>medicine</td>\n",
       "        <td>Tadeus Reichstein</td>\n",
       "        <td>for their discoveries relating to the hormones of the adrenal cortex, their structure and biological effects</td>\n",
       "    </tr>\n",
       "    <tr>\n",
       "        <td>1950</td>\n",
       "        <td>physics</td>\n",
       "        <td>Cecil Frank Powell</td>\n",
       "        <td>for his development of the photographic method of studying nuclear processes and his discoveries regarding mesons made with this method</td>\n",
       "    </tr>\n",
       "    <tr>\n",
       "        <td>1951</td>\n",
       "        <td>chemistry</td>\n",
       "        <td>Edwin Mattison McMillan</td>\n",
       "        <td>for their discoveries in the chemistry of the transuranium elements</td>\n",
       "    </tr>\n",
       "</table>"
      ],
      "text/plain": [
       "[(1949, 'medicine', 'Walter Rudolf Hess', 'for his discovery of the functional organization of the interbrain as a coordinator of the activities of the internal organs'),\n",
       " (1949, 'physics', 'Hideki Yukawa', 'for his prediction of the existence of mesons on the basis of theoretical work on nuclear forces'),\n",
       " (1950, 'chemistry', 'Kurt Alder', 'for their discovery and development of the diene synthesis'),\n",
       " (1950, 'chemistry', 'Otto Paul Hermann Diels', 'for their discovery and development of the diene synthesis'),\n",
       " (1950, 'literature', 'Earl (Bertrand Arthur William) Russell', 'in recognition of his varied and significant writings in which he champions humanitarian ideals and freedom of thought'),\n",
       " (1950, 'medicine', 'Edward Calvin Kendall', 'for their discoveries relating to the hormones of the adrenal cortex, their structure and biological effects'),\n",
       " (1950, 'medicine', 'Philip Showalter Hench', 'for their discoveries relating to the hormones of the adrenal cortex, their structure and biological effects'),\n",
       " (1950, 'medicine', 'Tadeus Reichstein', 'for their discoveries relating to the hormones of the adrenal cortex, their structure and biological effects'),\n",
       " (1950, 'physics', 'Cecil Frank Powell', 'for his development of the photographic method of studying nuclear processes and his discoveries regarding mesons made with this method'),\n",
       " (1951, 'chemistry', 'Edwin Mattison McMillan', 'for their discoveries in the chemistry of the transuranium elements')]"
      ]
     },
     "execution_count": 20,
     "metadata": {},
     "output_type": "execute_result"
    }
   ],
   "source": [
    "%%sql\n",
    "SELECT *\n",
    "FROM nobel\n",
    "LIMIT 10\n",
    "OFFSET 200"
   ]
  },
  {
   "cell_type": "markdown",
   "metadata": {},
   "source": [
    "Observe that the query returns a new table, we'll soon see that we can use the returned table in other queries.\n",
    "\n",
    "**Problem:** _What year did Albert Einstein get his award, and why?_"
   ]
  },
  {
   "cell_type": "code",
   "execution_count": 22,
   "metadata": {},
   "outputs": [
    {
     "name": "stdout",
     "output_type": "stream",
     "text": [
      " * sqlite:///lect01.sqlite\n",
      "Done.\n"
     ]
    },
    {
     "data": {
      "text/html": [
       "<table>\n",
       "    <tr>\n",
       "        <th>year</th>\n",
       "        <th>Förnamn Efternamn</th>\n",
       "        <th>motivation</th>\n",
       "    </tr>\n",
       "    <tr>\n",
       "        <td>1921</td>\n",
       "        <td>Albert Einstein</td>\n",
       "        <td>for his services to Theoretical Physics, and especially for his discovery of the law of the photoelectric effect</td>\n",
       "    </tr>\n",
       "</table>"
      ],
      "text/plain": [
       "[(1921, 'Albert Einstein', 'for his services to Theoretical Physics, and especially for his discovery of the law of the photoelectric effect')]"
      ]
     },
     "execution_count": 22,
     "metadata": {},
     "output_type": "execute_result"
    }
   ],
   "source": [
    "%%sql\n",
    "SELECT year, name as \"Förnamn Efternamn\", motivation\n",
    "FROM nobel \n",
    "where name = \"Albert Einstein\""
   ]
  },
  {
   "cell_type": "markdown",
   "metadata": {},
   "source": [
    "The names of the columns in the returned table is shown above the actual output, if we want to rename any of the columns in the returned table, we can use an _alias_:"
   ]
  },
  {
   "cell_type": "code",
   "execution_count": null,
   "metadata": {},
   "outputs": [],
   "source": [
    "%%sql\n"
   ]
  },
  {
   "cell_type": "markdown",
   "metadata": {},
   "source": [
    "**Problem:** _Who was awarded the physics prize in 1922?_"
   ]
  },
  {
   "cell_type": "code",
   "execution_count": 25,
   "metadata": {},
   "outputs": [
    {
     "name": "stdout",
     "output_type": "stream",
     "text": [
      " * sqlite:///lect01.sqlite\n",
      "Done.\n"
     ]
    },
    {
     "data": {
      "text/html": [
       "<table>\n",
       "    <tr>\n",
       "        <th>year</th>\n",
       "        <th>name</th>\n",
       "        <th>category</th>\n",
       "    </tr>\n",
       "    <tr>\n",
       "        <td>1922</td>\n",
       "        <td>Niels Henrik David Bohr</td>\n",
       "        <td>physics</td>\n",
       "    </tr>\n",
       "</table>"
      ],
      "text/plain": [
       "[(1922, 'Niels Henrik David Bohr', 'physics')]"
      ]
     },
     "execution_count": 25,
     "metadata": {},
     "output_type": "execute_result"
    }
   ],
   "source": [
    "%%sql\n",
    "SELECT year, name, category\n",
    "FROM nobel \n",
    "WHERE year = 1922 and category = 'physics'"
   ]
  },
  {
   "cell_type": "markdown",
   "metadata": {},
   "source": [
    "## Set operations\n",
    "\n",
    "As was said above, the SQL language is built upon relational algebra, and sets are a first class citizen of relational algebra, so we can use set operations such as:\n",
    "\n",
    "+ _union_ (`UNION`)\n",
    "+ _intersection_ (`INTERSECT`)\n",
    "+ _difference_ (`EXCEPT`)\n",
    "\n",
    "We can use them to combine the results of two or more queries, _if the queries return tables of the same format_.\n",
    "\n",
    "**Problem:** _Who were awarded the physics prize in 1922 and 1923?_ Try to solve this problem in at least three different ways, and see if you can do it using a set operation (however clumpsy it might be in this case).\n",
    "You can look at the [documentation](https://sqlite.org/lang_select.html) to get some inspiration."
   ]
  },
  {
   "cell_type": "code",
   "execution_count": 26,
   "metadata": {},
   "outputs": [
    {
     "name": "stdout",
     "output_type": "stream",
     "text": [
      " * sqlite:///lect01.sqlite\n",
      "Done.\n"
     ]
    },
    {
     "data": {
      "text/html": [
       "<table>\n",
       "    <tr>\n",
       "        <th>name</th>\n",
       "        <th>category</th>\n",
       "        <th>year</th>\n",
       "    </tr>\n",
       "    <tr>\n",
       "        <td>Niels Henrik David Bohr</td>\n",
       "        <td>physics</td>\n",
       "        <td>1922</td>\n",
       "    </tr>\n",
       "    <tr>\n",
       "        <td>Robert Andrews Millikan</td>\n",
       "        <td>physics</td>\n",
       "        <td>1923</td>\n",
       "    </tr>\n",
       "</table>"
      ],
      "text/plain": [
       "[('Niels Henrik David Bohr', 'physics', 1922),\n",
       " ('Robert Andrews Millikan', 'physics', 1923)]"
      ]
     },
     "execution_count": 26,
     "metadata": {},
     "output_type": "execute_result"
    }
   ],
   "source": [
    "%%sql\n",
    "SELECT name, category, year \n",
    "FROM nobel\n",
    "WHERE category = 'physics' AND year in (1922, 1923)"
   ]
  },
  {
   "cell_type": "code",
   "execution_count": 28,
   "metadata": {},
   "outputs": [
    {
     "name": "stdout",
     "output_type": "stream",
     "text": [
      " * sqlite:///lect01.sqlite\n",
      "Done.\n"
     ]
    },
    {
     "data": {
      "text/html": [
       "<table>\n",
       "    <tr>\n",
       "        <th>name</th>\n",
       "        <th>category</th>\n",
       "        <th>year</th>\n",
       "    </tr>\n",
       "    <tr>\n",
       "        <td>Niels Henrik David Bohr</td>\n",
       "        <td>physics</td>\n",
       "        <td>1922</td>\n",
       "    </tr>\n",
       "    <tr>\n",
       "        <td>Robert Andrews Millikan</td>\n",
       "        <td>physics</td>\n",
       "        <td>1923</td>\n",
       "    </tr>\n",
       "</table>"
      ],
      "text/plain": [
       "[('Niels Henrik David Bohr', 'physics', 1922),\n",
       " ('Robert Andrews Millikan', 'physics', 1923)]"
      ]
     },
     "execution_count": 28,
     "metadata": {},
     "output_type": "execute_result"
    }
   ],
   "source": [
    "%%sql\n",
    "SELECT name, category, year \n",
    "FROM nobel\n",
    "WHERE category = 'physics' AND year = 1922\n",
    "\n",
    "UNION\n",
    "\n",
    "SELECT name, category, year \n",
    "FROM nobel\n",
    "WHERE category = 'physics' AND year = 1923"
   ]
  },
  {
   "cell_type": "code",
   "execution_count": 37,
   "metadata": {},
   "outputs": [
    {
     "name": "stdout",
     "output_type": "stream",
     "text": [
      " * sqlite:///lect01.sqlite\n",
      "Done.\n"
     ]
    },
    {
     "data": {
      "text/html": [
       "<table>\n",
       "    <tr>\n",
       "        <th>name</th>\n",
       "        <th>category</th>\n",
       "        <th>year</th>\n",
       "    </tr>\n",
       "    <tr>\n",
       "        <td>Francis William Aston</td>\n",
       "        <td>chemistry</td>\n",
       "        <td>1922</td>\n",
       "    </tr>\n",
       "    <tr>\n",
       "        <td>Fritz Pregl</td>\n",
       "        <td>chemistry</td>\n",
       "        <td>1923</td>\n",
       "    </tr>\n",
       "</table>"
      ],
      "text/plain": [
       "[('Francis William Aston', 'chemistry', 1922),\n",
       " ('Fritz Pregl', 'chemistry', 1923)]"
      ]
     },
     "execution_count": 37,
     "metadata": {},
     "output_type": "execute_result"
    }
   ],
   "source": [
    "%%sql\n",
    "SELECT name, category, year \n",
    "FROM nobel\n",
    "WHERE year IN (1922, 1923)\n",
    "\n",
    "EXCEPT\n",
    "\n",
    "SELECT name, category, year\n",
    "FROM nobel\n",
    "WHERE category IN ('physics', 'medicine', 'literature')\n"
   ]
  },
  {
   "cell_type": "code",
   "execution_count": 53,
   "metadata": {},
   "outputs": [
    {
     "name": "stdout",
     "output_type": "stream",
     "text": [
      " * sqlite:///lect01.sqlite\n",
      "(sqlite3.OperationalError) SELECTs to the left and right of EXCEPT do not have the same number of result columns\n",
      "[SQL: SELECT name, category, year \n",
      "FROM nobel\n",
      "WHERE year IN (1922, 1923)\n",
      "\n",
      "EXCEPT\n",
      "\n",
      "SELECT DISTINCT category\n",
      "FROM nobel]\n",
      "(Background on this error at: http://sqlalche.me/e/e3q8)\n"
     ]
    }
   ],
   "source": [
    "%%sql\n",
    "SELECT name, category, year \n",
    "FROM nobel\n",
    "WHERE year IN (1922, 1923)\n",
    "\n",
    "EXCEPT\n",
    "\n",
    "SELECT DISTINCT category\n",
    "FROM nobel"
   ]
  },
  {
   "cell_type": "markdown",
   "metadata": {},
   "source": [
    "There are often several ways of doing things in SQL, and one of the main points of using SQL is that the database tries to optimize the operations it needs to fetch our data (there is some seriously clever code running behind the scenes).\n",
    "\n",
    "**Problem:** _Who has been awarded the prize in literature since 2010, ordered by name?_"
   ]
  },
  {
   "cell_type": "code",
   "execution_count": 40,
   "metadata": {},
   "outputs": [
    {
     "name": "stdout",
     "output_type": "stream",
     "text": [
      " * sqlite:///lect01.sqlite\n",
      "Done.\n"
     ]
    },
    {
     "data": {
      "text/html": [
       "<table>\n",
       "    <tr>\n",
       "        <th>name</th>\n",
       "        <th>category</th>\n",
       "        <th>year</th>\n",
       "    </tr>\n",
       "    <tr>\n",
       "        <td>Abdulrazak Gurnah</td>\n",
       "        <td>literature</td>\n",
       "        <td>2021</td>\n",
       "    </tr>\n",
       "    <tr>\n",
       "        <td>Alice Munro</td>\n",
       "        <td>literature</td>\n",
       "        <td>2013</td>\n",
       "    </tr>\n",
       "    <tr>\n",
       "        <td>Annie Ernaux</td>\n",
       "        <td>literature</td>\n",
       "        <td>2022</td>\n",
       "    </tr>\n",
       "    <tr>\n",
       "        <td>Bob Dylan</td>\n",
       "        <td>literature</td>\n",
       "        <td>2016</td>\n",
       "    </tr>\n",
       "    <tr>\n",
       "        <td>Kazuo Ishiguro</td>\n",
       "        <td>literature</td>\n",
       "        <td>2017</td>\n",
       "    </tr>\n",
       "    <tr>\n",
       "        <td>Louise Glück</td>\n",
       "        <td>literature</td>\n",
       "        <td>2020</td>\n",
       "    </tr>\n",
       "    <tr>\n",
       "        <td>Mario Vargas Llosa</td>\n",
       "        <td>literature</td>\n",
       "        <td>2010</td>\n",
       "    </tr>\n",
       "    <tr>\n",
       "        <td>Mo Yan</td>\n",
       "        <td>literature</td>\n",
       "        <td>2012</td>\n",
       "    </tr>\n",
       "    <tr>\n",
       "        <td>Olga Tokarczuk</td>\n",
       "        <td>literature</td>\n",
       "        <td>2018</td>\n",
       "    </tr>\n",
       "    <tr>\n",
       "        <td>Patrick Modiano</td>\n",
       "        <td>literature</td>\n",
       "        <td>2014</td>\n",
       "    </tr>\n",
       "    <tr>\n",
       "        <td>Peter Handke</td>\n",
       "        <td>literature</td>\n",
       "        <td>2019</td>\n",
       "    </tr>\n",
       "    <tr>\n",
       "        <td>Svetlana Alexievich</td>\n",
       "        <td>literature</td>\n",
       "        <td>2015</td>\n",
       "    </tr>\n",
       "    <tr>\n",
       "        <td>Tomas Tranströmer</td>\n",
       "        <td>literature</td>\n",
       "        <td>2011</td>\n",
       "    </tr>\n",
       "</table>"
      ],
      "text/plain": [
       "[('Abdulrazak Gurnah', 'literature', 2021),\n",
       " ('Alice Munro', 'literature', 2013),\n",
       " ('Annie Ernaux', 'literature', 2022),\n",
       " ('Bob Dylan', 'literature', 2016),\n",
       " ('Kazuo Ishiguro', 'literature', 2017),\n",
       " ('Louise Glück', 'literature', 2020),\n",
       " ('Mario Vargas Llosa', 'literature', 2010),\n",
       " ('Mo Yan', 'literature', 2012),\n",
       " ('Olga Tokarczuk', 'literature', 2018),\n",
       " ('Patrick Modiano', 'literature', 2014),\n",
       " ('Peter Handke', 'literature', 2019),\n",
       " ('Svetlana Alexievich', 'literature', 2015),\n",
       " ('Tomas Tranströmer', 'literature', 2011)]"
      ]
     },
     "execution_count": 40,
     "metadata": {},
     "output_type": "execute_result"
    }
   ],
   "source": [
    "%%sql\n",
    "SELECT name, category, year\n",
    "FROM nobel\n",
    "WHERE category = 'literature' AND year >= 2010\n",
    "ORDER BY name"
   ]
  },
  {
   "cell_type": "markdown",
   "metadata": {},
   "source": [
    "**Problem:** _What year did Winston Churchill win a prize, and in what category?_"
   ]
  },
  {
   "cell_type": "code",
   "execution_count": 46,
   "metadata": {},
   "outputs": [
    {
     "name": "stdout",
     "output_type": "stream",
     "text": [
      " * sqlite:///lect01.sqlite\n",
      "Done.\n"
     ]
    },
    {
     "data": {
      "text/html": [
       "<table>\n",
       "    <tr>\n",
       "        <th>year</th>\n",
       "        <th>category</th>\n",
       "        <th>motivation</th>\n",
       "    </tr>\n",
       "    <tr>\n",
       "        <td>1953</td>\n",
       "        <td>literature</td>\n",
       "        <td>for his mastery of historical and biographical description as well as for brilliant oratory in defending exalted human values</td>\n",
       "    </tr>\n",
       "</table>"
      ],
      "text/plain": [
       "[(1953, 'literature', 'for his mastery of historical and biographical description as well as for brilliant oratory in defending exalted human values')]"
      ]
     },
     "execution_count": 46,
     "metadata": {},
     "output_type": "execute_result"
    }
   ],
   "source": [
    "%%sql\n",
    "SELECT year, category, motivation\n",
    "FROM nobel \n",
    "WHERE name LIKE '%Winston%'"
   ]
  },
  {
   "cell_type": "markdown",
   "metadata": {},
   "source": [
    "Using `LIKE` in our conditions, we get some rudimentary form of wildcard matching (some SQL databases allow more advanced regular expressions, but that's beyond the scope of this course).\n",
    "\n",
    "If we want to categorize our output, we can use a `CASE` statement, it has the general form:"
   ]
  },
  {
   "cell_type": "markdown",
   "metadata": {},
   "source": [
    "~~~sql\n",
    "SELECT ..., \n",
    "       CASE \n",
    "           WHEN ... THEN ...\n",
    "           WHEN ... THEN ...\n",
    "           ELSE ...\n",
    "       END AS <name>\n",
    "FROM ...\n",
    "~~~\n"
   ]
  },
  {
   "cell_type": "markdown",
   "metadata": {},
   "source": [
    "**Problem:** _Show all laureates in physics with a name beginning with 'P' -- if they won the prize before 1970 they're ancient, if the won the prize between 1970 and 2000 they're veterans, otherwise they're newbies._"
   ]
  },
  {
   "cell_type": "code",
   "execution_count": 50,
   "metadata": {},
   "outputs": [
    {
     "name": "stdout",
     "output_type": "stream",
     "text": [
      " * sqlite:///lect01.sqlite\n",
      "Done.\n"
     ]
    },
    {
     "data": {
      "text/html": [
       "<table>\n",
       "    <tr>\n",
       "        <th>name</th>\n",
       "        <th>category</th>\n",
       "        <th>Street cred</th>\n",
       "    </tr>\n",
       "    <tr>\n",
       "        <td>Pieter Zeeman</td>\n",
       "        <td>physics</td>\n",
       "        <td>ancient</td>\n",
       "    </tr>\n",
       "    <tr>\n",
       "        <td>Pierre Curie</td>\n",
       "        <td>physics</td>\n",
       "        <td>ancient</td>\n",
       "    </tr>\n",
       "    <tr>\n",
       "        <td>Philipp Eduard Anton von Lenard</td>\n",
       "        <td>physics</td>\n",
       "        <td>ancient</td>\n",
       "    </tr>\n",
       "    <tr>\n",
       "        <td>Prince Louis-Victor Pierre Raymond de Broglie</td>\n",
       "        <td>physics</td>\n",
       "        <td>ancient</td>\n",
       "    </tr>\n",
       "    <tr>\n",
       "        <td>Paul Adrien Maurice Dirac</td>\n",
       "        <td>physics</td>\n",
       "        <td>ancient</td>\n",
       "    </tr>\n",
       "    <tr>\n",
       "        <td>Percy Williams Bridgman</td>\n",
       "        <td>physics</td>\n",
       "        <td>ancient</td>\n",
       "    </tr>\n",
       "    <tr>\n",
       "        <td>Patrick Maynard Stuart Blackett</td>\n",
       "        <td>physics</td>\n",
       "        <td>ancient</td>\n",
       "    </tr>\n",
       "    <tr>\n",
       "        <td>Polykarp Kusch</td>\n",
       "        <td>physics</td>\n",
       "        <td>ancient</td>\n",
       "    </tr>\n",
       "    <tr>\n",
       "        <td>Pavel Alekseyevich Cherenkov</td>\n",
       "        <td>physics</td>\n",
       "        <td>ancient</td>\n",
       "    </tr>\n",
       "    <tr>\n",
       "        <td>Philip Warren Anderson</td>\n",
       "        <td>physics</td>\n",
       "        <td>veteran</td>\n",
       "    </tr>\n",
       "    <tr>\n",
       "        <td>Pyotr Leonidovich Kapitsa</td>\n",
       "        <td>physics</td>\n",
       "        <td>veteran</td>\n",
       "    </tr>\n",
       "    <tr>\n",
       "        <td>Pierre-Gilles de Gennes</td>\n",
       "        <td>physics</td>\n",
       "        <td>veteran</td>\n",
       "    </tr>\n",
       "    <tr>\n",
       "        <td>Peter Grünberg</td>\n",
       "        <td>physics</td>\n",
       "        <td>newbies</td>\n",
       "    </tr>\n",
       "    <tr>\n",
       "        <td>Peter W. Higgs</td>\n",
       "        <td>physics</td>\n",
       "        <td>newbies</td>\n",
       "    </tr>\n",
       "</table>"
      ],
      "text/plain": [
       "[('Pieter Zeeman', 'physics', 'ancient'),\n",
       " ('Pierre Curie', 'physics', 'ancient'),\n",
       " ('Philipp Eduard Anton von Lenard', 'physics', 'ancient'),\n",
       " ('Prince Louis-Victor Pierre Raymond de Broglie', 'physics', 'ancient'),\n",
       " ('Paul Adrien Maurice Dirac', 'physics', 'ancient'),\n",
       " ('Percy Williams Bridgman', 'physics', 'ancient'),\n",
       " ('Patrick Maynard Stuart Blackett', 'physics', 'ancient'),\n",
       " ('Polykarp Kusch', 'physics', 'ancient'),\n",
       " ('Pavel Alekseyevich Cherenkov', 'physics', 'ancient'),\n",
       " ('Philip Warren Anderson', 'physics', 'veteran'),\n",
       " ('Pyotr Leonidovich Kapitsa', 'physics', 'veteran'),\n",
       " ('Pierre-Gilles de Gennes', 'physics', 'veteran'),\n",
       " ('Peter Grünberg', 'physics', 'newbies'),\n",
       " ('Peter W. Higgs', 'physics', 'newbies')]"
      ]
     },
     "execution_count": 50,
     "metadata": {},
     "output_type": "execute_result"
    }
   ],
   "source": [
    "%%sql\n",
    "SELECT name, category,\n",
    "    CASE\n",
    "        WHEN year < 1970 THEN \"ancient\"\n",
    "        WHEN year < 2000 THEN \"veteran\"\n",
    "        WHEN year >= 2000 THEN \"newbies\"\n",
    "    END AS \"Street cred\"\n",
    "FROM nobel\n",
    "WHERE name LIKE 'P%' AND category = 'physics'"
   ]
  },
  {
   "cell_type": "markdown",
   "metadata": {},
   "source": [
    "## `SELECT` and `SELECT DISTINCT`\n",
    "\n",
    "**Problem:** _What are the different categories of Nobel prizes?_"
   ]
  },
  {
   "cell_type": "code",
   "execution_count": 55,
   "metadata": {},
   "outputs": [
    {
     "name": "stdout",
     "output_type": "stream",
     "text": [
      " * sqlite:///lect01.sqlite\n",
      "Done.\n"
     ]
    },
    {
     "data": {
      "text/html": [
       "<table>\n",
       "    <tr>\n",
       "        <th>category</th>\n",
       "    </tr>\n",
       "    <tr>\n",
       "        <td>chemistry</td>\n",
       "    </tr>\n",
       "    <tr>\n",
       "        <td>literature</td>\n",
       "    </tr>\n",
       "    <tr>\n",
       "        <td>medicine</td>\n",
       "    </tr>\n",
       "    <tr>\n",
       "        <td>physics</td>\n",
       "    </tr>\n",
       "</table>"
      ],
      "text/plain": [
       "[('chemistry',), ('literature',), ('medicine',), ('physics',)]"
      ]
     },
     "execution_count": 55,
     "metadata": {},
     "output_type": "execute_result"
    }
   ],
   "source": [
    "%%sql\n",
    "SELECT DISTINCT category\n",
    "FROM nobel"
   ]
  },
  {
   "cell_type": "markdown",
   "metadata": {},
   "source": [
    "Using `SELECT DISTINCT` we only get unique rows in our output table (duplicate rows are removed from the result).\n",
    "\n",
    "\n",
    "## Scalar functions and aggregate functions\n",
    "\n",
    "There are some functions we can apply to our values, each RDBMS supplies their own set of functions -- you can see some of SQLite's functions [here](https://sqlite.org/lang_corefunc.html).\n",
    "\n",
    "**Problem:** _What was the initial letters of the laureates in year 2000?_ Hint: Use the [`substr`](https://sqlite.org/lang_corefunc.html#substr) function (and observe that the first character has index 1)."
   ]
  },
  {
   "cell_type": "code",
   "execution_count": 60,
   "metadata": {},
   "outputs": [
    {
     "name": "stdout",
     "output_type": "stream",
     "text": [
      " * sqlite:///lect01.sqlite\n",
      "Done.\n"
     ]
    },
    {
     "data": {
      "text/html": [
       "<table>\n",
       "    <tr>\n",
       "        <th>First letter of name</th>\n",
       "    </tr>\n",
       "    <tr>\n",
       "        <td>A</td>\n",
       "    </tr>\n",
       "    <tr>\n",
       "        <td>A</td>\n",
       "    </tr>\n",
       "    <tr>\n",
       "        <td>H</td>\n",
       "    </tr>\n",
       "    <tr>\n",
       "        <td>G</td>\n",
       "    </tr>\n",
       "    <tr>\n",
       "        <td>A</td>\n",
       "    </tr>\n",
       "    <tr>\n",
       "        <td>E</td>\n",
       "    </tr>\n",
       "    <tr>\n",
       "        <td>P</td>\n",
       "    </tr>\n",
       "    <tr>\n",
       "        <td>H</td>\n",
       "    </tr>\n",
       "    <tr>\n",
       "        <td>J</td>\n",
       "    </tr>\n",
       "    <tr>\n",
       "        <td>Z</td>\n",
       "    </tr>\n",
       "</table>"
      ],
      "text/plain": [
       "[('A',),\n",
       " ('A',),\n",
       " ('H',),\n",
       " ('G',),\n",
       " ('A',),\n",
       " ('E',),\n",
       " ('P',),\n",
       " ('H',),\n",
       " ('J',),\n",
       " ('Z',)]"
      ]
     },
     "execution_count": 60,
     "metadata": {},
     "output_type": "execute_result"
    }
   ],
   "source": [
    "%%sql\n",
    "select substr(name, 1, 1) as \"First letter of name\"\n",
    "from nobel\n",
    "where year = 2000"
   ]
  },
  {
   "cell_type": "markdown",
   "metadata": {},
   "source": [
    "Here, the number of returned rows is the same as we would have had if we didn't apply the function.\n",
    "\n",
    "An _aggregate function_ can be applied to all rows in a table, _but then returns only one value_.\n",
    "\n",
    "The standard aggregate functions are:\n",
    "\n",
    " + `avg`: calculates the average for a given column\n",
    " + `count`: counts the rows in a given table\n",
    " + `min`: gets the minimum value of a given column\n",
    " + `max`: gets the maximum value of a given column\n",
    " + `sum`: calculates the sum of a given column\n",
    "\n",
    "Observe that these are all functions which operates on several values, but return a single value. You can see a list of al SQLite's aggregate functions [here](https://sqlite.org/lang_aggfunc.html).\n",
    "\n",
    "**Problem:** _How many laureates were there in year 2000?_"
   ]
  },
  {
   "cell_type": "code",
   "execution_count": 61,
   "metadata": {},
   "outputs": [
    {
     "name": "stdout",
     "output_type": "stream",
     "text": [
      " * sqlite:///lect01.sqlite\n",
      "Done.\n"
     ]
    },
    {
     "data": {
      "text/html": [
       "<table>\n",
       "    <tr>\n",
       "        <th>count(name)</th>\n",
       "    </tr>\n",
       "    <tr>\n",
       "        <td>10</td>\n",
       "    </tr>\n",
       "</table>"
      ],
      "text/plain": [
       "[(10,)]"
      ]
     },
     "execution_count": 61,
     "metadata": {},
     "output_type": "execute_result"
    }
   ],
   "source": [
    "%%sql\n",
    "select count(name)\n",
    "from nobel \n",
    "where year = 2000"
   ]
  },
  {
   "cell_type": "markdown",
   "metadata": {},
   "source": [
    "**Problem:** _How many of the laureates has had a first name beginning with an 'A'?_"
   ]
  },
  {
   "cell_type": "code",
   "execution_count": 63,
   "metadata": {},
   "outputs": [
    {
     "name": "stdout",
     "output_type": "stream",
     "text": [
      " * sqlite:///lect01.sqlite\n",
      "Done.\n"
     ]
    },
    {
     "data": {
      "text/html": [
       "<table>\n",
       "    <tr>\n",
       "        <th>Number of laureates with a name beginning with A</th>\n",
       "    </tr>\n",
       "    <tr>\n",
       "        <td>66</td>\n",
       "    </tr>\n",
       "</table>"
      ],
      "text/plain": [
       "[(66,)]"
      ]
     },
     "execution_count": 63,
     "metadata": {},
     "output_type": "execute_result"
    }
   ],
   "source": [
    "%%sql\n",
    "select count(name) as \"Number of laureates with a name beginning with A\"\n",
    "from nobel\n",
    "where name like \"A%\""
   ]
  },
  {
   "cell_type": "markdown",
   "metadata": {},
   "source": [
    "**Problem:** _What year was the first Nobel prize awarded?_"
   ]
  },
  {
   "cell_type": "code",
   "execution_count": 64,
   "metadata": {},
   "outputs": [
    {
     "name": "stdout",
     "output_type": "stream",
     "text": [
      " * sqlite:///lect01.sqlite\n",
      "Done.\n"
     ]
    },
    {
     "data": {
      "text/html": [
       "<table>\n",
       "    <tr>\n",
       "        <th>min(year)</th>\n",
       "    </tr>\n",
       "    <tr>\n",
       "        <td>1901</td>\n",
       "    </tr>\n",
       "</table>"
      ],
      "text/plain": [
       "[(1901,)]"
      ]
     },
     "execution_count": 64,
     "metadata": {},
     "output_type": "execute_result"
    }
   ],
   "source": [
    "%%sql\n",
    "select min(year)\n",
    "from nobel"
   ]
  },
  {
   "cell_type": "markdown",
   "metadata": {},
   "source": [
    "**Exercise:** _How many Nobel prizes for chemistry have been awarded?_"
   ]
  },
  {
   "cell_type": "code",
   "execution_count": 65,
   "metadata": {},
   "outputs": [
    {
     "name": "stdout",
     "output_type": "stream",
     "text": [
      " * sqlite:///lect01.sqlite\n",
      "Done.\n"
     ]
    },
    {
     "data": {
      "text/html": [
       "<table>\n",
       "    <tr>\n",
       "        <th>count(name)</th>\n",
       "    </tr>\n",
       "    <tr>\n",
       "        <td>191</td>\n",
       "    </tr>\n",
       "</table>"
      ],
      "text/plain": [
       "[(191,)]"
      ]
     },
     "execution_count": 65,
     "metadata": {},
     "output_type": "execute_result"
    }
   ],
   "source": [
    "%%sql\n",
    "select count(name)\n",
    "from nobel\n",
    "where category = 'chemistry'"
   ]
  },
  {
   "cell_type": "markdown",
   "metadata": {},
   "source": [
    "# Grouping\n",
    "\n",
    "Using `GROUP BY` we can handle rows in groups -- to understand how it works, lets first look at the following query:"
   ]
  },
  {
   "cell_type": "code",
   "execution_count": 66,
   "metadata": {},
   "outputs": [
    {
     "name": "stdout",
     "output_type": "stream",
     "text": [
      " * sqlite:///lect01.sqlite\n",
      "Done.\n"
     ]
    },
    {
     "data": {
      "text/html": [
       "<table>\n",
       "    <tr>\n",
       "        <th>year</th>\n",
       "        <th>category</th>\n",
       "        <th>name</th>\n",
       "    </tr>\n",
       "    <tr>\n",
       "        <td>2013</td>\n",
       "        <td>chemistry</td>\n",
       "        <td>Arieh Warshel</td>\n",
       "    </tr>\n",
       "    <tr>\n",
       "        <td>2013</td>\n",
       "        <td>chemistry</td>\n",
       "        <td>Martin Karplus</td>\n",
       "    </tr>\n",
       "    <tr>\n",
       "        <td>2013</td>\n",
       "        <td>chemistry</td>\n",
       "        <td>Michael Levitt</td>\n",
       "    </tr>\n",
       "    <tr>\n",
       "        <td>2013</td>\n",
       "        <td>literature</td>\n",
       "        <td>Alice Munro</td>\n",
       "    </tr>\n",
       "    <tr>\n",
       "        <td>2013</td>\n",
       "        <td>medicine</td>\n",
       "        <td>James E. Rothman</td>\n",
       "    </tr>\n",
       "    <tr>\n",
       "        <td>2013</td>\n",
       "        <td>medicine</td>\n",
       "        <td>Randy W. Schekman</td>\n",
       "    </tr>\n",
       "    <tr>\n",
       "        <td>2013</td>\n",
       "        <td>medicine</td>\n",
       "        <td>Thomas C. Südhof</td>\n",
       "    </tr>\n",
       "    <tr>\n",
       "        <td>2013</td>\n",
       "        <td>physics</td>\n",
       "        <td>François Englert</td>\n",
       "    </tr>\n",
       "    <tr>\n",
       "        <td>2013</td>\n",
       "        <td>physics</td>\n",
       "        <td>Peter W. Higgs</td>\n",
       "    </tr>\n",
       "</table>"
      ],
      "text/plain": [
       "[(2013, 'chemistry', 'Arieh Warshel'),\n",
       " (2013, 'chemistry', 'Martin Karplus'),\n",
       " (2013, 'chemistry', 'Michael Levitt'),\n",
       " (2013, 'literature', 'Alice Munro'),\n",
       " (2013, 'medicine', 'James E. Rothman'),\n",
       " (2013, 'medicine', 'Randy W. Schekman'),\n",
       " (2013, 'medicine', 'Thomas C. Südhof'),\n",
       " (2013, 'physics', 'François Englert'),\n",
       " (2013, 'physics', 'Peter W. Higgs')]"
      ]
     },
     "execution_count": 66,
     "metadata": {},
     "output_type": "execute_result"
    }
   ],
   "source": [
    "%%sql\n",
    "SELECT    year, category, name\n",
    "FROM      nobel\n",
    "WHERE     year = 2013\n",
    "ORDER BY  category"
   ]
  },
  {
   "cell_type": "markdown",
   "metadata": {},
   "source": [
    "Here the rows of each category will end up adjacent to each other, and using `GROUP BY` we insert an invisible divider between the groups, and perform any aggregate function on the whole 'group':"
   ]
  },
  {
   "cell_type": "code",
   "execution_count": 70,
   "metadata": {},
   "outputs": [
    {
     "name": "stdout",
     "output_type": "stream",
     "text": [
      " * sqlite:///lect01.sqlite\n",
      "Done.\n"
     ]
    },
    {
     "data": {
      "text/html": [
       "<table>\n",
       "    <tr>\n",
       "        <th>category</th>\n",
       "        <th>count()</th>\n",
       "    </tr>\n",
       "    <tr>\n",
       "        <td>chemistry</td>\n",
       "        <td>3</td>\n",
       "    </tr>\n",
       "    <tr>\n",
       "        <td>literature</td>\n",
       "        <td>1</td>\n",
       "    </tr>\n",
       "    <tr>\n",
       "        <td>medicine</td>\n",
       "        <td>3</td>\n",
       "    </tr>\n",
       "    <tr>\n",
       "        <td>physics</td>\n",
       "        <td>2</td>\n",
       "    </tr>\n",
       "</table>"
      ],
      "text/plain": [
       "[('chemistry', 3), ('literature', 1), ('medicine', 3), ('physics', 2)]"
      ]
     },
     "execution_count": 70,
     "metadata": {},
     "output_type": "execute_result"
    }
   ],
   "source": [
    "%%sql\n",
    "SELECT    category, count()\n",
    "FROM      nobel\n",
    "WHERE     year = 2013\n",
    "GROUP BY  category"
   ]
  },
  {
   "cell_type": "markdown",
   "metadata": {},
   "source": [
    "So, if we apply an aggregate function, such as `count()`, in a table which we have grouped, _it will be applied to each group_, not to the whole table. Instead of getting one `count()` for the whole table (it would be a single value), we get one `count()` for each group (as above).\n",
    "\n",
    "If we add `name` in the first line, we get a somewhat arbitrary result:"
   ]
  },
  {
   "cell_type": "code",
   "execution_count": 71,
   "metadata": {},
   "outputs": [
    {
     "name": "stdout",
     "output_type": "stream",
     "text": [
      " * sqlite:///lect01.sqlite\n",
      "Done.\n"
     ]
    },
    {
     "data": {
      "text/html": [
       "<table>\n",
       "    <tr>\n",
       "        <th>category</th>\n",
       "        <th>count()</th>\n",
       "        <th>name</th>\n",
       "    </tr>\n",
       "    <tr>\n",
       "        <td>chemistry</td>\n",
       "        <td>3</td>\n",
       "        <td>Arieh Warshel</td>\n",
       "    </tr>\n",
       "    <tr>\n",
       "        <td>literature</td>\n",
       "        <td>1</td>\n",
       "        <td>Alice Munro</td>\n",
       "    </tr>\n",
       "    <tr>\n",
       "        <td>medicine</td>\n",
       "        <td>3</td>\n",
       "        <td>James E. Rothman</td>\n",
       "    </tr>\n",
       "    <tr>\n",
       "        <td>physics</td>\n",
       "        <td>2</td>\n",
       "        <td>François Englert</td>\n",
       "    </tr>\n",
       "</table>"
      ],
      "text/plain": [
       "[('chemistry', 3, 'Arieh Warshel'),\n",
       " ('literature', 1, 'Alice Munro'),\n",
       " ('medicine', 3, 'James E. Rothman'),\n",
       " ('physics', 2, 'François Englert')]"
      ]
     },
     "execution_count": 71,
     "metadata": {},
     "output_type": "execute_result"
    }
   ],
   "source": [
    "%%sql\n",
    "SELECT    category, count(), name\n",
    "FROM      nobel\n",
    "WHERE     year = 2013\n",
    "GROUP BY  category"
   ]
  },
  {
   "cell_type": "markdown",
   "metadata": {},
   "source": [
    "The category and count is correct, but only one name is shown for each category.\n",
    "\n",
    "The 'problem' is that we only get one row per group in the output, and that there may be several laureates in each group -- our query will return one of them in a seemingly haphazard manner. We can concatenate all names in the group using the [`group_concat`](https://sqlite.org/lang_aggfunc.html#groupconcat)-function:"
   ]
  },
  {
   "cell_type": "code",
   "execution_count": 72,
   "metadata": {},
   "outputs": [
    {
     "name": "stdout",
     "output_type": "stream",
     "text": [
      " * sqlite:///lect01.sqlite\n",
      "Done.\n"
     ]
    },
    {
     "data": {
      "text/html": [
       "<table>\n",
       "    <tr>\n",
       "        <th>category</th>\n",
       "        <th>count()</th>\n",
       "        <th>group_concat(name)</th>\n",
       "    </tr>\n",
       "    <tr>\n",
       "        <td>chemistry</td>\n",
       "        <td>3</td>\n",
       "        <td>Arieh Warshel,Martin Karplus,Michael Levitt</td>\n",
       "    </tr>\n",
       "    <tr>\n",
       "        <td>literature</td>\n",
       "        <td>1</td>\n",
       "        <td>Alice Munro</td>\n",
       "    </tr>\n",
       "    <tr>\n",
       "        <td>medicine</td>\n",
       "        <td>3</td>\n",
       "        <td>James E. Rothman,Randy W. Schekman,Thomas C. Südhof</td>\n",
       "    </tr>\n",
       "    <tr>\n",
       "        <td>physics</td>\n",
       "        <td>2</td>\n",
       "        <td>François Englert,Peter W. Higgs</td>\n",
       "    </tr>\n",
       "</table>"
      ],
      "text/plain": [
       "[('chemistry', 3, 'Arieh Warshel,Martin Karplus,Michael Levitt'),\n",
       " ('literature', 1, 'Alice Munro'),\n",
       " ('medicine', 3, 'James E. Rothman,Randy W. Schekman,Thomas C. Südhof'),\n",
       " ('physics', 2, 'François Englert,Peter W. Higgs')]"
      ]
     },
     "execution_count": 72,
     "metadata": {},
     "output_type": "execute_result"
    }
   ],
   "source": [
    "%%sql\n",
    "SELECT    category, count(), group_concat(name)\n",
    "FROM      nobel\n",
    "WHERE     year = 2013\n",
    "GROUP BY  category"
   ]
  },
  {
   "cell_type": "markdown",
   "metadata": {},
   "source": [
    "There is no problem displaying `category` in the `SELECT`-statement above, we get a value which we know is the same for each row in the group (by definition, since that's what we grouped by).\n",
    "\n",
    "\n",
    "If we're only interested in those categories with less than three laureates, we use `HAVING` to select only _groups_ with a given property:"
   ]
  },
  {
   "cell_type": "code",
   "execution_count": 73,
   "metadata": {},
   "outputs": [
    {
     "name": "stdout",
     "output_type": "stream",
     "text": [
      " * sqlite:///lect01.sqlite\n",
      "Done.\n"
     ]
    },
    {
     "data": {
      "text/html": [
       "<table>\n",
       "    <tr>\n",
       "        <th>category</th>\n",
       "        <th>count()</th>\n",
       "        <th>group_concat(name)</th>\n",
       "    </tr>\n",
       "    <tr>\n",
       "        <td>literature</td>\n",
       "        <td>1</td>\n",
       "        <td>Alice Munro</td>\n",
       "    </tr>\n",
       "    <tr>\n",
       "        <td>physics</td>\n",
       "        <td>2</td>\n",
       "        <td>François Englert,Peter W. Higgs</td>\n",
       "    </tr>\n",
       "</table>"
      ],
      "text/plain": [
       "[('literature', 1, 'Alice Munro'),\n",
       " ('physics', 2, 'François Englert,Peter W. Higgs')]"
      ]
     },
     "execution_count": 73,
     "metadata": {},
     "output_type": "execute_result"
    }
   ],
   "source": [
    "%%sql\n",
    "SELECT    category, count(), group_concat(name)\n",
    "FROM      nobel\n",
    "WHERE     year = 2013\n",
    "GROUP BY  category\n",
    "HAVING    count() < 3"
   ]
  },
  {
   "cell_type": "markdown",
   "metadata": {},
   "source": [
    "This corresponds to a `WHERE` statement, but it applies to groups, not to individual rows (as `WHERE` does) -- so, _`WHERE` and `HAVING` have similar effects (they somehow narrow a search), but they're absolutely not interchangable!_\n",
    "\n",
    "**Important** (and often misunderstood): In the query above we first have a `WHERE` statement to select some rows from the whole table, and then group the resulting selection.\n",
    "_Every time we have both a `WHERE` and a `HAVING` in the same query, we must first use `WHERE` to select rows we can group, and then use `HAVING` to select groups._\n",
    "We can use `WITH` statements or subqueries (see below) if we want to have it the other way around.\n",
    "\n",
    "\n",
    "**Problem:** _How many laureates are there in each category?_"
   ]
  },
  {
   "cell_type": "code",
   "execution_count": 74,
   "metadata": {},
   "outputs": [
    {
     "name": "stdout",
     "output_type": "stream",
     "text": [
      " * sqlite:///lect01.sqlite\n",
      "Done.\n"
     ]
    },
    {
     "data": {
      "text/html": [
       "<table>\n",
       "    <tr>\n",
       "        <th>category</th>\n",
       "        <th>Number of laureates in each category</th>\n",
       "    </tr>\n",
       "    <tr>\n",
       "        <td>chemistry</td>\n",
       "        <td>191</td>\n",
       "    </tr>\n",
       "    <tr>\n",
       "        <td>literature</td>\n",
       "        <td>119</td>\n",
       "    </tr>\n",
       "    <tr>\n",
       "        <td>medicine</td>\n",
       "        <td>225</td>\n",
       "    </tr>\n",
       "    <tr>\n",
       "        <td>physics</td>\n",
       "        <td>222</td>\n",
       "    </tr>\n",
       "</table>"
      ],
      "text/plain": [
       "[('chemistry', 191), ('literature', 119), ('medicine', 225), ('physics', 222)]"
      ]
     },
     "execution_count": 74,
     "metadata": {},
     "output_type": "execute_result"
    }
   ],
   "source": [
    "%%sql\n",
    "select category, count() as \"Number of laureates in each category\"\n",
    "from nobel\n",
    "group by category"
   ]
  },
  {
   "cell_type": "markdown",
   "metadata": {},
   "source": [
    "**Problem:** _Which categories have more than 200 laureates?_"
   ]
  },
  {
   "cell_type": "code",
   "execution_count": 79,
   "metadata": {},
   "outputs": [
    {
     "name": "stdout",
     "output_type": "stream",
     "text": [
      " * sqlite:///lect01.sqlite\n",
      "Done.\n"
     ]
    },
    {
     "data": {
      "text/html": [
       "<table>\n",
       "    <tr>\n",
       "        <th>category</th>\n",
       "        <th>Number of laureates in each category</th>\n",
       "    </tr>\n",
       "    <tr>\n",
       "        <td>medicine</td>\n",
       "        <td>225</td>\n",
       "    </tr>\n",
       "    <tr>\n",
       "        <td>physics</td>\n",
       "        <td>222</td>\n",
       "    </tr>\n",
       "</table>"
      ],
      "text/plain": [
       "[('medicine', 225), ('physics', 222)]"
      ]
     },
     "execution_count": 79,
     "metadata": {},
     "output_type": "execute_result"
    }
   ],
   "source": [
    "%%sql\n",
    "select category, count() as \"Number of laureates in each category\"\n",
    "from nobel\n",
    "group by category\n",
    "having count() > 200"
   ]
  },
  {
   "cell_type": "markdown",
   "metadata": {},
   "source": [
    "**Exercise:** _How many laureates were there each year between 1920 and 1930?_"
   ]
  },
  {
   "cell_type": "code",
   "execution_count": 81,
   "metadata": {},
   "outputs": [
    {
     "name": "stdout",
     "output_type": "stream",
     "text": [
      " * sqlite:///lect01.sqlite\n",
      "Done.\n"
     ]
    },
    {
     "data": {
      "text/html": [
       "<table>\n",
       "    <tr>\n",
       "        <th>year</th>\n",
       "        <th>count()</th>\n",
       "    </tr>\n",
       "    <tr>\n",
       "        <td>1921</td>\n",
       "        <td>3</td>\n",
       "    </tr>\n",
       "    <tr>\n",
       "        <td>1922</td>\n",
       "        <td>5</td>\n",
       "    </tr>\n",
       "    <tr>\n",
       "        <td>1923</td>\n",
       "        <td>5</td>\n",
       "    </tr>\n",
       "    <tr>\n",
       "        <td>1924</td>\n",
       "        <td>3</td>\n",
       "    </tr>\n",
       "    <tr>\n",
       "        <td>1925</td>\n",
       "        <td>4</td>\n",
       "    </tr>\n",
       "    <tr>\n",
       "        <td>1926</td>\n",
       "        <td>4</td>\n",
       "    </tr>\n",
       "    <tr>\n",
       "        <td>1927</td>\n",
       "        <td>5</td>\n",
       "    </tr>\n",
       "    <tr>\n",
       "        <td>1928</td>\n",
       "        <td>4</td>\n",
       "    </tr>\n",
       "    <tr>\n",
       "        <td>1929</td>\n",
       "        <td>6</td>\n",
       "    </tr>\n",
       "</table>"
      ],
      "text/plain": [
       "[(1921, 3),\n",
       " (1922, 5),\n",
       " (1923, 5),\n",
       " (1924, 3),\n",
       " (1925, 4),\n",
       " (1926, 4),\n",
       " (1927, 5),\n",
       " (1928, 4),\n",
       " (1929, 6)]"
      ]
     },
     "execution_count": 81,
     "metadata": {},
     "output_type": "execute_result"
    }
   ],
   "source": [
    "%%sql\n",
    "select year, count() \n",
    "from nobel\n",
    "group by year\n",
    "having year < 1930 and year > 1920"
   ]
  },
  {
   "cell_type": "markdown",
   "metadata": {},
   "source": [
    "**Exercise:** _Which years have seen more than 9 laureates?_"
   ]
  },
  {
   "cell_type": "code",
   "execution_count": 82,
   "metadata": {},
   "outputs": [
    {
     "name": "stdout",
     "output_type": "stream",
     "text": [
      " * sqlite:///lect01.sqlite\n",
      "Done.\n"
     ]
    },
    {
     "data": {
      "text/html": [
       "<table>\n",
       "    <tr>\n",
       "        <th>year</th>\n",
       "        <th>count()</th>\n",
       "    </tr>\n",
       "    <tr>\n",
       "        <td>1988</td>\n",
       "        <td>10</td>\n",
       "    </tr>\n",
       "    <tr>\n",
       "        <td>2000</td>\n",
       "        <td>10</td>\n",
       "    </tr>\n",
       "    <tr>\n",
       "        <td>2001</td>\n",
       "        <td>10</td>\n",
       "    </tr>\n",
       "    <tr>\n",
       "        <td>2002</td>\n",
       "        <td>10</td>\n",
       "    </tr>\n",
       "    <tr>\n",
       "        <td>2008</td>\n",
       "        <td>10</td>\n",
       "    </tr>\n",
       "    <tr>\n",
       "        <td>2009</td>\n",
       "        <td>10</td>\n",
       "    </tr>\n",
       "    <tr>\n",
       "        <td>2014</td>\n",
       "        <td>10</td>\n",
       "    </tr>\n",
       "    <tr>\n",
       "        <td>2017</td>\n",
       "        <td>10</td>\n",
       "    </tr>\n",
       "    <tr>\n",
       "        <td>2019</td>\n",
       "        <td>10</td>\n",
       "    </tr>\n",
       "</table>"
      ],
      "text/plain": [
       "[(1988, 10),\n",
       " (2000, 10),\n",
       " (2001, 10),\n",
       " (2002, 10),\n",
       " (2008, 10),\n",
       " (2009, 10),\n",
       " (2014, 10),\n",
       " (2017, 10),\n",
       " (2019, 10)]"
      ]
     },
     "execution_count": 82,
     "metadata": {},
     "output_type": "execute_result"
    }
   ],
   "source": [
    "%%sql\n",
    "select year, count() \n",
    "from nobel\n",
    "group by year\n",
    "having count() >9"
   ]
  },
  {
   "cell_type": "markdown",
   "metadata": {},
   "source": [
    "**Exercise:** _Which have been the 20 years with most laureates?_ (We don't need to be precise in case of ties.)"
   ]
  },
  {
   "cell_type": "code",
   "execution_count": 86,
   "metadata": {},
   "outputs": [
    {
     "name": "stdout",
     "output_type": "stream",
     "text": [
      " * sqlite:///lect01.sqlite\n",
      "Done.\n"
     ]
    },
    {
     "data": {
      "text/html": [
       "<table>\n",
       "    <tr>\n",
       "        <th>year</th>\n",
       "        <th>count()</th>\n",
       "    </tr>\n",
       "    <tr>\n",
       "        <td>1988</td>\n",
       "        <td>10</td>\n",
       "    </tr>\n",
       "    <tr>\n",
       "        <td>2000</td>\n",
       "        <td>10</td>\n",
       "    </tr>\n",
       "    <tr>\n",
       "        <td>2001</td>\n",
       "        <td>10</td>\n",
       "    </tr>\n",
       "    <tr>\n",
       "        <td>2002</td>\n",
       "        <td>10</td>\n",
       "    </tr>\n",
       "    <tr>\n",
       "        <td>2008</td>\n",
       "        <td>10</td>\n",
       "    </tr>\n",
       "    <tr>\n",
       "        <td>2009</td>\n",
       "        <td>10</td>\n",
       "    </tr>\n",
       "    <tr>\n",
       "        <td>2014</td>\n",
       "        <td>10</td>\n",
       "    </tr>\n",
       "    <tr>\n",
       "        <td>2017</td>\n",
       "        <td>10</td>\n",
       "    </tr>\n",
       "    <tr>\n",
       "        <td>2019</td>\n",
       "        <td>10</td>\n",
       "    </tr>\n",
       "    <tr>\n",
       "        <td>1956</td>\n",
       "        <td>9</td>\n",
       "    </tr>\n",
       "    <tr>\n",
       "        <td>1963</td>\n",
       "        <td>9</td>\n",
       "    </tr>\n",
       "    <tr>\n",
       "        <td>1972</td>\n",
       "        <td>9</td>\n",
       "    </tr>\n",
       "    <tr>\n",
       "        <td>1973</td>\n",
       "        <td>9</td>\n",
       "    </tr>\n",
       "    <tr>\n",
       "        <td>1975</td>\n",
       "        <td>9</td>\n",
       "    </tr>\n",
       "    <tr>\n",
       "        <td>1980</td>\n",
       "        <td>9</td>\n",
       "    </tr>\n",
       "    <tr>\n",
       "        <td>1981</td>\n",
       "        <td>9</td>\n",
       "    </tr>\n",
       "    <tr>\n",
       "        <td>1986</td>\n",
       "        <td>9</td>\n",
       "    </tr>\n",
       "    <tr>\n",
       "        <td>1995</td>\n",
       "        <td>9</td>\n",
       "    </tr>\n",
       "    <tr>\n",
       "        <td>1996</td>\n",
       "        <td>9</td>\n",
       "    </tr>\n",
       "    <tr>\n",
       "        <td>1998</td>\n",
       "        <td>9</td>\n",
       "    </tr>\n",
       "</table>"
      ],
      "text/plain": [
       "[(1988, 10),\n",
       " (2000, 10),\n",
       " (2001, 10),\n",
       " (2002, 10),\n",
       " (2008, 10),\n",
       " (2009, 10),\n",
       " (2014, 10),\n",
       " (2017, 10),\n",
       " (2019, 10),\n",
       " (1956, 9),\n",
       " (1963, 9),\n",
       " (1972, 9),\n",
       " (1973, 9),\n",
       " (1975, 9),\n",
       " (1980, 9),\n",
       " (1981, 9),\n",
       " (1986, 9),\n",
       " (1995, 9),\n",
       " (1996, 9),\n",
       " (1998, 9)]"
      ]
     },
     "execution_count": 86,
     "metadata": {},
     "output_type": "execute_result"
    }
   ],
   "source": [
    "%%sql\n",
    "select year, count() \n",
    "from nobel\n",
    "group by year\n",
    "order by -count()\n",
    "limit 20"
   ]
  },
  {
   "cell_type": "markdown",
   "metadata": {},
   "source": [
    "# Quick intro to window functions\n",
    "\n",
    "As we saw above, we can treat partitions of our rows as 'groups', by using `GROUP BY`.\n",
    "\n",
    "We also saw than when we use an aggregate function on a group, we collapse whole groups into one row in the output -- but sometimes we want to apply functions within a group of values, *and keep each row in the output*.\n",
    "\n",
    "Above we listed all laureates in 2013, now we want to add one column to the output: for each laureate, we want to show how many laureates shared the prize in her or his category.\n",
    "\n",
    "If we use `GROUP BY` and the aggregate function `count()` on the categories, we would only get one row per category, and using `count()` without grouping would collapse the whole result into just one row:"
   ]
  },
  {
   "cell_type": "code",
   "execution_count": 4,
   "metadata": {},
   "outputs": [
    {
     "name": "stdout",
     "output_type": "stream",
     "text": [
      " * sqlite:///lect01.sqlite\n",
      "Done.\n"
     ]
    },
    {
     "data": {
      "text/html": [
       "<table>\n",
       "    <tr>\n",
       "        <th>year</th>\n",
       "        <th>category</th>\n",
       "        <th>name</th>\n",
       "        <th>count</th>\n",
       "    </tr>\n",
       "    <tr>\n",
       "        <td>2013</td>\n",
       "        <td>chemistry</td>\n",
       "        <td>Arieh Warshel</td>\n",
       "        <td>9</td>\n",
       "    </tr>\n",
       "</table>"
      ],
      "text/plain": [
       "[(2013, 'chemistry', 'Arieh Warshel', 9)]"
      ]
     },
     "execution_count": 4,
     "metadata": {},
     "output_type": "execute_result"
    }
   ],
   "source": [
    "%%sql\n",
    "SELECT    year, category, name, count() AS count      -- oh no!\n",
    "FROM      nobel\n",
    "WHERE     year = 2013\n",
    "ORDER BY  category"
   ]
  },
  {
   "cell_type": "markdown",
   "metadata": {},
   "source": [
    "Fortunately, SQL has introduced a way to apply functions only over 'partitions' of our tables, and keep all rows in the output -- using the reserved word `OVER` we can introduce a *window* of our rows, and apply the function only over this 'window':"
   ]
  },
  {
   "cell_type": "code",
   "execution_count": 5,
   "metadata": {},
   "outputs": [
    {
     "name": "stdout",
     "output_type": "stream",
     "text": [
      " * sqlite:///lect01.sqlite\n",
      "Done.\n"
     ]
    },
    {
     "data": {
      "text/html": [
       "<table>\n",
       "    <tr>\n",
       "        <th>year</th>\n",
       "        <th>category</th>\n",
       "        <th>name</th>\n",
       "        <th>count</th>\n",
       "    </tr>\n",
       "    <tr>\n",
       "        <td>2013</td>\n",
       "        <td>chemistry</td>\n",
       "        <td>Arieh Warshel</td>\n",
       "        <td>3</td>\n",
       "    </tr>\n",
       "    <tr>\n",
       "        <td>2013</td>\n",
       "        <td>chemistry</td>\n",
       "        <td>Martin Karplus</td>\n",
       "        <td>3</td>\n",
       "    </tr>\n",
       "    <tr>\n",
       "        <td>2013</td>\n",
       "        <td>chemistry</td>\n",
       "        <td>Michael Levitt</td>\n",
       "        <td>3</td>\n",
       "    </tr>\n",
       "    <tr>\n",
       "        <td>2013</td>\n",
       "        <td>literature</td>\n",
       "        <td>Alice Munro</td>\n",
       "        <td>1</td>\n",
       "    </tr>\n",
       "    <tr>\n",
       "        <td>2013</td>\n",
       "        <td>medicine</td>\n",
       "        <td>James E. Rothman</td>\n",
       "        <td>3</td>\n",
       "    </tr>\n",
       "    <tr>\n",
       "        <td>2013</td>\n",
       "        <td>medicine</td>\n",
       "        <td>Randy W. Schekman</td>\n",
       "        <td>3</td>\n",
       "    </tr>\n",
       "    <tr>\n",
       "        <td>2013</td>\n",
       "        <td>medicine</td>\n",
       "        <td>Thomas C. Südhof</td>\n",
       "        <td>3</td>\n",
       "    </tr>\n",
       "    <tr>\n",
       "        <td>2013</td>\n",
       "        <td>physics</td>\n",
       "        <td>François Englert</td>\n",
       "        <td>2</td>\n",
       "    </tr>\n",
       "    <tr>\n",
       "        <td>2013</td>\n",
       "        <td>physics</td>\n",
       "        <td>Peter W. Higgs</td>\n",
       "        <td>2</td>\n",
       "    </tr>\n",
       "</table>"
      ],
      "text/plain": [
       "[(2013, 'chemistry', 'Arieh Warshel', 3),\n",
       " (2013, 'chemistry', 'Martin Karplus', 3),\n",
       " (2013, 'chemistry', 'Michael Levitt', 3),\n",
       " (2013, 'literature', 'Alice Munro', 1),\n",
       " (2013, 'medicine', 'James E. Rothman', 3),\n",
       " (2013, 'medicine', 'Randy W. Schekman', 3),\n",
       " (2013, 'medicine', 'Thomas C. Südhof', 3),\n",
       " (2013, 'physics', 'François Englert', 2),\n",
       " (2013, 'physics', 'Peter W. Higgs', 2)]"
      ]
     },
     "execution_count": 5,
     "metadata": {},
     "output_type": "execute_result"
    }
   ],
   "source": [
    "%%sql\n",
    "SELECT    year, category, name, count() OVER (PARTITION by category) AS count\n",
    "FROM      nobel\n",
    "WHERE     year = 2013\n",
    "ORDER BY  category"
   ]
  },
  {
   "cell_type": "markdown",
   "metadata": {},
   "source": [
    "We can also give our windows names, using an alias:"
   ]
  },
  {
   "cell_type": "code",
   "execution_count": 8,
   "metadata": {},
   "outputs": [
    {
     "name": "stdout",
     "output_type": "stream",
     "text": [
      " * sqlite:///lect01.sqlite\n",
      "Done.\n"
     ]
    },
    {
     "data": {
      "text/html": [
       "<table>\n",
       "    <tr>\n",
       "        <th>year</th>\n",
       "        <th>category</th>\n",
       "        <th>name</th>\n",
       "        <th>count</th>\n",
       "    </tr>\n",
       "    <tr>\n",
       "        <td>2013</td>\n",
       "        <td>chemistry</td>\n",
       "        <td>Arieh Warshel</td>\n",
       "        <td>3</td>\n",
       "    </tr>\n",
       "    <tr>\n",
       "        <td>2013</td>\n",
       "        <td>chemistry</td>\n",
       "        <td>Martin Karplus</td>\n",
       "        <td>3</td>\n",
       "    </tr>\n",
       "    <tr>\n",
       "        <td>2013</td>\n",
       "        <td>chemistry</td>\n",
       "        <td>Michael Levitt</td>\n",
       "        <td>3</td>\n",
       "    </tr>\n",
       "    <tr>\n",
       "        <td>2013</td>\n",
       "        <td>medicine</td>\n",
       "        <td>James E. Rothman</td>\n",
       "        <td>3</td>\n",
       "    </tr>\n",
       "    <tr>\n",
       "        <td>2013</td>\n",
       "        <td>medicine</td>\n",
       "        <td>Randy W. Schekman</td>\n",
       "        <td>3</td>\n",
       "    </tr>\n",
       "    <tr>\n",
       "        <td>2013</td>\n",
       "        <td>medicine</td>\n",
       "        <td>Thomas C. Südhof</td>\n",
       "        <td>3</td>\n",
       "    </tr>\n",
       "    <tr>\n",
       "        <td>2013</td>\n",
       "        <td>physics</td>\n",
       "        <td>François Englert</td>\n",
       "        <td>2</td>\n",
       "    </tr>\n",
       "    <tr>\n",
       "        <td>2013</td>\n",
       "        <td>physics</td>\n",
       "        <td>Peter W. Higgs</td>\n",
       "        <td>2</td>\n",
       "    </tr>\n",
       "    <tr>\n",
       "        <td>2013</td>\n",
       "        <td>literature</td>\n",
       "        <td>Alice Munro</td>\n",
       "        <td>1</td>\n",
       "    </tr>\n",
       "</table>"
      ],
      "text/plain": [
       "[(2013, 'chemistry', 'Arieh Warshel', 3),\n",
       " (2013, 'chemistry', 'Martin Karplus', 3),\n",
       " (2013, 'chemistry', 'Michael Levitt', 3),\n",
       " (2013, 'medicine', 'James E. Rothman', 3),\n",
       " (2013, 'medicine', 'Randy W. Schekman', 3),\n",
       " (2013, 'medicine', 'Thomas C. Südhof', 3),\n",
       " (2013, 'physics', 'François Englert', 2),\n",
       " (2013, 'physics', 'Peter W. Higgs', 2),\n",
       " (2013, 'literature', 'Alice Munro', 1)]"
      ]
     },
     "execution_count": 8,
     "metadata": {},
     "output_type": "execute_result"
    }
   ],
   "source": [
    "%%sql\n",
    "SELECT    year, category, name, count() OVER categories AS count\n",
    "FROM      nobel\n",
    "WHERE     year = 2013\n",
    "WINDOW    categories AS (PARTITION by category)\n",
    "ORDER BY  -count"
   ]
  },
  {
   "cell_type": "markdown",
   "metadata": {},
   "source": [
    "The aliased window definitions must come after any `WHERE` and `HAVING`, and before any `ORDER BY`.\n",
    "\n",
    "So, if we use the reserved word `OVER` after a function, it will be applied according to a 'window' (there is more to it than this, but this will suffice for now). In the window we can:\n",
    "\n",
    "+ define a *partition*, using `PARTITION BY`,\n",
    "+ define an *order*, using `ORDER BY`, and\n",
    "* define a *range*, which we can use to define groups of rows relative to each other (but we won't look at ranges in the course).\n",
    "\n",
    "The function will be applied to each partition, in the same way we applied aggregate functions to groups above, but now we won't collapse the partitions. *Observe that the partitioning and ordering are based only on the selection we make (i.e., only those rows which are chosen in our `WHERE` clause).*\n",
    "\n",
    "We can use our regular aggregate functions as window functions, but there are also a couple of dedicated window functions, such as (there are more, but we won't use them in the course):\n",
    "\n",
    "+ `rank()`: ranks rows by the order specified in the window, ties can occur,\n",
    "+ `row_number()`: as `rank()`, but now we avoid ties, and rank by row number in the output, and\n",
    "+ `percent_rank()`: gives a value between 0.0 and 1.0 (so it's a bit of a misnomer), giving the row's relative rank within its partition.\n",
    "\n",
    "You can find more [here](https://sqlite.org/windowfunctions.html).\n",
    "\n",
    "Window functions can be very powerful, but we'll not delve too deeply into them in the course -- I want you to be aware of them, though!\n",
    "\n",
    "**Problem:** Add one column which 'ranks' the laureates of 2013 in the table above according to the lengths of their names, within the categories -- shorter names should come before longer names."
   ]
  },
  {
   "cell_type": "code",
   "execution_count": 21,
   "metadata": {},
   "outputs": [
    {
     "name": "stdout",
     "output_type": "stream",
     "text": [
      " * sqlite:///lect01.sqlite\n",
      "Done.\n"
     ]
    },
    {
     "data": {
      "text/html": [
       "<table>\n",
       "    <tr>\n",
       "        <th>year</th>\n",
       "        <th>category</th>\n",
       "        <th>name</th>\n",
       "        <th>count</th>\n",
       "    </tr>\n",
       "    <tr>\n",
       "        <td>2013</td>\n",
       "        <td>chemistry</td>\n",
       "        <td>Arieh Warshel</td>\n",
       "        <td>1</td>\n",
       "    </tr>\n",
       "    <tr>\n",
       "        <td>2013</td>\n",
       "        <td>chemistry</td>\n",
       "        <td>Martin Karplus</td>\n",
       "        <td>2</td>\n",
       "    </tr>\n",
       "    <tr>\n",
       "        <td>2013</td>\n",
       "        <td>chemistry</td>\n",
       "        <td>Michael Levitt</td>\n",
       "        <td>2</td>\n",
       "    </tr>\n",
       "    <tr>\n",
       "        <td>2013</td>\n",
       "        <td>literature</td>\n",
       "        <td>Alice Munro</td>\n",
       "        <td>1</td>\n",
       "    </tr>\n",
       "    <tr>\n",
       "        <td>2013</td>\n",
       "        <td>medicine</td>\n",
       "        <td>James E. Rothman</td>\n",
       "        <td>1</td>\n",
       "    </tr>\n",
       "    <tr>\n",
       "        <td>2013</td>\n",
       "        <td>medicine</td>\n",
       "        <td>Thomas C. Südhof</td>\n",
       "        <td>1</td>\n",
       "    </tr>\n",
       "    <tr>\n",
       "        <td>2013</td>\n",
       "        <td>medicine</td>\n",
       "        <td>Randy W. Schekman</td>\n",
       "        <td>3</td>\n",
       "    </tr>\n",
       "    <tr>\n",
       "        <td>2013</td>\n",
       "        <td>physics</td>\n",
       "        <td>Peter W. Higgs</td>\n",
       "        <td>1</td>\n",
       "    </tr>\n",
       "    <tr>\n",
       "        <td>2013</td>\n",
       "        <td>physics</td>\n",
       "        <td>François Englert</td>\n",
       "        <td>2</td>\n",
       "    </tr>\n",
       "</table>"
      ],
      "text/plain": [
       "[(2013, 'chemistry', 'Arieh Warshel', 1),\n",
       " (2013, 'chemistry', 'Martin Karplus', 2),\n",
       " (2013, 'chemistry', 'Michael Levitt', 2),\n",
       " (2013, 'literature', 'Alice Munro', 1),\n",
       " (2013, 'medicine', 'James E. Rothman', 1),\n",
       " (2013, 'medicine', 'Thomas C. Südhof', 1),\n",
       " (2013, 'medicine', 'Randy W. Schekman', 3),\n",
       " (2013, 'physics', 'Peter W. Higgs', 1),\n",
       " (2013, 'physics', 'François Englert', 2)]"
      ]
     },
     "execution_count": 21,
     "metadata": {},
     "output_type": "execute_result"
    }
   ],
   "source": [
    "%%sql\n",
    "SELECT    year, category, name, rank() OVER (PARTITION BY category ORDER BY length(name)) AS count\n",
    "FROM      nobel\n",
    "WHERE     year = 2013\n",
    "ORDER BY  category"
   ]
  },
  {
   "cell_type": "markdown",
   "metadata": {},
   "source": [
    "**Problem:** For each laureate with the initial A, list their category, year, name, and 'freshness' within that category, i.e., the most recent laureate in a category is ranked 1, the second most recent laureate is ranked 2, etc. The ranks should be confined to laureates with the initial `A`."
   ]
  },
  {
   "cell_type": "code",
   "execution_count": 64,
   "metadata": {},
   "outputs": [
    {
     "name": "stdout",
     "output_type": "stream",
     "text": [
      " * sqlite:///lect01.sqlite\n",
      "Done.\n"
     ]
    },
    {
     "data": {
      "text/html": [
       "<table>\n",
       "    <tr>\n",
       "        <th>category</th>\n",
       "        <th>year</th>\n",
       "        <th>name</th>\n",
       "        <th>freshness</th>\n",
       "    </tr>\n",
       "    <tr>\n",
       "        <td>chemistry</td>\n",
       "        <td>2019</td>\n",
       "        <td>Akira Yoshino</td>\n",
       "        <td>1</td>\n",
       "    </tr>\n",
       "    <tr>\n",
       "        <td>chemistry</td>\n",
       "        <td>2015</td>\n",
       "        <td>Aziz Sancar</td>\n",
       "        <td>2</td>\n",
       "    </tr>\n",
       "    <tr>\n",
       "        <td>chemistry</td>\n",
       "        <td>2013</td>\n",
       "        <td>Arieh Warshel</td>\n",
       "        <td>3</td>\n",
       "    </tr>\n",
       "    <tr>\n",
       "        <td>chemistry</td>\n",
       "        <td>2010</td>\n",
       "        <td>Akira Suzuki</td>\n",
       "        <td>4</td>\n",
       "    </tr>\n",
       "    <tr>\n",
       "        <td>chemistry</td>\n",
       "        <td>2009</td>\n",
       "        <td>Ada E. Yonath</td>\n",
       "        <td>5</td>\n",
       "    </tr>\n",
       "    <tr>\n",
       "        <td>chemistry</td>\n",
       "        <td>2004</td>\n",
       "        <td>Aaron Ciechanover</td>\n",
       "        <td>6</td>\n",
       "    </tr>\n",
       "    <tr>\n",
       "        <td>chemistry</td>\n",
       "        <td>2004</td>\n",
       "        <td>Avram Hershko</td>\n",
       "        <td>6</td>\n",
       "    </tr>\n",
       "    <tr>\n",
       "        <td>chemistry</td>\n",
       "        <td>2000</td>\n",
       "        <td>Alan G. MacDiarmid</td>\n",
       "        <td>8</td>\n",
       "    </tr>\n",
       "    <tr>\n",
       "        <td>chemistry</td>\n",
       "        <td>2000</td>\n",
       "        <td>Alan J. Heeger</td>\n",
       "        <td>8</td>\n",
       "    </tr>\n",
       "    <tr>\n",
       "        <td>chemistry</td>\n",
       "        <td>1999</td>\n",
       "        <td>Ahmed H. Zewail</td>\n",
       "        <td>10</td>\n",
       "    </tr>\n",
       "    <tr>\n",
       "        <td>chemistry</td>\n",
       "        <td>1982</td>\n",
       "        <td>Aaron Klug</td>\n",
       "        <td>11</td>\n",
       "    </tr>\n",
       "    <tr>\n",
       "        <td>chemistry</td>\n",
       "        <td>1952</td>\n",
       "        <td>Archer John Porter Martin</td>\n",
       "        <td>12</td>\n",
       "    </tr>\n",
       "    <tr>\n",
       "        <td>chemistry</td>\n",
       "        <td>1948</td>\n",
       "        <td>Arne Wilhelm Kaurin Tiselius</td>\n",
       "        <td>13</td>\n",
       "    </tr>\n",
       "    <tr>\n",
       "        <td>chemistry</td>\n",
       "        <td>1945</td>\n",
       "        <td>Artturi Ilmari Virtanen</td>\n",
       "        <td>14</td>\n",
       "    </tr>\n",
       "    <tr>\n",
       "        <td>chemistry</td>\n",
       "        <td>1939</td>\n",
       "        <td>Adolf Friedrich Johann Butenandt</td>\n",
       "        <td>15</td>\n",
       "    </tr>\n",
       "    <tr>\n",
       "        <td>chemistry</td>\n",
       "        <td>1929</td>\n",
       "        <td>Arthur Harden</td>\n",
       "        <td>16</td>\n",
       "    </tr>\n",
       "    <tr>\n",
       "        <td>chemistry</td>\n",
       "        <td>1928</td>\n",
       "        <td>Adolf Otto Reinhold Windaus</td>\n",
       "        <td>17</td>\n",
       "    </tr>\n",
       "    <tr>\n",
       "        <td>chemistry</td>\n",
       "        <td>1913</td>\n",
       "        <td>Alfred Werner</td>\n",
       "        <td>18</td>\n",
       "    </tr>\n",
       "    <tr>\n",
       "        <td>literature</td>\n",
       "        <td>2022</td>\n",
       "        <td>Annie Ernaux</td>\n",
       "        <td>1</td>\n",
       "    </tr>\n",
       "    <tr>\n",
       "        <td>literature</td>\n",
       "        <td>2021</td>\n",
       "        <td>Abdulrazak Gurnah</td>\n",
       "        <td>2</td>\n",
       "    </tr>\n",
       "    <tr>\n",
       "        <td>literature</td>\n",
       "        <td>2013</td>\n",
       "        <td>Alice Munro</td>\n",
       "        <td>3</td>\n",
       "    </tr>\n",
       "    <tr>\n",
       "        <td>literature</td>\n",
       "        <td>1970</td>\n",
       "        <td>Aleksandr Isayevich Solzhenitsyn</td>\n",
       "        <td>4</td>\n",
       "    </tr>\n",
       "    <tr>\n",
       "        <td>literature</td>\n",
       "        <td>1957</td>\n",
       "        <td>Albert Camus</td>\n",
       "        <td>5</td>\n",
       "    </tr>\n",
       "    <tr>\n",
       "        <td>literature</td>\n",
       "        <td>1947</td>\n",
       "        <td>André Paul Guillaume Gide</td>\n",
       "        <td>6</td>\n",
       "    </tr>\n",
       "    <tr>\n",
       "        <td>literature</td>\n",
       "        <td>1921</td>\n",
       "        <td>Anatole France</td>\n",
       "        <td>7</td>\n",
       "    </tr>\n",
       "    <tr>\n",
       "        <td>medicine</td>\n",
       "        <td>2021</td>\n",
       "        <td>Ardem Patapoutian</td>\n",
       "        <td>1</td>\n",
       "    </tr>\n",
       "    <tr>\n",
       "        <td>medicine</td>\n",
       "        <td>2006</td>\n",
       "        <td>Andrew Z. Fire</td>\n",
       "        <td>2</td>\n",
       "    </tr>\n",
       "    <tr>\n",
       "        <td>medicine</td>\n",
       "        <td>2000</td>\n",
       "        <td>Arvid Carlsson</td>\n",
       "        <td>3</td>\n",
       "    </tr>\n",
       "    <tr>\n",
       "        <td>medicine</td>\n",
       "        <td>1994</td>\n",
       "        <td>Alfred G. Gilman</td>\n",
       "        <td>4</td>\n",
       "    </tr>\n",
       "    <tr>\n",
       "        <td>medicine</td>\n",
       "        <td>1979</td>\n",
       "        <td>Allan M. Cormack</td>\n",
       "        <td>5</td>\n",
       "    </tr>\n",
       "    <tr>\n",
       "        <td>medicine</td>\n",
       "        <td>1977</td>\n",
       "        <td>Andrew V. Schally</td>\n",
       "        <td>6</td>\n",
       "    </tr>\n",
       "    <tr>\n",
       "        <td>medicine</td>\n",
       "        <td>1974</td>\n",
       "        <td>Albert Claude</td>\n",
       "        <td>7</td>\n",
       "    </tr>\n",
       "    <tr>\n",
       "        <td>medicine</td>\n",
       "        <td>1969</td>\n",
       "        <td>Alfred D. Hershey</td>\n",
       "        <td>8</td>\n",
       "    </tr>\n",
       "    <tr>\n",
       "        <td>medicine</td>\n",
       "        <td>1965</td>\n",
       "        <td>André Lwoff</td>\n",
       "        <td>9</td>\n",
       "    </tr>\n",
       "    <tr>\n",
       "        <td>medicine</td>\n",
       "        <td>1963</td>\n",
       "        <td>Alan Lloyd Hodgkin</td>\n",
       "        <td>10</td>\n",
       "    </tr>\n",
       "    <tr>\n",
       "        <td>medicine</td>\n",
       "        <td>1963</td>\n",
       "        <td>Andrew Fielding Huxley</td>\n",
       "        <td>10</td>\n",
       "    </tr>\n",
       "    <tr>\n",
       "        <td>medicine</td>\n",
       "        <td>1959</td>\n",
       "        <td>Arthur Kornberg</td>\n",
       "        <td>12</td>\n",
       "    </tr>\n",
       "    <tr>\n",
       "        <td>medicine</td>\n",
       "        <td>1956</td>\n",
       "        <td>André Frédéric Cournand</td>\n",
       "        <td>13</td>\n",
       "    </tr>\n",
       "    <tr>\n",
       "        <td>medicine</td>\n",
       "        <td>1955</td>\n",
       "        <td>Axel Hugo Theodor Theorell</td>\n",
       "        <td>14</td>\n",
       "    </tr>\n",
       "    <tr>\n",
       "        <td>medicine</td>\n",
       "        <td>1949</td>\n",
       "        <td>Antonio Caetano de Abreu Freire Egas Moniz</td>\n",
       "        <td>15</td>\n",
       "    </tr>\n",
       "    <tr>\n",
       "        <td>medicine</td>\n",
       "        <td>1937</td>\n",
       "        <td>Albert von Szent-Györgyi Nagyrápolt</td>\n",
       "        <td>16</td>\n",
       "    </tr>\n",
       "    <tr>\n",
       "        <td>medicine</td>\n",
       "        <td>1922</td>\n",
       "        <td>Archibald Vivian Hill</td>\n",
       "        <td>17</td>\n",
       "    </tr>\n",
       "    <tr>\n",
       "        <td>medicine</td>\n",
       "        <td>1912</td>\n",
       "        <td>Alexis Carrel</td>\n",
       "        <td>18</td>\n",
       "    </tr>\n",
       "    <tr>\n",
       "        <td>medicine</td>\n",
       "        <td>1911</td>\n",
       "        <td>Allvar Gullstrand</td>\n",
       "        <td>19</td>\n",
       "    </tr>\n",
       "    <tr>\n",
       "        <td>medicine</td>\n",
       "        <td>1910</td>\n",
       "        <td>Albrecht Kossel</td>\n",
       "        <td>20</td>\n",
       "    </tr>\n",
       "    <tr>\n",
       "        <td>physics</td>\n",
       "        <td>2022</td>\n",
       "        <td>Alain Aspect</td>\n",
       "        <td>1</td>\n",
       "    </tr>\n",
       "    <tr>\n",
       "        <td>physics</td>\n",
       "        <td>2022</td>\n",
       "        <td>Anton Zeilinger</td>\n",
       "        <td>1</td>\n",
       "    </tr>\n",
       "    <tr>\n",
       "        <td>physics</td>\n",
       "        <td>2020</td>\n",
       "        <td>Andrea Ghez</td>\n",
       "        <td>3</td>\n",
       "    </tr>\n",
       "    <tr>\n",
       "        <td>physics</td>\n",
       "        <td>2018</td>\n",
       "        <td>Arthur Ashkin</td>\n",
       "        <td>4</td>\n",
       "    </tr>\n",
       "    <tr>\n",
       "        <td>physics</td>\n",
       "        <td>2015</td>\n",
       "        <td>Arthur B. McDonald</td>\n",
       "        <td>5</td>\n",
       "    </tr>\n",
       "    <tr>\n",
       "        <td>physics</td>\n",
       "        <td>2011</td>\n",
       "        <td>Adam G. Riess</td>\n",
       "        <td>6</td>\n",
       "    </tr>\n",
       "    <tr>\n",
       "        <td>physics</td>\n",
       "        <td>2010</td>\n",
       "        <td>Andre Geim</td>\n",
       "        <td>7</td>\n",
       "    </tr>\n",
       "    <tr>\n",
       "        <td>physics</td>\n",
       "        <td>2007</td>\n",
       "        <td>Albert Fert</td>\n",
       "        <td>8</td>\n",
       "    </tr>\n",
       "    <tr>\n",
       "        <td>physics</td>\n",
       "        <td>2003</td>\n",
       "        <td>Alexei A. Abrikosov</td>\n",
       "        <td>9</td>\n",
       "    </tr>\n",
       "    <tr>\n",
       "        <td>physics</td>\n",
       "        <td>2003</td>\n",
       "        <td>Anthony J. Leggett</td>\n",
       "        <td>9</td>\n",
       "    </tr>\n",
       "    <tr>\n",
       "        <td>physics</td>\n",
       "        <td>1981</td>\n",
       "        <td>Arthur Leonard Schawlow</td>\n",
       "        <td>11</td>\n",
       "    </tr>\n",
       "    <tr>\n",
       "        <td>physics</td>\n",
       "        <td>1979</td>\n",
       "        <td>Abdus Salam</td>\n",
       "        <td>12</td>\n",
       "    </tr>\n",
       "    <tr>\n",
       "        <td>physics</td>\n",
       "        <td>1978</td>\n",
       "        <td>Arno Allan Penzias</td>\n",
       "        <td>13</td>\n",
       "    </tr>\n",
       "    <tr>\n",
       "        <td>physics</td>\n",
       "        <td>1975</td>\n",
       "        <td>Aage Niels Bohr</td>\n",
       "        <td>14</td>\n",
       "    </tr>\n",
       "    <tr>\n",
       "        <td>physics</td>\n",
       "        <td>1974</td>\n",
       "        <td>Antony Hewish</td>\n",
       "        <td>15</td>\n",
       "    </tr>\n",
       "    <tr>\n",
       "        <td>physics</td>\n",
       "        <td>1966</td>\n",
       "        <td>Alfred Kastler</td>\n",
       "        <td>16</td>\n",
       "    </tr>\n",
       "    <tr>\n",
       "        <td>physics</td>\n",
       "        <td>1964</td>\n",
       "        <td>Aleksandr Mikhailovich Prokhorov</td>\n",
       "        <td>17</td>\n",
       "    </tr>\n",
       "    <tr>\n",
       "        <td>physics</td>\n",
       "        <td>1927</td>\n",
       "        <td>Arthur Holly Compton</td>\n",
       "        <td>18</td>\n",
       "    </tr>\n",
       "    <tr>\n",
       "        <td>physics</td>\n",
       "        <td>1921</td>\n",
       "        <td>Albert Einstein</td>\n",
       "        <td>19</td>\n",
       "    </tr>\n",
       "    <tr>\n",
       "        <td>physics</td>\n",
       "        <td>1907</td>\n",
       "        <td>Albert Abraham Michelson</td>\n",
       "        <td>20</td>\n",
       "    </tr>\n",
       "    <tr>\n",
       "        <td>physics</td>\n",
       "        <td>1903</td>\n",
       "        <td>Antoine Henri Becquerel</td>\n",
       "        <td>21</td>\n",
       "    </tr>\n",
       "</table>"
      ],
      "text/plain": [
       "[('chemistry', 2019, 'Akira Yoshino', 1),\n",
       " ('chemistry', 2015, 'Aziz Sancar', 2),\n",
       " ('chemistry', 2013, 'Arieh Warshel', 3),\n",
       " ('chemistry', 2010, 'Akira Suzuki', 4),\n",
       " ('chemistry', 2009, 'Ada E. Yonath', 5),\n",
       " ('chemistry', 2004, 'Aaron Ciechanover', 6),\n",
       " ('chemistry', 2004, 'Avram Hershko', 6),\n",
       " ('chemistry', 2000, 'Alan G. MacDiarmid', 8),\n",
       " ('chemistry', 2000, 'Alan J. Heeger', 8),\n",
       " ('chemistry', 1999, 'Ahmed H. Zewail', 10),\n",
       " ('chemistry', 1982, 'Aaron Klug', 11),\n",
       " ('chemistry', 1952, 'Archer John Porter Martin', 12),\n",
       " ('chemistry', 1948, 'Arne Wilhelm Kaurin Tiselius', 13),\n",
       " ('chemistry', 1945, 'Artturi Ilmari Virtanen', 14),\n",
       " ('chemistry', 1939, 'Adolf Friedrich Johann Butenandt', 15),\n",
       " ('chemistry', 1929, 'Arthur Harden', 16),\n",
       " ('chemistry', 1928, 'Adolf Otto Reinhold Windaus', 17),\n",
       " ('chemistry', 1913, 'Alfred Werner', 18),\n",
       " ('literature', 2022, 'Annie Ernaux', 1),\n",
       " ('literature', 2021, 'Abdulrazak Gurnah', 2),\n",
       " ('literature', 2013, 'Alice Munro', 3),\n",
       " ('literature', 1970, 'Aleksandr Isayevich Solzhenitsyn', 4),\n",
       " ('literature', 1957, 'Albert Camus', 5),\n",
       " ('literature', 1947, 'André Paul Guillaume Gide', 6),\n",
       " ('literature', 1921, 'Anatole France', 7),\n",
       " ('medicine', 2021, 'Ardem Patapoutian', 1),\n",
       " ('medicine', 2006, 'Andrew Z. Fire', 2),\n",
       " ('medicine', 2000, 'Arvid Carlsson', 3),\n",
       " ('medicine', 1994, 'Alfred G. Gilman', 4),\n",
       " ('medicine', 1979, 'Allan M. Cormack', 5),\n",
       " ('medicine', 1977, 'Andrew V. Schally', 6),\n",
       " ('medicine', 1974, 'Albert Claude', 7),\n",
       " ('medicine', 1969, 'Alfred D. Hershey', 8),\n",
       " ('medicine', 1965, 'André Lwoff', 9),\n",
       " ('medicine', 1963, 'Alan Lloyd Hodgkin', 10),\n",
       " ('medicine', 1963, 'Andrew Fielding Huxley', 10),\n",
       " ('medicine', 1959, 'Arthur Kornberg', 12),\n",
       " ('medicine', 1956, 'André Frédéric Cournand', 13),\n",
       " ('medicine', 1955, 'Axel Hugo Theodor Theorell', 14),\n",
       " ('medicine', 1949, 'Antonio Caetano de Abreu Freire Egas Moniz', 15),\n",
       " ('medicine', 1937, 'Albert von Szent-Györgyi Nagyrápolt', 16),\n",
       " ('medicine', 1922, 'Archibald Vivian Hill', 17),\n",
       " ('medicine', 1912, 'Alexis Carrel', 18),\n",
       " ('medicine', 1911, 'Allvar Gullstrand', 19),\n",
       " ('medicine', 1910, 'Albrecht Kossel', 20),\n",
       " ('physics', 2022, 'Alain Aspect', 1),\n",
       " ('physics', 2022, 'Anton Zeilinger', 1),\n",
       " ('physics', 2020, 'Andrea Ghez', 3),\n",
       " ('physics', 2018, 'Arthur Ashkin', 4),\n",
       " ('physics', 2015, 'Arthur B. McDonald', 5),\n",
       " ('physics', 2011, 'Adam G. Riess', 6),\n",
       " ('physics', 2010, 'Andre Geim', 7),\n",
       " ('physics', 2007, 'Albert Fert', 8),\n",
       " ('physics', 2003, 'Alexei A. Abrikosov', 9),\n",
       " ('physics', 2003, 'Anthony J. Leggett', 9),\n",
       " ('physics', 1981, 'Arthur Leonard Schawlow', 11),\n",
       " ('physics', 1979, 'Abdus Salam', 12),\n",
       " ('physics', 1978, 'Arno Allan Penzias', 13),\n",
       " ('physics', 1975, 'Aage Niels Bohr', 14),\n",
       " ('physics', 1974, 'Antony Hewish', 15),\n",
       " ('physics', 1966, 'Alfred Kastler', 16),\n",
       " ('physics', 1964, 'Aleksandr Mikhailovich Prokhorov', 17),\n",
       " ('physics', 1927, 'Arthur Holly Compton', 18),\n",
       " ('physics', 1921, 'Albert Einstein', 19),\n",
       " ('physics', 1907, 'Albert Abraham Michelson', 20),\n",
       " ('physics', 1903, 'Antoine Henri Becquerel', 21)]"
      ]
     },
     "execution_count": 64,
     "metadata": {},
     "output_type": "execute_result"
    }
   ],
   "source": [
    "%%sql\n",
    "SELECT category, year, name, rank() OVER(PARTITION BY category ORDER BY -year) as freshness\n",
    "FROM nobel\n",
    "WHERE name LIKE \"A%\""
   ]
  },
  {
   "cell_type": "markdown",
   "metadata": {},
   "source": [
    "# Some exercises\n",
    "\n",
    "To spice things up a bit, I've included a table with all olympic games since 1896 -- the table `olympics` contains the columns:\n",
    "\n",
    "+ `year`\n",
    "+ `city`\n",
    "+ `country`\n",
    "+ `continent`\n",
    "+ `season`\n",
    "+ `ordinal_number`\n",
    "\n",
    "If we look carefully at this table, we can find some unnecessary repetition, we will soon address this problem (but for now, we'll let it pass).\n",
    "\n",
    "**Problem:** _How many olympic games have each continent hosted?_"
   ]
  },
  {
   "cell_type": "code",
   "execution_count": 30,
   "metadata": {},
   "outputs": [
    {
     "name": "stdout",
     "output_type": "stream",
     "text": [
      " * sqlite:///lect01.sqlite\n",
      "Done.\n"
     ]
    },
    {
     "data": {
      "text/html": [
       "<table>\n",
       "    <tr>\n",
       "        <th>continent</th>\n",
       "        <th>count</th>\n",
       "    </tr>\n",
       "    <tr>\n",
       "        <td>Europe</td>\n",
       "        <td>31</td>\n",
       "    </tr>\n",
       "    <tr>\n",
       "        <td>North America</td>\n",
       "        <td>12</td>\n",
       "    </tr>\n",
       "    <tr>\n",
       "        <td>Asia</td>\n",
       "        <td>8</td>\n",
       "    </tr>\n",
       "    <tr>\n",
       "        <td>Australia</td>\n",
       "        <td>2</td>\n",
       "    </tr>\n",
       "    <tr>\n",
       "        <td>South America</td>\n",
       "        <td>1</td>\n",
       "    </tr>\n",
       "</table>"
      ],
      "text/plain": [
       "[('Europe', 31),\n",
       " ('North America', 12),\n",
       " ('Asia', 8),\n",
       " ('Australia', 2),\n",
       " ('South America', 1)]"
      ]
     },
     "execution_count": 30,
     "metadata": {},
     "output_type": "execute_result"
    }
   ],
   "source": [
    "%%sql\n",
    "SELECT continent, count() as count\n",
    "FROM olympics \n",
    "GROUP BY continent\n",
    "ORDER BY -count"
   ]
  },
  {
   "cell_type": "markdown",
   "metadata": {},
   "source": [
    "**Problem:** _When was the first olympic games in each continent?_"
   ]
  },
  {
   "cell_type": "code",
   "execution_count": 32,
   "metadata": {},
   "outputs": [
    {
     "name": "stdout",
     "output_type": "stream",
     "text": [
      " * sqlite:///lect01.sqlite\n",
      "Done.\n"
     ]
    },
    {
     "data": {
      "text/html": [
       "<table>\n",
       "    <tr>\n",
       "        <th>continent</th>\n",
       "        <th>first olympic</th>\n",
       "    </tr>\n",
       "    <tr>\n",
       "        <td>Europe</td>\n",
       "        <td>1896</td>\n",
       "    </tr>\n",
       "    <tr>\n",
       "        <td>North America</td>\n",
       "        <td>1904</td>\n",
       "    </tr>\n",
       "    <tr>\n",
       "        <td>Australia</td>\n",
       "        <td>1956</td>\n",
       "    </tr>\n",
       "    <tr>\n",
       "        <td>Asia</td>\n",
       "        <td>1964</td>\n",
       "    </tr>\n",
       "    <tr>\n",
       "        <td>South America</td>\n",
       "        <td>2016</td>\n",
       "    </tr>\n",
       "</table>"
      ],
      "text/plain": [
       "[('Europe', 1896),\n",
       " ('North America', 1904),\n",
       " ('Australia', 1956),\n",
       " ('Asia', 1964),\n",
       " ('South America', 2016)]"
      ]
     },
     "execution_count": 32,
     "metadata": {},
     "output_type": "execute_result"
    }
   ],
   "source": [
    "%%sql\n",
    "select continent, min(year) as \"first olympic\"\n",
    "from olympics\n",
    "group by continent\n",
    "order by \"first olympic\""
   ]
  },
  {
   "cell_type": "markdown",
   "metadata": {},
   "source": [
    "**Problem:** _For each olympic game, show how many olympic games had come before it in its continent_"
   ]
  },
  {
   "cell_type": "code",
   "execution_count": 45,
   "metadata": {},
   "outputs": [
    {
     "name": "stdout",
     "output_type": "stream",
     "text": [
      " * sqlite:///lect01.sqlite\n",
      "Done.\n"
     ]
    },
    {
     "data": {
      "text/html": [
       "<table>\n",
       "    <tr>\n",
       "        <th>year</th>\n",
       "        <th>city</th>\n",
       "        <th>continent</th>\n",
       "        <th>number of previous games in continent</th>\n",
       "    </tr>\n",
       "    <tr>\n",
       "        <td>1896</td>\n",
       "        <td>Athens</td>\n",
       "        <td>Europe</td>\n",
       "        <td>1</td>\n",
       "    </tr>\n",
       "    <tr>\n",
       "        <td>1900</td>\n",
       "        <td>Paris</td>\n",
       "        <td>Europe</td>\n",
       "        <td>2</td>\n",
       "    </tr>\n",
       "    <tr>\n",
       "        <td>1904</td>\n",
       "        <td>St. Louis</td>\n",
       "        <td>North America</td>\n",
       "        <td>1</td>\n",
       "    </tr>\n",
       "    <tr>\n",
       "        <td>1908</td>\n",
       "        <td>London</td>\n",
       "        <td>Europe</td>\n",
       "        <td>3</td>\n",
       "    </tr>\n",
       "    <tr>\n",
       "        <td>1912</td>\n",
       "        <td>Stockholm</td>\n",
       "        <td>Europe</td>\n",
       "        <td>4</td>\n",
       "    </tr>\n",
       "    <tr>\n",
       "        <td>1916</td>\n",
       "        <td>Berlin</td>\n",
       "        <td>Europe</td>\n",
       "        <td>5</td>\n",
       "    </tr>\n",
       "    <tr>\n",
       "        <td>1920</td>\n",
       "        <td>Antwerp</td>\n",
       "        <td>Europe</td>\n",
       "        <td>6</td>\n",
       "    </tr>\n",
       "    <tr>\n",
       "        <td>1924</td>\n",
       "        <td>Chamonix</td>\n",
       "        <td>Europe</td>\n",
       "        <td>7</td>\n",
       "    </tr>\n",
       "    <tr>\n",
       "        <td>1924</td>\n",
       "        <td>Paris</td>\n",
       "        <td>Europe</td>\n",
       "        <td>8</td>\n",
       "    </tr>\n",
       "    <tr>\n",
       "        <td>1928</td>\n",
       "        <td>St. Moritz</td>\n",
       "        <td>Europe</td>\n",
       "        <td>9</td>\n",
       "    </tr>\n",
       "</table>"
      ],
      "text/plain": [
       "[(1896, 'Athens', 'Europe', 1),\n",
       " (1900, 'Paris', 'Europe', 2),\n",
       " (1904, 'St. Louis', 'North America', 1),\n",
       " (1908, 'London', 'Europe', 3),\n",
       " (1912, 'Stockholm', 'Europe', 4),\n",
       " (1916, 'Berlin', 'Europe', 5),\n",
       " (1920, 'Antwerp', 'Europe', 6),\n",
       " (1924, 'Chamonix', 'Europe', 7),\n",
       " (1924, 'Paris', 'Europe', 8),\n",
       " (1928, 'St. Moritz', 'Europe', 9)]"
      ]
     },
     "execution_count": 45,
     "metadata": {},
     "output_type": "execute_result"
    }
   ],
   "source": [
    "%%sql\n",
    "select year, city, continent, row_number() over (partition by continent order by year) as \"number of previous games in continent\"\n",
    "from olympics \n",
    "order by year\n",
    "limit 10"
   ]
  },
  {
   "cell_type": "markdown",
   "metadata": {},
   "source": [
    "**Problem:** _Which countries have hosted the summer olympics more than once?_"
   ]
  },
  {
   "cell_type": "code",
   "execution_count": 49,
   "metadata": {},
   "outputs": [
    {
     "name": "stdout",
     "output_type": "stream",
     "text": [
      " * sqlite:///lect01.sqlite\n",
      "Done.\n"
     ]
    },
    {
     "data": {
      "text/html": [
       "<table>\n",
       "    <tr>\n",
       "        <th>country</th>\n",
       "        <th>count</th>\n",
       "    </tr>\n",
       "    <tr>\n",
       "        <td>Australia</td>\n",
       "        <td>2</td>\n",
       "    </tr>\n",
       "    <tr>\n",
       "        <td>Austria</td>\n",
       "        <td>2</td>\n",
       "    </tr>\n",
       "    <tr>\n",
       "        <td>Canada</td>\n",
       "        <td>3</td>\n",
       "    </tr>\n",
       "    <tr>\n",
       "        <td>China</td>\n",
       "        <td>2</td>\n",
       "    </tr>\n",
       "    <tr>\n",
       "        <td>France</td>\n",
       "        <td>5</td>\n",
       "    </tr>\n",
       "    <tr>\n",
       "        <td>Germany</td>\n",
       "        <td>3</td>\n",
       "    </tr>\n",
       "    <tr>\n",
       "        <td>Greece</td>\n",
       "        <td>2</td>\n",
       "    </tr>\n",
       "    <tr>\n",
       "        <td>Italy</td>\n",
       "        <td>3</td>\n",
       "    </tr>\n",
       "    <tr>\n",
       "        <td>Japan</td>\n",
       "        <td>4</td>\n",
       "    </tr>\n",
       "    <tr>\n",
       "        <td>Norway</td>\n",
       "        <td>2</td>\n",
       "    </tr>\n",
       "    <tr>\n",
       "        <td>South Korea</td>\n",
       "        <td>2</td>\n",
       "    </tr>\n",
       "    <tr>\n",
       "        <td>United Kingdom</td>\n",
       "        <td>3</td>\n",
       "    </tr>\n",
       "    <tr>\n",
       "        <td>United States</td>\n",
       "        <td>8</td>\n",
       "    </tr>\n",
       "</table>"
      ],
      "text/plain": [
       "[('Australia', 2),\n",
       " ('Austria', 2),\n",
       " ('Canada', 3),\n",
       " ('China', 2),\n",
       " ('France', 5),\n",
       " ('Germany', 3),\n",
       " ('Greece', 2),\n",
       " ('Italy', 3),\n",
       " ('Japan', 4),\n",
       " ('Norway', 2),\n",
       " ('South Korea', 2),\n",
       " ('United Kingdom', 3),\n",
       " ('United States', 8)]"
      ]
     },
     "execution_count": 49,
     "metadata": {},
     "output_type": "execute_result"
    }
   ],
   "source": [
    "%%sql\n",
    "select country, count() as count\n",
    "from olympics\n",
    "group by country\n",
    "having count > 1"
   ]
  },
  {
   "cell_type": "markdown",
   "metadata": {},
   "source": [
    "**Exercise:** _List the continents in descending order by the number of times they've hosted the summer olympics_"
   ]
  },
  {
   "cell_type": "code",
   "execution_count": 55,
   "metadata": {},
   "outputs": [
    {
     "name": "stdout",
     "output_type": "stream",
     "text": [
      " * sqlite:///lect01.sqlite\n",
      "Done.\n"
     ]
    },
    {
     "data": {
      "text/html": [
       "<table>\n",
       "    <tr>\n",
       "        <th>continent</th>\n",
       "        <th>count()</th>\n",
       "    </tr>\n",
       "    <tr>\n",
       "        <td>Asia</td>\n",
       "        <td>4</td>\n",
       "    </tr>\n",
       "    <tr>\n",
       "        <td>Australia</td>\n",
       "        <td>2</td>\n",
       "    </tr>\n",
       "    <tr>\n",
       "        <td>Europe</td>\n",
       "        <td>17</td>\n",
       "    </tr>\n",
       "    <tr>\n",
       "        <td>North America</td>\n",
       "        <td>6</td>\n",
       "    </tr>\n",
       "    <tr>\n",
       "        <td>South America</td>\n",
       "        <td>1</td>\n",
       "    </tr>\n",
       "</table>"
      ],
      "text/plain": [
       "[('Asia', 4),\n",
       " ('Australia', 2),\n",
       " ('Europe', 17),\n",
       " ('North America', 6),\n",
       " ('South America', 1)]"
      ]
     },
     "execution_count": 55,
     "metadata": {},
     "output_type": "execute_result"
    }
   ],
   "source": [
    "%%sql\n",
    "select continent, count()\n",
    "from olympics \n",
    "where season = \"summer\"\n",
    "group by continent\n"
   ]
  },
  {
   "cell_type": "markdown",
   "metadata": {},
   "source": [
    "**Problem:** _Show a 'histogram' (no actual diagram, just the counts) over the the initial letter of the names of all Nobel laureates_"
   ]
  },
  {
   "cell_type": "code",
   "execution_count": 61,
   "metadata": {},
   "outputs": [
    {
     "name": "stdout",
     "output_type": "stream",
     "text": [
      " * sqlite:///lect01.sqlite\n",
      "Done.\n"
     ]
    },
    {
     "data": {
      "text/html": [
       "<table>\n",
       "    <tr>\n",
       "        <th>bin</th>\n",
       "        <th>count</th>\n",
       "    </tr>\n",
       "    <tr>\n",
       "        <td>A</td>\n",
       "        <td>66</td>\n",
       "    </tr>\n",
       "    <tr>\n",
       "        <td>B</td>\n",
       "        <td>20</td>\n",
       "    </tr>\n",
       "    <tr>\n",
       "        <td>C</td>\n",
       "        <td>38</td>\n",
       "    </tr>\n",
       "    <tr>\n",
       "        <td>D</td>\n",
       "        <td>26</td>\n",
       "    </tr>\n",
       "    <tr>\n",
       "        <td>E</td>\n",
       "        <td>42</td>\n",
       "    </tr>\n",
       "    <tr>\n",
       "        <td>F</td>\n",
       "        <td>27</td>\n",
       "    </tr>\n",
       "    <tr>\n",
       "        <td>G</td>\n",
       "        <td>47</td>\n",
       "    </tr>\n",
       "    <tr>\n",
       "        <td>H</td>\n",
       "        <td>46</td>\n",
       "    </tr>\n",
       "    <tr>\n",
       "        <td>I</td>\n",
       "        <td>15</td>\n",
       "    </tr>\n",
       "    <tr>\n",
       "        <td>J</td>\n",
       "        <td>78</td>\n",
       "    </tr>\n",
       "    <tr>\n",
       "        <td>K</td>\n",
       "        <td>25</td>\n",
       "    </tr>\n",
       "    <tr>\n",
       "        <td>L</td>\n",
       "        <td>19</td>\n",
       "    </tr>\n",
       "    <tr>\n",
       "        <td>M</td>\n",
       "        <td>38</td>\n",
       "    </tr>\n",
       "    <tr>\n",
       "        <td>N</td>\n",
       "        <td>12</td>\n",
       "    </tr>\n",
       "    <tr>\n",
       "        <td>O</td>\n",
       "        <td>16</td>\n",
       "    </tr>\n",
       "    <tr>\n",
       "        <td>P</td>\n",
       "        <td>41</td>\n",
       "    </tr>\n",
       "    <tr>\n",
       "        <td>R</td>\n",
       "        <td>61</td>\n",
       "    </tr>\n",
       "    <tr>\n",
       "        <td>S</td>\n",
       "        <td>65</td>\n",
       "    </tr>\n",
       "    <tr>\n",
       "        <td>T</td>\n",
       "        <td>20</td>\n",
       "    </tr>\n",
       "    <tr>\n",
       "        <td>U</td>\n",
       "        <td>1</td>\n",
       "    </tr>\n",
       "    <tr>\n",
       "        <td>V</td>\n",
       "        <td>8</td>\n",
       "    </tr>\n",
       "    <tr>\n",
       "        <td>W</td>\n",
       "        <td>39</td>\n",
       "    </tr>\n",
       "    <tr>\n",
       "        <td>Y</td>\n",
       "        <td>6</td>\n",
       "    </tr>\n",
       "    <tr>\n",
       "        <td>Z</td>\n",
       "        <td>1</td>\n",
       "    </tr>\n",
       "</table>"
      ],
      "text/plain": [
       "[('A', 66),\n",
       " ('B', 20),\n",
       " ('C', 38),\n",
       " ('D', 26),\n",
       " ('E', 42),\n",
       " ('F', 27),\n",
       " ('G', 47),\n",
       " ('H', 46),\n",
       " ('I', 15),\n",
       " ('J', 78),\n",
       " ('K', 25),\n",
       " ('L', 19),\n",
       " ('M', 38),\n",
       " ('N', 12),\n",
       " ('O', 16),\n",
       " ('P', 41),\n",
       " ('R', 61),\n",
       " ('S', 65),\n",
       " ('T', 20),\n",
       " ('U', 1),\n",
       " ('V', 8),\n",
       " ('W', 39),\n",
       " ('Y', 6),\n",
       " ('Z', 1)]"
      ]
     },
     "execution_count": 61,
     "metadata": {},
     "output_type": "execute_result"
    }
   ],
   "source": [
    "%%sql\n",
    "select substr(name, 1, 1) as \"bin\", count() as count\n",
    "from nobel\n",
    "group by substr(name,1,1)"
   ]
  },
  {
   "cell_type": "markdown",
   "metadata": {},
   "source": [
    "We can group by more than one column, by inserting invisible borders between all combinations of the given column values:\n",
    "\n",
    "**Problem:** _Show a 'histogram' over the the initial letter of the names of all Nobel laureates, **for each category**_"
   ]
  },
  {
   "cell_type": "code",
   "execution_count": 78,
   "metadata": {},
   "outputs": [
    {
     "name": "stdout",
     "output_type": "stream",
     "text": [
      " * sqlite:///lect01.sqlite\n",
      "Done.\n"
     ]
    },
    {
     "data": {
      "text/html": [
       "<table>\n",
       "    <tr>\n",
       "        <th>category</th>\n",
       "        <th>substr(name, 1, 1)</th>\n",
       "        <th>count()</th>\n",
       "    </tr>\n",
       "    <tr>\n",
       "        <td>chemistry</td>\n",
       "        <td>A</td>\n",
       "        <td>18</td>\n",
       "    </tr>\n",
       "    <tr>\n",
       "        <td>chemistry</td>\n",
       "        <td>B</td>\n",
       "        <td>3</td>\n",
       "    </tr>\n",
       "    <tr>\n",
       "        <td>chemistry</td>\n",
       "        <td>C</td>\n",
       "        <td>4</td>\n",
       "    </tr>\n",
       "    <tr>\n",
       "        <td>chemistry</td>\n",
       "        <td>D</td>\n",
       "        <td>6</td>\n",
       "    </tr>\n",
       "    <tr>\n",
       "        <td>chemistry</td>\n",
       "        <td>E</td>\n",
       "        <td>8</td>\n",
       "    </tr>\n",
       "    <tr>\n",
       "        <td>chemistry</td>\n",
       "        <td>F</td>\n",
       "        <td>10</td>\n",
       "    </tr>\n",
       "    <tr>\n",
       "        <td>chemistry</td>\n",
       "        <td>G</td>\n",
       "        <td>11</td>\n",
       "    </tr>\n",
       "    <tr>\n",
       "        <td>chemistry</td>\n",
       "        <td>H</td>\n",
       "        <td>12</td>\n",
       "    </tr>\n",
       "    <tr>\n",
       "        <td>chemistry</td>\n",
       "        <td>I</td>\n",
       "        <td>4</td>\n",
       "    </tr>\n",
       "    <tr>\n",
       "        <td>chemistry</td>\n",
       "        <td>J</td>\n",
       "        <td>20</td>\n",
       "    </tr>\n",
       "    <tr>\n",
       "        <td>chemistry</td>\n",
       "        <td>K</td>\n",
       "        <td>8</td>\n",
       "    </tr>\n",
       "    <tr>\n",
       "        <td>chemistry</td>\n",
       "        <td>L</td>\n",
       "        <td>5</td>\n",
       "    </tr>\n",
       "    <tr>\n",
       "        <td>chemistry</td>\n",
       "        <td>M</td>\n",
       "        <td>11</td>\n",
       "    </tr>\n",
       "    <tr>\n",
       "        <td>chemistry</td>\n",
       "        <td>N</td>\n",
       "        <td>1</td>\n",
       "    </tr>\n",
       "    <tr>\n",
       "        <td>chemistry</td>\n",
       "        <td>O</td>\n",
       "        <td>5</td>\n",
       "    </tr>\n",
       "    <tr>\n",
       "        <td>chemistry</td>\n",
       "        <td>P</td>\n",
       "        <td>10</td>\n",
       "    </tr>\n",
       "    <tr>\n",
       "        <td>chemistry</td>\n",
       "        <td>R</td>\n",
       "        <td>23</td>\n",
       "    </tr>\n",
       "    <tr>\n",
       "        <td>chemistry</td>\n",
       "        <td>S</td>\n",
       "        <td>9</td>\n",
       "    </tr>\n",
       "    <tr>\n",
       "        <td>chemistry</td>\n",
       "        <td>T</td>\n",
       "        <td>5</td>\n",
       "    </tr>\n",
       "    <tr>\n",
       "        <td>chemistry</td>\n",
       "        <td>V</td>\n",
       "        <td>4</td>\n",
       "    </tr>\n",
       "    <tr>\n",
       "        <td>chemistry</td>\n",
       "        <td>W</td>\n",
       "        <td>12</td>\n",
       "    </tr>\n",
       "    <tr>\n",
       "        <td>chemistry</td>\n",
       "        <td>Y</td>\n",
       "        <td>2</td>\n",
       "    </tr>\n",
       "    <tr>\n",
       "        <td>literature</td>\n",
       "        <td>A</td>\n",
       "        <td>7</td>\n",
       "    </tr>\n",
       "    <tr>\n",
       "        <td>literature</td>\n",
       "        <td>B</td>\n",
       "        <td>3</td>\n",
       "    </tr>\n",
       "    <tr>\n",
       "        <td>literature</td>\n",
       "        <td>C</td>\n",
       "        <td>7</td>\n",
       "    </tr>\n",
       "    <tr>\n",
       "        <td>literature</td>\n",
       "        <td>D</td>\n",
       "        <td>3</td>\n",
       "    </tr>\n",
       "    <tr>\n",
       "        <td>literature</td>\n",
       "        <td>E</td>\n",
       "        <td>8</td>\n",
       "    </tr>\n",
       "    <tr>\n",
       "        <td>literature</td>\n",
       "        <td>F</td>\n",
       "        <td>3</td>\n",
       "    </tr>\n",
       "    <tr>\n",
       "        <td>literature</td>\n",
       "        <td>G</td>\n",
       "        <td>9</td>\n",
       "    </tr>\n",
       "    <tr>\n",
       "        <td>literature</td>\n",
       "        <td>H</td>\n",
       "        <td>9</td>\n",
       "    </tr>\n",
       "    <tr>\n",
       "        <td>literature</td>\n",
       "        <td>I</td>\n",
       "        <td>4</td>\n",
       "    </tr>\n",
       "    <tr>\n",
       "        <td>literature</td>\n",
       "        <td>J</td>\n",
       "        <td>12</td>\n",
       "    </tr>\n",
       "    <tr>\n",
       "        <td>literature</td>\n",
       "        <td>K</td>\n",
       "        <td>4</td>\n",
       "    </tr>\n",
       "    <tr>\n",
       "        <td>literature</td>\n",
       "        <td>L</td>\n",
       "        <td>2</td>\n",
       "    </tr>\n",
       "    <tr>\n",
       "        <td>literature</td>\n",
       "        <td>M</td>\n",
       "        <td>4</td>\n",
       "    </tr>\n",
       "    <tr>\n",
       "        <td>literature</td>\n",
       "        <td>N</td>\n",
       "        <td>3</td>\n",
       "    </tr>\n",
       "    <tr>\n",
       "        <td>literature</td>\n",
       "        <td>O</td>\n",
       "        <td>4</td>\n",
       "    </tr>\n",
       "    <tr>\n",
       "        <td>literature</td>\n",
       "        <td>P</td>\n",
       "        <td>7</td>\n",
       "    </tr>\n",
       "    <tr>\n",
       "        <td>literature</td>\n",
       "        <td>R</td>\n",
       "        <td>5</td>\n",
       "    </tr>\n",
       "    <tr>\n",
       "        <td>literature</td>\n",
       "        <td>S</td>\n",
       "        <td>13</td>\n",
       "    </tr>\n",
       "    <tr>\n",
       "        <td>literature</td>\n",
       "        <td>T</td>\n",
       "        <td>4</td>\n",
       "    </tr>\n",
       "    <tr>\n",
       "        <td>literature</td>\n",
       "        <td>V</td>\n",
       "        <td>1</td>\n",
       "    </tr>\n",
       "    <tr>\n",
       "        <td>literature</td>\n",
       "        <td>W</td>\n",
       "        <td>6</td>\n",
       "    </tr>\n",
       "    <tr>\n",
       "        <td>literature</td>\n",
       "        <td>Y</td>\n",
       "        <td>1</td>\n",
       "    </tr>\n",
       "    <tr>\n",
       "        <td>medicine</td>\n",
       "        <td>A</td>\n",
       "        <td>20</td>\n",
       "    </tr>\n",
       "    <tr>\n",
       "        <td>medicine</td>\n",
       "        <td>B</td>\n",
       "        <td>8</td>\n",
       "    </tr>\n",
       "    <tr>\n",
       "        <td>medicine</td>\n",
       "        <td>C</td>\n",
       "        <td>14</td>\n",
       "    </tr>\n",
       "    <tr>\n",
       "        <td>medicine</td>\n",
       "        <td>D</td>\n",
       "        <td>7</td>\n",
       "    </tr>\n",
       "    <tr>\n",
       "        <td>medicine</td>\n",
       "        <td>E</td>\n",
       "        <td>17</td>\n",
       "    </tr>\n",
       "    <tr>\n",
       "        <td>medicine</td>\n",
       "        <td>F</td>\n",
       "        <td>8</td>\n",
       "    </tr>\n",
       "    <tr>\n",
       "        <td>medicine</td>\n",
       "        <td>G</td>\n",
       "        <td>16</td>\n",
       "    </tr>\n",
       "    <tr>\n",
       "        <td>medicine</td>\n",
       "        <td>H</td>\n",
       "        <td>13</td>\n",
       "    </tr>\n",
       "    <tr>\n",
       "        <td>medicine</td>\n",
       "        <td>I</td>\n",
       "        <td>2</td>\n",
       "    </tr>\n",
       "    <tr>\n",
       "        <td>medicine</td>\n",
       "        <td>J</td>\n",
       "        <td>23</td>\n",
       "    </tr>\n",
       "    <tr>\n",
       "        <td>medicine</td>\n",
       "        <td>K</td>\n",
       "        <td>4</td>\n",
       "    </tr>\n",
       "    <tr>\n",
       "        <td>medicine</td>\n",
       "        <td>L</td>\n",
       "        <td>4</td>\n",
       "    </tr>\n",
       "    <tr>\n",
       "        <td>medicine</td>\n",
       "        <td>M</td>\n",
       "        <td>11</td>\n",
       "    </tr>\n",
       "    <tr>\n",
       "        <td>medicine</td>\n",
       "        <td>N</td>\n",
       "        <td>3</td>\n",
       "    </tr>\n",
       "    <tr>\n",
       "        <td>medicine</td>\n",
       "        <td>O</td>\n",
       "        <td>4</td>\n",
       "    </tr>\n",
       "    <tr>\n",
       "        <td>medicine</td>\n",
       "        <td>P</td>\n",
       "        <td>10</td>\n",
       "    </tr>\n",
       "    <tr>\n",
       "        <td>medicine</td>\n",
       "        <td>R</td>\n",
       "        <td>18</td>\n",
       "    </tr>\n",
       "    <tr>\n",
       "        <td>medicine</td>\n",
       "        <td>S</td>\n",
       "        <td>26</td>\n",
       "    </tr>\n",
       "    <tr>\n",
       "        <td>medicine</td>\n",
       "        <td>T</td>\n",
       "        <td>7</td>\n",
       "    </tr>\n",
       "    <tr>\n",
       "        <td>medicine</td>\n",
       "        <td>U</td>\n",
       "        <td>1</td>\n",
       "    </tr>\n",
       "    <tr>\n",
       "        <td>medicine</td>\n",
       "        <td>W</td>\n",
       "        <td>7</td>\n",
       "    </tr>\n",
       "    <tr>\n",
       "        <td>medicine</td>\n",
       "        <td>Y</td>\n",
       "        <td>2</td>\n",
       "    </tr>\n",
       "    <tr>\n",
       "        <td>physics</td>\n",
       "        <td>A</td>\n",
       "        <td>21</td>\n",
       "    </tr>\n",
       "    <tr>\n",
       "        <td>physics</td>\n",
       "        <td>B</td>\n",
       "        <td>6</td>\n",
       "    </tr>\n",
       "    <tr>\n",
       "        <td>physics</td>\n",
       "        <td>C</td>\n",
       "        <td>13</td>\n",
       "    </tr>\n",
       "    <tr>\n",
       "        <td>physics</td>\n",
       "        <td>D</td>\n",
       "        <td>10</td>\n",
       "    </tr>\n",
       "    <tr>\n",
       "        <td>physics</td>\n",
       "        <td>E</td>\n",
       "        <td>9</td>\n",
       "    </tr>\n",
       "    <tr>\n",
       "        <td>physics</td>\n",
       "        <td>F</td>\n",
       "        <td>6</td>\n",
       "    </tr>\n",
       "    <tr>\n",
       "        <td>physics</td>\n",
       "        <td>G</td>\n",
       "        <td>11</td>\n",
       "    </tr>\n",
       "    <tr>\n",
       "        <td>physics</td>\n",
       "        <td>H</td>\n",
       "        <td>12</td>\n",
       "    </tr>\n",
       "    <tr>\n",
       "        <td>physics</td>\n",
       "        <td>I</td>\n",
       "        <td>5</td>\n",
       "    </tr>\n",
       "    <tr>\n",
       "        <td>physics</td>\n",
       "        <td>J</td>\n",
       "        <td>23</td>\n",
       "    </tr>\n",
       "    <tr>\n",
       "        <td>physics</td>\n",
       "        <td>K</td>\n",
       "        <td>9</td>\n",
       "    </tr>\n",
       "    <tr>\n",
       "        <td>physics</td>\n",
       "        <td>L</td>\n",
       "        <td>8</td>\n",
       "    </tr>\n",
       "    <tr>\n",
       "        <td>physics</td>\n",
       "        <td>M</td>\n",
       "        <td>12</td>\n",
       "    </tr>\n",
       "    <tr>\n",
       "        <td>physics</td>\n",
       "        <td>N</td>\n",
       "        <td>5</td>\n",
       "    </tr>\n",
       "    <tr>\n",
       "        <td>physics</td>\n",
       "        <td>O</td>\n",
       "        <td>3</td>\n",
       "    </tr>\n",
       "    <tr>\n",
       "        <td>physics</td>\n",
       "        <td>P</td>\n",
       "        <td>14</td>\n",
       "    </tr>\n",
       "    <tr>\n",
       "        <td>physics</td>\n",
       "        <td>R</td>\n",
       "        <td>15</td>\n",
       "    </tr>\n",
       "    <tr>\n",
       "        <td>physics</td>\n",
       "        <td>S</td>\n",
       "        <td>17</td>\n",
       "    </tr>\n",
       "    <tr>\n",
       "        <td>physics</td>\n",
       "        <td>T</td>\n",
       "        <td>4</td>\n",
       "    </tr>\n",
       "    <tr>\n",
       "        <td>physics</td>\n",
       "        <td>V</td>\n",
       "        <td>3</td>\n",
       "    </tr>\n",
       "    <tr>\n",
       "        <td>physics</td>\n",
       "        <td>W</td>\n",
       "        <td>14</td>\n",
       "    </tr>\n",
       "    <tr>\n",
       "        <td>physics</td>\n",
       "        <td>Y</td>\n",
       "        <td>1</td>\n",
       "    </tr>\n",
       "    <tr>\n",
       "        <td>physics</td>\n",
       "        <td>Z</td>\n",
       "        <td>1</td>\n",
       "    </tr>\n",
       "</table>"
      ],
      "text/plain": [
       "[('chemistry', 'A', 18),\n",
       " ('chemistry', 'B', 3),\n",
       " ('chemistry', 'C', 4),\n",
       " ('chemistry', 'D', 6),\n",
       " ('chemistry', 'E', 8),\n",
       " ('chemistry', 'F', 10),\n",
       " ('chemistry', 'G', 11),\n",
       " ('chemistry', 'H', 12),\n",
       " ('chemistry', 'I', 4),\n",
       " ('chemistry', 'J', 20),\n",
       " ('chemistry', 'K', 8),\n",
       " ('chemistry', 'L', 5),\n",
       " ('chemistry', 'M', 11),\n",
       " ('chemistry', 'N', 1),\n",
       " ('chemistry', 'O', 5),\n",
       " ('chemistry', 'P', 10),\n",
       " ('chemistry', 'R', 23),\n",
       " ('chemistry', 'S', 9),\n",
       " ('chemistry', 'T', 5),\n",
       " ('chemistry', 'V', 4),\n",
       " ('chemistry', 'W', 12),\n",
       " ('chemistry', 'Y', 2),\n",
       " ('literature', 'A', 7),\n",
       " ('literature', 'B', 3),\n",
       " ('literature', 'C', 7),\n",
       " ('literature', 'D', 3),\n",
       " ('literature', 'E', 8),\n",
       " ('literature', 'F', 3),\n",
       " ('literature', 'G', 9),\n",
       " ('literature', 'H', 9),\n",
       " ('literature', 'I', 4),\n",
       " ('literature', 'J', 12),\n",
       " ('literature', 'K', 4),\n",
       " ('literature', 'L', 2),\n",
       " ('literature', 'M', 4),\n",
       " ('literature', 'N', 3),\n",
       " ('literature', 'O', 4),\n",
       " ('literature', 'P', 7),\n",
       " ('literature', 'R', 5),\n",
       " ('literature', 'S', 13),\n",
       " ('literature', 'T', 4),\n",
       " ('literature', 'V', 1),\n",
       " ('literature', 'W', 6),\n",
       " ('literature', 'Y', 1),\n",
       " ('medicine', 'A', 20),\n",
       " ('medicine', 'B', 8),\n",
       " ('medicine', 'C', 14),\n",
       " ('medicine', 'D', 7),\n",
       " ('medicine', 'E', 17),\n",
       " ('medicine', 'F', 8),\n",
       " ('medicine', 'G', 16),\n",
       " ('medicine', 'H', 13),\n",
       " ('medicine', 'I', 2),\n",
       " ('medicine', 'J', 23),\n",
       " ('medicine', 'K', 4),\n",
       " ('medicine', 'L', 4),\n",
       " ('medicine', 'M', 11),\n",
       " ('medicine', 'N', 3),\n",
       " ('medicine', 'O', 4),\n",
       " ('medicine', 'P', 10),\n",
       " ('medicine', 'R', 18),\n",
       " ('medicine', 'S', 26),\n",
       " ('medicine', 'T', 7),\n",
       " ('medicine', 'U', 1),\n",
       " ('medicine', 'W', 7),\n",
       " ('medicine', 'Y', 2),\n",
       " ('physics', 'A', 21),\n",
       " ('physics', 'B', 6),\n",
       " ('physics', 'C', 13),\n",
       " ('physics', 'D', 10),\n",
       " ('physics', 'E', 9),\n",
       " ('physics', 'F', 6),\n",
       " ('physics', 'G', 11),\n",
       " ('physics', 'H', 12),\n",
       " ('physics', 'I', 5),\n",
       " ('physics', 'J', 23),\n",
       " ('physics', 'K', 9),\n",
       " ('physics', 'L', 8),\n",
       " ('physics', 'M', 12),\n",
       " ('physics', 'N', 5),\n",
       " ('physics', 'O', 3),\n",
       " ('physics', 'P', 14),\n",
       " ('physics', 'R', 15),\n",
       " ('physics', 'S', 17),\n",
       " ('physics', 'T', 4),\n",
       " ('physics', 'V', 3),\n",
       " ('physics', 'W', 14),\n",
       " ('physics', 'Y', 1),\n",
       " ('physics', 'Z', 1)]"
      ]
     },
     "execution_count": 78,
     "metadata": {},
     "output_type": "execute_result"
    }
   ],
   "source": [
    "%%sql\n",
    "select category, substr(name, 1, 1), count()\n",
    "from nobel\n",
    "group by category, substr(name, 1, 1)\n"
   ]
  },
  {
   "cell_type": "markdown",
   "metadata": {},
   "source": [
    "**Problem:** _Has anyone won more than one Nobel prize?_ We can assume the names of the laureates are unique (so far they are!)."
   ]
  },
  {
   "cell_type": "code",
   "execution_count": 84,
   "metadata": {},
   "outputs": [
    {
     "name": "stdout",
     "output_type": "stream",
     "text": [
      " * sqlite:///lect01.sqlite\n",
      "Done.\n"
     ]
    },
    {
     "data": {
      "text/html": [
       "<table>\n",
       "    <tr>\n",
       "        <th>name</th>\n",
       "        <th>group_concat(category, &quot;, &quot;)</th>\n",
       "        <th>count()</th>\n",
       "        <th>group_concat(year, &quot;, &quot;)</th>\n",
       "    </tr>\n",
       "    <tr>\n",
       "        <td>Frederick Sanger</td>\n",
       "        <td>chemistry, chemistry</td>\n",
       "        <td>2</td>\n",
       "        <td>1958, 1980</td>\n",
       "    </tr>\n",
       "    <tr>\n",
       "        <td>John Bardeen</td>\n",
       "        <td>physics, physics</td>\n",
       "        <td>2</td>\n",
       "        <td>1956, 1972</td>\n",
       "    </tr>\n",
       "    <tr>\n",
       "        <td>K. Barry Sharpless</td>\n",
       "        <td>chemistry, chemistry</td>\n",
       "        <td>2</td>\n",
       "        <td>2001, 2022</td>\n",
       "    </tr>\n",
       "    <tr>\n",
       "        <td>Marie Curie, née Sklodowska</td>\n",
       "        <td>physics, chemistry</td>\n",
       "        <td>2</td>\n",
       "        <td>1903, 1911</td>\n",
       "    </tr>\n",
       "</table>"
      ],
      "text/plain": [
       "[('Frederick Sanger', 'chemistry, chemistry', 2, '1958, 1980'),\n",
       " ('John Bardeen', 'physics, physics', 2, '1956, 1972'),\n",
       " ('K. Barry Sharpless', 'chemistry, chemistry', 2, '2001, 2022'),\n",
       " ('Marie Curie, née Sklodowska', 'physics, chemistry', 2, '1903, 1911')]"
      ]
     },
     "execution_count": 84,
     "metadata": {},
     "output_type": "execute_result"
    }
   ],
   "source": [
    "%%sql\n",
    "select name, group_concat(category, \", \"), count(), group_concat(year, \", \")\n",
    "from nobel\n",
    "group by name\n",
    "having count()>1"
   ]
  },
  {
   "cell_type": "markdown",
   "metadata": {},
   "source": [
    "**Problem:** _Has anyone won more than one Nobel prize in the same category?_"
   ]
  },
  {
   "cell_type": "code",
   "execution_count": 86,
   "metadata": {},
   "outputs": [
    {
     "name": "stdout",
     "output_type": "stream",
     "text": [
      " * sqlite:///lect01.sqlite\n",
      "Done.\n"
     ]
    },
    {
     "data": {
      "text/html": [
       "<table>\n",
       "    <tr>\n",
       "        <th>name</th>\n",
       "        <th>group_concat(category, &quot;, &quot;)</th>\n",
       "        <th>count()</th>\n",
       "        <th>group_concat(year, &quot;, &quot;)</th>\n",
       "    </tr>\n",
       "    <tr>\n",
       "        <td>Frederick Sanger</td>\n",
       "        <td>chemistry, chemistry</td>\n",
       "        <td>2</td>\n",
       "        <td>1958, 1980</td>\n",
       "    </tr>\n",
       "    <tr>\n",
       "        <td>John Bardeen</td>\n",
       "        <td>physics, physics</td>\n",
       "        <td>2</td>\n",
       "        <td>1956, 1972</td>\n",
       "    </tr>\n",
       "    <tr>\n",
       "        <td>K. Barry Sharpless</td>\n",
       "        <td>chemistry, chemistry</td>\n",
       "        <td>2</td>\n",
       "        <td>2001, 2022</td>\n",
       "    </tr>\n",
       "</table>"
      ],
      "text/plain": [
       "[('Frederick Sanger', 'chemistry, chemistry', 2, '1958, 1980'),\n",
       " ('John Bardeen', 'physics, physics', 2, '1956, 1972'),\n",
       " ('K. Barry Sharpless', 'chemistry, chemistry', 2, '2001, 2022')]"
      ]
     },
     "execution_count": 86,
     "metadata": {},
     "output_type": "execute_result"
    }
   ],
   "source": [
    "%%sql\n",
    "select name, group_concat(category, \", \"), count(), group_concat(year, \", \")\n",
    "from nobel\n",
    "group by name, category\n",
    "having count()>1"
   ]
  },
  {
   "cell_type": "markdown",
   "metadata": {},
   "source": [
    "**Problem:** _Has anyone won Nobel prizes in different categories?_"
   ]
  },
  {
   "cell_type": "code",
   "execution_count": 89,
   "metadata": {},
   "outputs": [
    {
     "name": "stdout",
     "output_type": "stream",
     "text": [
      " * sqlite:///lect01.sqlite\n",
      "Done.\n"
     ]
    },
    {
     "data": {
      "text/html": [
       "<table>\n",
       "    <tr>\n",
       "        <th>name</th>\n",
       "        <th>group_concat(category, &quot;, &quot;)</th>\n",
       "        <th>count()</th>\n",
       "        <th>group_concat(year, &quot;, &quot;)</th>\n",
       "    </tr>\n",
       "    <tr>\n",
       "        <td>Marie Curie, née Sklodowska</td>\n",
       "        <td>physics, chemistry</td>\n",
       "        <td>2</td>\n",
       "        <td>1903, 1911</td>\n",
       "    </tr>\n",
       "</table>"
      ],
      "text/plain": [
       "[('Marie Curie, née Sklodowska', 'physics, chemistry', 2, '1903, 1911')]"
      ]
     },
     "execution_count": 89,
     "metadata": {},
     "output_type": "execute_result"
    }
   ],
   "source": [
    "%%sql\n",
    "select name, group_concat(category, \", \"), count(), group_concat(year, \", \")\n",
    "from nobel\n",
    "group by name\n",
    "having count()>1\n",
    "\n",
    "except\n",
    "\n",
    "select name, group_concat(category, \", \"), count(), group_concat(year, \", \")\n",
    "from nobel\n",
    "group by name, category\n",
    "having count()>1"
   ]
  },
  {
   "cell_type": "markdown",
   "metadata": {},
   "source": [
    "# Subqueries, Views and Common Table Expressions\n",
    "\n",
    "As we noted above, the result of a `SELECT`-statement is itself a (kind of) table, and we can use such a table inside other statements.\n",
    "\n",
    "One useful pattern is:"
   ]
  },
  {
   "cell_type": "markdown",
   "metadata": {},
   "source": [
    "~~~sql\n",
    "SELECT ...\n",
    "FROM   ...\n",
    "WHERE  ... IN\n",
    "       (SELECT ...\n",
    "        FROM ...\n",
    "        WHERE ...)\n",
    "~~~\n"
   ]
  },
  {
   "cell_type": "markdown",
   "metadata": {},
   "source": [
    "The second query is called a _subquery_.\n",
    "\n",
    "We'll use a subquery to find all literature laureates who split their prizes, we begin with a regular query:\n",
    "\n",
    "**Problem:** _Which years were the Nobel prize for literature split?_"
   ]
  },
  {
   "cell_type": "code",
   "execution_count": 90,
   "metadata": {},
   "outputs": [
    {
     "name": "stdout",
     "output_type": "stream",
     "text": [
      " * sqlite:///lect01.sqlite\n",
      "Done.\n"
     ]
    },
    {
     "data": {
      "text/html": [
       "<table>\n",
       "    <tr>\n",
       "        <th>year</th>\n",
       "    </tr>\n",
       "    <tr>\n",
       "        <td>1904</td>\n",
       "    </tr>\n",
       "    <tr>\n",
       "        <td>1917</td>\n",
       "    </tr>\n",
       "    <tr>\n",
       "        <td>1966</td>\n",
       "    </tr>\n",
       "    <tr>\n",
       "        <td>1974</td>\n",
       "    </tr>\n",
       "</table>"
      ],
      "text/plain": [
       "[(1904,), (1917,), (1966,), (1974,)]"
      ]
     },
     "execution_count": 90,
     "metadata": {},
     "output_type": "execute_result"
    }
   ],
   "source": [
    "%%sql\n",
    "SELECT    year\n",
    "FROM      nobel\n",
    "WHERE     category = 'literature'\n",
    "GROUP BY  year\n",
    "HAVING    count() > 1"
   ]
  },
  {
   "cell_type": "markdown",
   "metadata": {},
   "source": [
    "... and now we use the result of that query to find out what we're really looking for:\n",
    "\n",
    "**Problem:** _Which literature laureates split their prizes?_"
   ]
  },
  {
   "cell_type": "code",
   "execution_count": 91,
   "metadata": {},
   "outputs": [
    {
     "name": "stdout",
     "output_type": "stream",
     "text": [
      " * sqlite:///lect01.sqlite\n",
      "Done.\n"
     ]
    },
    {
     "data": {
      "text/html": [
       "<table>\n",
       "    <tr>\n",
       "        <th>year</th>\n",
       "        <th>name</th>\n",
       "    </tr>\n",
       "    <tr>\n",
       "        <td>1904</td>\n",
       "        <td>Frédéric Mistral</td>\n",
       "    </tr>\n",
       "    <tr>\n",
       "        <td>1904</td>\n",
       "        <td>José Echegaray y Eizaguirre</td>\n",
       "    </tr>\n",
       "    <tr>\n",
       "        <td>1917</td>\n",
       "        <td>Henrik Pontoppidan</td>\n",
       "    </tr>\n",
       "    <tr>\n",
       "        <td>1917</td>\n",
       "        <td>Karl Adolph Gjellerup</td>\n",
       "    </tr>\n",
       "    <tr>\n",
       "        <td>1966</td>\n",
       "        <td>Nelly Sachs</td>\n",
       "    </tr>\n",
       "    <tr>\n",
       "        <td>1966</td>\n",
       "        <td>Shmuel Yosef Agnon</td>\n",
       "    </tr>\n",
       "    <tr>\n",
       "        <td>1974</td>\n",
       "        <td>Eyvind Johnson</td>\n",
       "    </tr>\n",
       "    <tr>\n",
       "        <td>1974</td>\n",
       "        <td>Harry Martinson</td>\n",
       "    </tr>\n",
       "</table>"
      ],
      "text/plain": [
       "[(1904, 'Frédéric Mistral'),\n",
       " (1904, 'José Echegaray y Eizaguirre'),\n",
       " (1917, 'Henrik Pontoppidan'),\n",
       " (1917, 'Karl Adolph Gjellerup'),\n",
       " (1966, 'Nelly Sachs'),\n",
       " (1966, 'Shmuel Yosef Agnon'),\n",
       " (1974, 'Eyvind Johnson'),\n",
       " (1974, 'Harry Martinson')]"
      ]
     },
     "execution_count": 91,
     "metadata": {},
     "output_type": "execute_result"
    }
   ],
   "source": [
    "%%sql\n",
    "SELECT    year, name\n",
    "FROM      nobel\n",
    "WHERE     category = 'literature'\n",
    "          AND year IN (\n",
    "              SELECT    year\n",
    "              FROM      nobel\n",
    "              WHERE     category = 'literature'\n",
    "              GROUP BY  year\n",
    "              HAVING    count() > 1)"
   ]
  },
  {
   "cell_type": "markdown",
   "metadata": {},
   "source": [
    "This can be simplified by using either of two ways to define 'temporary tables':\n",
    "\n",
    "+ _Views_, and\n",
    "+ _Common Table Expressions_ (a.k.a. a CTEs, or `WITH` statements).\n",
    "\n",
    "They are the result of a `SELECT` statement, so for our problem above we could have created a view with the `CREATE VIEW` statement:"
   ]
  },
  {
   "cell_type": "code",
   "execution_count": 92,
   "metadata": {},
   "outputs": [
    {
     "name": "stdout",
     "output_type": "stream",
     "text": [
      " * sqlite:///lect01.sqlite\n",
      "Done.\n"
     ]
    },
    {
     "data": {
      "text/plain": [
       "[]"
      ]
     },
     "execution_count": 92,
     "metadata": {},
     "output_type": "execute_result"
    }
   ],
   "source": [
    "%%sql\n",
    "CREATE VIEW shared_literature_prize(year) AS\n",
    "  SELECT    year\n",
    "  FROM      nobel\n",
    "  WHERE     category = 'literature'\n",
    "  GROUP BY  year\n",
    "  HAVING    count() > 1"
   ]
  },
  {
   "cell_type": "markdown",
   "metadata": {},
   "source": [
    "We can then use this view as if it was a regular table, in:"
   ]
  },
  {
   "cell_type": "code",
   "execution_count": 93,
   "metadata": {},
   "outputs": [
    {
     "name": "stdout",
     "output_type": "stream",
     "text": [
      " * sqlite:///lect01.sqlite\n",
      "Done.\n"
     ]
    },
    {
     "data": {
      "text/html": [
       "<table>\n",
       "    <tr>\n",
       "        <th>year</th>\n",
       "        <th>name</th>\n",
       "    </tr>\n",
       "    <tr>\n",
       "        <td>1904</td>\n",
       "        <td>Frédéric Mistral</td>\n",
       "    </tr>\n",
       "    <tr>\n",
       "        <td>1904</td>\n",
       "        <td>José Echegaray y Eizaguirre</td>\n",
       "    </tr>\n",
       "    <tr>\n",
       "        <td>1917</td>\n",
       "        <td>Henrik Pontoppidan</td>\n",
       "    </tr>\n",
       "    <tr>\n",
       "        <td>1917</td>\n",
       "        <td>Karl Adolph Gjellerup</td>\n",
       "    </tr>\n",
       "    <tr>\n",
       "        <td>1966</td>\n",
       "        <td>Nelly Sachs</td>\n",
       "    </tr>\n",
       "    <tr>\n",
       "        <td>1966</td>\n",
       "        <td>Shmuel Yosef Agnon</td>\n",
       "    </tr>\n",
       "    <tr>\n",
       "        <td>1974</td>\n",
       "        <td>Eyvind Johnson</td>\n",
       "    </tr>\n",
       "    <tr>\n",
       "        <td>1974</td>\n",
       "        <td>Harry Martinson</td>\n",
       "    </tr>\n",
       "</table>"
      ],
      "text/plain": [
       "[(1904, 'Frédéric Mistral'),\n",
       " (1904, 'José Echegaray y Eizaguirre'),\n",
       " (1917, 'Henrik Pontoppidan'),\n",
       " (1917, 'Karl Adolph Gjellerup'),\n",
       " (1966, 'Nelly Sachs'),\n",
       " (1966, 'Shmuel Yosef Agnon'),\n",
       " (1974, 'Eyvind Johnson'),\n",
       " (1974, 'Harry Martinson')]"
      ]
     },
     "execution_count": 93,
     "metadata": {},
     "output_type": "execute_result"
    }
   ],
   "source": [
    "%%sql\n",
    "SELECT    year, name\n",
    "FROM      nobel\n",
    "WHERE     category = 'literature'\n",
    "          AND year IN (\n",
    "              SELECT    year\n",
    "              FROM      shared_literature_prize)"
   ]
  },
  {
   "cell_type": "markdown",
   "metadata": {},
   "source": [
    "Since `shared_literature_prize` has only one column, we can make the query even simpler (but beware that not all databases accept this simplification, and it only works in case we have exactly one column in our view):"
   ]
  },
  {
   "cell_type": "code",
   "execution_count": 94,
   "metadata": {},
   "outputs": [
    {
     "name": "stdout",
     "output_type": "stream",
     "text": [
      " * sqlite:///lect01.sqlite\n",
      "Done.\n"
     ]
    },
    {
     "data": {
      "text/html": [
       "<table>\n",
       "    <tr>\n",
       "        <th>year</th>\n",
       "        <th>name</th>\n",
       "    </tr>\n",
       "    <tr>\n",
       "        <td>1904</td>\n",
       "        <td>Frédéric Mistral</td>\n",
       "    </tr>\n",
       "    <tr>\n",
       "        <td>1904</td>\n",
       "        <td>José Echegaray y Eizaguirre</td>\n",
       "    </tr>\n",
       "    <tr>\n",
       "        <td>1917</td>\n",
       "        <td>Henrik Pontoppidan</td>\n",
       "    </tr>\n",
       "    <tr>\n",
       "        <td>1917</td>\n",
       "        <td>Karl Adolph Gjellerup</td>\n",
       "    </tr>\n",
       "    <tr>\n",
       "        <td>1966</td>\n",
       "        <td>Nelly Sachs</td>\n",
       "    </tr>\n",
       "    <tr>\n",
       "        <td>1966</td>\n",
       "        <td>Shmuel Yosef Agnon</td>\n",
       "    </tr>\n",
       "    <tr>\n",
       "        <td>1974</td>\n",
       "        <td>Eyvind Johnson</td>\n",
       "    </tr>\n",
       "    <tr>\n",
       "        <td>1974</td>\n",
       "        <td>Harry Martinson</td>\n",
       "    </tr>\n",
       "</table>"
      ],
      "text/plain": [
       "[(1904, 'Frédéric Mistral'),\n",
       " (1904, 'José Echegaray y Eizaguirre'),\n",
       " (1917, 'Henrik Pontoppidan'),\n",
       " (1917, 'Karl Adolph Gjellerup'),\n",
       " (1966, 'Nelly Sachs'),\n",
       " (1966, 'Shmuel Yosef Agnon'),\n",
       " (1974, 'Eyvind Johnson'),\n",
       " (1974, 'Harry Martinson')]"
      ]
     },
     "execution_count": 94,
     "metadata": {},
     "output_type": "execute_result"
    }
   ],
   "source": [
    "%%sql\n",
    "SELECT    year, name\n",
    "FROM      nobel\n",
    "WHERE     category = 'literature'\n",
    "          AND year IN shared_literature_prize"
   ]
  },
  {
   "cell_type": "markdown",
   "metadata": {},
   "source": [
    "A view will stay around until we explicitly drop it:"
   ]
  },
  {
   "cell_type": "code",
   "execution_count": 95,
   "metadata": {},
   "outputs": [
    {
     "name": "stdout",
     "output_type": "stream",
     "text": [
      " * sqlite:///lect01.sqlite\n",
      "Done.\n"
     ]
    },
    {
     "data": {
      "text/plain": [
       "[]"
      ]
     },
     "execution_count": 95,
     "metadata": {},
     "output_type": "execute_result"
    }
   ],
   "source": [
    "%%sql\n",
    "DROP VIEW shared_literature_prize"
   ]
  },
  {
   "cell_type": "markdown",
   "metadata": {},
   "source": [
    "Common table expressions are in many ways similar to views, but they are sometimes more convenient:\n",
    "\n",
    "+ they're defined as part of a `SELECT` statement (so there is nothing to drop afterwards),\n",
    "+ since they're part of a `SELECT` statement, we only need one statement (which will become useful when we call our database remotely, we'll return to that later in the course), and\n",
    "+ they can be defined recursively (we'll return to that later in the course).\n",
    "\n",
    "Using a CTE, the solution to the problem above becomes:"
   ]
  },
  {
   "cell_type": "code",
   "execution_count": 106,
   "metadata": {},
   "outputs": [
    {
     "name": "stdout",
     "output_type": "stream",
     "text": [
      " * sqlite:///lect01.sqlite\n",
      "Done.\n"
     ]
    },
    {
     "data": {
      "text/html": [
       "<table>\n",
       "    <tr>\n",
       "        <th>year</th>\n",
       "        <th>name</th>\n",
       "    </tr>\n",
       "    <tr>\n",
       "        <td>1904</td>\n",
       "        <td>Frédéric Mistral</td>\n",
       "    </tr>\n",
       "    <tr>\n",
       "        <td>1904</td>\n",
       "        <td>José Echegaray y Eizaguirre</td>\n",
       "    </tr>\n",
       "    <tr>\n",
       "        <td>1917</td>\n",
       "        <td>Henrik Pontoppidan</td>\n",
       "    </tr>\n",
       "    <tr>\n",
       "        <td>1917</td>\n",
       "        <td>Karl Adolph Gjellerup</td>\n",
       "    </tr>\n",
       "    <tr>\n",
       "        <td>1966</td>\n",
       "        <td>Nelly Sachs</td>\n",
       "    </tr>\n",
       "    <tr>\n",
       "        <td>1966</td>\n",
       "        <td>Shmuel Yosef Agnon</td>\n",
       "    </tr>\n",
       "    <tr>\n",
       "        <td>1974</td>\n",
       "        <td>Eyvind Johnson</td>\n",
       "    </tr>\n",
       "    <tr>\n",
       "        <td>1974</td>\n",
       "        <td>Harry Martinson</td>\n",
       "    </tr>\n",
       "</table>"
      ],
      "text/plain": [
       "[(1904, 'Frédéric Mistral'),\n",
       " (1904, 'José Echegaray y Eizaguirre'),\n",
       " (1917, 'Henrik Pontoppidan'),\n",
       " (1917, 'Karl Adolph Gjellerup'),\n",
       " (1966, 'Nelly Sachs'),\n",
       " (1966, 'Shmuel Yosef Agnon'),\n",
       " (1974, 'Eyvind Johnson'),\n",
       " (1974, 'Harry Martinson')]"
      ]
     },
     "execution_count": 106,
     "metadata": {},
     "output_type": "execute_result"
    }
   ],
   "source": [
    "%%sql\n",
    "WITH shared_literature_prize(year) AS (\n",
    "  SELECT    year\n",
    "  FROM      nobel\n",
    "  WHERE     category = 'literature'\n",
    "  GROUP BY  year\n",
    "  HAVING    count() > 1\n",
    ")\n",
    "SELECT year, name\n",
    "from nobel\n",
    "WHERE category = 'literature'\n",
    "AND year IN (\n",
    "              SELECT    year\n",
    "              FROM      shared_literature_prize)"
   ]
  },
  {
   "cell_type": "markdown",
   "metadata": {},
   "source": [
    "or just (since our CTE has only one column):"
   ]
  },
  {
   "cell_type": "code",
   "execution_count": 102,
   "metadata": {},
   "outputs": [
    {
     "name": "stdout",
     "output_type": "stream",
     "text": [
      " * sqlite:///lect01.sqlite\n",
      "Done.\n"
     ]
    },
    {
     "data": {
      "text/html": [
       "<table>\n",
       "    <tr>\n",
       "        <th>year</th>\n",
       "        <th>name</th>\n",
       "    </tr>\n",
       "    <tr>\n",
       "        <td>1904</td>\n",
       "        <td>Frédéric Mistral</td>\n",
       "    </tr>\n",
       "    <tr>\n",
       "        <td>1904</td>\n",
       "        <td>José Echegaray y Eizaguirre</td>\n",
       "    </tr>\n",
       "    <tr>\n",
       "        <td>1917</td>\n",
       "        <td>Henrik Pontoppidan</td>\n",
       "    </tr>\n",
       "    <tr>\n",
       "        <td>1917</td>\n",
       "        <td>Karl Adolph Gjellerup</td>\n",
       "    </tr>\n",
       "    <tr>\n",
       "        <td>1966</td>\n",
       "        <td>Nelly Sachs</td>\n",
       "    </tr>\n",
       "    <tr>\n",
       "        <td>1966</td>\n",
       "        <td>Shmuel Yosef Agnon</td>\n",
       "    </tr>\n",
       "    <tr>\n",
       "        <td>1974</td>\n",
       "        <td>Eyvind Johnson</td>\n",
       "    </tr>\n",
       "    <tr>\n",
       "        <td>1974</td>\n",
       "        <td>Harry Martinson</td>\n",
       "    </tr>\n",
       "</table>"
      ],
      "text/plain": [
       "[(1904, 'Frédéric Mistral'),\n",
       " (1904, 'José Echegaray y Eizaguirre'),\n",
       " (1917, 'Henrik Pontoppidan'),\n",
       " (1917, 'Karl Adolph Gjellerup'),\n",
       " (1966, 'Nelly Sachs'),\n",
       " (1966, 'Shmuel Yosef Agnon'),\n",
       " (1974, 'Eyvind Johnson'),\n",
       " (1974, 'Harry Martinson')]"
      ]
     },
     "execution_count": 102,
     "metadata": {},
     "output_type": "execute_result"
    }
   ],
   "source": [
    "%%sql\n",
    "WITH shared_literature_prize(year) AS (\n",
    "  SELECT    year\n",
    "  FROM      nobel\n",
    "  WHERE     category = 'literature'\n",
    "  GROUP BY  year\n",
    "  HAVING    count() > 1\n",
    ")\n",
    "select year, name\n",
    "from nobel\n",
    "WHERE     category = 'literature'\n",
    "          AND year IN shared_literature_prize"
   ]
  },
  {
   "cell_type": "markdown",
   "metadata": {},
   "source": [
    "**Exercise:** _Show the years and categories for recurring laureates (i.e., laureates who has won more than once) -- use a CTE to do it._"
   ]
  },
  {
   "cell_type": "code",
   "execution_count": 107,
   "metadata": {},
   "outputs": [
    {
     "name": "stdout",
     "output_type": "stream",
     "text": [
      " * sqlite:///lect01.sqlite\n",
      "Done.\n"
     ]
    },
    {
     "data": {
      "text/html": [
       "<table>\n",
       "    <tr>\n",
       "        <th>name</th>\n",
       "        <th>year</th>\n",
       "        <th>category</th>\n",
       "    </tr>\n",
       "    <tr>\n",
       "        <td>Marie Curie, née Sklodowska</td>\n",
       "        <td>1903</td>\n",
       "        <td>physics</td>\n",
       "    </tr>\n",
       "    <tr>\n",
       "        <td>Marie Curie, née Sklodowska</td>\n",
       "        <td>1911</td>\n",
       "        <td>chemistry</td>\n",
       "    </tr>\n",
       "    <tr>\n",
       "        <td>John Bardeen</td>\n",
       "        <td>1956</td>\n",
       "        <td>physics</td>\n",
       "    </tr>\n",
       "    <tr>\n",
       "        <td>Frederick Sanger</td>\n",
       "        <td>1958</td>\n",
       "        <td>chemistry</td>\n",
       "    </tr>\n",
       "    <tr>\n",
       "        <td>John Bardeen</td>\n",
       "        <td>1972</td>\n",
       "        <td>physics</td>\n",
       "    </tr>\n",
       "    <tr>\n",
       "        <td>Frederick Sanger</td>\n",
       "        <td>1980</td>\n",
       "        <td>chemistry</td>\n",
       "    </tr>\n",
       "    <tr>\n",
       "        <td>K. Barry Sharpless</td>\n",
       "        <td>2001</td>\n",
       "        <td>chemistry</td>\n",
       "    </tr>\n",
       "    <tr>\n",
       "        <td>K. Barry Sharpless</td>\n",
       "        <td>2022</td>\n",
       "        <td>chemistry</td>\n",
       "    </tr>\n",
       "</table>"
      ],
      "text/plain": [
       "[('Marie Curie, née Sklodowska', 1903, 'physics'),\n",
       " ('Marie Curie, née Sklodowska', 1911, 'chemistry'),\n",
       " ('John Bardeen', 1956, 'physics'),\n",
       " ('Frederick Sanger', 1958, 'chemistry'),\n",
       " ('John Bardeen', 1972, 'physics'),\n",
       " ('Frederick Sanger', 1980, 'chemistry'),\n",
       " ('K. Barry Sharpless', 2001, 'chemistry'),\n",
       " ('K. Barry Sharpless', 2022, 'chemistry')]"
      ]
     },
     "execution_count": 107,
     "metadata": {},
     "output_type": "execute_result"
    }
   ],
   "source": [
    "%%sql\n",
    "WITH recurrent_winners(name) AS (\n",
    "  SELECT    name\n",
    "  FROM      nobel\n",
    "  GROUP BY  name\n",
    "  HAVING    count() > 1\n",
    ")\n",
    "\n",
    "select name, year, category\n",
    "from nobel \n",
    "where name in (\n",
    "        select name \n",
    "        from recurrent_winners)"
   ]
  },
  {
   "cell_type": "markdown",
   "metadata": {},
   "source": [
    "**Exercise:** _Who has won the literature prize in a year when at least one chemistry laureate had a name beginning with 'L'?_ First try to solve this with a regular subquery, and then rewrite it using a CTE."
   ]
  },
  {
   "cell_type": "code",
   "execution_count": 115,
   "metadata": {},
   "outputs": [
    {
     "name": "stdout",
     "output_type": "stream",
     "text": [
      " * sqlite:///lect01.sqlite\n",
      "Done.\n"
     ]
    },
    {
     "data": {
      "text/html": [
       "<table>\n",
       "    <tr>\n",
       "        <th>name</th>\n",
       "        <th>category</th>\n",
       "    </tr>\n",
       "    <tr>\n",
       "        <td>Frans Eemil Sillanpää</td>\n",
       "        <td>literature</td>\n",
       "    </tr>\n",
       "    <tr>\n",
       "        <td>Ernest Miller Hemingway</td>\n",
       "        <td>literature</td>\n",
       "    </tr>\n",
       "    <tr>\n",
       "        <td>Albert Camus</td>\n",
       "        <td>literature</td>\n",
       "    </tr>\n",
       "    <tr>\n",
       "        <td>Yasunari Kawabata</td>\n",
       "        <td>literature</td>\n",
       "    </tr>\n",
       "    <tr>\n",
       "        <td>Aleksandr Isayevich Solzhenitsyn</td>\n",
       "        <td>literature</td>\n",
       "    </tr>\n",
       "</table>"
      ],
      "text/plain": [
       "[('Frans Eemil Sillanpää', 'literature'),\n",
       " ('Ernest Miller Hemingway', 'literature'),\n",
       " ('Albert Camus', 'literature'),\n",
       " ('Yasunari Kawabata', 'literature'),\n",
       " ('Aleksandr Isayevich Solzhenitsyn', 'literature')]"
      ]
     },
     "execution_count": 115,
     "metadata": {},
     "output_type": "execute_result"
    }
   ],
   "source": [
    "%%sql\n",
    "select name, category\n",
    "from nobel \n",
    "where category = 'literature' and year in (\n",
    "    SELECT    year\n",
    "    FROM      nobel\n",
    "    WHERE     (category = 'chemistry') and (substr(name,1,1) like \"L%\")\n",
    ")"
   ]
  },
  {
   "cell_type": "code",
   "execution_count": 120,
   "metadata": {},
   "outputs": [
    {
     "name": "stdout",
     "output_type": "stream",
     "text": [
      " * sqlite:///lect01.sqlite\n",
      "Done.\n"
     ]
    },
    {
     "data": {
      "text/html": [
       "<table>\n",
       "    <tr>\n",
       "        <th>name</th>\n",
       "        <th>category</th>\n",
       "    </tr>\n",
       "    <tr>\n",
       "        <td>Frans Eemil Sillanpää</td>\n",
       "        <td>literature</td>\n",
       "    </tr>\n",
       "    <tr>\n",
       "        <td>Ernest Miller Hemingway</td>\n",
       "        <td>literature</td>\n",
       "    </tr>\n",
       "    <tr>\n",
       "        <td>Albert Camus</td>\n",
       "        <td>literature</td>\n",
       "    </tr>\n",
       "    <tr>\n",
       "        <td>Yasunari Kawabata</td>\n",
       "        <td>literature</td>\n",
       "    </tr>\n",
       "    <tr>\n",
       "        <td>Aleksandr Isayevich Solzhenitsyn</td>\n",
       "        <td>literature</td>\n",
       "    </tr>\n",
       "</table>"
      ],
      "text/plain": [
       "[('Frans Eemil Sillanpää', 'literature'),\n",
       " ('Ernest Miller Hemingway', 'literature'),\n",
       " ('Albert Camus', 'literature'),\n",
       " ('Yasunari Kawabata', 'literature'),\n",
       " ('Aleksandr Isayevich Solzhenitsyn', 'literature')]"
      ]
     },
     "execution_count": 120,
     "metadata": {},
     "output_type": "execute_result"
    }
   ],
   "source": [
    "%%sql\n",
    "with chemistry_l_years(years) AS (\n",
    "    select year\n",
    "    from nobel\n",
    "    where category = 'chemistry' and name like \"L%\"\n",
    ")\n",
    "select name, category \n",
    "from nobel\n",
    "where year in chemistry_l_years and category = 'literature'"
   ]
  },
  {
   "cell_type": "markdown",
   "metadata": {},
   "source": [
    "We saw above that we can't have another `WHERE` after the `HAVING` clause:"
   ]
  },
  {
   "cell_type": "code",
   "execution_count": 121,
   "metadata": {},
   "outputs": [
    {
     "name": "stdout",
     "output_type": "stream",
     "text": [
      " * sqlite:///lect01.sqlite\n",
      "(sqlite3.OperationalError) near \"WHERE\": syntax error\n",
      "[SQL: SELECT    category, count() AS count\n",
      "FROM      nobel\n",
      "WHERE     year = 2013\n",
      "GROUP BY  category\n",
      "HAVING    count() < 3\n",
      "WHERE     count > 1        --   <-- not allowed!]\n",
      "(Background on this error at: http://sqlalche.me/e/e3q8)\n"
     ]
    }
   ],
   "source": [
    "%%sql\n",
    "SELECT    category, count() AS count\n",
    "FROM      nobel\n",
    "WHERE     year = 2013\n",
    "GROUP BY  category\n",
    "HAVING    count() < 3\n",
    "WHERE     count > 1        --   <-- not allowed!"
   ]
  },
  {
   "cell_type": "markdown",
   "metadata": {},
   "source": [
    "but we can make our 'grouping query' into a subquery, and have another `WHERE` in the outer query"
   ]
  },
  {
   "cell_type": "code",
   "execution_count": 122,
   "metadata": {},
   "outputs": [
    {
     "name": "stdout",
     "output_type": "stream",
     "text": [
      " * sqlite:///lect01.sqlite\n",
      "Done.\n"
     ]
    },
    {
     "data": {
      "text/html": [
       "<table>\n",
       "    <tr>\n",
       "        <th>category</th>\n",
       "        <th>count</th>\n",
       "    </tr>\n",
       "    <tr>\n",
       "        <td>physics</td>\n",
       "        <td>2</td>\n",
       "    </tr>\n",
       "</table>"
      ],
      "text/plain": [
       "[('physics', 2)]"
      ]
     },
     "execution_count": 122,
     "metadata": {},
     "output_type": "execute_result"
    }
   ],
   "source": [
    "%%sql\n",
    "SELECT category, count\n",
    "FROM (\n",
    "    SELECT    category, count() AS count\n",
    "    FROM      nobel\n",
    "    WHERE     year = 2013\n",
    "    GROUP BY  category\n",
    "    HAVING    count() < 3)\n",
    "WHERE count > 1"
   ]
  },
  {
   "cell_type": "markdown",
   "metadata": {},
   "source": [
    "A somewhat tidier way of expressing this is to use a `WITH`-statement:"
   ]
  },
  {
   "cell_type": "code",
   "execution_count": 123,
   "metadata": {},
   "outputs": [
    {
     "name": "stdout",
     "output_type": "stream",
     "text": [
      " * sqlite:///lect01.sqlite\n",
      "Done.\n"
     ]
    },
    {
     "data": {
      "text/html": [
       "<table>\n",
       "    <tr>\n",
       "        <th>category</th>\n",
       "        <th>count</th>\n",
       "    </tr>\n",
       "    <tr>\n",
       "        <td>physics</td>\n",
       "        <td>2</td>\n",
       "    </tr>\n",
       "</table>"
      ],
      "text/plain": [
       "[('physics', 2)]"
      ]
     },
     "execution_count": 123,
     "metadata": {},
     "output_type": "execute_result"
    }
   ],
   "source": [
    "%%sql\n",
    "WITH category_count(category, count) AS (\n",
    "    SELECT    category, count()\n",
    "    FROM      nobel\n",
    "    WHERE     year = 2013\n",
    "    GROUP BY  category\n",
    "    HAVING    count() < 3\n",
    ")\n",
    "SELECT category, count\n",
    "FROM   category_count\n",
    "WHERE  count > 1"
   ]
  },
  {
   "cell_type": "markdown",
   "metadata": {},
   "source": [
    "## Correlated subqueries\n",
    "\n",
    "Another form of subquery is:"
   ]
  },
  {
   "cell_type": "markdown",
   "metadata": {},
   "source": [
    "~~~sql\n",
    "SELECT ...,\n",
    "       (SELECT ...\n",
    "        FROM ...\n",
    "        WHERE ...)\n",
    "FROM   ...\n",
    "~~~\n"
   ]
  },
  {
   "cell_type": "markdown",
   "metadata": {},
   "source": [
    "This works if the subquery produces one result, such as when we use an aggregate function. As an example, solve the following problem:\n",
    "\n",
    "**Problem:** _List the names of all laureates who has the longest name of all laureates in their category (in case of ties, all should be listed) -- order by category._\n",
    "\n",
    "Here we can use a subquery which is 'run' for each row in\n",
    "our main query:"
   ]
  },
  {
   "cell_type": "code",
   "execution_count": 124,
   "metadata": {},
   "outputs": [
    {
     "name": "stdout",
     "output_type": "stream",
     "text": [
      " * sqlite:///lect01.sqlite\n",
      "Done.\n"
     ]
    },
    {
     "data": {
      "text/html": [
       "<table>\n",
       "    <tr>\n",
       "        <th>category</th>\n",
       "        <th>year</th>\n",
       "        <th>name</th>\n",
       "    </tr>\n",
       "    <tr>\n",
       "        <td>chemistry</td>\n",
       "        <td>1905</td>\n",
       "        <td>Johann Friedrich Wilhelm Adolf von Baeyer</td>\n",
       "    </tr>\n",
       "    <tr>\n",
       "        <td>literature</td>\n",
       "        <td>1911</td>\n",
       "        <td>Count Maurice (Mooris) Polidore Marie Bernhard Maeterlinck</td>\n",
       "    </tr>\n",
       "    <tr>\n",
       "        <td>medicine</td>\n",
       "        <td>1949</td>\n",
       "        <td>Antonio Caetano de Abreu Freire Egas Moniz</td>\n",
       "    </tr>\n",
       "    <tr>\n",
       "        <td>physics</td>\n",
       "        <td>1929</td>\n",
       "        <td>Prince Louis-Victor Pierre Raymond de Broglie</td>\n",
       "    </tr>\n",
       "</table>"
      ],
      "text/plain": [
       "[('chemistry', 1905, 'Johann Friedrich Wilhelm Adolf von Baeyer'),\n",
       " ('literature', 1911, 'Count Maurice (Mooris) Polidore Marie Bernhard Maeterlinck'),\n",
       " ('medicine', 1949, 'Antonio Caetano de Abreu Freire Egas Moniz'),\n",
       " ('physics', 1929, 'Prince Louis-Victor Pierre Raymond de Broglie')]"
      ]
     },
     "execution_count": 124,
     "metadata": {},
     "output_type": "execute_result"
    }
   ],
   "source": [
    "%%sql\n",
    "SELECT  category, year, name\n",
    "FROM    nobel AS outer_nobel\n",
    "WHERE   length(name) = (\n",
    "            SELECT max(length(name))\n",
    "            FROM   nobel\n",
    "            WHERE  category = outer_nobel.category)\n",
    "ORDER BY category"
   ]
  },
  {
   "cell_type": "markdown",
   "metadata": {},
   "source": [
    "This is called a _correlated subquery_ (since we refer to the enclosing query inside it). We use an alias to distinguish between the nobel table in the outer query and the nobel table in the subquery (it's the same table, but we 'iterate' through it separately).\n",
    "\n",
    "BTW, we could have skipped the `AS` in"
   ]
  },
  {
   "cell_type": "markdown",
   "metadata": {},
   "source": [
    "~~~sql\n",
    "...\n",
    "FROM    nobel AS outer_nobel\n",
    "...\n",
    "~~~\n"
   ]
  },
  {
   "cell_type": "markdown",
   "metadata": {},
   "source": [
    "and just written:"
   ]
  },
  {
   "cell_type": "markdown",
   "metadata": {},
   "source": [
    "~~~sql\n",
    "...\n",
    "FROM    nobel outer_nobel\n",
    "...\n",
    "~~~\n"
   ]
  },
  {
   "cell_type": "markdown",
   "metadata": {},
   "source": [
    "The general opinion is that we should use `AS`, as it makes it more obvious that we're defining an alias.\n",
    "\n",
    "\n",
    "<hr>\n",
    "\n",
    "# Material to prepare for lecture 2\n",
    "\n",
    "Some of the exercises in this section have answers right below them, try to solve the exercises yourself before looking at the answers.\n",
    "\n",
    "**Exercise:** _Write a query to find out who has shared the chemistry prize with exactly one other laureate in years when the summer olympics were held in Europe?_"
   ]
  },
  {
   "cell_type": "code",
   "execution_count": 139,
   "metadata": {},
   "outputs": [
    {
     "name": "stdout",
     "output_type": "stream",
     "text": [
      " * sqlite:///lect01.sqlite\n",
      "Done.\n"
     ]
    },
    {
     "data": {
      "text/html": [
       "<table>\n",
       "    <tr>\n",
       "        <th>name</th>\n",
       "        <th>year</th>\n",
       "        <th>category</th>\n",
       "    </tr>\n",
       "    <tr>\n",
       "        <td>Paul Sabatier</td>\n",
       "        <td>1912</td>\n",
       "        <td>chemistry</td>\n",
       "    </tr>\n",
       "    <tr>\n",
       "        <td>Victor Grignard</td>\n",
       "        <td>1912</td>\n",
       "        <td>chemistry</td>\n",
       "    </tr>\n",
       "    <tr>\n",
       "        <td>Archer John Porter Martin</td>\n",
       "        <td>1952</td>\n",
       "        <td>chemistry</td>\n",
       "    </tr>\n",
       "    <tr>\n",
       "        <td>Richard Laurence Millington Synge</td>\n",
       "        <td>1952</td>\n",
       "        <td>chemistry</td>\n",
       "    </tr>\n",
       "    <tr>\n",
       "        <td>Brian K. Kobilka</td>\n",
       "        <td>2012</td>\n",
       "        <td>chemistry</td>\n",
       "    </tr>\n",
       "    <tr>\n",
       "        <td>Robert J. Lefkowitz</td>\n",
       "        <td>2012</td>\n",
       "        <td>chemistry</td>\n",
       "    </tr>\n",
       "</table>"
      ],
      "text/plain": [
       "[('Paul Sabatier', 1912, 'chemistry'),\n",
       " ('Victor Grignard', 1912, 'chemistry'),\n",
       " ('Archer John Porter Martin', 1952, 'chemistry'),\n",
       " ('Richard Laurence Millington Synge', 1952, 'chemistry'),\n",
       " ('Brian K. Kobilka', 2012, 'chemistry'),\n",
       " ('Robert J. Lefkowitz', 2012, 'chemistry')]"
      ]
     },
     "execution_count": 139,
     "metadata": {},
     "output_type": "execute_result"
    }
   ],
   "source": [
    "%%sql\n",
    "with \n",
    "    two_chemistry(year) as (\n",
    "        select year\n",
    "        from nobel \n",
    "        where category = 'chemistry'\n",
    "        group by year\n",
    "        having count() = 2\n",
    "    ),   \n",
    "    summer_europe(year) as (\n",
    "        select year\n",
    "        from olympics\n",
    "        where season = 'summer' and continent = 'Europe'\n",
    "    )\n",
    "select name, year, category\n",
    "from nobel\n",
    "where year in summer_europe and year in two_chemistry and category = 'chemistry'"
   ]
  },
  {
   "cell_type": "markdown",
   "metadata": {},
   "source": [
    "**Answer:** I'll solve this exercise during lecture 2.\n",
    "\n",
    "\n",
    "**Exercise:** _Above we said that there is some unnecessary repetition in the olympics database, in what way?_\n",
    "\n",
    "**Answer:** It is pretty obvious that countries never change continents (or at least it would literally take _eons_ of time to do so...), so repeating the fact that France is in Europe several times ..."
   ]
  },
  {
   "cell_type": "code",
   "execution_count": 140,
   "metadata": {},
   "outputs": [
    {
     "name": "stdout",
     "output_type": "stream",
     "text": [
      " * sqlite:///lect01.sqlite\n",
      "Done.\n"
     ]
    },
    {
     "data": {
      "text/html": [
       "<table>\n",
       "    <tr>\n",
       "        <th>country</th>\n",
       "        <th>continent</th>\n",
       "        <th>season</th>\n",
       "        <th>year</th>\n",
       "        <th>city</th>\n",
       "    </tr>\n",
       "    <tr>\n",
       "        <td>France</td>\n",
       "        <td>Europe</td>\n",
       "        <td>summer</td>\n",
       "        <td>1900</td>\n",
       "        <td>Paris</td>\n",
       "    </tr>\n",
       "    <tr>\n",
       "        <td>France</td>\n",
       "        <td>Europe</td>\n",
       "        <td>summer</td>\n",
       "        <td>1924</td>\n",
       "        <td>Paris</td>\n",
       "    </tr>\n",
       "    <tr>\n",
       "        <td>France</td>\n",
       "        <td>Europe</td>\n",
       "        <td>winter</td>\n",
       "        <td>1924</td>\n",
       "        <td>Chamonix</td>\n",
       "    </tr>\n",
       "    <tr>\n",
       "        <td>France</td>\n",
       "        <td>Europe</td>\n",
       "        <td>winter</td>\n",
       "        <td>1968</td>\n",
       "        <td>Grenoble</td>\n",
       "    </tr>\n",
       "    <tr>\n",
       "        <td>France</td>\n",
       "        <td>Europe</td>\n",
       "        <td>winter</td>\n",
       "        <td>1992</td>\n",
       "        <td>Albertville</td>\n",
       "    </tr>\n",
       "</table>"
      ],
      "text/plain": [
       "[('France', 'Europe', 'summer', 1900, 'Paris'),\n",
       " ('France', 'Europe', 'summer', 1924, 'Paris'),\n",
       " ('France', 'Europe', 'winter', 1924, 'Chamonix'),\n",
       " ('France', 'Europe', 'winter', 1968, 'Grenoble'),\n",
       " ('France', 'Europe', 'winter', 1992, 'Albertville')]"
      ]
     },
     "execution_count": 140,
     "metadata": {},
     "output_type": "execute_result"
    }
   ],
   "source": [
    "%%sql\n",
    "SELECT    country, continent, season, year, city\n",
    "FROM      olympics\n",
    "WHERE     country = 'France'\n",
    "ORDER BY  year"
   ]
  },
  {
   "cell_type": "markdown",
   "metadata": {},
   "source": [
    "... is _redundant_.\n",
    "\n",
    "And this redundance not only creates unnecessary repetition (and thus wastes disk space), it also introduces a risk of failures when we want to modify our table (we'll return to that later).\n",
    "\n",
    "The 'problem' here is that we always get the same answer when we ask which continent a given country is in -- this is what we will call a _functional dependency_ when we get back to it in a few weeks time (when we talk about _normalization_).\n",
    "\n",
    "The way we're going to solve the problem is to remove the continents from the `olympics`-table, and introduce another table, a kind of 'look-up'-table, to find the continent for each country -- we're going to do exactly that during this lecture.\n",
    "\n",
    "There is another potential redundance in our `olympics` table -- every time the game has taken place in, say, Paris, it has been in France:"
   ]
  },
  {
   "cell_type": "code",
   "execution_count": 141,
   "metadata": {},
   "outputs": [
    {
     "name": "stdout",
     "output_type": "stream",
     "text": [
      " * sqlite:///lect01.sqlite\n",
      "Done.\n"
     ]
    },
    {
     "data": {
      "text/html": [
       "<table>\n",
       "    <tr>\n",
       "        <th>city</th>\n",
       "        <th>group_concat(year || &quot;: &quot; || country, &quot;, &quot;)</th>\n",
       "    </tr>\n",
       "    <tr>\n",
       "        <td>Athens</td>\n",
       "        <td>1896: Greece, 2004: Greece</td>\n",
       "    </tr>\n",
       "    <tr>\n",
       "        <td>Beijing</td>\n",
       "        <td>2022: China, 2008: China</td>\n",
       "    </tr>\n",
       "    <tr>\n",
       "        <td>Berlin</td>\n",
       "        <td>1916: Germany, 1936: Germany</td>\n",
       "    </tr>\n",
       "    <tr>\n",
       "        <td>Innsbruck</td>\n",
       "        <td>1964: Austria, 1976: Austria</td>\n",
       "    </tr>\n",
       "    <tr>\n",
       "        <td>Lake Placid</td>\n",
       "        <td>1932: United States, 1980: United States</td>\n",
       "    </tr>\n",
       "    <tr>\n",
       "        <td>London</td>\n",
       "        <td>1908: United Kingdom, 1948: United Kingdom, 2012: United Kingdom</td>\n",
       "    </tr>\n",
       "    <tr>\n",
       "        <td>Los Angeles</td>\n",
       "        <td>1932: United States, 1984: United States</td>\n",
       "    </tr>\n",
       "    <tr>\n",
       "        <td>Paris</td>\n",
       "        <td>1900: France, 1924: France</td>\n",
       "    </tr>\n",
       "    <tr>\n",
       "        <td>St. Moritz</td>\n",
       "        <td>1928: Switzerland, 1948:  Switzerland</td>\n",
       "    </tr>\n",
       "    <tr>\n",
       "        <td>Tokyo</td>\n",
       "        <td>1964: Japan, 2020: Japan</td>\n",
       "    </tr>\n",
       "</table>"
      ],
      "text/plain": [
       "[('Athens', '1896: Greece, 2004: Greece'),\n",
       " ('Beijing', '2022: China, 2008: China'),\n",
       " ('Berlin', '1916: Germany, 1936: Germany'),\n",
       " ('Innsbruck', '1964: Austria, 1976: Austria'),\n",
       " ('Lake Placid', '1932: United States, 1980: United States'),\n",
       " ('London', '1908: United Kingdom, 1948: United Kingdom, 2012: United Kingdom'),\n",
       " ('Los Angeles', '1932: United States, 1984: United States'),\n",
       " ('Paris', '1900: France, 1924: France'),\n",
       " ('St. Moritz', '1928: Switzerland, 1948:  Switzerland'),\n",
       " ('Tokyo', '1964: Japan, 2020: Japan')]"
      ]
     },
     "execution_count": 141,
     "metadata": {},
     "output_type": "execute_result"
    }
   ],
   "source": [
    "%%sql\n",
    "SELECT    city, group_concat(year || \": \" || country, \", \")\n",
    "FROM      olympics\n",
    "GROUP BY  city\n",
    "HAVING    count() > 1\n",
    "ORDER BY  city"
   ]
  },
  {
   "cell_type": "markdown",
   "metadata": {},
   "source": [
    "So, it does look as if we could extract the countries as well, and put them into a seperate 'look-up'-table, but if Sarajevo were to hold the olympics in the future, it wouldn't be in Yugoslavia anymore, and Moscow is no longer in the Soviet Union, so just extracting the countries as we did with continents above would not work. There is a kind of database called _temporal databases_, which is designed to handle cases such as this, but we'll only briefly touch upon them in this course.\n",
    "\n",
    "And there is another, more fundamental reason for keeping both name and country: the names of cities aren't globally unique, there is a Paris in Texas, and a Moscow in Kansas, so the country helps us identify the cities uniquely (a _key_ is something which lets us identify values uniquely, we'll discuss keys next week, and then in week 4, when we give a more formal definition of the concept).\n",
    "\n",
    "\n",
    "**Exercise:** _How could we add information about birth dates, and birth cities to our Nobel laureates?_\n",
    "\n",
    "**Answer:** Since each laureate has one birth date, and one birth city, we can just add two more columns, `birth_date` and `birth_city` to our `nobel` table.\n",
    "\n",
    "\n",
    "**Exercise:** _How could we add information about academic affiliations for the Nobel laureates?_ Some of the laureates have many affiliations, and some have none -- and observe that the 'cells' of our table must only contain simple values, so no lists or objects. Don't spend to much time to come up with a solution for this -- we haven't yet discussed the mechanism we're going to use to solve it -- but it's a good thing if you can see the limitations of what we've seen so far.\n",
    "\n",
    "**Answer:** SQL allows us to use the value `NULL` when a value is missing, so for laureates without any affiliation, we can just use `NULL` (although doing it is somewhat controversial, and we can define our tables in a way which prohibits it -- more about that later).\n",
    "\n",
    "But handling laureates with several affiliations is more difficult. One very primitive way of doing it, would be to add several columns: `affiliation_1`, `affiliation_2`, ..., but it's not only ugly, it only works if we limit the number of affiliations to a fixed number.\n",
    "\n",
    "It turns out we can solve this problem in a manner similar to how we handled continents above: we can add another table (a 'look-up'-table), but this time the look-up table would have all affiliations for each laureate, so it could have several rows for each laureate.\n",
    "\n",
    "<hr>\n",
    "\n",
    "# Redundancy, and the case for splitting up tables\n",
    "\n",
    "The term [redundancy](https://en.wikipedia.org/wiki/Redundancy_(linguistics)) can be defined in many contexts, in general it refers to information which is expressed more than once. It is sometimes desirable (the human body has an enormous amount of redundancy, that's what enable our bodies to self-heal), and many systems use redundancies for checks (the penultimate digit in your social security number is an example).\n",
    "\n",
    "But for databases, redundancy is often a source of confusion and errors.\n",
    "So, in this course, we'll generally try to avoid redundancies when we design our databases, and we're going to see two completely different way of doing it:\n",
    "\n",
    "+ proper _ER-modeling_ (next week), and\n",
    "+ _normalization_ (week 4).\n",
    "\n",
    "Our original table of Olympic Games looks like this:"
   ]
  },
  {
   "cell_type": "code",
   "execution_count": 143,
   "metadata": {},
   "outputs": [
    {
     "name": "stdout",
     "output_type": "stream",
     "text": [
      " * sqlite:///lect01.sqlite\n",
      "Done.\n"
     ]
    },
    {
     "data": {
      "text/html": [
       "<table>\n",
       "    <tr>\n",
       "        <th>year</th>\n",
       "        <th>city</th>\n",
       "        <th>country</th>\n",
       "        <th>continent</th>\n",
       "        <th>season</th>\n",
       "        <th>ordinal_number</th>\n",
       "    </tr>\n",
       "    <tr>\n",
       "        <td>1924</td>\n",
       "        <td>Chamonix</td>\n",
       "        <td>France</td>\n",
       "        <td>Europe</td>\n",
       "        <td>winter</td>\n",
       "        <td>I</td>\n",
       "    </tr>\n",
       "    <tr>\n",
       "        <td>1928</td>\n",
       "        <td>St. Moritz</td>\n",
       "        <td>Switzerland</td>\n",
       "        <td>Europe</td>\n",
       "        <td>winter</td>\n",
       "        <td>II</td>\n",
       "    </tr>\n",
       "    <tr>\n",
       "        <td>1932</td>\n",
       "        <td>Lake Placid</td>\n",
       "        <td>United States</td>\n",
       "        <td>North America</td>\n",
       "        <td>winter</td>\n",
       "        <td>III</td>\n",
       "    </tr>\n",
       "    <tr>\n",
       "        <td>1936</td>\n",
       "        <td>Garmisch-Partenkirchen</td>\n",
       "        <td>Germany</td>\n",
       "        <td>Europe</td>\n",
       "        <td>winter</td>\n",
       "        <td>IV</td>\n",
       "    </tr>\n",
       "    <tr>\n",
       "        <td>1948</td>\n",
       "        <td>St. Moritz</td>\n",
       "        <td> Switzerland</td>\n",
       "        <td>Europe</td>\n",
       "        <td>winter</td>\n",
       "        <td>V</td>\n",
       "    </tr>\n",
       "    <tr>\n",
       "        <td>1952</td>\n",
       "        <td>Oslo</td>\n",
       "        <td>Norway</td>\n",
       "        <td>Europe</td>\n",
       "        <td>winter</td>\n",
       "        <td>VI</td>\n",
       "    </tr>\n",
       "    <tr>\n",
       "        <td>1956</td>\n",
       "        <td>Cortina d&#x27;Ampezzo</td>\n",
       "        <td>Italy</td>\n",
       "        <td>Europe</td>\n",
       "        <td>winter</td>\n",
       "        <td>VII</td>\n",
       "    </tr>\n",
       "    <tr>\n",
       "        <td>1960</td>\n",
       "        <td>Squaw Valley</td>\n",
       "        <td>United States</td>\n",
       "        <td>North America</td>\n",
       "        <td>winter</td>\n",
       "        <td>VIII</td>\n",
       "    </tr>\n",
       "    <tr>\n",
       "        <td>1964</td>\n",
       "        <td>Innsbruck</td>\n",
       "        <td>Austria</td>\n",
       "        <td>Europe</td>\n",
       "        <td>winter</td>\n",
       "        <td>IX</td>\n",
       "    </tr>\n",
       "    <tr>\n",
       "        <td>1968</td>\n",
       "        <td>Grenoble</td>\n",
       "        <td>France</td>\n",
       "        <td>Europe</td>\n",
       "        <td>winter</td>\n",
       "        <td>X</td>\n",
       "    </tr>\n",
       "</table>"
      ],
      "text/plain": [
       "[(1924, 'Chamonix', 'France', 'Europe', 'winter', 'I'),\n",
       " (1928, 'St. Moritz', 'Switzerland', 'Europe', 'winter', 'II'),\n",
       " (1932, 'Lake Placid', 'United States', 'North America', 'winter', 'III'),\n",
       " (1936, 'Garmisch-Partenkirchen', 'Germany', 'Europe', 'winter', 'IV'),\n",
       " (1948, 'St. Moritz', ' Switzerland', 'Europe', 'winter', 'V'),\n",
       " (1952, 'Oslo', 'Norway', 'Europe', 'winter', 'VI'),\n",
       " (1956, \"Cortina d'Ampezzo\", 'Italy', 'Europe', 'winter', 'VII'),\n",
       " (1960, 'Squaw Valley', 'United States', 'North America', 'winter', 'VIII'),\n",
       " (1964, 'Innsbruck', 'Austria', 'Europe', 'winter', 'IX'),\n",
       " (1968, 'Grenoble', 'France', 'Europe', 'winter', 'X')]"
      ]
     },
     "execution_count": 143,
     "metadata": {},
     "output_type": "execute_result"
    }
   ],
   "source": [
    "%%sql\n",
    "SELECT *\n",
    "FROM   olympics\n",
    "limit 10"
   ]
  },
  {
   "cell_type": "markdown",
   "metadata": {},
   "source": [
    "We can use SQL to create a much better version of our olympic database with the following lines:"
   ]
  },
  {
   "cell_type": "code",
   "execution_count": 144,
   "metadata": {},
   "outputs": [
    {
     "name": "stdout",
     "output_type": "stream",
     "text": [
      " * sqlite:///lect01.sqlite\n",
      "Done.\n",
      "Done.\n",
      "26 rows affected.\n",
      "Done.\n",
      "Done.\n",
      "54 rows affected.\n",
      "Done.\n",
      "Done.\n"
     ]
    },
    {
     "data": {
      "text/html": [
       "<table>\n",
       "    <tr>\n",
       "        <th>1</th>\n",
       "    </tr>\n",
       "</table>"
      ],
      "text/plain": [
       "[]"
      ]
     },
     "execution_count": 144,
     "metadata": {},
     "output_type": "execute_result"
    }
   ],
   "source": [
    "%%sql\n",
    "DROP TABLE IF EXISTS continents;\n",
    "CREATE TABLE continents (\n",
    "  country   TEXT,\n",
    "  continent TEXT NOT NULL,\n",
    "  PRIMARY KEY (country)\n",
    ");\n",
    "\n",
    "INSERT OR IGNORE\n",
    "INTO   continents(country, continent)\n",
    "SELECT country, continent\n",
    "FROM   olympics;\n",
    "\n",
    "DROP TABLE IF EXISTS better_olympics;\n",
    "CREATE TABLE  better_olympics (\n",
    "  year            INT,\n",
    "  city            TEXT,\n",
    "  country         TEXT,\n",
    "  season          TEXT,\n",
    "  ordinal_number  TEXT,\n",
    "  PRIMARY KEY (year, season)\n",
    ");\n",
    "\n",
    "INSERT\n",
    "INTO   better_olympics(year, city, country, season, ordinal_number)\n",
    "SELECT year, city, country, season, ordinal_number\n",
    "FROM   olympics;\n",
    "\n",
    "ALTER TABLE olympics\n",
    "RENAME TO   redundant_olympics;\n",
    "ALTER TABLE better_olympics\n",
    "RENAME TO   olympics;"
   ]
  },
  {
   "cell_type": "markdown",
   "metadata": {},
   "source": [
    "Now we don't have to enter the continent the next time Athens, Paris or London is awarded the games.\n",
    "\n",
    "Our two tables look like this:"
   ]
  },
  {
   "cell_type": "code",
   "execution_count": 145,
   "metadata": {},
   "outputs": [
    {
     "name": "stdout",
     "output_type": "stream",
     "text": [
      " * sqlite:///lect01.sqlite\n",
      "Done.\n"
     ]
    },
    {
     "data": {
      "text/html": [
       "<table>\n",
       "    <tr>\n",
       "        <th>year</th>\n",
       "        <th>city</th>\n",
       "        <th>country</th>\n",
       "        <th>season</th>\n",
       "        <th>ordinal_number</th>\n",
       "    </tr>\n",
       "    <tr>\n",
       "        <td>1924</td>\n",
       "        <td>Chamonix</td>\n",
       "        <td>France</td>\n",
       "        <td>winter</td>\n",
       "        <td>I</td>\n",
       "    </tr>\n",
       "    <tr>\n",
       "        <td>1928</td>\n",
       "        <td>St. Moritz</td>\n",
       "        <td>Switzerland</td>\n",
       "        <td>winter</td>\n",
       "        <td>II</td>\n",
       "    </tr>\n",
       "    <tr>\n",
       "        <td>1932</td>\n",
       "        <td>Lake Placid</td>\n",
       "        <td>United States</td>\n",
       "        <td>winter</td>\n",
       "        <td>III</td>\n",
       "    </tr>\n",
       "    <tr>\n",
       "        <td>1936</td>\n",
       "        <td>Garmisch-Partenkirchen</td>\n",
       "        <td>Germany</td>\n",
       "        <td>winter</td>\n",
       "        <td>IV</td>\n",
       "    </tr>\n",
       "    <tr>\n",
       "        <td>1948</td>\n",
       "        <td>St. Moritz</td>\n",
       "        <td> Switzerland</td>\n",
       "        <td>winter</td>\n",
       "        <td>V</td>\n",
       "    </tr>\n",
       "    <tr>\n",
       "        <td>1952</td>\n",
       "        <td>Oslo</td>\n",
       "        <td>Norway</td>\n",
       "        <td>winter</td>\n",
       "        <td>VI</td>\n",
       "    </tr>\n",
       "    <tr>\n",
       "        <td>1956</td>\n",
       "        <td>Cortina d&#x27;Ampezzo</td>\n",
       "        <td>Italy</td>\n",
       "        <td>winter</td>\n",
       "        <td>VII</td>\n",
       "    </tr>\n",
       "    <tr>\n",
       "        <td>1960</td>\n",
       "        <td>Squaw Valley</td>\n",
       "        <td>United States</td>\n",
       "        <td>winter</td>\n",
       "        <td>VIII</td>\n",
       "    </tr>\n",
       "    <tr>\n",
       "        <td>1964</td>\n",
       "        <td>Innsbruck</td>\n",
       "        <td>Austria</td>\n",
       "        <td>winter</td>\n",
       "        <td>IX</td>\n",
       "    </tr>\n",
       "    <tr>\n",
       "        <td>1968</td>\n",
       "        <td>Grenoble</td>\n",
       "        <td>France</td>\n",
       "        <td>winter</td>\n",
       "        <td>X</td>\n",
       "    </tr>\n",
       "    <tr>\n",
       "        <td>1972</td>\n",
       "        <td>Sapporo</td>\n",
       "        <td>Japan</td>\n",
       "        <td>winter</td>\n",
       "        <td>XI</td>\n",
       "    </tr>\n",
       "    <tr>\n",
       "        <td>1976</td>\n",
       "        <td>Innsbruck</td>\n",
       "        <td>Austria</td>\n",
       "        <td>winter</td>\n",
       "        <td>XII</td>\n",
       "    </tr>\n",
       "    <tr>\n",
       "        <td>1980</td>\n",
       "        <td>Lake Placid</td>\n",
       "        <td>United States</td>\n",
       "        <td>winter</td>\n",
       "        <td>XIII</td>\n",
       "    </tr>\n",
       "    <tr>\n",
       "        <td>1984</td>\n",
       "        <td>Sarajevo</td>\n",
       "        <td>Yugoslavia</td>\n",
       "        <td>winter</td>\n",
       "        <td>XIV</td>\n",
       "    </tr>\n",
       "    <tr>\n",
       "        <td>1988</td>\n",
       "        <td>Calgary</td>\n",
       "        <td>Canada</td>\n",
       "        <td>winter</td>\n",
       "        <td>XV</td>\n",
       "    </tr>\n",
       "    <tr>\n",
       "        <td>1992</td>\n",
       "        <td>Albertville</td>\n",
       "        <td>France</td>\n",
       "        <td>winter</td>\n",
       "        <td>XVI</td>\n",
       "    </tr>\n",
       "    <tr>\n",
       "        <td>1994</td>\n",
       "        <td>Lillehammer</td>\n",
       "        <td>Norway</td>\n",
       "        <td>winter</td>\n",
       "        <td>XVII</td>\n",
       "    </tr>\n",
       "    <tr>\n",
       "        <td>1998</td>\n",
       "        <td>Nagano</td>\n",
       "        <td>Japan</td>\n",
       "        <td>winter</td>\n",
       "        <td>XVIII</td>\n",
       "    </tr>\n",
       "    <tr>\n",
       "        <td>2002</td>\n",
       "        <td>Salt Lake City</td>\n",
       "        <td>United States</td>\n",
       "        <td>winter</td>\n",
       "        <td>XIX</td>\n",
       "    </tr>\n",
       "    <tr>\n",
       "        <td>2006</td>\n",
       "        <td>Turin</td>\n",
       "        <td>Italy</td>\n",
       "        <td>winter</td>\n",
       "        <td>XX</td>\n",
       "    </tr>\n",
       "    <tr>\n",
       "        <td>2010</td>\n",
       "        <td>Vancouver</td>\n",
       "        <td>Canada</td>\n",
       "        <td>winter</td>\n",
       "        <td>XXI</td>\n",
       "    </tr>\n",
       "    <tr>\n",
       "        <td>2014</td>\n",
       "        <td>Sochi</td>\n",
       "        <td>Russia</td>\n",
       "        <td>winter</td>\n",
       "        <td>XXII</td>\n",
       "    </tr>\n",
       "    <tr>\n",
       "        <td>2018</td>\n",
       "        <td>Pyeongchang</td>\n",
       "        <td>South Korea</td>\n",
       "        <td>winter</td>\n",
       "        <td>XXIII</td>\n",
       "    </tr>\n",
       "    <tr>\n",
       "        <td>2022</td>\n",
       "        <td>Beijing</td>\n",
       "        <td>China</td>\n",
       "        <td>winter</td>\n",
       "        <td>XXIV</td>\n",
       "    </tr>\n",
       "    <tr>\n",
       "        <td>1896</td>\n",
       "        <td>Athens</td>\n",
       "        <td>Greece</td>\n",
       "        <td>summer</td>\n",
       "        <td>I</td>\n",
       "    </tr>\n",
       "    <tr>\n",
       "        <td>1900</td>\n",
       "        <td>Paris</td>\n",
       "        <td>France</td>\n",
       "        <td>summer</td>\n",
       "        <td>II</td>\n",
       "    </tr>\n",
       "    <tr>\n",
       "        <td>1904</td>\n",
       "        <td>St. Louis</td>\n",
       "        <td>United States</td>\n",
       "        <td>summer</td>\n",
       "        <td>III</td>\n",
       "    </tr>\n",
       "    <tr>\n",
       "        <td>1908</td>\n",
       "        <td>London</td>\n",
       "        <td>United Kingdom</td>\n",
       "        <td>summer</td>\n",
       "        <td>IV</td>\n",
       "    </tr>\n",
       "    <tr>\n",
       "        <td>1912</td>\n",
       "        <td>Stockholm</td>\n",
       "        <td>Sweden</td>\n",
       "        <td>summer</td>\n",
       "        <td>V</td>\n",
       "    </tr>\n",
       "    <tr>\n",
       "        <td>1916</td>\n",
       "        <td>Berlin</td>\n",
       "        <td>Germany</td>\n",
       "        <td>summer</td>\n",
       "        <td>VI</td>\n",
       "    </tr>\n",
       "    <tr>\n",
       "        <td>1920</td>\n",
       "        <td>Antwerp</td>\n",
       "        <td>Belgium</td>\n",
       "        <td>summer</td>\n",
       "        <td>VII</td>\n",
       "    </tr>\n",
       "    <tr>\n",
       "        <td>1924</td>\n",
       "        <td>Paris</td>\n",
       "        <td>France</td>\n",
       "        <td>summer</td>\n",
       "        <td>VIII</td>\n",
       "    </tr>\n",
       "    <tr>\n",
       "        <td>1928</td>\n",
       "        <td>Amsterdam</td>\n",
       "        <td>Netherlands</td>\n",
       "        <td>summer</td>\n",
       "        <td>IX</td>\n",
       "    </tr>\n",
       "    <tr>\n",
       "        <td>1932</td>\n",
       "        <td>Los Angeles</td>\n",
       "        <td>United States</td>\n",
       "        <td>summer</td>\n",
       "        <td>X</td>\n",
       "    </tr>\n",
       "    <tr>\n",
       "        <td>1936</td>\n",
       "        <td>Berlin</td>\n",
       "        <td>Germany</td>\n",
       "        <td>summer</td>\n",
       "        <td>XI</td>\n",
       "    </tr>\n",
       "    <tr>\n",
       "        <td>1948</td>\n",
       "        <td>London</td>\n",
       "        <td>United Kingdom</td>\n",
       "        <td>summer</td>\n",
       "        <td>XIV</td>\n",
       "    </tr>\n",
       "    <tr>\n",
       "        <td>1952</td>\n",
       "        <td>Helsinki</td>\n",
       "        <td>Finland</td>\n",
       "        <td>summer</td>\n",
       "        <td>XV</td>\n",
       "    </tr>\n",
       "    <tr>\n",
       "        <td>1956</td>\n",
       "        <td>Melbourne</td>\n",
       "        <td>Australia</td>\n",
       "        <td>summer</td>\n",
       "        <td>XVII</td>\n",
       "    </tr>\n",
       "    <tr>\n",
       "        <td>1960</td>\n",
       "        <td>Rome</td>\n",
       "        <td>Italy</td>\n",
       "        <td>summer</td>\n",
       "        <td>XVII</td>\n",
       "    </tr>\n",
       "    <tr>\n",
       "        <td>1964</td>\n",
       "        <td>Tokyo</td>\n",
       "        <td>Japan</td>\n",
       "        <td>summer</td>\n",
       "        <td>XVIII</td>\n",
       "    </tr>\n",
       "    <tr>\n",
       "        <td>1968</td>\n",
       "        <td>Mexico City</td>\n",
       "        <td>Mexico</td>\n",
       "        <td>summer</td>\n",
       "        <td>XIX</td>\n",
       "    </tr>\n",
       "    <tr>\n",
       "        <td>1972</td>\n",
       "        <td>Munich</td>\n",
       "        <td>West Germany</td>\n",
       "        <td>summer</td>\n",
       "        <td>XX</td>\n",
       "    </tr>\n",
       "    <tr>\n",
       "        <td>1976</td>\n",
       "        <td>Montreal</td>\n",
       "        <td>Canada</td>\n",
       "        <td>summer</td>\n",
       "        <td>XXI</td>\n",
       "    </tr>\n",
       "    <tr>\n",
       "        <td>1980</td>\n",
       "        <td>Moscow</td>\n",
       "        <td>Soviet Union</td>\n",
       "        <td>summer</td>\n",
       "        <td>XXII</td>\n",
       "    </tr>\n",
       "    <tr>\n",
       "        <td>1984</td>\n",
       "        <td>Los Angeles</td>\n",
       "        <td>United States</td>\n",
       "        <td>summer</td>\n",
       "        <td>XXIII</td>\n",
       "    </tr>\n",
       "    <tr>\n",
       "        <td>1988</td>\n",
       "        <td>Seoul</td>\n",
       "        <td>South Korea</td>\n",
       "        <td>summer</td>\n",
       "        <td>XXIV</td>\n",
       "    </tr>\n",
       "    <tr>\n",
       "        <td>1992</td>\n",
       "        <td>Barcelona</td>\n",
       "        <td>Spain</td>\n",
       "        <td>summer</td>\n",
       "        <td>XXV</td>\n",
       "    </tr>\n",
       "    <tr>\n",
       "        <td>1996</td>\n",
       "        <td>Atlanta</td>\n",
       "        <td>United States</td>\n",
       "        <td>summer</td>\n",
       "        <td>XXVI</td>\n",
       "    </tr>\n",
       "    <tr>\n",
       "        <td>2000</td>\n",
       "        <td>Sydney</td>\n",
       "        <td>Australia</td>\n",
       "        <td>summer</td>\n",
       "        <td>XXVII</td>\n",
       "    </tr>\n",
       "    <tr>\n",
       "        <td>2004</td>\n",
       "        <td>Athens</td>\n",
       "        <td>Greece</td>\n",
       "        <td>summer</td>\n",
       "        <td>XXVIII</td>\n",
       "    </tr>\n",
       "    <tr>\n",
       "        <td>2008</td>\n",
       "        <td>Beijing</td>\n",
       "        <td>China</td>\n",
       "        <td>summer</td>\n",
       "        <td>XXIX</td>\n",
       "    </tr>\n",
       "    <tr>\n",
       "        <td>2012</td>\n",
       "        <td>London</td>\n",
       "        <td>United Kingdom</td>\n",
       "        <td>summer</td>\n",
       "        <td>XXX</td>\n",
       "    </tr>\n",
       "    <tr>\n",
       "        <td>2016</td>\n",
       "        <td>Rio de Janeiro</td>\n",
       "        <td>Brazil</td>\n",
       "        <td>summer</td>\n",
       "        <td>XXXI</td>\n",
       "    </tr>\n",
       "    <tr>\n",
       "        <td>2020</td>\n",
       "        <td>Tokyo</td>\n",
       "        <td>Japan</td>\n",
       "        <td>summer</td>\n",
       "        <td>XXXII</td>\n",
       "    </tr>\n",
       "</table>"
      ],
      "text/plain": [
       "[(1924, 'Chamonix', 'France', 'winter', 'I'),\n",
       " (1928, 'St. Moritz', 'Switzerland', 'winter', 'II'),\n",
       " (1932, 'Lake Placid', 'United States', 'winter', 'III'),\n",
       " (1936, 'Garmisch-Partenkirchen', 'Germany', 'winter', 'IV'),\n",
       " (1948, 'St. Moritz', ' Switzerland', 'winter', 'V'),\n",
       " (1952, 'Oslo', 'Norway', 'winter', 'VI'),\n",
       " (1956, \"Cortina d'Ampezzo\", 'Italy', 'winter', 'VII'),\n",
       " (1960, 'Squaw Valley', 'United States', 'winter', 'VIII'),\n",
       " (1964, 'Innsbruck', 'Austria', 'winter', 'IX'),\n",
       " (1968, 'Grenoble', 'France', 'winter', 'X'),\n",
       " (1972, 'Sapporo', 'Japan', 'winter', 'XI'),\n",
       " (1976, 'Innsbruck', 'Austria', 'winter', 'XII'),\n",
       " (1980, 'Lake Placid', 'United States', 'winter', 'XIII'),\n",
       " (1984, 'Sarajevo', 'Yugoslavia', 'winter', 'XIV'),\n",
       " (1988, 'Calgary', 'Canada', 'winter', 'XV'),\n",
       " (1992, 'Albertville', 'France', 'winter', 'XVI'),\n",
       " (1994, 'Lillehammer', 'Norway', 'winter', 'XVII'),\n",
       " (1998, 'Nagano', 'Japan', 'winter', 'XVIII'),\n",
       " (2002, 'Salt Lake City', 'United States', 'winter', 'XIX'),\n",
       " (2006, 'Turin', 'Italy', 'winter', 'XX'),\n",
       " (2010, 'Vancouver', 'Canada', 'winter', 'XXI'),\n",
       " (2014, 'Sochi', 'Russia', 'winter', 'XXII'),\n",
       " (2018, 'Pyeongchang', 'South Korea', 'winter', 'XXIII'),\n",
       " (2022, 'Beijing', 'China', 'winter', 'XXIV'),\n",
       " (1896, 'Athens', 'Greece', 'summer', 'I'),\n",
       " (1900, 'Paris', 'France', 'summer', 'II'),\n",
       " (1904, 'St. Louis', 'United States', 'summer', 'III'),\n",
       " (1908, 'London', 'United Kingdom', 'summer', 'IV'),\n",
       " (1912, 'Stockholm', 'Sweden', 'summer', 'V'),\n",
       " (1916, 'Berlin', 'Germany', 'summer', 'VI'),\n",
       " (1920, 'Antwerp', 'Belgium', 'summer', 'VII'),\n",
       " (1924, 'Paris', 'France', 'summer', 'VIII'),\n",
       " (1928, 'Amsterdam', 'Netherlands', 'summer', 'IX'),\n",
       " (1932, 'Los Angeles', 'United States', 'summer', 'X'),\n",
       " (1936, 'Berlin', 'Germany', 'summer', 'XI'),\n",
       " (1948, 'London', 'United Kingdom', 'summer', 'XIV'),\n",
       " (1952, 'Helsinki', 'Finland', 'summer', 'XV'),\n",
       " (1956, 'Melbourne', 'Australia', 'summer', 'XVII'),\n",
       " (1960, 'Rome', 'Italy', 'summer', 'XVII'),\n",
       " (1964, 'Tokyo', 'Japan', 'summer', 'XVIII'),\n",
       " (1968, 'Mexico City', 'Mexico', 'summer', 'XIX'),\n",
       " (1972, 'Munich', 'West Germany', 'summer', 'XX'),\n",
       " (1976, 'Montreal', 'Canada', 'summer', 'XXI'),\n",
       " (1980, 'Moscow', 'Soviet Union', 'summer', 'XXII'),\n",
       " (1984, 'Los Angeles', 'United States', 'summer', 'XXIII'),\n",
       " (1988, 'Seoul', 'South Korea', 'summer', 'XXIV'),\n",
       " (1992, 'Barcelona', 'Spain', 'summer', 'XXV'),\n",
       " (1996, 'Atlanta', 'United States', 'summer', 'XXVI'),\n",
       " (2000, 'Sydney', 'Australia', 'summer', 'XXVII'),\n",
       " (2004, 'Athens', 'Greece', 'summer', 'XXVIII'),\n",
       " (2008, 'Beijing', 'China', 'summer', 'XXIX'),\n",
       " (2012, 'London', 'United Kingdom', 'summer', 'XXX'),\n",
       " (2016, 'Rio de Janeiro', 'Brazil', 'summer', 'XXXI'),\n",
       " (2020, 'Tokyo', 'Japan', 'summer', 'XXXII')]"
      ]
     },
     "execution_count": 145,
     "metadata": {},
     "output_type": "execute_result"
    }
   ],
   "source": [
    "%%sql\n",
    "SELECT *\n",
    "FROM   olympics;"
   ]
  },
  {
   "cell_type": "code",
   "execution_count": 146,
   "metadata": {},
   "outputs": [
    {
     "name": "stdout",
     "output_type": "stream",
     "text": [
      " * sqlite:///lect01.sqlite\n",
      "Done.\n"
     ]
    },
    {
     "data": {
      "text/html": [
       "<table>\n",
       "    <tr>\n",
       "        <th>country</th>\n",
       "        <th>continent</th>\n",
       "    </tr>\n",
       "    <tr>\n",
       "        <td>France</td>\n",
       "        <td>Europe</td>\n",
       "    </tr>\n",
       "    <tr>\n",
       "        <td>Switzerland</td>\n",
       "        <td>Europe</td>\n",
       "    </tr>\n",
       "    <tr>\n",
       "        <td>United States</td>\n",
       "        <td>North America</td>\n",
       "    </tr>\n",
       "    <tr>\n",
       "        <td>Germany</td>\n",
       "        <td>Europe</td>\n",
       "    </tr>\n",
       "    <tr>\n",
       "        <td> Switzerland</td>\n",
       "        <td>Europe</td>\n",
       "    </tr>\n",
       "    <tr>\n",
       "        <td>Norway</td>\n",
       "        <td>Europe</td>\n",
       "    </tr>\n",
       "    <tr>\n",
       "        <td>Italy</td>\n",
       "        <td>Europe</td>\n",
       "    </tr>\n",
       "    <tr>\n",
       "        <td>Austria</td>\n",
       "        <td>Europe</td>\n",
       "    </tr>\n",
       "    <tr>\n",
       "        <td>Japan</td>\n",
       "        <td>Asia</td>\n",
       "    </tr>\n",
       "    <tr>\n",
       "        <td>Yugoslavia</td>\n",
       "        <td>Europe</td>\n",
       "    </tr>\n",
       "    <tr>\n",
       "        <td>Canada</td>\n",
       "        <td>North America</td>\n",
       "    </tr>\n",
       "    <tr>\n",
       "        <td>Russia</td>\n",
       "        <td>Europe</td>\n",
       "    </tr>\n",
       "    <tr>\n",
       "        <td>South Korea</td>\n",
       "        <td>Asia</td>\n",
       "    </tr>\n",
       "    <tr>\n",
       "        <td>China</td>\n",
       "        <td>Asia</td>\n",
       "    </tr>\n",
       "    <tr>\n",
       "        <td>Greece</td>\n",
       "        <td>Europe</td>\n",
       "    </tr>\n",
       "    <tr>\n",
       "        <td>United Kingdom</td>\n",
       "        <td>Europe</td>\n",
       "    </tr>\n",
       "    <tr>\n",
       "        <td>Sweden</td>\n",
       "        <td>Europe</td>\n",
       "    </tr>\n",
       "    <tr>\n",
       "        <td>Belgium</td>\n",
       "        <td>Europe</td>\n",
       "    </tr>\n",
       "    <tr>\n",
       "        <td>Netherlands</td>\n",
       "        <td>Europe</td>\n",
       "    </tr>\n",
       "    <tr>\n",
       "        <td>Finland</td>\n",
       "        <td>Europe</td>\n",
       "    </tr>\n",
       "    <tr>\n",
       "        <td>Australia</td>\n",
       "        <td>Australia</td>\n",
       "    </tr>\n",
       "    <tr>\n",
       "        <td>Mexico</td>\n",
       "        <td>North America</td>\n",
       "    </tr>\n",
       "    <tr>\n",
       "        <td>West Germany</td>\n",
       "        <td>Europe</td>\n",
       "    </tr>\n",
       "    <tr>\n",
       "        <td>Soviet Union</td>\n",
       "        <td>Europe</td>\n",
       "    </tr>\n",
       "    <tr>\n",
       "        <td>Spain</td>\n",
       "        <td>Europe</td>\n",
       "    </tr>\n",
       "    <tr>\n",
       "        <td>Brazil</td>\n",
       "        <td>South America</td>\n",
       "    </tr>\n",
       "</table>"
      ],
      "text/plain": [
       "[('France', 'Europe'),\n",
       " ('Switzerland', 'Europe'),\n",
       " ('United States', 'North America'),\n",
       " ('Germany', 'Europe'),\n",
       " (' Switzerland', 'Europe'),\n",
       " ('Norway', 'Europe'),\n",
       " ('Italy', 'Europe'),\n",
       " ('Austria', 'Europe'),\n",
       " ('Japan', 'Asia'),\n",
       " ('Yugoslavia', 'Europe'),\n",
       " ('Canada', 'North America'),\n",
       " ('Russia', 'Europe'),\n",
       " ('South Korea', 'Asia'),\n",
       " ('China', 'Asia'),\n",
       " ('Greece', 'Europe'),\n",
       " ('United Kingdom', 'Europe'),\n",
       " ('Sweden', 'Europe'),\n",
       " ('Belgium', 'Europe'),\n",
       " ('Netherlands', 'Europe'),\n",
       " ('Finland', 'Europe'),\n",
       " ('Australia', 'Australia'),\n",
       " ('Mexico', 'North America'),\n",
       " ('West Germany', 'Europe'),\n",
       " ('Soviet Union', 'Europe'),\n",
       " ('Spain', 'Europe'),\n",
       " ('Brazil', 'South America')]"
      ]
     },
     "execution_count": 146,
     "metadata": {},
     "output_type": "execute_result"
    }
   ],
   "source": [
    "%%sql\n",
    "SELECT *\n",
    "FROM   continents;"
   ]
  },
  {
   "cell_type": "markdown",
   "metadata": {},
   "source": [
    "We've avoided some redundancy, but now we need a way to combine the information in our two tables, and that's what _joins_ are for.\n",
    "\n",
    "\n",
    "# Joining tables together\n",
    "\n",
    "To introduce joining, we're going to use a classic example: a database for handling college applications. In it a number of students applies for various majors at different colleges -- we want to keep track of:\n",
    "\n",
    " + student id (similar to stil-id)\n",
    " + student name\n",
    " + student's grade average (gpa)\n",
    " + the size of the student's highschool\n",
    " + the names of the colleges\n",
    " + the state for each college\n",
    " + the enrollment for each college\n",
    " + the major applied for\n",
    " + the decision ('Y' for accepted, 'N' otherwise)\n",
    "\n",
    "One way of doing this would be to use one big table:"
   ]
  },
  {
   "cell_type": "code",
   "execution_count": 147,
   "metadata": {},
   "outputs": [
    {
     "name": "stdout",
     "output_type": "stream",
     "text": [
      " * sqlite:///lect01.sqlite\n",
      "Done.\n"
     ]
    },
    {
     "data": {
      "text/html": [
       "<table>\n",
       "    <tr>\n",
       "        <th>s_id</th>\n",
       "        <th>s_name</th>\n",
       "        <th>gpa</th>\n",
       "        <th>size_hs</th>\n",
       "        <th>c_name</th>\n",
       "        <th>state</th>\n",
       "        <th>enrollment</th>\n",
       "        <th>major</th>\n",
       "        <th>decision</th>\n",
       "    </tr>\n",
       "    <tr>\n",
       "        <td>123</td>\n",
       "        <td>Amy</td>\n",
       "        <td>3.9</td>\n",
       "        <td>1000</td>\n",
       "        <td>Berkeley</td>\n",
       "        <td>CA</td>\n",
       "        <td>36000</td>\n",
       "        <td>CS</td>\n",
       "        <td>Y</td>\n",
       "    </tr>\n",
       "    <tr>\n",
       "        <td>123</td>\n",
       "        <td>Amy</td>\n",
       "        <td>3.9</td>\n",
       "        <td>1000</td>\n",
       "        <td>Cornell</td>\n",
       "        <td>NY</td>\n",
       "        <td>21000</td>\n",
       "        <td>EE</td>\n",
       "        <td>Y</td>\n",
       "    </tr>\n",
       "    <tr>\n",
       "        <td>123</td>\n",
       "        <td>Amy</td>\n",
       "        <td>3.9</td>\n",
       "        <td>1000</td>\n",
       "        <td>Stanford</td>\n",
       "        <td>CA</td>\n",
       "        <td>15000</td>\n",
       "        <td>CS</td>\n",
       "        <td>Y</td>\n",
       "    </tr>\n",
       "    <tr>\n",
       "        <td>123</td>\n",
       "        <td>Amy</td>\n",
       "        <td>3.9</td>\n",
       "        <td>1000</td>\n",
       "        <td>Stanford</td>\n",
       "        <td>CA</td>\n",
       "        <td>15000</td>\n",
       "        <td>EE</td>\n",
       "        <td>N</td>\n",
       "    </tr>\n",
       "    <tr>\n",
       "        <td>234</td>\n",
       "        <td>Bob</td>\n",
       "        <td>3.6</td>\n",
       "        <td>1500</td>\n",
       "        <td>Berkeley</td>\n",
       "        <td>CA</td>\n",
       "        <td>36000</td>\n",
       "        <td>biology</td>\n",
       "        <td>N</td>\n",
       "    </tr>\n",
       "    <tr>\n",
       "        <td>345</td>\n",
       "        <td>Craig</td>\n",
       "        <td>3.5</td>\n",
       "        <td>500</td>\n",
       "        <td>Cornell</td>\n",
       "        <td>NY</td>\n",
       "        <td>21000</td>\n",
       "        <td>CS</td>\n",
       "        <td>Y</td>\n",
       "    </tr>\n",
       "    <tr>\n",
       "        <td>345</td>\n",
       "        <td>Craig</td>\n",
       "        <td>3.5</td>\n",
       "        <td>500</td>\n",
       "        <td>Cornell</td>\n",
       "        <td>NY</td>\n",
       "        <td>21000</td>\n",
       "        <td>EE</td>\n",
       "        <td>N</td>\n",
       "    </tr>\n",
       "    <tr>\n",
       "        <td>345</td>\n",
       "        <td>Craig</td>\n",
       "        <td>3.5</td>\n",
       "        <td>500</td>\n",
       "        <td>Cornell</td>\n",
       "        <td>NY</td>\n",
       "        <td>21000</td>\n",
       "        <td>bioengineering</td>\n",
       "        <td>N</td>\n",
       "    </tr>\n",
       "    <tr>\n",
       "        <td>345</td>\n",
       "        <td>Craig</td>\n",
       "        <td>3.5</td>\n",
       "        <td>500</td>\n",
       "        <td>MIT</td>\n",
       "        <td>MA</td>\n",
       "        <td>10000</td>\n",
       "        <td>bioengineering</td>\n",
       "        <td>Y</td>\n",
       "    </tr>\n",
       "    <tr>\n",
       "        <td>456</td>\n",
       "        <td>Doris</td>\n",
       "        <td>3.9</td>\n",
       "        <td>1000</td>\n",
       "        <td>None</td>\n",
       "        <td>None</td>\n",
       "        <td>None</td>\n",
       "        <td>None</td>\n",
       "        <td>None</td>\n",
       "    </tr>\n",
       "    <tr>\n",
       "        <td>543</td>\n",
       "        <td>Craig</td>\n",
       "        <td>3.4</td>\n",
       "        <td>2000</td>\n",
       "        <td>MIT</td>\n",
       "        <td>MA</td>\n",
       "        <td>10000</td>\n",
       "        <td>CS</td>\n",
       "        <td>N</td>\n",
       "    </tr>\n",
       "    <tr>\n",
       "        <td>567</td>\n",
       "        <td>Edward</td>\n",
       "        <td>2.9</td>\n",
       "        <td>2000</td>\n",
       "        <td>None</td>\n",
       "        <td>None</td>\n",
       "        <td>None</td>\n",
       "        <td>None</td>\n",
       "        <td>None</td>\n",
       "    </tr>\n",
       "    <tr>\n",
       "        <td>654</td>\n",
       "        <td>Amy</td>\n",
       "        <td>3.9</td>\n",
       "        <td>1000</td>\n",
       "        <td>None</td>\n",
       "        <td>None</td>\n",
       "        <td>None</td>\n",
       "        <td>None</td>\n",
       "        <td>None</td>\n",
       "    </tr>\n",
       "    <tr>\n",
       "        <td>678</td>\n",
       "        <td>Fay</td>\n",
       "        <td>3.8</td>\n",
       "        <td>200</td>\n",
       "        <td>Stanford</td>\n",
       "        <td>CA</td>\n",
       "        <td>15000</td>\n",
       "        <td>history</td>\n",
       "        <td>Y</td>\n",
       "    </tr>\n",
       "    <tr>\n",
       "        <td>765</td>\n",
       "        <td>Jay</td>\n",
       "        <td>2.9</td>\n",
       "        <td>1500</td>\n",
       "        <td>Cornell</td>\n",
       "        <td>NY</td>\n",
       "        <td>21000</td>\n",
       "        <td>history</td>\n",
       "        <td>N</td>\n",
       "    </tr>\n",
       "    <tr>\n",
       "        <td>765</td>\n",
       "        <td>Jay</td>\n",
       "        <td>2.9</td>\n",
       "        <td>1500</td>\n",
       "        <td>Cornell</td>\n",
       "        <td>NY</td>\n",
       "        <td>21000</td>\n",
       "        <td>psychology</td>\n",
       "        <td>Y</td>\n",
       "    </tr>\n",
       "    <tr>\n",
       "        <td>765</td>\n",
       "        <td>Jay</td>\n",
       "        <td>2.9</td>\n",
       "        <td>1500</td>\n",
       "        <td>Stanford</td>\n",
       "        <td>CA</td>\n",
       "        <td>15000</td>\n",
       "        <td>history</td>\n",
       "        <td>Y</td>\n",
       "    </tr>\n",
       "    <tr>\n",
       "        <td>789</td>\n",
       "        <td>Gary</td>\n",
       "        <td>3.4</td>\n",
       "        <td>800</td>\n",
       "        <td>None</td>\n",
       "        <td>None</td>\n",
       "        <td>None</td>\n",
       "        <td>None</td>\n",
       "        <td>None</td>\n",
       "    </tr>\n",
       "    <tr>\n",
       "        <td>876</td>\n",
       "        <td>Irene</td>\n",
       "        <td>3.9</td>\n",
       "        <td>400</td>\n",
       "        <td>MIT</td>\n",
       "        <td>MA</td>\n",
       "        <td>10000</td>\n",
       "        <td>biology</td>\n",
       "        <td>Y</td>\n",
       "    </tr>\n",
       "    <tr>\n",
       "        <td>876</td>\n",
       "        <td>Irene</td>\n",
       "        <td>3.9</td>\n",
       "        <td>400</td>\n",
       "        <td>MIT</td>\n",
       "        <td>MA</td>\n",
       "        <td>10000</td>\n",
       "        <td>marine biology</td>\n",
       "        <td>N</td>\n",
       "    </tr>\n",
       "    <tr>\n",
       "        <td>876</td>\n",
       "        <td>Irene</td>\n",
       "        <td>3.9</td>\n",
       "        <td>400</td>\n",
       "        <td>Stanford</td>\n",
       "        <td>CA</td>\n",
       "        <td>15000</td>\n",
       "        <td>CS</td>\n",
       "        <td>N</td>\n",
       "    </tr>\n",
       "    <tr>\n",
       "        <td>987</td>\n",
       "        <td>Helen</td>\n",
       "        <td>3.7</td>\n",
       "        <td>800</td>\n",
       "        <td>Berkeley</td>\n",
       "        <td>CA</td>\n",
       "        <td>36000</td>\n",
       "        <td>CS</td>\n",
       "        <td>Y</td>\n",
       "    </tr>\n",
       "    <tr>\n",
       "        <td>987</td>\n",
       "        <td>Helen</td>\n",
       "        <td>3.7</td>\n",
       "        <td>800</td>\n",
       "        <td>Stanford</td>\n",
       "        <td>CA</td>\n",
       "        <td>15000</td>\n",
       "        <td>CS</td>\n",
       "        <td>Y</td>\n",
       "    </tr>\n",
       "</table>"
      ],
      "text/plain": [
       "[(123, 'Amy', 3.9, 1000, 'Berkeley', 'CA', 36000, 'CS', 'Y'),\n",
       " (123, 'Amy', 3.9, 1000, 'Cornell', 'NY', 21000, 'EE', 'Y'),\n",
       " (123, 'Amy', 3.9, 1000, 'Stanford', 'CA', 15000, 'CS', 'Y'),\n",
       " (123, 'Amy', 3.9, 1000, 'Stanford', 'CA', 15000, 'EE', 'N'),\n",
       " (234, 'Bob', 3.6, 1500, 'Berkeley', 'CA', 36000, 'biology', 'N'),\n",
       " (345, 'Craig', 3.5, 500, 'Cornell', 'NY', 21000, 'CS', 'Y'),\n",
       " (345, 'Craig', 3.5, 500, 'Cornell', 'NY', 21000, 'EE', 'N'),\n",
       " (345, 'Craig', 3.5, 500, 'Cornell', 'NY', 21000, 'bioengineering', 'N'),\n",
       " (345, 'Craig', 3.5, 500, 'MIT', 'MA', 10000, 'bioengineering', 'Y'),\n",
       " (456, 'Doris', 3.9, 1000, None, None, None, None, None),\n",
       " (543, 'Craig', 3.4, 2000, 'MIT', 'MA', 10000, 'CS', 'N'),\n",
       " (567, 'Edward', 2.9, 2000, None, None, None, None, None),\n",
       " (654, 'Amy', 3.9, 1000, None, None, None, None, None),\n",
       " (678, 'Fay', 3.8, 200, 'Stanford', 'CA', 15000, 'history', 'Y'),\n",
       " (765, 'Jay', 2.9, 1500, 'Cornell', 'NY', 21000, 'history', 'N'),\n",
       " (765, 'Jay', 2.9, 1500, 'Cornell', 'NY', 21000, 'psychology', 'Y'),\n",
       " (765, 'Jay', 2.9, 1500, 'Stanford', 'CA', 15000, 'history', 'Y'),\n",
       " (789, 'Gary', 3.4, 800, None, None, None, None, None),\n",
       " (876, 'Irene', 3.9, 400, 'MIT', 'MA', 10000, 'biology', 'Y'),\n",
       " (876, 'Irene', 3.9, 400, 'MIT', 'MA', 10000, 'marine biology', 'N'),\n",
       " (876, 'Irene', 3.9, 400, 'Stanford', 'CA', 15000, 'CS', 'N'),\n",
       " (987, 'Helen', 3.7, 800, 'Berkeley', 'CA', 36000, 'CS', 'Y'),\n",
       " (987, 'Helen', 3.7, 800, 'Stanford', 'CA', 15000, 'CS', 'Y')]"
      ]
     },
     "execution_count": 147,
     "metadata": {},
     "output_type": "execute_result"
    }
   ],
   "source": [
    "%%sql\n",
    "SELECT *\n",
    "FROM   big_college"
   ]
  },
  {
   "cell_type": "markdown",
   "metadata": {},
   "source": [
    "But, just as with our olympics database above, this would give us a lot of redundance, so we'd like to split this big table into several related tables.\n",
    "\n",
    "**Exercise:** In lectures 7 and 8 we'll discuss the theory and practice of splitting up tables -- for now, suggest tables which you think would make working with our data easier (don't look further down on this page until you've at least tried).\n",
    "\n",
    "<p>&nbsp;</p>\n",
    "<p>&nbsp;</p>\n",
    "<p>&nbsp;</p>\n",
    "<p>&nbsp;</p>\n",
    "<p>&nbsp;</p>\n",
    "<p>&nbsp;</p>\n",
    "\n",
    "**Solution:** We can have one table for the students:"
   ]
  },
  {
   "cell_type": "code",
   "execution_count": 148,
   "metadata": {},
   "outputs": [
    {
     "name": "stdout",
     "output_type": "stream",
     "text": [
      " * sqlite:///lect01.sqlite\n",
      "Done.\n"
     ]
    },
    {
     "data": {
      "text/html": [
       "<table>\n",
       "    <tr>\n",
       "        <th>s_id</th>\n",
       "        <th>s_name</th>\n",
       "        <th>gpa</th>\n",
       "        <th>size_hs</th>\n",
       "    </tr>\n",
       "    <tr>\n",
       "        <td>123</td>\n",
       "        <td>Amy</td>\n",
       "        <td>3.9</td>\n",
       "        <td>1000</td>\n",
       "    </tr>\n",
       "    <tr>\n",
       "        <td>234</td>\n",
       "        <td>Bob</td>\n",
       "        <td>3.6</td>\n",
       "        <td>1500</td>\n",
       "    </tr>\n",
       "    <tr>\n",
       "        <td>345</td>\n",
       "        <td>Craig</td>\n",
       "        <td>3.5</td>\n",
       "        <td>500</td>\n",
       "    </tr>\n",
       "    <tr>\n",
       "        <td>456</td>\n",
       "        <td>Doris</td>\n",
       "        <td>3.9</td>\n",
       "        <td>1000</td>\n",
       "    </tr>\n",
       "</table>"
      ],
      "text/plain": [
       "[(123, 'Amy', 3.9, 1000),\n",
       " (234, 'Bob', 3.6, 1500),\n",
       " (345, 'Craig', 3.5, 500),\n",
       " (456, 'Doris', 3.9, 1000)]"
      ]
     },
     "execution_count": 148,
     "metadata": {},
     "output_type": "execute_result"
    }
   ],
   "source": [
    "%%sql\n",
    "SELECT *\n",
    "FROM   students\n",
    "LIMIT 4"
   ]
  },
  {
   "cell_type": "markdown",
   "metadata": {},
   "source": [
    "One for the colleges:"
   ]
  },
  {
   "cell_type": "code",
   "execution_count": 149,
   "metadata": {},
   "outputs": [
    {
     "name": "stdout",
     "output_type": "stream",
     "text": [
      " * sqlite:///lect01.sqlite\n",
      "Done.\n"
     ]
    },
    {
     "data": {
      "text/html": [
       "<table>\n",
       "    <tr>\n",
       "        <th>c_name</th>\n",
       "        <th>state</th>\n",
       "        <th>enrollment</th>\n",
       "    </tr>\n",
       "    <tr>\n",
       "        <td>Stanford</td>\n",
       "        <td>CA</td>\n",
       "        <td>15000</td>\n",
       "    </tr>\n",
       "    <tr>\n",
       "        <td>Berkeley</td>\n",
       "        <td>CA</td>\n",
       "        <td>36000</td>\n",
       "    </tr>\n",
       "    <tr>\n",
       "        <td>MIT</td>\n",
       "        <td>MA</td>\n",
       "        <td>10000</td>\n",
       "    </tr>\n",
       "    <tr>\n",
       "        <td>Cornell</td>\n",
       "        <td>NY</td>\n",
       "        <td>21000</td>\n",
       "    </tr>\n",
       "</table>"
      ],
      "text/plain": [
       "[('Stanford', 'CA', 15000),\n",
       " ('Berkeley', 'CA', 36000),\n",
       " ('MIT', 'MA', 10000),\n",
       " ('Cornell', 'NY', 21000)]"
      ]
     },
     "execution_count": 149,
     "metadata": {},
     "output_type": "execute_result"
    }
   ],
   "source": [
    "%%sql\n",
    "SELECT *\n",
    "FROM   colleges\n",
    "LIMIT 4"
   ]
  },
  {
   "cell_type": "markdown",
   "metadata": {},
   "source": [
    "And one for all collage applications made by the students:"
   ]
  },
  {
   "cell_type": "code",
   "execution_count": 150,
   "metadata": {},
   "outputs": [
    {
     "name": "stdout",
     "output_type": "stream",
     "text": [
      " * sqlite:///lect01.sqlite\n",
      "Done.\n"
     ]
    },
    {
     "data": {
      "text/html": [
       "<table>\n",
       "    <tr>\n",
       "        <th>s_id</th>\n",
       "        <th>c_name</th>\n",
       "        <th>major</th>\n",
       "        <th>decision</th>\n",
       "    </tr>\n",
       "    <tr>\n",
       "        <td>123</td>\n",
       "        <td>Stanford</td>\n",
       "        <td>CS</td>\n",
       "        <td>Y</td>\n",
       "    </tr>\n",
       "    <tr>\n",
       "        <td>123</td>\n",
       "        <td>Stanford</td>\n",
       "        <td>EE</td>\n",
       "        <td>N</td>\n",
       "    </tr>\n",
       "    <tr>\n",
       "        <td>123</td>\n",
       "        <td>Berkeley</td>\n",
       "        <td>CS</td>\n",
       "        <td>Y</td>\n",
       "    </tr>\n",
       "    <tr>\n",
       "        <td>123</td>\n",
       "        <td>Cornell</td>\n",
       "        <td>EE</td>\n",
       "        <td>Y</td>\n",
       "    </tr>\n",
       "</table>"
      ],
      "text/plain": [
       "[(123, 'Stanford', 'CS', 'Y'),\n",
       " (123, 'Stanford', 'EE', 'N'),\n",
       " (123, 'Berkeley', 'CS', 'Y'),\n",
       " (123, 'Cornell', 'EE', 'Y')]"
      ]
     },
     "execution_count": 150,
     "metadata": {},
     "output_type": "execute_result"
    }
   ],
   "source": [
    "%%sql\n",
    "SELECT *\n",
    "FROM   applications\n",
    "LIMIT 4"
   ]
  },
  {
   "cell_type": "markdown",
   "metadata": {},
   "source": [
    "The `applications` table uses `s_id` instead of `s_name`, since we could have several students with the same name (we actually have two 'Amy') -- `s_id` is guaranteed to be unique (we'll talk _much_ more about uniqueness next week).\n",
    "\n",
    "Now assume we want to display all applications, _with the names of the students_ (not just the student id). We then need a way to combine information in the `applications` table with information in the `students` table, and we'll do it with a [_join_](https://en.wikipedia.org/wiki/Join_(SQL)).\n",
    "\n",
    "The SQL standard specifies five different kinds of joins:\n",
    "\n",
    " + _cross join_\n",
    " + _inner join_\n",
    " + _left outer join_\n",
    " + _right outer join_\n",
    " + _full outer join_\n",
    "\n",
    "## Cross join\n",
    "\n",
    "The most primitive of the joins is the cross join -- we can write it as:"
   ]
  },
  {
   "cell_type": "markdown",
   "metadata": {},
   "source": [
    "~~~\n",
    "SELECT      *\n",
    "FROM        a \n",
    "CROSS JOIN  b\n",
    "~~~\n"
   ]
  },
  {
   "cell_type": "markdown",
   "metadata": {},
   "source": [
    "Doing this, we get all combinations of rows from each of table `a` and `b` (a.k.a. the [_Cartesian product_](https://en.wikipedia.org/wiki/Cartesian_product)) -- the rows will contain all attributes from both tables (unless we make a projection).\n",
    "\n",
    "If we do it with our `applications` and `students` tables we get:"
   ]
  },
  {
   "cell_type": "code",
   "execution_count": 155,
   "metadata": {},
   "outputs": [
    {
     "name": "stdout",
     "output_type": "stream",
     "text": [
      " * sqlite:///lect01.sqlite\n",
      "Done.\n"
     ]
    },
    {
     "data": {
      "text/html": [
       "<table>\n",
       "    <tr>\n",
       "        <th>s_id</th>\n",
       "        <th>c_name</th>\n",
       "        <th>major</th>\n",
       "        <th>decision</th>\n",
       "        <th>s_id_1</th>\n",
       "        <th>s_name</th>\n",
       "        <th>gpa</th>\n",
       "        <th>size_hs</th>\n",
       "    </tr>\n",
       "    <tr>\n",
       "        <td>123</td>\n",
       "        <td>Stanford</td>\n",
       "        <td>CS</td>\n",
       "        <td>Y</td>\n",
       "        <td>123</td>\n",
       "        <td>Amy</td>\n",
       "        <td>3.9</td>\n",
       "        <td>1000</td>\n",
       "    </tr>\n",
       "    <tr>\n",
       "        <td>123</td>\n",
       "        <td>Stanford</td>\n",
       "        <td>CS</td>\n",
       "        <td>Y</td>\n",
       "        <td>234</td>\n",
       "        <td>Bob</td>\n",
       "        <td>3.6</td>\n",
       "        <td>1500</td>\n",
       "    </tr>\n",
       "    <tr>\n",
       "        <td>123</td>\n",
       "        <td>Stanford</td>\n",
       "        <td>CS</td>\n",
       "        <td>Y</td>\n",
       "        <td>345</td>\n",
       "        <td>Craig</td>\n",
       "        <td>3.5</td>\n",
       "        <td>500</td>\n",
       "    </tr>\n",
       "    <tr>\n",
       "        <td>123</td>\n",
       "        <td>Stanford</td>\n",
       "        <td>CS</td>\n",
       "        <td>Y</td>\n",
       "        <td>456</td>\n",
       "        <td>Doris</td>\n",
       "        <td>3.9</td>\n",
       "        <td>1000</td>\n",
       "    </tr>\n",
       "    <tr>\n",
       "        <td>123</td>\n",
       "        <td>Stanford</td>\n",
       "        <td>CS</td>\n",
       "        <td>Y</td>\n",
       "        <td>543</td>\n",
       "        <td>Craig</td>\n",
       "        <td>3.4</td>\n",
       "        <td>2000</td>\n",
       "    </tr>\n",
       "    <tr>\n",
       "        <td>123</td>\n",
       "        <td>Stanford</td>\n",
       "        <td>CS</td>\n",
       "        <td>Y</td>\n",
       "        <td>567</td>\n",
       "        <td>Edward</td>\n",
       "        <td>2.9</td>\n",
       "        <td>2000</td>\n",
       "    </tr>\n",
       "    <tr>\n",
       "        <td>123</td>\n",
       "        <td>Stanford</td>\n",
       "        <td>CS</td>\n",
       "        <td>Y</td>\n",
       "        <td>654</td>\n",
       "        <td>Amy</td>\n",
       "        <td>3.9</td>\n",
       "        <td>1000</td>\n",
       "    </tr>\n",
       "    <tr>\n",
       "        <td>123</td>\n",
       "        <td>Stanford</td>\n",
       "        <td>CS</td>\n",
       "        <td>Y</td>\n",
       "        <td>678</td>\n",
       "        <td>Fay</td>\n",
       "        <td>3.8</td>\n",
       "        <td>200</td>\n",
       "    </tr>\n",
       "    <tr>\n",
       "        <td>123</td>\n",
       "        <td>Stanford</td>\n",
       "        <td>CS</td>\n",
       "        <td>Y</td>\n",
       "        <td>765</td>\n",
       "        <td>Jay</td>\n",
       "        <td>2.9</td>\n",
       "        <td>1500</td>\n",
       "    </tr>\n",
       "    <tr>\n",
       "        <td>123</td>\n",
       "        <td>Stanford</td>\n",
       "        <td>CS</td>\n",
       "        <td>Y</td>\n",
       "        <td>789</td>\n",
       "        <td>Gary</td>\n",
       "        <td>3.4</td>\n",
       "        <td>800</td>\n",
       "    </tr>\n",
       "</table>"
      ],
      "text/plain": [
       "[(123, 'Stanford', 'CS', 'Y', 123, 'Amy', 3.9, 1000),\n",
       " (123, 'Stanford', 'CS', 'Y', 234, 'Bob', 3.6, 1500),\n",
       " (123, 'Stanford', 'CS', 'Y', 345, 'Craig', 3.5, 500),\n",
       " (123, 'Stanford', 'CS', 'Y', 456, 'Doris', 3.9, 1000),\n",
       " (123, 'Stanford', 'CS', 'Y', 543, 'Craig', 3.4, 2000),\n",
       " (123, 'Stanford', 'CS', 'Y', 567, 'Edward', 2.9, 2000),\n",
       " (123, 'Stanford', 'CS', 'Y', 654, 'Amy', 3.9, 1000),\n",
       " (123, 'Stanford', 'CS', 'Y', 678, 'Fay', 3.8, 200),\n",
       " (123, 'Stanford', 'CS', 'Y', 765, 'Jay', 2.9, 1500),\n",
       " (123, 'Stanford', 'CS', 'Y', 789, 'Gary', 3.4, 800)]"
      ]
     },
     "execution_count": 155,
     "metadata": {},
     "output_type": "execute_result"
    }
   ],
   "source": [
    "%%sql\n",
    "SELECT      *\n",
    "FROM        applications \n",
    "CROSS JOIN  students\n",
    "limit 10"
   ]
  },
  {
   "cell_type": "markdown",
   "metadata": {},
   "source": [
    "The number of rows in this table is the product of the number of rows in each table, and most of the rows in the combined table are *totally* useless, since the `s_id`'s don't have anything to do with each other (e.g., in one line the fact that a student with `s_id` 123 has applied to CS at Stanford is combined with the fact that there is a student Bob with `s_id` 234 who has a `gpa` of 3.6).\n",
    "\n",
    "The only rows of interest to us are those where the student id from the `applications` table is the same as the student id from the `students` table, and we can express that as:"
   ]
  },
  {
   "cell_type": "code",
   "execution_count": 156,
   "metadata": {},
   "outputs": [
    {
     "name": "stdout",
     "output_type": "stream",
     "text": [
      " * sqlite:///lect01.sqlite\n",
      "Done.\n"
     ]
    },
    {
     "data": {
      "text/html": [
       "<table>\n",
       "    <tr>\n",
       "        <th>s_id</th>\n",
       "        <th>c_name</th>\n",
       "        <th>major</th>\n",
       "        <th>decision</th>\n",
       "        <th>s_id_1</th>\n",
       "        <th>s_name</th>\n",
       "        <th>gpa</th>\n",
       "        <th>size_hs</th>\n",
       "    </tr>\n",
       "    <tr>\n",
       "        <td>123</td>\n",
       "        <td>Stanford</td>\n",
       "        <td>CS</td>\n",
       "        <td>Y</td>\n",
       "        <td>123</td>\n",
       "        <td>Amy</td>\n",
       "        <td>3.9</td>\n",
       "        <td>1000</td>\n",
       "    </tr>\n",
       "    <tr>\n",
       "        <td>123</td>\n",
       "        <td>Stanford</td>\n",
       "        <td>EE</td>\n",
       "        <td>N</td>\n",
       "        <td>123</td>\n",
       "        <td>Amy</td>\n",
       "        <td>3.9</td>\n",
       "        <td>1000</td>\n",
       "    </tr>\n",
       "    <tr>\n",
       "        <td>123</td>\n",
       "        <td>Berkeley</td>\n",
       "        <td>CS</td>\n",
       "        <td>Y</td>\n",
       "        <td>123</td>\n",
       "        <td>Amy</td>\n",
       "        <td>3.9</td>\n",
       "        <td>1000</td>\n",
       "    </tr>\n",
       "    <tr>\n",
       "        <td>123</td>\n",
       "        <td>Cornell</td>\n",
       "        <td>EE</td>\n",
       "        <td>Y</td>\n",
       "        <td>123</td>\n",
       "        <td>Amy</td>\n",
       "        <td>3.9</td>\n",
       "        <td>1000</td>\n",
       "    </tr>\n",
       "    <tr>\n",
       "        <td>234</td>\n",
       "        <td>Berkeley</td>\n",
       "        <td>biology</td>\n",
       "        <td>N</td>\n",
       "        <td>234</td>\n",
       "        <td>Bob</td>\n",
       "        <td>3.6</td>\n",
       "        <td>1500</td>\n",
       "    </tr>\n",
       "    <tr>\n",
       "        <td>345</td>\n",
       "        <td>MIT</td>\n",
       "        <td>bioengineering</td>\n",
       "        <td>Y</td>\n",
       "        <td>345</td>\n",
       "        <td>Craig</td>\n",
       "        <td>3.5</td>\n",
       "        <td>500</td>\n",
       "    </tr>\n",
       "    <tr>\n",
       "        <td>345</td>\n",
       "        <td>Cornell</td>\n",
       "        <td>bioengineering</td>\n",
       "        <td>N</td>\n",
       "        <td>345</td>\n",
       "        <td>Craig</td>\n",
       "        <td>3.5</td>\n",
       "        <td>500</td>\n",
       "    </tr>\n",
       "    <tr>\n",
       "        <td>345</td>\n",
       "        <td>Cornell</td>\n",
       "        <td>CS</td>\n",
       "        <td>Y</td>\n",
       "        <td>345</td>\n",
       "        <td>Craig</td>\n",
       "        <td>3.5</td>\n",
       "        <td>500</td>\n",
       "    </tr>\n",
       "    <tr>\n",
       "        <td>345</td>\n",
       "        <td>Cornell</td>\n",
       "        <td>EE</td>\n",
       "        <td>N</td>\n",
       "        <td>345</td>\n",
       "        <td>Craig</td>\n",
       "        <td>3.5</td>\n",
       "        <td>500</td>\n",
       "    </tr>\n",
       "    <tr>\n",
       "        <td>678</td>\n",
       "        <td>Stanford</td>\n",
       "        <td>history</td>\n",
       "        <td>Y</td>\n",
       "        <td>678</td>\n",
       "        <td>Fay</td>\n",
       "        <td>3.8</td>\n",
       "        <td>200</td>\n",
       "    </tr>\n",
       "    <tr>\n",
       "        <td>987</td>\n",
       "        <td>Stanford</td>\n",
       "        <td>CS</td>\n",
       "        <td>Y</td>\n",
       "        <td>987</td>\n",
       "        <td>Helen</td>\n",
       "        <td>3.7</td>\n",
       "        <td>800</td>\n",
       "    </tr>\n",
       "    <tr>\n",
       "        <td>987</td>\n",
       "        <td>Berkeley</td>\n",
       "        <td>CS</td>\n",
       "        <td>Y</td>\n",
       "        <td>987</td>\n",
       "        <td>Helen</td>\n",
       "        <td>3.7</td>\n",
       "        <td>800</td>\n",
       "    </tr>\n",
       "    <tr>\n",
       "        <td>876</td>\n",
       "        <td>Stanford</td>\n",
       "        <td>CS</td>\n",
       "        <td>N</td>\n",
       "        <td>876</td>\n",
       "        <td>Irene</td>\n",
       "        <td>3.9</td>\n",
       "        <td>400</td>\n",
       "    </tr>\n",
       "    <tr>\n",
       "        <td>876</td>\n",
       "        <td>MIT</td>\n",
       "        <td>biology</td>\n",
       "        <td>Y</td>\n",
       "        <td>876</td>\n",
       "        <td>Irene</td>\n",
       "        <td>3.9</td>\n",
       "        <td>400</td>\n",
       "    </tr>\n",
       "    <tr>\n",
       "        <td>876</td>\n",
       "        <td>MIT</td>\n",
       "        <td>marine biology</td>\n",
       "        <td>N</td>\n",
       "        <td>876</td>\n",
       "        <td>Irene</td>\n",
       "        <td>3.9</td>\n",
       "        <td>400</td>\n",
       "    </tr>\n",
       "    <tr>\n",
       "        <td>765</td>\n",
       "        <td>Stanford</td>\n",
       "        <td>history</td>\n",
       "        <td>Y</td>\n",
       "        <td>765</td>\n",
       "        <td>Jay</td>\n",
       "        <td>2.9</td>\n",
       "        <td>1500</td>\n",
       "    </tr>\n",
       "    <tr>\n",
       "        <td>765</td>\n",
       "        <td>Cornell</td>\n",
       "        <td>history</td>\n",
       "        <td>N</td>\n",
       "        <td>765</td>\n",
       "        <td>Jay</td>\n",
       "        <td>2.9</td>\n",
       "        <td>1500</td>\n",
       "    </tr>\n",
       "    <tr>\n",
       "        <td>765</td>\n",
       "        <td>Cornell</td>\n",
       "        <td>psychology</td>\n",
       "        <td>Y</td>\n",
       "        <td>765</td>\n",
       "        <td>Jay</td>\n",
       "        <td>2.9</td>\n",
       "        <td>1500</td>\n",
       "    </tr>\n",
       "    <tr>\n",
       "        <td>543</td>\n",
       "        <td>MIT</td>\n",
       "        <td>CS</td>\n",
       "        <td>N</td>\n",
       "        <td>543</td>\n",
       "        <td>Craig</td>\n",
       "        <td>3.4</td>\n",
       "        <td>2000</td>\n",
       "    </tr>\n",
       "</table>"
      ],
      "text/plain": [
       "[(123, 'Stanford', 'CS', 'Y', 123, 'Amy', 3.9, 1000),\n",
       " (123, 'Stanford', 'EE', 'N', 123, 'Amy', 3.9, 1000),\n",
       " (123, 'Berkeley', 'CS', 'Y', 123, 'Amy', 3.9, 1000),\n",
       " (123, 'Cornell', 'EE', 'Y', 123, 'Amy', 3.9, 1000),\n",
       " (234, 'Berkeley', 'biology', 'N', 234, 'Bob', 3.6, 1500),\n",
       " (345, 'MIT', 'bioengineering', 'Y', 345, 'Craig', 3.5, 500),\n",
       " (345, 'Cornell', 'bioengineering', 'N', 345, 'Craig', 3.5, 500),\n",
       " (345, 'Cornell', 'CS', 'Y', 345, 'Craig', 3.5, 500),\n",
       " (345, 'Cornell', 'EE', 'N', 345, 'Craig', 3.5, 500),\n",
       " (678, 'Stanford', 'history', 'Y', 678, 'Fay', 3.8, 200),\n",
       " (987, 'Stanford', 'CS', 'Y', 987, 'Helen', 3.7, 800),\n",
       " (987, 'Berkeley', 'CS', 'Y', 987, 'Helen', 3.7, 800),\n",
       " (876, 'Stanford', 'CS', 'N', 876, 'Irene', 3.9, 400),\n",
       " (876, 'MIT', 'biology', 'Y', 876, 'Irene', 3.9, 400),\n",
       " (876, 'MIT', 'marine biology', 'N', 876, 'Irene', 3.9, 400),\n",
       " (765, 'Stanford', 'history', 'Y', 765, 'Jay', 2.9, 1500),\n",
       " (765, 'Cornell', 'history', 'N', 765, 'Jay', 2.9, 1500),\n",
       " (765, 'Cornell', 'psychology', 'Y', 765, 'Jay', 2.9, 1500),\n",
       " (543, 'MIT', 'CS', 'N', 543, 'Craig', 3.4, 2000)]"
      ]
     },
     "execution_count": 156,
     "metadata": {},
     "output_type": "execute_result"
    }
   ],
   "source": [
    "%%sql\n",
    "SELECT      *\n",
    "FROM        applications \n",
    "CROSS JOIN  students\n",
    "WHERE       applications.s_id = students.s_id"
   ]
  },
  {
   "cell_type": "markdown",
   "metadata": {},
   "source": [
    "or, using aliases, so we don't have to write long table names:"
   ]
  },
  {
   "cell_type": "code",
   "execution_count": 157,
   "metadata": {},
   "outputs": [
    {
     "name": "stdout",
     "output_type": "stream",
     "text": [
      " * sqlite:///lect01.sqlite\n",
      "Done.\n"
     ]
    },
    {
     "data": {
      "text/html": [
       "<table>\n",
       "    <tr>\n",
       "        <th>s_id</th>\n",
       "        <th>c_name</th>\n",
       "        <th>major</th>\n",
       "        <th>decision</th>\n",
       "        <th>s_id_1</th>\n",
       "        <th>s_name</th>\n",
       "        <th>gpa</th>\n",
       "        <th>size_hs</th>\n",
       "    </tr>\n",
       "    <tr>\n",
       "        <td>123</td>\n",
       "        <td>Stanford</td>\n",
       "        <td>CS</td>\n",
       "        <td>Y</td>\n",
       "        <td>123</td>\n",
       "        <td>Amy</td>\n",
       "        <td>3.9</td>\n",
       "        <td>1000</td>\n",
       "    </tr>\n",
       "    <tr>\n",
       "        <td>123</td>\n",
       "        <td>Stanford</td>\n",
       "        <td>EE</td>\n",
       "        <td>N</td>\n",
       "        <td>123</td>\n",
       "        <td>Amy</td>\n",
       "        <td>3.9</td>\n",
       "        <td>1000</td>\n",
       "    </tr>\n",
       "    <tr>\n",
       "        <td>123</td>\n",
       "        <td>Berkeley</td>\n",
       "        <td>CS</td>\n",
       "        <td>Y</td>\n",
       "        <td>123</td>\n",
       "        <td>Amy</td>\n",
       "        <td>3.9</td>\n",
       "        <td>1000</td>\n",
       "    </tr>\n",
       "    <tr>\n",
       "        <td>123</td>\n",
       "        <td>Cornell</td>\n",
       "        <td>EE</td>\n",
       "        <td>Y</td>\n",
       "        <td>123</td>\n",
       "        <td>Amy</td>\n",
       "        <td>3.9</td>\n",
       "        <td>1000</td>\n",
       "    </tr>\n",
       "    <tr>\n",
       "        <td>234</td>\n",
       "        <td>Berkeley</td>\n",
       "        <td>biology</td>\n",
       "        <td>N</td>\n",
       "        <td>234</td>\n",
       "        <td>Bob</td>\n",
       "        <td>3.6</td>\n",
       "        <td>1500</td>\n",
       "    </tr>\n",
       "    <tr>\n",
       "        <td>345</td>\n",
       "        <td>MIT</td>\n",
       "        <td>bioengineering</td>\n",
       "        <td>Y</td>\n",
       "        <td>345</td>\n",
       "        <td>Craig</td>\n",
       "        <td>3.5</td>\n",
       "        <td>500</td>\n",
       "    </tr>\n",
       "    <tr>\n",
       "        <td>345</td>\n",
       "        <td>Cornell</td>\n",
       "        <td>bioengineering</td>\n",
       "        <td>N</td>\n",
       "        <td>345</td>\n",
       "        <td>Craig</td>\n",
       "        <td>3.5</td>\n",
       "        <td>500</td>\n",
       "    </tr>\n",
       "    <tr>\n",
       "        <td>345</td>\n",
       "        <td>Cornell</td>\n",
       "        <td>CS</td>\n",
       "        <td>Y</td>\n",
       "        <td>345</td>\n",
       "        <td>Craig</td>\n",
       "        <td>3.5</td>\n",
       "        <td>500</td>\n",
       "    </tr>\n",
       "    <tr>\n",
       "        <td>345</td>\n",
       "        <td>Cornell</td>\n",
       "        <td>EE</td>\n",
       "        <td>N</td>\n",
       "        <td>345</td>\n",
       "        <td>Craig</td>\n",
       "        <td>3.5</td>\n",
       "        <td>500</td>\n",
       "    </tr>\n",
       "    <tr>\n",
       "        <td>678</td>\n",
       "        <td>Stanford</td>\n",
       "        <td>history</td>\n",
       "        <td>Y</td>\n",
       "        <td>678</td>\n",
       "        <td>Fay</td>\n",
       "        <td>3.8</td>\n",
       "        <td>200</td>\n",
       "    </tr>\n",
       "    <tr>\n",
       "        <td>987</td>\n",
       "        <td>Stanford</td>\n",
       "        <td>CS</td>\n",
       "        <td>Y</td>\n",
       "        <td>987</td>\n",
       "        <td>Helen</td>\n",
       "        <td>3.7</td>\n",
       "        <td>800</td>\n",
       "    </tr>\n",
       "    <tr>\n",
       "        <td>987</td>\n",
       "        <td>Berkeley</td>\n",
       "        <td>CS</td>\n",
       "        <td>Y</td>\n",
       "        <td>987</td>\n",
       "        <td>Helen</td>\n",
       "        <td>3.7</td>\n",
       "        <td>800</td>\n",
       "    </tr>\n",
       "    <tr>\n",
       "        <td>876</td>\n",
       "        <td>Stanford</td>\n",
       "        <td>CS</td>\n",
       "        <td>N</td>\n",
       "        <td>876</td>\n",
       "        <td>Irene</td>\n",
       "        <td>3.9</td>\n",
       "        <td>400</td>\n",
       "    </tr>\n",
       "    <tr>\n",
       "        <td>876</td>\n",
       "        <td>MIT</td>\n",
       "        <td>biology</td>\n",
       "        <td>Y</td>\n",
       "        <td>876</td>\n",
       "        <td>Irene</td>\n",
       "        <td>3.9</td>\n",
       "        <td>400</td>\n",
       "    </tr>\n",
       "    <tr>\n",
       "        <td>876</td>\n",
       "        <td>MIT</td>\n",
       "        <td>marine biology</td>\n",
       "        <td>N</td>\n",
       "        <td>876</td>\n",
       "        <td>Irene</td>\n",
       "        <td>3.9</td>\n",
       "        <td>400</td>\n",
       "    </tr>\n",
       "    <tr>\n",
       "        <td>765</td>\n",
       "        <td>Stanford</td>\n",
       "        <td>history</td>\n",
       "        <td>Y</td>\n",
       "        <td>765</td>\n",
       "        <td>Jay</td>\n",
       "        <td>2.9</td>\n",
       "        <td>1500</td>\n",
       "    </tr>\n",
       "    <tr>\n",
       "        <td>765</td>\n",
       "        <td>Cornell</td>\n",
       "        <td>history</td>\n",
       "        <td>N</td>\n",
       "        <td>765</td>\n",
       "        <td>Jay</td>\n",
       "        <td>2.9</td>\n",
       "        <td>1500</td>\n",
       "    </tr>\n",
       "    <tr>\n",
       "        <td>765</td>\n",
       "        <td>Cornell</td>\n",
       "        <td>psychology</td>\n",
       "        <td>Y</td>\n",
       "        <td>765</td>\n",
       "        <td>Jay</td>\n",
       "        <td>2.9</td>\n",
       "        <td>1500</td>\n",
       "    </tr>\n",
       "    <tr>\n",
       "        <td>543</td>\n",
       "        <td>MIT</td>\n",
       "        <td>CS</td>\n",
       "        <td>N</td>\n",
       "        <td>543</td>\n",
       "        <td>Craig</td>\n",
       "        <td>3.4</td>\n",
       "        <td>2000</td>\n",
       "    </tr>\n",
       "</table>"
      ],
      "text/plain": [
       "[(123, 'Stanford', 'CS', 'Y', 123, 'Amy', 3.9, 1000),\n",
       " (123, 'Stanford', 'EE', 'N', 123, 'Amy', 3.9, 1000),\n",
       " (123, 'Berkeley', 'CS', 'Y', 123, 'Amy', 3.9, 1000),\n",
       " (123, 'Cornell', 'EE', 'Y', 123, 'Amy', 3.9, 1000),\n",
       " (234, 'Berkeley', 'biology', 'N', 234, 'Bob', 3.6, 1500),\n",
       " (345, 'MIT', 'bioengineering', 'Y', 345, 'Craig', 3.5, 500),\n",
       " (345, 'Cornell', 'bioengineering', 'N', 345, 'Craig', 3.5, 500),\n",
       " (345, 'Cornell', 'CS', 'Y', 345, 'Craig', 3.5, 500),\n",
       " (345, 'Cornell', 'EE', 'N', 345, 'Craig', 3.5, 500),\n",
       " (678, 'Stanford', 'history', 'Y', 678, 'Fay', 3.8, 200),\n",
       " (987, 'Stanford', 'CS', 'Y', 987, 'Helen', 3.7, 800),\n",
       " (987, 'Berkeley', 'CS', 'Y', 987, 'Helen', 3.7, 800),\n",
       " (876, 'Stanford', 'CS', 'N', 876, 'Irene', 3.9, 400),\n",
       " (876, 'MIT', 'biology', 'Y', 876, 'Irene', 3.9, 400),\n",
       " (876, 'MIT', 'marine biology', 'N', 876, 'Irene', 3.9, 400),\n",
       " (765, 'Stanford', 'history', 'Y', 765, 'Jay', 2.9, 1500),\n",
       " (765, 'Cornell', 'history', 'N', 765, 'Jay', 2.9, 1500),\n",
       " (765, 'Cornell', 'psychology', 'Y', 765, 'Jay', 2.9, 1500),\n",
       " (543, 'MIT', 'CS', 'N', 543, 'Craig', 3.4, 2000)]"
      ]
     },
     "execution_count": 157,
     "metadata": {},
     "output_type": "execute_result"
    }
   ],
   "source": [
    "%%sql\n",
    "SELECT      *\n",
    "FROM        applications AS a \n",
    "CROSS JOIN  students AS s\n",
    "WHERE       a.s_id = s.s_id"
   ]
  },
  {
   "cell_type": "markdown",
   "metadata": {},
   "source": [
    "We can clean up the output using a projection:"
   ]
  },
  {
   "cell_type": "code",
   "execution_count": 158,
   "metadata": {},
   "outputs": [
    {
     "name": "stdout",
     "output_type": "stream",
     "text": [
      " * sqlite:///lect01.sqlite\n",
      "Done.\n"
     ]
    },
    {
     "data": {
      "text/html": [
       "<table>\n",
       "    <tr>\n",
       "        <th>s_name</th>\n",
       "        <th>c_name</th>\n",
       "        <th>major</th>\n",
       "    </tr>\n",
       "    <tr>\n",
       "        <td>Amy</td>\n",
       "        <td>Berkeley</td>\n",
       "        <td>CS</td>\n",
       "    </tr>\n",
       "    <tr>\n",
       "        <td>Amy</td>\n",
       "        <td>Cornell</td>\n",
       "        <td>EE</td>\n",
       "    </tr>\n",
       "    <tr>\n",
       "        <td>Amy</td>\n",
       "        <td>Stanford</td>\n",
       "        <td>CS</td>\n",
       "    </tr>\n",
       "    <tr>\n",
       "        <td>Amy</td>\n",
       "        <td>Stanford</td>\n",
       "        <td>EE</td>\n",
       "    </tr>\n",
       "    <tr>\n",
       "        <td>Bob</td>\n",
       "        <td>Berkeley</td>\n",
       "        <td>biology</td>\n",
       "    </tr>\n",
       "    <tr>\n",
       "        <td>Craig</td>\n",
       "        <td>Cornell</td>\n",
       "        <td>CS</td>\n",
       "    </tr>\n",
       "    <tr>\n",
       "        <td>Craig</td>\n",
       "        <td>Cornell</td>\n",
       "        <td>EE</td>\n",
       "    </tr>\n",
       "    <tr>\n",
       "        <td>Craig</td>\n",
       "        <td>Cornell</td>\n",
       "        <td>bioengineering</td>\n",
       "    </tr>\n",
       "    <tr>\n",
       "        <td>Craig</td>\n",
       "        <td>MIT</td>\n",
       "        <td>bioengineering</td>\n",
       "    </tr>\n",
       "    <tr>\n",
       "        <td>Craig</td>\n",
       "        <td>MIT</td>\n",
       "        <td>CS</td>\n",
       "    </tr>\n",
       "    <tr>\n",
       "        <td>Fay</td>\n",
       "        <td>Stanford</td>\n",
       "        <td>history</td>\n",
       "    </tr>\n",
       "    <tr>\n",
       "        <td>Jay</td>\n",
       "        <td>Cornell</td>\n",
       "        <td>history</td>\n",
       "    </tr>\n",
       "    <tr>\n",
       "        <td>Jay</td>\n",
       "        <td>Cornell</td>\n",
       "        <td>psychology</td>\n",
       "    </tr>\n",
       "    <tr>\n",
       "        <td>Jay</td>\n",
       "        <td>Stanford</td>\n",
       "        <td>history</td>\n",
       "    </tr>\n",
       "    <tr>\n",
       "        <td>Irene</td>\n",
       "        <td>MIT</td>\n",
       "        <td>biology</td>\n",
       "    </tr>\n",
       "    <tr>\n",
       "        <td>Irene</td>\n",
       "        <td>MIT</td>\n",
       "        <td>marine biology</td>\n",
       "    </tr>\n",
       "    <tr>\n",
       "        <td>Irene</td>\n",
       "        <td>Stanford</td>\n",
       "        <td>CS</td>\n",
       "    </tr>\n",
       "    <tr>\n",
       "        <td>Helen</td>\n",
       "        <td>Berkeley</td>\n",
       "        <td>CS</td>\n",
       "    </tr>\n",
       "    <tr>\n",
       "        <td>Helen</td>\n",
       "        <td>Stanford</td>\n",
       "        <td>CS</td>\n",
       "    </tr>\n",
       "</table>"
      ],
      "text/plain": [
       "[('Amy', 'Berkeley', 'CS'),\n",
       " ('Amy', 'Cornell', 'EE'),\n",
       " ('Amy', 'Stanford', 'CS'),\n",
       " ('Amy', 'Stanford', 'EE'),\n",
       " ('Bob', 'Berkeley', 'biology'),\n",
       " ('Craig', 'Cornell', 'CS'),\n",
       " ('Craig', 'Cornell', 'EE'),\n",
       " ('Craig', 'Cornell', 'bioengineering'),\n",
       " ('Craig', 'MIT', 'bioengineering'),\n",
       " ('Craig', 'MIT', 'CS'),\n",
       " ('Fay', 'Stanford', 'history'),\n",
       " ('Jay', 'Cornell', 'history'),\n",
       " ('Jay', 'Cornell', 'psychology'),\n",
       " ('Jay', 'Stanford', 'history'),\n",
       " ('Irene', 'MIT', 'biology'),\n",
       " ('Irene', 'MIT', 'marine biology'),\n",
       " ('Irene', 'Stanford', 'CS'),\n",
       " ('Helen', 'Berkeley', 'CS'),\n",
       " ('Helen', 'Stanford', 'CS')]"
      ]
     },
     "execution_count": 158,
     "metadata": {},
     "output_type": "execute_result"
    }
   ],
   "source": [
    "%%sql\n",
    "SELECT      s.s_name, a.c_name, a.major\n",
    "FROM        applications AS a \n",
    "CROSS JOIN  students AS s\n",
    "WHERE       a.s_id = s.s_id"
   ]
  },
  {
   "cell_type": "markdown",
   "metadata": {},
   "source": [
    "or even"
   ]
  },
  {
   "cell_type": "code",
   "execution_count": 159,
   "metadata": {},
   "outputs": [
    {
     "name": "stdout",
     "output_type": "stream",
     "text": [
      " * sqlite:///lect01.sqlite\n",
      "Done.\n"
     ]
    },
    {
     "data": {
      "text/html": [
       "<table>\n",
       "    <tr>\n",
       "        <th>name</th>\n",
       "        <th>college</th>\n",
       "        <th>major</th>\n",
       "    </tr>\n",
       "    <tr>\n",
       "        <td>Amy</td>\n",
       "        <td>Berkeley</td>\n",
       "        <td>CS</td>\n",
       "    </tr>\n",
       "    <tr>\n",
       "        <td>Amy</td>\n",
       "        <td>Cornell</td>\n",
       "        <td>EE</td>\n",
       "    </tr>\n",
       "    <tr>\n",
       "        <td>Amy</td>\n",
       "        <td>Stanford</td>\n",
       "        <td>CS</td>\n",
       "    </tr>\n",
       "    <tr>\n",
       "        <td>Amy</td>\n",
       "        <td>Stanford</td>\n",
       "        <td>EE</td>\n",
       "    </tr>\n",
       "    <tr>\n",
       "        <td>Bob</td>\n",
       "        <td>Berkeley</td>\n",
       "        <td>biology</td>\n",
       "    </tr>\n",
       "    <tr>\n",
       "        <td>Craig</td>\n",
       "        <td>Cornell</td>\n",
       "        <td>CS</td>\n",
       "    </tr>\n",
       "    <tr>\n",
       "        <td>Craig</td>\n",
       "        <td>Cornell</td>\n",
       "        <td>EE</td>\n",
       "    </tr>\n",
       "    <tr>\n",
       "        <td>Craig</td>\n",
       "        <td>Cornell</td>\n",
       "        <td>bioengineering</td>\n",
       "    </tr>\n",
       "    <tr>\n",
       "        <td>Craig</td>\n",
       "        <td>MIT</td>\n",
       "        <td>bioengineering</td>\n",
       "    </tr>\n",
       "    <tr>\n",
       "        <td>Craig</td>\n",
       "        <td>MIT</td>\n",
       "        <td>CS</td>\n",
       "    </tr>\n",
       "    <tr>\n",
       "        <td>Fay</td>\n",
       "        <td>Stanford</td>\n",
       "        <td>history</td>\n",
       "    </tr>\n",
       "    <tr>\n",
       "        <td>Jay</td>\n",
       "        <td>Cornell</td>\n",
       "        <td>history</td>\n",
       "    </tr>\n",
       "    <tr>\n",
       "        <td>Jay</td>\n",
       "        <td>Cornell</td>\n",
       "        <td>psychology</td>\n",
       "    </tr>\n",
       "    <tr>\n",
       "        <td>Jay</td>\n",
       "        <td>Stanford</td>\n",
       "        <td>history</td>\n",
       "    </tr>\n",
       "    <tr>\n",
       "        <td>Irene</td>\n",
       "        <td>MIT</td>\n",
       "        <td>biology</td>\n",
       "    </tr>\n",
       "    <tr>\n",
       "        <td>Irene</td>\n",
       "        <td>MIT</td>\n",
       "        <td>marine biology</td>\n",
       "    </tr>\n",
       "    <tr>\n",
       "        <td>Irene</td>\n",
       "        <td>Stanford</td>\n",
       "        <td>CS</td>\n",
       "    </tr>\n",
       "    <tr>\n",
       "        <td>Helen</td>\n",
       "        <td>Berkeley</td>\n",
       "        <td>CS</td>\n",
       "    </tr>\n",
       "    <tr>\n",
       "        <td>Helen</td>\n",
       "        <td>Stanford</td>\n",
       "        <td>CS</td>\n",
       "    </tr>\n",
       "</table>"
      ],
      "text/plain": [
       "[('Amy', 'Berkeley', 'CS'),\n",
       " ('Amy', 'Cornell', 'EE'),\n",
       " ('Amy', 'Stanford', 'CS'),\n",
       " ('Amy', 'Stanford', 'EE'),\n",
       " ('Bob', 'Berkeley', 'biology'),\n",
       " ('Craig', 'Cornell', 'CS'),\n",
       " ('Craig', 'Cornell', 'EE'),\n",
       " ('Craig', 'Cornell', 'bioengineering'),\n",
       " ('Craig', 'MIT', 'bioengineering'),\n",
       " ('Craig', 'MIT', 'CS'),\n",
       " ('Fay', 'Stanford', 'history'),\n",
       " ('Jay', 'Cornell', 'history'),\n",
       " ('Jay', 'Cornell', 'psychology'),\n",
       " ('Jay', 'Stanford', 'history'),\n",
       " ('Irene', 'MIT', 'biology'),\n",
       " ('Irene', 'MIT', 'marine biology'),\n",
       " ('Irene', 'Stanford', 'CS'),\n",
       " ('Helen', 'Berkeley', 'CS'),\n",
       " ('Helen', 'Stanford', 'CS')]"
      ]
     },
     "execution_count": 159,
     "metadata": {},
     "output_type": "execute_result"
    }
   ],
   "source": [
    "%%sql\n",
    "SELECT      s_name AS name, c_name AS college, major\n",
    "FROM        applications AS a\n",
    "CROSS JOIN  students AS s\n",
    "WHERE       a.s_id = s.s_id"
   ]
  },
  {
   "cell_type": "markdown",
   "metadata": {},
   "source": [
    "(we only need to prefix column names when there would otherwise be an ambiguity).\n",
    "\n",
    "There is a shortcut for cross joins, we can just put a comma between the two tables we want to join:"
   ]
  },
  {
   "cell_type": "code",
   "execution_count": 160,
   "metadata": {},
   "outputs": [
    {
     "name": "stdout",
     "output_type": "stream",
     "text": [
      " * sqlite:///lect01.sqlite\n",
      "Done.\n"
     ]
    },
    {
     "data": {
      "text/html": [
       "<table>\n",
       "    <tr>\n",
       "        <th>name</th>\n",
       "        <th>college</th>\n",
       "        <th>major</th>\n",
       "    </tr>\n",
       "    <tr>\n",
       "        <td>Amy</td>\n",
       "        <td>Berkeley</td>\n",
       "        <td>CS</td>\n",
       "    </tr>\n",
       "    <tr>\n",
       "        <td>Amy</td>\n",
       "        <td>Cornell</td>\n",
       "        <td>EE</td>\n",
       "    </tr>\n",
       "    <tr>\n",
       "        <td>Amy</td>\n",
       "        <td>Stanford</td>\n",
       "        <td>CS</td>\n",
       "    </tr>\n",
       "    <tr>\n",
       "        <td>Amy</td>\n",
       "        <td>Stanford</td>\n",
       "        <td>EE</td>\n",
       "    </tr>\n",
       "    <tr>\n",
       "        <td>Bob</td>\n",
       "        <td>Berkeley</td>\n",
       "        <td>biology</td>\n",
       "    </tr>\n",
       "    <tr>\n",
       "        <td>Craig</td>\n",
       "        <td>Cornell</td>\n",
       "        <td>CS</td>\n",
       "    </tr>\n",
       "    <tr>\n",
       "        <td>Craig</td>\n",
       "        <td>Cornell</td>\n",
       "        <td>EE</td>\n",
       "    </tr>\n",
       "    <tr>\n",
       "        <td>Craig</td>\n",
       "        <td>Cornell</td>\n",
       "        <td>bioengineering</td>\n",
       "    </tr>\n",
       "    <tr>\n",
       "        <td>Craig</td>\n",
       "        <td>MIT</td>\n",
       "        <td>bioengineering</td>\n",
       "    </tr>\n",
       "    <tr>\n",
       "        <td>Craig</td>\n",
       "        <td>MIT</td>\n",
       "        <td>CS</td>\n",
       "    </tr>\n",
       "    <tr>\n",
       "        <td>Fay</td>\n",
       "        <td>Stanford</td>\n",
       "        <td>history</td>\n",
       "    </tr>\n",
       "    <tr>\n",
       "        <td>Jay</td>\n",
       "        <td>Cornell</td>\n",
       "        <td>history</td>\n",
       "    </tr>\n",
       "    <tr>\n",
       "        <td>Jay</td>\n",
       "        <td>Cornell</td>\n",
       "        <td>psychology</td>\n",
       "    </tr>\n",
       "    <tr>\n",
       "        <td>Jay</td>\n",
       "        <td>Stanford</td>\n",
       "        <td>history</td>\n",
       "    </tr>\n",
       "    <tr>\n",
       "        <td>Irene</td>\n",
       "        <td>MIT</td>\n",
       "        <td>biology</td>\n",
       "    </tr>\n",
       "    <tr>\n",
       "        <td>Irene</td>\n",
       "        <td>MIT</td>\n",
       "        <td>marine biology</td>\n",
       "    </tr>\n",
       "    <tr>\n",
       "        <td>Irene</td>\n",
       "        <td>Stanford</td>\n",
       "        <td>CS</td>\n",
       "    </tr>\n",
       "    <tr>\n",
       "        <td>Helen</td>\n",
       "        <td>Berkeley</td>\n",
       "        <td>CS</td>\n",
       "    </tr>\n",
       "    <tr>\n",
       "        <td>Helen</td>\n",
       "        <td>Stanford</td>\n",
       "        <td>CS</td>\n",
       "    </tr>\n",
       "</table>"
      ],
      "text/plain": [
       "[('Amy', 'Berkeley', 'CS'),\n",
       " ('Amy', 'Cornell', 'EE'),\n",
       " ('Amy', 'Stanford', 'CS'),\n",
       " ('Amy', 'Stanford', 'EE'),\n",
       " ('Bob', 'Berkeley', 'biology'),\n",
       " ('Craig', 'Cornell', 'CS'),\n",
       " ('Craig', 'Cornell', 'EE'),\n",
       " ('Craig', 'Cornell', 'bioengineering'),\n",
       " ('Craig', 'MIT', 'bioengineering'),\n",
       " ('Craig', 'MIT', 'CS'),\n",
       " ('Fay', 'Stanford', 'history'),\n",
       " ('Jay', 'Cornell', 'history'),\n",
       " ('Jay', 'Cornell', 'psychology'),\n",
       " ('Jay', 'Stanford', 'history'),\n",
       " ('Irene', 'MIT', 'biology'),\n",
       " ('Irene', 'MIT', 'marine biology'),\n",
       " ('Irene', 'Stanford', 'CS'),\n",
       " ('Helen', 'Berkeley', 'CS'),\n",
       " ('Helen', 'Stanford', 'CS')]"
      ]
     },
     "execution_count": 160,
     "metadata": {},
     "output_type": "execute_result"
    }
   ],
   "source": [
    "%%sql\n",
    "SELECT s_name AS name, c_name AS college, major\n",
    "FROM   applications, students\n",
    "WHERE  applications.s_id = students.s_id"
   ]
  },
  {
   "cell_type": "markdown",
   "metadata": {},
   "source": [
    "This works, but there are *much* more elegant ways to write this query.\n",
    "\n",
    "\n",
    "## Inner joins\n",
    "\n",
    "An _inner join_ combines two tables into a new table (it's not actually saved as a table) -- it does this by creating combined rows only when rows from the two tables 'match' each other. In this case it's the `s_id` columns which should match, so we write:"
   ]
  },
  {
   "cell_type": "code",
   "execution_count": 161,
   "metadata": {},
   "outputs": [
    {
     "name": "stdout",
     "output_type": "stream",
     "text": [
      " * sqlite:///lect01.sqlite\n",
      "Done.\n"
     ]
    },
    {
     "data": {
      "text/html": [
       "<table>\n",
       "    <tr>\n",
       "        <th>name</th>\n",
       "        <th>college</th>\n",
       "        <th>major</th>\n",
       "    </tr>\n",
       "    <tr>\n",
       "        <td>Amy</td>\n",
       "        <td>Berkeley</td>\n",
       "        <td>CS</td>\n",
       "    </tr>\n",
       "    <tr>\n",
       "        <td>Amy</td>\n",
       "        <td>Cornell</td>\n",
       "        <td>EE</td>\n",
       "    </tr>\n",
       "    <tr>\n",
       "        <td>Amy</td>\n",
       "        <td>Stanford</td>\n",
       "        <td>CS</td>\n",
       "    </tr>\n",
       "    <tr>\n",
       "        <td>Amy</td>\n",
       "        <td>Stanford</td>\n",
       "        <td>EE</td>\n",
       "    </tr>\n",
       "    <tr>\n",
       "        <td>Bob</td>\n",
       "        <td>Berkeley</td>\n",
       "        <td>biology</td>\n",
       "    </tr>\n",
       "    <tr>\n",
       "        <td>Craig</td>\n",
       "        <td>Cornell</td>\n",
       "        <td>CS</td>\n",
       "    </tr>\n",
       "    <tr>\n",
       "        <td>Craig</td>\n",
       "        <td>Cornell</td>\n",
       "        <td>EE</td>\n",
       "    </tr>\n",
       "    <tr>\n",
       "        <td>Craig</td>\n",
       "        <td>Cornell</td>\n",
       "        <td>bioengineering</td>\n",
       "    </tr>\n",
       "    <tr>\n",
       "        <td>Craig</td>\n",
       "        <td>MIT</td>\n",
       "        <td>bioengineering</td>\n",
       "    </tr>\n",
       "    <tr>\n",
       "        <td>Craig</td>\n",
       "        <td>MIT</td>\n",
       "        <td>CS</td>\n",
       "    </tr>\n",
       "    <tr>\n",
       "        <td>Fay</td>\n",
       "        <td>Stanford</td>\n",
       "        <td>history</td>\n",
       "    </tr>\n",
       "    <tr>\n",
       "        <td>Jay</td>\n",
       "        <td>Cornell</td>\n",
       "        <td>history</td>\n",
       "    </tr>\n",
       "    <tr>\n",
       "        <td>Jay</td>\n",
       "        <td>Cornell</td>\n",
       "        <td>psychology</td>\n",
       "    </tr>\n",
       "    <tr>\n",
       "        <td>Jay</td>\n",
       "        <td>Stanford</td>\n",
       "        <td>history</td>\n",
       "    </tr>\n",
       "    <tr>\n",
       "        <td>Irene</td>\n",
       "        <td>MIT</td>\n",
       "        <td>biology</td>\n",
       "    </tr>\n",
       "    <tr>\n",
       "        <td>Irene</td>\n",
       "        <td>MIT</td>\n",
       "        <td>marine biology</td>\n",
       "    </tr>\n",
       "    <tr>\n",
       "        <td>Irene</td>\n",
       "        <td>Stanford</td>\n",
       "        <td>CS</td>\n",
       "    </tr>\n",
       "    <tr>\n",
       "        <td>Helen</td>\n",
       "        <td>Berkeley</td>\n",
       "        <td>CS</td>\n",
       "    </tr>\n",
       "    <tr>\n",
       "        <td>Helen</td>\n",
       "        <td>Stanford</td>\n",
       "        <td>CS</td>\n",
       "    </tr>\n",
       "</table>"
      ],
      "text/plain": [
       "[('Amy', 'Berkeley', 'CS'),\n",
       " ('Amy', 'Cornell', 'EE'),\n",
       " ('Amy', 'Stanford', 'CS'),\n",
       " ('Amy', 'Stanford', 'EE'),\n",
       " ('Bob', 'Berkeley', 'biology'),\n",
       " ('Craig', 'Cornell', 'CS'),\n",
       " ('Craig', 'Cornell', 'EE'),\n",
       " ('Craig', 'Cornell', 'bioengineering'),\n",
       " ('Craig', 'MIT', 'bioengineering'),\n",
       " ('Craig', 'MIT', 'CS'),\n",
       " ('Fay', 'Stanford', 'history'),\n",
       " ('Jay', 'Cornell', 'history'),\n",
       " ('Jay', 'Cornell', 'psychology'),\n",
       " ('Jay', 'Stanford', 'history'),\n",
       " ('Irene', 'MIT', 'biology'),\n",
       " ('Irene', 'MIT', 'marine biology'),\n",
       " ('Irene', 'Stanford', 'CS'),\n",
       " ('Helen', 'Berkeley', 'CS'),\n",
       " ('Helen', 'Stanford', 'CS')]"
      ]
     },
     "execution_count": 161,
     "metadata": {},
     "output_type": "execute_result"
    }
   ],
   "source": [
    "%%sql\n",
    "SELECT      s_name AS name, c_name AS college, major\n",
    "FROM        applications\n",
    "INNER JOIN  students\n",
    "ON          applications.s_id = students.s_id"
   ]
  },
  {
   "cell_type": "markdown",
   "metadata": {},
   "source": [
    "Logically it can be seen as the equivalent of a cross join and then a selection, but the database engine normally use algorithms which are much faster and requires much less memory when we define an inner join.\n",
    "Once you get used to them, inner joins will feel much better to use than cross joins (although, in theory, the database should try to optimize all queries, and _might_ find an efficient way to execute even cross joins).\n",
    "\n",
    "Inner joins are the default joins, so we can omit the word `INNER`, and just write `JOIN`:"
   ]
  },
  {
   "cell_type": "code",
   "execution_count": 162,
   "metadata": {},
   "outputs": [
    {
     "name": "stdout",
     "output_type": "stream",
     "text": [
      " * sqlite:///lect01.sqlite\n",
      "Done.\n"
     ]
    },
    {
     "data": {
      "text/html": [
       "<table>\n",
       "    <tr>\n",
       "        <th>name</th>\n",
       "        <th>college</th>\n",
       "        <th>major</th>\n",
       "    </tr>\n",
       "    <tr>\n",
       "        <td>Amy</td>\n",
       "        <td>Berkeley</td>\n",
       "        <td>CS</td>\n",
       "    </tr>\n",
       "    <tr>\n",
       "        <td>Amy</td>\n",
       "        <td>Cornell</td>\n",
       "        <td>EE</td>\n",
       "    </tr>\n",
       "    <tr>\n",
       "        <td>Amy</td>\n",
       "        <td>Stanford</td>\n",
       "        <td>CS</td>\n",
       "    </tr>\n",
       "    <tr>\n",
       "        <td>Amy</td>\n",
       "        <td>Stanford</td>\n",
       "        <td>EE</td>\n",
       "    </tr>\n",
       "    <tr>\n",
       "        <td>Bob</td>\n",
       "        <td>Berkeley</td>\n",
       "        <td>biology</td>\n",
       "    </tr>\n",
       "    <tr>\n",
       "        <td>Craig</td>\n",
       "        <td>Cornell</td>\n",
       "        <td>CS</td>\n",
       "    </tr>\n",
       "    <tr>\n",
       "        <td>Craig</td>\n",
       "        <td>Cornell</td>\n",
       "        <td>EE</td>\n",
       "    </tr>\n",
       "    <tr>\n",
       "        <td>Craig</td>\n",
       "        <td>Cornell</td>\n",
       "        <td>bioengineering</td>\n",
       "    </tr>\n",
       "    <tr>\n",
       "        <td>Craig</td>\n",
       "        <td>MIT</td>\n",
       "        <td>bioengineering</td>\n",
       "    </tr>\n",
       "    <tr>\n",
       "        <td>Craig</td>\n",
       "        <td>MIT</td>\n",
       "        <td>CS</td>\n",
       "    </tr>\n",
       "    <tr>\n",
       "        <td>Fay</td>\n",
       "        <td>Stanford</td>\n",
       "        <td>history</td>\n",
       "    </tr>\n",
       "    <tr>\n",
       "        <td>Jay</td>\n",
       "        <td>Cornell</td>\n",
       "        <td>history</td>\n",
       "    </tr>\n",
       "    <tr>\n",
       "        <td>Jay</td>\n",
       "        <td>Cornell</td>\n",
       "        <td>psychology</td>\n",
       "    </tr>\n",
       "    <tr>\n",
       "        <td>Jay</td>\n",
       "        <td>Stanford</td>\n",
       "        <td>history</td>\n",
       "    </tr>\n",
       "    <tr>\n",
       "        <td>Irene</td>\n",
       "        <td>MIT</td>\n",
       "        <td>biology</td>\n",
       "    </tr>\n",
       "    <tr>\n",
       "        <td>Irene</td>\n",
       "        <td>MIT</td>\n",
       "        <td>marine biology</td>\n",
       "    </tr>\n",
       "    <tr>\n",
       "        <td>Irene</td>\n",
       "        <td>Stanford</td>\n",
       "        <td>CS</td>\n",
       "    </tr>\n",
       "    <tr>\n",
       "        <td>Helen</td>\n",
       "        <td>Berkeley</td>\n",
       "        <td>CS</td>\n",
       "    </tr>\n",
       "    <tr>\n",
       "        <td>Helen</td>\n",
       "        <td>Stanford</td>\n",
       "        <td>CS</td>\n",
       "    </tr>\n",
       "</table>"
      ],
      "text/plain": [
       "[('Amy', 'Berkeley', 'CS'),\n",
       " ('Amy', 'Cornell', 'EE'),\n",
       " ('Amy', 'Stanford', 'CS'),\n",
       " ('Amy', 'Stanford', 'EE'),\n",
       " ('Bob', 'Berkeley', 'biology'),\n",
       " ('Craig', 'Cornell', 'CS'),\n",
       " ('Craig', 'Cornell', 'EE'),\n",
       " ('Craig', 'Cornell', 'bioengineering'),\n",
       " ('Craig', 'MIT', 'bioengineering'),\n",
       " ('Craig', 'MIT', 'CS'),\n",
       " ('Fay', 'Stanford', 'history'),\n",
       " ('Jay', 'Cornell', 'history'),\n",
       " ('Jay', 'Cornell', 'psychology'),\n",
       " ('Jay', 'Stanford', 'history'),\n",
       " ('Irene', 'MIT', 'biology'),\n",
       " ('Irene', 'MIT', 'marine biology'),\n",
       " ('Irene', 'Stanford', 'CS'),\n",
       " ('Helen', 'Berkeley', 'CS'),\n",
       " ('Helen', 'Stanford', 'CS')]"
      ]
     },
     "execution_count": 162,
     "metadata": {},
     "output_type": "execute_result"
    }
   ],
   "source": [
    "%%sql\n",
    "SELECT  s_name AS name, c_name AS college, major\n",
    "FROM    applications\n",
    "JOIN    students\n",
    "ON      applications.s_id = students.s_id"
   ]
  },
  {
   "cell_type": "markdown",
   "metadata": {},
   "source": [
    "The condition on which we join tables is often called the _join predicate_, and a join where the join predicate is an equality test, such as here, is sometimes called an _equi-join_.\n",
    "There is a special form of join when the columns we're comparing in an equi-join have the same name:"
   ]
  },
  {
   "cell_type": "code",
   "execution_count": 163,
   "metadata": {},
   "outputs": [
    {
     "name": "stdout",
     "output_type": "stream",
     "text": [
      " * sqlite:///lect01.sqlite\n",
      "Done.\n"
     ]
    },
    {
     "data": {
      "text/html": [
       "<table>\n",
       "    <tr>\n",
       "        <th>name</th>\n",
       "        <th>college</th>\n",
       "        <th>major</th>\n",
       "    </tr>\n",
       "    <tr>\n",
       "        <td>Amy</td>\n",
       "        <td>Berkeley</td>\n",
       "        <td>CS</td>\n",
       "    </tr>\n",
       "    <tr>\n",
       "        <td>Amy</td>\n",
       "        <td>Cornell</td>\n",
       "        <td>EE</td>\n",
       "    </tr>\n",
       "    <tr>\n",
       "        <td>Amy</td>\n",
       "        <td>Stanford</td>\n",
       "        <td>CS</td>\n",
       "    </tr>\n",
       "    <tr>\n",
       "        <td>Amy</td>\n",
       "        <td>Stanford</td>\n",
       "        <td>EE</td>\n",
       "    </tr>\n",
       "    <tr>\n",
       "        <td>Bob</td>\n",
       "        <td>Berkeley</td>\n",
       "        <td>biology</td>\n",
       "    </tr>\n",
       "    <tr>\n",
       "        <td>Craig</td>\n",
       "        <td>Cornell</td>\n",
       "        <td>CS</td>\n",
       "    </tr>\n",
       "    <tr>\n",
       "        <td>Craig</td>\n",
       "        <td>Cornell</td>\n",
       "        <td>EE</td>\n",
       "    </tr>\n",
       "    <tr>\n",
       "        <td>Craig</td>\n",
       "        <td>Cornell</td>\n",
       "        <td>bioengineering</td>\n",
       "    </tr>\n",
       "    <tr>\n",
       "        <td>Craig</td>\n",
       "        <td>MIT</td>\n",
       "        <td>bioengineering</td>\n",
       "    </tr>\n",
       "    <tr>\n",
       "        <td>Craig</td>\n",
       "        <td>MIT</td>\n",
       "        <td>CS</td>\n",
       "    </tr>\n",
       "    <tr>\n",
       "        <td>Fay</td>\n",
       "        <td>Stanford</td>\n",
       "        <td>history</td>\n",
       "    </tr>\n",
       "    <tr>\n",
       "        <td>Jay</td>\n",
       "        <td>Cornell</td>\n",
       "        <td>history</td>\n",
       "    </tr>\n",
       "    <tr>\n",
       "        <td>Jay</td>\n",
       "        <td>Cornell</td>\n",
       "        <td>psychology</td>\n",
       "    </tr>\n",
       "    <tr>\n",
       "        <td>Jay</td>\n",
       "        <td>Stanford</td>\n",
       "        <td>history</td>\n",
       "    </tr>\n",
       "    <tr>\n",
       "        <td>Irene</td>\n",
       "        <td>MIT</td>\n",
       "        <td>biology</td>\n",
       "    </tr>\n",
       "    <tr>\n",
       "        <td>Irene</td>\n",
       "        <td>MIT</td>\n",
       "        <td>marine biology</td>\n",
       "    </tr>\n",
       "    <tr>\n",
       "        <td>Irene</td>\n",
       "        <td>Stanford</td>\n",
       "        <td>CS</td>\n",
       "    </tr>\n",
       "    <tr>\n",
       "        <td>Helen</td>\n",
       "        <td>Berkeley</td>\n",
       "        <td>CS</td>\n",
       "    </tr>\n",
       "    <tr>\n",
       "        <td>Helen</td>\n",
       "        <td>Stanford</td>\n",
       "        <td>CS</td>\n",
       "    </tr>\n",
       "</table>"
      ],
      "text/plain": [
       "[('Amy', 'Berkeley', 'CS'),\n",
       " ('Amy', 'Cornell', 'EE'),\n",
       " ('Amy', 'Stanford', 'CS'),\n",
       " ('Amy', 'Stanford', 'EE'),\n",
       " ('Bob', 'Berkeley', 'biology'),\n",
       " ('Craig', 'Cornell', 'CS'),\n",
       " ('Craig', 'Cornell', 'EE'),\n",
       " ('Craig', 'Cornell', 'bioengineering'),\n",
       " ('Craig', 'MIT', 'bioengineering'),\n",
       " ('Craig', 'MIT', 'CS'),\n",
       " ('Fay', 'Stanford', 'history'),\n",
       " ('Jay', 'Cornell', 'history'),\n",
       " ('Jay', 'Cornell', 'psychology'),\n",
       " ('Jay', 'Stanford', 'history'),\n",
       " ('Irene', 'MIT', 'biology'),\n",
       " ('Irene', 'MIT', 'marine biology'),\n",
       " ('Irene', 'Stanford', 'CS'),\n",
       " ('Helen', 'Berkeley', 'CS'),\n",
       " ('Helen', 'Stanford', 'CS')]"
      ]
     },
     "execution_count": 163,
     "metadata": {},
     "output_type": "execute_result"
    }
   ],
   "source": [
    "%%sql\n",
    "SELECT  s_name AS name, c_name AS college, major\n",
    "FROM    applications\n",
    "JOIN    students\n",
    "USING   (s_id)"
   ]
  },
  {
   "cell_type": "markdown",
   "metadata": {},
   "source": [
    "One benefit from using `USING` is that the columns we join over will not be duplicated, we get only one of them in the output.\n",
    "\n",
    "I'd say this is the preferred way of writing this query.\n",
    "\n",
    "There is an even simpler way to write it, using what's called a _natural join_, but it's error-prone, and you're *strongly* recommended not to use it.\n",
    "It's written as:"
   ]
  },
  {
   "cell_type": "code",
   "execution_count": 164,
   "metadata": {},
   "outputs": [
    {
     "name": "stdout",
     "output_type": "stream",
     "text": [
      " * sqlite:///lect01.sqlite\n",
      "Done.\n"
     ]
    },
    {
     "data": {
      "text/html": [
       "<table>\n",
       "    <tr>\n",
       "        <th>name</th>\n",
       "        <th>college</th>\n",
       "        <th>major</th>\n",
       "    </tr>\n",
       "    <tr>\n",
       "        <td>Amy</td>\n",
       "        <td>Berkeley</td>\n",
       "        <td>CS</td>\n",
       "    </tr>\n",
       "    <tr>\n",
       "        <td>Amy</td>\n",
       "        <td>Cornell</td>\n",
       "        <td>EE</td>\n",
       "    </tr>\n",
       "    <tr>\n",
       "        <td>Amy</td>\n",
       "        <td>Stanford</td>\n",
       "        <td>CS</td>\n",
       "    </tr>\n",
       "    <tr>\n",
       "        <td>Amy</td>\n",
       "        <td>Stanford</td>\n",
       "        <td>EE</td>\n",
       "    </tr>\n",
       "    <tr>\n",
       "        <td>Bob</td>\n",
       "        <td>Berkeley</td>\n",
       "        <td>biology</td>\n",
       "    </tr>\n",
       "    <tr>\n",
       "        <td>Craig</td>\n",
       "        <td>Cornell</td>\n",
       "        <td>CS</td>\n",
       "    </tr>\n",
       "    <tr>\n",
       "        <td>Craig</td>\n",
       "        <td>Cornell</td>\n",
       "        <td>EE</td>\n",
       "    </tr>\n",
       "    <tr>\n",
       "        <td>Craig</td>\n",
       "        <td>Cornell</td>\n",
       "        <td>bioengineering</td>\n",
       "    </tr>\n",
       "    <tr>\n",
       "        <td>Craig</td>\n",
       "        <td>MIT</td>\n",
       "        <td>bioengineering</td>\n",
       "    </tr>\n",
       "    <tr>\n",
       "        <td>Craig</td>\n",
       "        <td>MIT</td>\n",
       "        <td>CS</td>\n",
       "    </tr>\n",
       "    <tr>\n",
       "        <td>Fay</td>\n",
       "        <td>Stanford</td>\n",
       "        <td>history</td>\n",
       "    </tr>\n",
       "    <tr>\n",
       "        <td>Jay</td>\n",
       "        <td>Cornell</td>\n",
       "        <td>history</td>\n",
       "    </tr>\n",
       "    <tr>\n",
       "        <td>Jay</td>\n",
       "        <td>Cornell</td>\n",
       "        <td>psychology</td>\n",
       "    </tr>\n",
       "    <tr>\n",
       "        <td>Jay</td>\n",
       "        <td>Stanford</td>\n",
       "        <td>history</td>\n",
       "    </tr>\n",
       "    <tr>\n",
       "        <td>Irene</td>\n",
       "        <td>MIT</td>\n",
       "        <td>biology</td>\n",
       "    </tr>\n",
       "    <tr>\n",
       "        <td>Irene</td>\n",
       "        <td>MIT</td>\n",
       "        <td>marine biology</td>\n",
       "    </tr>\n",
       "    <tr>\n",
       "        <td>Irene</td>\n",
       "        <td>Stanford</td>\n",
       "        <td>CS</td>\n",
       "    </tr>\n",
       "    <tr>\n",
       "        <td>Helen</td>\n",
       "        <td>Berkeley</td>\n",
       "        <td>CS</td>\n",
       "    </tr>\n",
       "    <tr>\n",
       "        <td>Helen</td>\n",
       "        <td>Stanford</td>\n",
       "        <td>CS</td>\n",
       "    </tr>\n",
       "</table>"
      ],
      "text/plain": [
       "[('Amy', 'Berkeley', 'CS'),\n",
       " ('Amy', 'Cornell', 'EE'),\n",
       " ('Amy', 'Stanford', 'CS'),\n",
       " ('Amy', 'Stanford', 'EE'),\n",
       " ('Bob', 'Berkeley', 'biology'),\n",
       " ('Craig', 'Cornell', 'CS'),\n",
       " ('Craig', 'Cornell', 'EE'),\n",
       " ('Craig', 'Cornell', 'bioengineering'),\n",
       " ('Craig', 'MIT', 'bioengineering'),\n",
       " ('Craig', 'MIT', 'CS'),\n",
       " ('Fay', 'Stanford', 'history'),\n",
       " ('Jay', 'Cornell', 'history'),\n",
       " ('Jay', 'Cornell', 'psychology'),\n",
       " ('Jay', 'Stanford', 'history'),\n",
       " ('Irene', 'MIT', 'biology'),\n",
       " ('Irene', 'MIT', 'marine biology'),\n",
       " ('Irene', 'Stanford', 'CS'),\n",
       " ('Helen', 'Berkeley', 'CS'),\n",
       " ('Helen', 'Stanford', 'CS')]"
      ]
     },
     "execution_count": 164,
     "metadata": {},
     "output_type": "execute_result"
    }
   ],
   "source": [
    "%%sql\n",
    "SELECT        s_name AS name, c_name AS college, major\n",
    "FROM          applications\n",
    "NATURAL JOIN  students"
   ]
  },
  {
   "cell_type": "markdown",
   "metadata": {},
   "source": [
    "and it joins the tables using an equi-join for all columns with coinciding names -- _this could create big problems if there are attributes in the tables which just happen to coincide without us realizing it!_\n",
    "If we use the `JOIN` ... `USING` instead, we explicitly declare on which attributes to join, so we guard ourselves against accidental column name collisions.\n",
    "\n",
    "Observe that we can use selections just as before when we join tables.\n",
    "\n",
    "**Problem:** _Write a SQL query which shows all applications as above, but only for students applying for CS at Stanford._"
   ]
  },
  {
   "cell_type": "code",
   "execution_count": 170,
   "metadata": {},
   "outputs": [
    {
     "name": "stdout",
     "output_type": "stream",
     "text": [
      " * sqlite:///lect01.sqlite\n",
      "Done.\n"
     ]
    },
    {
     "data": {
      "text/html": [
       "<table>\n",
       "    <tr>\n",
       "        <th>name</th>\n",
       "        <th>college</th>\n",
       "        <th>major</th>\n",
       "    </tr>\n",
       "    <tr>\n",
       "        <td>Amy</td>\n",
       "        <td>Stanford</td>\n",
       "        <td>CS</td>\n",
       "    </tr>\n",
       "    <tr>\n",
       "        <td>Irene</td>\n",
       "        <td>Stanford</td>\n",
       "        <td>CS</td>\n",
       "    </tr>\n",
       "    <tr>\n",
       "        <td>Helen</td>\n",
       "        <td>Stanford</td>\n",
       "        <td>CS</td>\n",
       "    </tr>\n",
       "</table>"
      ],
      "text/plain": [
       "[('Amy', 'Stanford', 'CS'),\n",
       " ('Irene', 'Stanford', 'CS'),\n",
       " ('Helen', 'Stanford', 'CS')]"
      ]
     },
     "execution_count": 170,
     "metadata": {},
     "output_type": "execute_result"
    }
   ],
   "source": [
    "%%sql\n",
    "SELECT  s_name AS name, c_name AS college, major\n",
    "FROM    applications\n",
    "JOIN    students\n",
    "on applications.s_id = students.s_id\n",
    "where major ='CS' and college = 'Stanford'"
   ]
  },
  {
   "cell_type": "markdown",
   "metadata": {},
   "source": [
    "**Problem:** _Write a SQL query which shows the average gpa for students who have applied for each college._\n",
    "\n",
    "This time it's OK to count applicants with several applications several times (so it becomes some kind of weighed average)."
   ]
  },
  {
   "cell_type": "code",
   "execution_count": 179,
   "metadata": {},
   "outputs": [
    {
     "name": "stdout",
     "output_type": "stream",
     "text": [
      " * sqlite:///lect01.sqlite\n",
      "Done.\n"
     ]
    },
    {
     "data": {
      "text/html": [
       "<table>\n",
       "    <tr>\n",
       "        <th>name</th>\n",
       "        <th>Average GPA</th>\n",
       "    </tr>\n",
       "    <tr>\n",
       "        <td>Berkeley</td>\n",
       "        <td>3.733333333333333</td>\n",
       "    </tr>\n",
       "    <tr>\n",
       "        <td>Cornell</td>\n",
       "        <td>3.3666666666666667</td>\n",
       "    </tr>\n",
       "    <tr>\n",
       "        <td>MIT</td>\n",
       "        <td>3.6750000000000003</td>\n",
       "    </tr>\n",
       "    <tr>\n",
       "        <td>Stanford</td>\n",
       "        <td>3.683333333333333</td>\n",
       "    </tr>\n",
       "</table>"
      ],
      "text/plain": [
       "[('Berkeley', 3.733333333333333),\n",
       " ('Cornell', 3.3666666666666667),\n",
       " ('MIT', 3.6750000000000003),\n",
       " ('Stanford', 3.683333333333333)]"
      ]
     },
     "execution_count": 179,
     "metadata": {},
     "output_type": "execute_result"
    }
   ],
   "source": [
    "%%sql\n",
    "select c_name as name, avg(gpa) as \"Average GPA\"\n",
    "from applications\n",
    "join students\n",
    "using (s_id)\n",
    "group by name"
   ]
  },
  {
   "cell_type": "markdown",
   "metadata": {},
   "source": [
    "Using a CTE (`WITH` statement), we can solve this problem in a more satisfactory way (not counting grades more than once):"
   ]
  },
  {
   "cell_type": "code",
   "execution_count": 17,
   "metadata": {},
   "outputs": [
    {
     "name": "stdout",
     "output_type": "stream",
     "text": [
      " * sqlite:///lect01.sqlite\n",
      "Done.\n"
     ]
    },
    {
     "data": {
      "text/html": [
       "<table>\n",
       "    <tr>\n",
       "        <th>name</th>\n",
       "        <th>average gpa</th>\n",
       "    </tr>\n",
       "    <tr>\n",
       "        <td>Berkeley</td>\n",
       "        <td>3.733333333333333</td>\n",
       "    </tr>\n",
       "    <tr>\n",
       "        <td>Cornell</td>\n",
       "        <td>3.4333333333333336</td>\n",
       "    </tr>\n",
       "    <tr>\n",
       "        <td>MIT</td>\n",
       "        <td>3.6</td>\n",
       "    </tr>\n",
       "    <tr>\n",
       "        <td>Stanford</td>\n",
       "        <td>3.6399999999999997</td>\n",
       "    </tr>\n",
       "</table>"
      ],
      "text/plain": [
       "[('Berkeley', 3.733333333333333),\n",
       " ('Cornell', 3.4333333333333336),\n",
       " ('MIT', 3.6),\n",
       " ('Stanford', 3.6399999999999997)]"
      ]
     },
     "execution_count": 17,
     "metadata": {},
     "output_type": "execute_result"
    }
   ],
   "source": [
    "%%sql\n",
    "with \n",
    "    applicants(c_name, s_id) as (\n",
    "        select distinct\n",
    "        c_name, s_id\n",
    "        from applications\n",
    "    )\n",
    "\n",
    "select c_name as name, avg(gpa) as \"average gpa\"\n",
    "from applicants\n",
    "join students\n",
    "using (s_id)\n",
    "group by name"
   ]
  },
  {
   "cell_type": "markdown",
   "metadata": {},
   "source": [
    "We can join a table with itself, write a query which finds all pairs with the same Grade Point Average (GPA):\n",
    "\n",
    "We can do it either with a cross join:"
   ]
  },
  {
   "cell_type": "code",
   "execution_count": 18,
   "metadata": {},
   "outputs": [
    {
     "name": "stdout",
     "output_type": "stream",
     "text": [
      " * sqlite:///lect01.sqlite\n",
      "Done.\n"
     ]
    },
    {
     "data": {
      "text/html": [
       "<table>\n",
       "    <tr>\n",
       "        <th>s_id</th>\n",
       "        <th>s_name</th>\n",
       "        <th>gpa</th>\n",
       "        <th>s_id_1</th>\n",
       "        <th>s_name_1</th>\n",
       "        <th>gpa_1</th>\n",
       "    </tr>\n",
       "    <tr>\n",
       "        <td>123</td>\n",
       "        <td>Amy</td>\n",
       "        <td>3.9</td>\n",
       "        <td>654</td>\n",
       "        <td>Amy</td>\n",
       "        <td>3.9</td>\n",
       "    </tr>\n",
       "    <tr>\n",
       "        <td>123</td>\n",
       "        <td>Amy</td>\n",
       "        <td>3.9</td>\n",
       "        <td>456</td>\n",
       "        <td>Doris</td>\n",
       "        <td>3.9</td>\n",
       "    </tr>\n",
       "    <tr>\n",
       "        <td>123</td>\n",
       "        <td>Amy</td>\n",
       "        <td>3.9</td>\n",
       "        <td>876</td>\n",
       "        <td>Irene</td>\n",
       "        <td>3.9</td>\n",
       "    </tr>\n",
       "    <tr>\n",
       "        <td>456</td>\n",
       "        <td>Doris</td>\n",
       "        <td>3.9</td>\n",
       "        <td>654</td>\n",
       "        <td>Amy</td>\n",
       "        <td>3.9</td>\n",
       "    </tr>\n",
       "    <tr>\n",
       "        <td>456</td>\n",
       "        <td>Doris</td>\n",
       "        <td>3.9</td>\n",
       "        <td>876</td>\n",
       "        <td>Irene</td>\n",
       "        <td>3.9</td>\n",
       "    </tr>\n",
       "    <tr>\n",
       "        <td>543</td>\n",
       "        <td>Craig</td>\n",
       "        <td>3.4</td>\n",
       "        <td>789</td>\n",
       "        <td>Gary</td>\n",
       "        <td>3.4</td>\n",
       "    </tr>\n",
       "    <tr>\n",
       "        <td>567</td>\n",
       "        <td>Edward</td>\n",
       "        <td>2.9</td>\n",
       "        <td>765</td>\n",
       "        <td>Jay</td>\n",
       "        <td>2.9</td>\n",
       "    </tr>\n",
       "    <tr>\n",
       "        <td>654</td>\n",
       "        <td>Amy</td>\n",
       "        <td>3.9</td>\n",
       "        <td>876</td>\n",
       "        <td>Irene</td>\n",
       "        <td>3.9</td>\n",
       "    </tr>\n",
       "</table>"
      ],
      "text/plain": [
       "[(123, 'Amy', 3.9, 654, 'Amy', 3.9),\n",
       " (123, 'Amy', 3.9, 456, 'Doris', 3.9),\n",
       " (123, 'Amy', 3.9, 876, 'Irene', 3.9),\n",
       " (456, 'Doris', 3.9, 654, 'Amy', 3.9),\n",
       " (456, 'Doris', 3.9, 876, 'Irene', 3.9),\n",
       " (543, 'Craig', 3.4, 789, 'Gary', 3.4),\n",
       " (567, 'Edward', 2.9, 765, 'Jay', 2.9),\n",
       " (654, 'Amy', 3.9, 876, 'Irene', 3.9)]"
      ]
     },
     "execution_count": 18,
     "metadata": {},
     "output_type": "execute_result"
    }
   ],
   "source": [
    "%%sql\n",
    "SELECT s1.s_id, s1.s_name, s1.gpa, s2.s_id, s2.s_name, s2.gpa\n",
    "FROM   students AS s1, students AS s2\n",
    "WHERE  s1.gpa = s2.gpa AND\n",
    "       s1.s_id < s2.s_id"
   ]
  },
  {
   "cell_type": "markdown",
   "metadata": {},
   "source": [
    "or with an inner join:"
   ]
  },
  {
   "cell_type": "code",
   "execution_count": 19,
   "metadata": {},
   "outputs": [
    {
     "name": "stdout",
     "output_type": "stream",
     "text": [
      " * sqlite:///lect01.sqlite\n",
      "Done.\n"
     ]
    },
    {
     "data": {
      "text/html": [
       "<table>\n",
       "    <tr>\n",
       "        <th>s_id</th>\n",
       "        <th>s_name</th>\n",
       "        <th>s_id_1</th>\n",
       "        <th>s_name_1</th>\n",
       "        <th>gpa</th>\n",
       "    </tr>\n",
       "    <tr>\n",
       "        <td>123</td>\n",
       "        <td>Amy</td>\n",
       "        <td>654</td>\n",
       "        <td>Amy</td>\n",
       "        <td>3.9</td>\n",
       "    </tr>\n",
       "    <tr>\n",
       "        <td>123</td>\n",
       "        <td>Amy</td>\n",
       "        <td>456</td>\n",
       "        <td>Doris</td>\n",
       "        <td>3.9</td>\n",
       "    </tr>\n",
       "    <tr>\n",
       "        <td>123</td>\n",
       "        <td>Amy</td>\n",
       "        <td>876</td>\n",
       "        <td>Irene</td>\n",
       "        <td>3.9</td>\n",
       "    </tr>\n",
       "    <tr>\n",
       "        <td>456</td>\n",
       "        <td>Doris</td>\n",
       "        <td>654</td>\n",
       "        <td>Amy</td>\n",
       "        <td>3.9</td>\n",
       "    </tr>\n",
       "    <tr>\n",
       "        <td>456</td>\n",
       "        <td>Doris</td>\n",
       "        <td>876</td>\n",
       "        <td>Irene</td>\n",
       "        <td>3.9</td>\n",
       "    </tr>\n",
       "    <tr>\n",
       "        <td>543</td>\n",
       "        <td>Craig</td>\n",
       "        <td>789</td>\n",
       "        <td>Gary</td>\n",
       "        <td>3.4</td>\n",
       "    </tr>\n",
       "    <tr>\n",
       "        <td>567</td>\n",
       "        <td>Edward</td>\n",
       "        <td>765</td>\n",
       "        <td>Jay</td>\n",
       "        <td>2.9</td>\n",
       "    </tr>\n",
       "    <tr>\n",
       "        <td>654</td>\n",
       "        <td>Amy</td>\n",
       "        <td>876</td>\n",
       "        <td>Irene</td>\n",
       "        <td>3.9</td>\n",
       "    </tr>\n",
       "</table>"
      ],
      "text/plain": [
       "[(123, 'Amy', 654, 'Amy', 3.9),\n",
       " (123, 'Amy', 456, 'Doris', 3.9),\n",
       " (123, 'Amy', 876, 'Irene', 3.9),\n",
       " (456, 'Doris', 654, 'Amy', 3.9),\n",
       " (456, 'Doris', 876, 'Irene', 3.9),\n",
       " (543, 'Craig', 789, 'Gary', 3.4),\n",
       " (567, 'Edward', 765, 'Jay', 2.9),\n",
       " (654, 'Amy', 876, 'Irene', 3.9)]"
      ]
     },
     "execution_count": 19,
     "metadata": {},
     "output_type": "execute_result"
    }
   ],
   "source": [
    "%%sql\n",
    "SELECT s1.s_id, s1.s_name, s2.s_id, s2.s_name, gpa\n",
    "FROM   students AS s1 \n",
    "JOIN   students AS s2 \n",
    "USING  (gpa)\n",
    "WHERE  s1.s_id < s2.s_id"
   ]
  },
  {
   "cell_type": "markdown",
   "metadata": {},
   "source": [
    "Joining a table with itself is called a _self join_.\n",
    "       \n",
    "**Exercise:** Show the student names and majors for all applications to Stanford:"
   ]
  },
  {
   "cell_type": "code",
   "execution_count": 24,
   "metadata": {},
   "outputs": [
    {
     "name": "stdout",
     "output_type": "stream",
     "text": [
      " * sqlite:///lect01.sqlite\n",
      "Done.\n"
     ]
    },
    {
     "data": {
      "text/html": [
       "<table>\n",
       "    <tr>\n",
       "        <th>major</th>\n",
       "        <th>s_name</th>\n",
       "    </tr>\n",
       "    <tr>\n",
       "        <td>CS</td>\n",
       "        <td>Amy</td>\n",
       "    </tr>\n",
       "    <tr>\n",
       "        <td>EE</td>\n",
       "        <td>Amy</td>\n",
       "    </tr>\n",
       "    <tr>\n",
       "        <td>history</td>\n",
       "        <td>Fay</td>\n",
       "    </tr>\n",
       "    <tr>\n",
       "        <td>history</td>\n",
       "        <td>Jay</td>\n",
       "    </tr>\n",
       "    <tr>\n",
       "        <td>CS</td>\n",
       "        <td>Irene</td>\n",
       "    </tr>\n",
       "    <tr>\n",
       "        <td>CS</td>\n",
       "        <td>Helen</td>\n",
       "    </tr>\n",
       "</table>"
      ],
      "text/plain": [
       "[('CS', 'Amy'),\n",
       " ('EE', 'Amy'),\n",
       " ('history', 'Fay'),\n",
       " ('history', 'Jay'),\n",
       " ('CS', 'Irene'),\n",
       " ('CS', 'Helen')]"
      ]
     },
     "execution_count": 24,
     "metadata": {},
     "output_type": "execute_result"
    }
   ],
   "source": [
    "%%sql\n",
    "select major, s_name\n",
    "from applications\n",
    "join students\n",
    "using (s_id)\n",
    "where c_name = 'Stanford'"
   ]
  },
  {
   "cell_type": "markdown",
   "metadata": {},
   "source": [
    "**Exercise:** Show the average `size_hs` for applications to the different colleges, order by descending size:"
   ]
  },
  {
   "cell_type": "code",
   "execution_count": 25,
   "metadata": {},
   "outputs": [
    {
     "name": "stdout",
     "output_type": "stream",
     "text": [
      " * sqlite:///lect01.sqlite\n",
      "Done.\n"
     ]
    },
    {
     "data": {
      "text/html": [
       "<table>\n",
       "    <tr>\n",
       "        <th>c_name</th>\n",
       "        <th>avg(size_hs)</th>\n",
       "    </tr>\n",
       "    <tr>\n",
       "        <td>Berkeley</td>\n",
       "        <td>1100.0</td>\n",
       "    </tr>\n",
       "    <tr>\n",
       "        <td>Cornell</td>\n",
       "        <td>916.6666666666666</td>\n",
       "    </tr>\n",
       "    <tr>\n",
       "        <td>MIT</td>\n",
       "        <td>825.0</td>\n",
       "    </tr>\n",
       "    <tr>\n",
       "        <td>Stanford</td>\n",
       "        <td>816.6666666666666</td>\n",
       "    </tr>\n",
       "</table>"
      ],
      "text/plain": [
       "[('Berkeley', 1100.0),\n",
       " ('Cornell', 916.6666666666666),\n",
       " ('MIT', 825.0),\n",
       " ('Stanford', 816.6666666666666)]"
      ]
     },
     "execution_count": 25,
     "metadata": {},
     "output_type": "execute_result"
    }
   ],
   "source": [
    "%%sql\n",
    "select c_name, avg(size_hs)\n",
    "from applications\n",
    "join students\n",
    "using (s_id)\n",
    "group by c_name"
   ]
  },
  {
   "cell_type": "markdown",
   "metadata": {},
   "source": [
    "We can apply joins in several steps, each time combining what we've previously joined with another table (the result of which is a new table, which can be joined over and over again...).\n",
    "\n",
    "**Exercise:** _Show the names of all students who have applied for a college in California -- also show the college and major._"
   ]
  },
  {
   "cell_type": "code",
   "execution_count": 28,
   "metadata": {},
   "outputs": [
    {
     "name": "stdout",
     "output_type": "stream",
     "text": [
      " * sqlite:///lect01.sqlite\n",
      "Done.\n"
     ]
    },
    {
     "data": {
      "text/html": [
       "<table>\n",
       "    <tr>\n",
       "        <th>s_name</th>\n",
       "        <th>c_name</th>\n",
       "        <th>major</th>\n",
       "        <th>state</th>\n",
       "    </tr>\n",
       "    <tr>\n",
       "        <td>Amy</td>\n",
       "        <td>Berkeley</td>\n",
       "        <td>CS</td>\n",
       "        <td>CA</td>\n",
       "    </tr>\n",
       "    <tr>\n",
       "        <td>Amy</td>\n",
       "        <td>Stanford</td>\n",
       "        <td>CS</td>\n",
       "        <td>CA</td>\n",
       "    </tr>\n",
       "    <tr>\n",
       "        <td>Amy</td>\n",
       "        <td>Stanford</td>\n",
       "        <td>EE</td>\n",
       "        <td>CA</td>\n",
       "    </tr>\n",
       "    <tr>\n",
       "        <td>Bob</td>\n",
       "        <td>Berkeley</td>\n",
       "        <td>biology</td>\n",
       "        <td>CA</td>\n",
       "    </tr>\n",
       "    <tr>\n",
       "        <td>Fay</td>\n",
       "        <td>Stanford</td>\n",
       "        <td>history</td>\n",
       "        <td>CA</td>\n",
       "    </tr>\n",
       "    <tr>\n",
       "        <td>Jay</td>\n",
       "        <td>Stanford</td>\n",
       "        <td>history</td>\n",
       "        <td>CA</td>\n",
       "    </tr>\n",
       "    <tr>\n",
       "        <td>Irene</td>\n",
       "        <td>Stanford</td>\n",
       "        <td>CS</td>\n",
       "        <td>CA</td>\n",
       "    </tr>\n",
       "    <tr>\n",
       "        <td>Helen</td>\n",
       "        <td>Berkeley</td>\n",
       "        <td>CS</td>\n",
       "        <td>CA</td>\n",
       "    </tr>\n",
       "    <tr>\n",
       "        <td>Helen</td>\n",
       "        <td>Stanford</td>\n",
       "        <td>CS</td>\n",
       "        <td>CA</td>\n",
       "    </tr>\n",
       "</table>"
      ],
      "text/plain": [
       "[('Amy', 'Berkeley', 'CS', 'CA'),\n",
       " ('Amy', 'Stanford', 'CS', 'CA'),\n",
       " ('Amy', 'Stanford', 'EE', 'CA'),\n",
       " ('Bob', 'Berkeley', 'biology', 'CA'),\n",
       " ('Fay', 'Stanford', 'history', 'CA'),\n",
       " ('Jay', 'Stanford', 'history', 'CA'),\n",
       " ('Irene', 'Stanford', 'CS', 'CA'),\n",
       " ('Helen', 'Berkeley', 'CS', 'CA'),\n",
       " ('Helen', 'Stanford', 'CS', 'CA')]"
      ]
     },
     "execution_count": 28,
     "metadata": {},
     "output_type": "execute_result"
    }
   ],
   "source": [
    "%%sql\n",
    "select s_name, c_name, major, state\n",
    "from students\n",
    "join applications\n",
    "using (s_id)\n",
    "join colleges\n",
    "using (c_name)\n",
    "where state = 'CA'"
   ]
  },
  {
   "cell_type": "markdown",
   "metadata": {},
   "source": [
    "In lab 1 you'll get plenty of exercise in joining.\n",
    "\n",
    "\n",
    "### Using CTEs and inner joins to simplify queries\n",
    "\n",
    "If we often use some query as part of other queries, we can save it using a _view_:"
   ]
  },
  {
   "cell_type": "code",
   "execution_count": 30,
   "metadata": {},
   "outputs": [
    {
     "name": "stdout",
     "output_type": "stream",
     "text": [
      " * sqlite:///lect01.sqlite\n",
      "Done.\n",
      "Done.\n",
      "Done.\n"
     ]
    },
    {
     "data": {
      "text/html": [
       "<table>\n",
       "    <tr>\n",
       "        <th>name</th>\n",
       "        <th>state</th>\n",
       "    </tr>\n",
       "    <tr>\n",
       "        <td>Amy</td>\n",
       "        <td>CA</td>\n",
       "    </tr>\n",
       "    <tr>\n",
       "        <td>Amy</td>\n",
       "        <td>NY</td>\n",
       "    </tr>\n",
       "    <tr>\n",
       "        <td>Bob</td>\n",
       "        <td>CA</td>\n",
       "    </tr>\n",
       "</table>"
      ],
      "text/plain": [
       "[('Amy', 'CA'), ('Amy', 'NY'), ('Bob', 'CA')]"
      ]
     },
     "execution_count": 30,
     "metadata": {},
     "output_type": "execute_result"
    }
   ],
   "source": [
    "%%sql\n",
    "DROP VIEW IF EXISTS application_info;\n",
    "CREATE VIEW application_info(s_id, name, major, college, state) AS\n",
    "  SELECT s_id, s_name, major, c_name, state\n",
    "  FROM   applications\n",
    "  JOIN   students\n",
    "  USING  (s_id)\n",
    "  JOIN   colleges\n",
    "  USING  (c_name);\n",
    "\n",
    "SELECT DISTINCT name, state\n",
    "FROM   application_info\n",
    "WHERE  s_id IN (123, 234, 456);"
   ]
  },
  {
   "cell_type": "markdown",
   "metadata": {},
   "source": [
    "In lab 1 there are a couple of queries which would be easier to write if we had one big redundant view of all data -- try to define such a view (once you've come up with it, the following queries will be very simple one-liners).\n",
    "\n",
    "Using joins we can also sometimes simplify unwieldly solutions with subqueries. We saw above that we could find all nobel laureates who had the longest name in each category (possibly tied), using the correlated subquery:"
   ]
  },
  {
   "cell_type": "code",
   "execution_count": 31,
   "metadata": {},
   "outputs": [
    {
     "name": "stdout",
     "output_type": "stream",
     "text": [
      " * sqlite:///lect01.sqlite\n",
      "Done.\n"
     ]
    },
    {
     "data": {
      "text/html": [
       "<table>\n",
       "    <tr>\n",
       "        <th>category</th>\n",
       "        <th>year</th>\n",
       "        <th>name</th>\n",
       "    </tr>\n",
       "    <tr>\n",
       "        <td>chemistry</td>\n",
       "        <td>1905</td>\n",
       "        <td>Johann Friedrich Wilhelm Adolf von Baeyer</td>\n",
       "    </tr>\n",
       "    <tr>\n",
       "        <td>literature</td>\n",
       "        <td>1911</td>\n",
       "        <td>Count Maurice (Mooris) Polidore Marie Bernhard Maeterlinck</td>\n",
       "    </tr>\n",
       "    <tr>\n",
       "        <td>medicine</td>\n",
       "        <td>1949</td>\n",
       "        <td>Antonio Caetano de Abreu Freire Egas Moniz</td>\n",
       "    </tr>\n",
       "    <tr>\n",
       "        <td>physics</td>\n",
       "        <td>1929</td>\n",
       "        <td>Prince Louis-Victor Pierre Raymond de Broglie</td>\n",
       "    </tr>\n",
       "</table>"
      ],
      "text/plain": [
       "[('chemistry', 1905, 'Johann Friedrich Wilhelm Adolf von Baeyer'),\n",
       " ('literature', 1911, 'Count Maurice (Mooris) Polidore Marie Bernhard Maeterlinck'),\n",
       " ('medicine', 1949, 'Antonio Caetano de Abreu Freire Egas Moniz'),\n",
       " ('physics', 1929, 'Prince Louis-Victor Pierre Raymond de Broglie')]"
      ]
     },
     "execution_count": 31,
     "metadata": {},
     "output_type": "execute_result"
    }
   ],
   "source": [
    "%%sql\n",
    "SELECT  category, year, name\n",
    "FROM    nobel AS outer_nobel\n",
    "WHERE   length(name) = (\n",
    "            SELECT max(length(name))\n",
    "            FROM   nobel\n",
    "            WHERE  category = outer_nobel.category)\n",
    "ORDER BY category"
   ]
  },
  {
   "cell_type": "markdown",
   "metadata": {},
   "source": [
    "A nicer way of solving this is to first save the length of the longest name for each subquery in a temporary table, and then join this table using the category:"
   ]
  },
  {
   "cell_type": "code",
   "execution_count": 33,
   "metadata": {},
   "outputs": [
    {
     "name": "stdout",
     "output_type": "stream",
     "text": [
      " * sqlite:///lect01.sqlite\n",
      "Done.\n"
     ]
    },
    {
     "data": {
      "text/html": [
       "<table>\n",
       "    <tr>\n",
       "        <th>year</th>\n",
       "        <th>category</th>\n",
       "        <th>name</th>\n",
       "    </tr>\n",
       "    <tr>\n",
       "        <td>1905</td>\n",
       "        <td>chemistry</td>\n",
       "        <td>Johann Friedrich Wilhelm Adolf von Baeyer</td>\n",
       "    </tr>\n",
       "    <tr>\n",
       "        <td>1911</td>\n",
       "        <td>literature</td>\n",
       "        <td>Count Maurice (Mooris) Polidore Marie Bernhard Maeterlinck</td>\n",
       "    </tr>\n",
       "    <tr>\n",
       "        <td>1949</td>\n",
       "        <td>medicine</td>\n",
       "        <td>Antonio Caetano de Abreu Freire Egas Moniz</td>\n",
       "    </tr>\n",
       "    <tr>\n",
       "        <td>1929</td>\n",
       "        <td>physics</td>\n",
       "        <td>Prince Louis-Victor Pierre Raymond de Broglie</td>\n",
       "    </tr>\n",
       "</table>"
      ],
      "text/plain": [
       "[(1905, 'chemistry', 'Johann Friedrich Wilhelm Adolf von Baeyer'),\n",
       " (1911, 'literature', 'Count Maurice (Mooris) Polidore Marie Bernhard Maeterlinck'),\n",
       " (1949, 'medicine', 'Antonio Caetano de Abreu Freire Egas Moniz'),\n",
       " (1929, 'physics', 'Prince Louis-Victor Pierre Raymond de Broglie')]"
      ]
     },
     "execution_count": 33,
     "metadata": {},
     "output_type": "execute_result"
    }
   ],
   "source": [
    "%%sql\n",
    "WITH max_category_name_length(category, max_name_length) AS (\n",
    "  SELECT   category, max(length(name))\n",
    "  FROM     nobel\n",
    "  GROUP BY category\n",
    ")\n",
    "SELECT year, category, name\n",
    "FROM   nobel\n",
    "JOIN   max_category_name_length\n",
    "USING  (category)\n",
    "WHERE  length(name) = max_name_length\n",
    "ORDER BY  category, year, name"
   ]
  },
  {
   "cell_type": "markdown",
   "metadata": {},
   "source": [
    "In the joined table (`nobel JOIN max_category_name_length`), each row will get the additional `max_name_length` column, and it's the max length for the category of the award the row describes (since we joined using `category`).\n",
    "\n",
    "\n",
    "## Outer joins\n",
    "\n",
    "An inner join combines rows in different tables _when there is a match in the other table_, rows with no corresponding row in the other table will not turn up in the joined table.\n",
    "\n",
    "With an _outer join_ we can make sure that every row in one or both of the tables turn up in the joined table -- in case there is no match, it will be combined with a row containing only `NULL` values (`NULL` is written as `None` in our notebooks).\n",
    "\n",
    "As as example, we've seen how to join students and their applications:"
   ]
  },
  {
   "cell_type": "code",
   "execution_count": 34,
   "metadata": {},
   "outputs": [
    {
     "name": "stdout",
     "output_type": "stream",
     "text": [
      " * sqlite:///lect01.sqlite\n",
      "(sqlite3.OperationalError) RIGHT and FULL OUTER JOINs are not currently supported\n",
      "[SQL: select s_name, c_name\n",
      "from students\n",
      "outer join applications]\n",
      "(Background on this error at: http://sqlalche.me/e/e3q8)\n"
     ]
    }
   ],
   "source": [
    "%%sql\n",
    "select s_name, c_name\n",
    "from students\n",
    "outer join applications"
   ]
  },
  {
   "cell_type": "markdown",
   "metadata": {},
   "source": [
    "Now, assume we also want to see those students who haven't applied, we can do that using a _left outer join_:"
   ]
  },
  {
   "cell_type": "code",
   "execution_count": 35,
   "metadata": {},
   "outputs": [
    {
     "name": "stdout",
     "output_type": "stream",
     "text": [
      " * sqlite:///lect01.sqlite\n",
      "Done.\n"
     ]
    },
    {
     "data": {
      "text/html": [
       "<table>\n",
       "    <tr>\n",
       "        <th>s_id</th>\n",
       "        <th>s_name</th>\n",
       "        <th>c_name</th>\n",
       "        <th>major</th>\n",
       "    </tr>\n",
       "    <tr>\n",
       "        <td>123</td>\n",
       "        <td>Amy</td>\n",
       "        <td>Berkeley</td>\n",
       "        <td>CS</td>\n",
       "    </tr>\n",
       "    <tr>\n",
       "        <td>123</td>\n",
       "        <td>Amy</td>\n",
       "        <td>Cornell</td>\n",
       "        <td>EE</td>\n",
       "    </tr>\n",
       "    <tr>\n",
       "        <td>123</td>\n",
       "        <td>Amy</td>\n",
       "        <td>Stanford</td>\n",
       "        <td>CS</td>\n",
       "    </tr>\n",
       "    <tr>\n",
       "        <td>123</td>\n",
       "        <td>Amy</td>\n",
       "        <td>Stanford</td>\n",
       "        <td>EE</td>\n",
       "    </tr>\n",
       "    <tr>\n",
       "        <td>234</td>\n",
       "        <td>Bob</td>\n",
       "        <td>Berkeley</td>\n",
       "        <td>biology</td>\n",
       "    </tr>\n",
       "    <tr>\n",
       "        <td>345</td>\n",
       "        <td>Craig</td>\n",
       "        <td>Cornell</td>\n",
       "        <td>CS</td>\n",
       "    </tr>\n",
       "    <tr>\n",
       "        <td>345</td>\n",
       "        <td>Craig</td>\n",
       "        <td>Cornell</td>\n",
       "        <td>EE</td>\n",
       "    </tr>\n",
       "    <tr>\n",
       "        <td>345</td>\n",
       "        <td>Craig</td>\n",
       "        <td>Cornell</td>\n",
       "        <td>bioengineering</td>\n",
       "    </tr>\n",
       "    <tr>\n",
       "        <td>345</td>\n",
       "        <td>Craig</td>\n",
       "        <td>MIT</td>\n",
       "        <td>bioengineering</td>\n",
       "    </tr>\n",
       "    <tr>\n",
       "        <td>456</td>\n",
       "        <td>Doris</td>\n",
       "        <td>None</td>\n",
       "        <td>None</td>\n",
       "    </tr>\n",
       "    <tr>\n",
       "        <td>543</td>\n",
       "        <td>Craig</td>\n",
       "        <td>MIT</td>\n",
       "        <td>CS</td>\n",
       "    </tr>\n",
       "    <tr>\n",
       "        <td>567</td>\n",
       "        <td>Edward</td>\n",
       "        <td>None</td>\n",
       "        <td>None</td>\n",
       "    </tr>\n",
       "    <tr>\n",
       "        <td>654</td>\n",
       "        <td>Amy</td>\n",
       "        <td>None</td>\n",
       "        <td>None</td>\n",
       "    </tr>\n",
       "    <tr>\n",
       "        <td>678</td>\n",
       "        <td>Fay</td>\n",
       "        <td>Stanford</td>\n",
       "        <td>history</td>\n",
       "    </tr>\n",
       "    <tr>\n",
       "        <td>765</td>\n",
       "        <td>Jay</td>\n",
       "        <td>Cornell</td>\n",
       "        <td>history</td>\n",
       "    </tr>\n",
       "    <tr>\n",
       "        <td>765</td>\n",
       "        <td>Jay</td>\n",
       "        <td>Cornell</td>\n",
       "        <td>psychology</td>\n",
       "    </tr>\n",
       "    <tr>\n",
       "        <td>765</td>\n",
       "        <td>Jay</td>\n",
       "        <td>Stanford</td>\n",
       "        <td>history</td>\n",
       "    </tr>\n",
       "    <tr>\n",
       "        <td>789</td>\n",
       "        <td>Gary</td>\n",
       "        <td>None</td>\n",
       "        <td>None</td>\n",
       "    </tr>\n",
       "    <tr>\n",
       "        <td>876</td>\n",
       "        <td>Irene</td>\n",
       "        <td>MIT</td>\n",
       "        <td>biology</td>\n",
       "    </tr>\n",
       "    <tr>\n",
       "        <td>876</td>\n",
       "        <td>Irene</td>\n",
       "        <td>MIT</td>\n",
       "        <td>marine biology</td>\n",
       "    </tr>\n",
       "    <tr>\n",
       "        <td>876</td>\n",
       "        <td>Irene</td>\n",
       "        <td>Stanford</td>\n",
       "        <td>CS</td>\n",
       "    </tr>\n",
       "    <tr>\n",
       "        <td>987</td>\n",
       "        <td>Helen</td>\n",
       "        <td>Berkeley</td>\n",
       "        <td>CS</td>\n",
       "    </tr>\n",
       "    <tr>\n",
       "        <td>987</td>\n",
       "        <td>Helen</td>\n",
       "        <td>Stanford</td>\n",
       "        <td>CS</td>\n",
       "    </tr>\n",
       "</table>"
      ],
      "text/plain": [
       "[(123, 'Amy', 'Berkeley', 'CS'),\n",
       " (123, 'Amy', 'Cornell', 'EE'),\n",
       " (123, 'Amy', 'Stanford', 'CS'),\n",
       " (123, 'Amy', 'Stanford', 'EE'),\n",
       " (234, 'Bob', 'Berkeley', 'biology'),\n",
       " (345, 'Craig', 'Cornell', 'CS'),\n",
       " (345, 'Craig', 'Cornell', 'EE'),\n",
       " (345, 'Craig', 'Cornell', 'bioengineering'),\n",
       " (345, 'Craig', 'MIT', 'bioengineering'),\n",
       " (456, 'Doris', None, None),\n",
       " (543, 'Craig', 'MIT', 'CS'),\n",
       " (567, 'Edward', None, None),\n",
       " (654, 'Amy', None, None),\n",
       " (678, 'Fay', 'Stanford', 'history'),\n",
       " (765, 'Jay', 'Cornell', 'history'),\n",
       " (765, 'Jay', 'Cornell', 'psychology'),\n",
       " (765, 'Jay', 'Stanford', 'history'),\n",
       " (789, 'Gary', None, None),\n",
       " (876, 'Irene', 'MIT', 'biology'),\n",
       " (876, 'Irene', 'MIT', 'marine biology'),\n",
       " (876, 'Irene', 'Stanford', 'CS'),\n",
       " (987, 'Helen', 'Berkeley', 'CS'),\n",
       " (987, 'Helen', 'Stanford', 'CS')]"
      ]
     },
     "execution_count": 35,
     "metadata": {},
     "output_type": "execute_result"
    }
   ],
   "source": [
    "%%sql\n",
    "SELECT  s_id, s_name, c_name, major\n",
    "FROM    students\n",
    "    LEFT OUTER JOIN applications USING (s_id)"
   ]
  },
  {
   "cell_type": "markdown",
   "metadata": {},
   "source": [
    "We still get the rows we got before, but now we also get rows with `NULL`'s in the attributes from the right relation, if there is no row in the right table which corresponds to a row in the left table (i.e., the `s_id` found in the `students` table has no match in the `applications` table -- the tuples on the left are sometimes called _dangling tuples_).\n",
    "\n",
    "By the way, we can omit the `OUTER` keyword:"
   ]
  },
  {
   "cell_type": "code",
   "execution_count": null,
   "metadata": {},
   "outputs": [],
   "source": [
    "%%sql\n"
   ]
  },
  {
   "cell_type": "markdown",
   "metadata": {},
   "source": [
    "There is a 'natural' version of outer joins ..."
   ]
  },
  {
   "cell_type": "code",
   "execution_count": null,
   "metadata": {},
   "outputs": [],
   "source": [
    "%%sql\n"
   ]
  },
  {
   "cell_type": "markdown",
   "metadata": {},
   "source": [
    "... but for the same reasons as for inner joins, it's _much_, _much_ better to explicitly declare which attribute we're joining (using `USING`).\n",
    "\n",
    "There is a way to get the same result without inner or outer joins, but it requires more code:"
   ]
  },
  {
   "cell_type": "code",
   "execution_count": 36,
   "metadata": {},
   "outputs": [
    {
     "name": "stdout",
     "output_type": "stream",
     "text": [
      " * sqlite:///lect01.sqlite\n",
      "Done.\n"
     ]
    },
    {
     "data": {
      "text/html": [
       "<table>\n",
       "    <tr>\n",
       "        <th>s_name</th>\n",
       "        <th>s_id</th>\n",
       "        <th>c_name</th>\n",
       "        <th>major</th>\n",
       "    </tr>\n",
       "    <tr>\n",
       "        <td>Amy</td>\n",
       "        <td>123</td>\n",
       "        <td>Berkeley</td>\n",
       "        <td>CS</td>\n",
       "    </tr>\n",
       "    <tr>\n",
       "        <td>Amy</td>\n",
       "        <td>123</td>\n",
       "        <td>Cornell</td>\n",
       "        <td>EE</td>\n",
       "    </tr>\n",
       "    <tr>\n",
       "        <td>Amy</td>\n",
       "        <td>123</td>\n",
       "        <td>Stanford</td>\n",
       "        <td>CS</td>\n",
       "    </tr>\n",
       "    <tr>\n",
       "        <td>Amy</td>\n",
       "        <td>123</td>\n",
       "        <td>Stanford</td>\n",
       "        <td>EE</td>\n",
       "    </tr>\n",
       "    <tr>\n",
       "        <td>Amy</td>\n",
       "        <td>654</td>\n",
       "        <td>None</td>\n",
       "        <td>None</td>\n",
       "    </tr>\n",
       "    <tr>\n",
       "        <td>Bob</td>\n",
       "        <td>234</td>\n",
       "        <td>Berkeley</td>\n",
       "        <td>biology</td>\n",
       "    </tr>\n",
       "    <tr>\n",
       "        <td>Craig</td>\n",
       "        <td>345</td>\n",
       "        <td>Cornell</td>\n",
       "        <td>CS</td>\n",
       "    </tr>\n",
       "    <tr>\n",
       "        <td>Craig</td>\n",
       "        <td>345</td>\n",
       "        <td>Cornell</td>\n",
       "        <td>EE</td>\n",
       "    </tr>\n",
       "    <tr>\n",
       "        <td>Craig</td>\n",
       "        <td>345</td>\n",
       "        <td>Cornell</td>\n",
       "        <td>bioengineering</td>\n",
       "    </tr>\n",
       "    <tr>\n",
       "        <td>Craig</td>\n",
       "        <td>345</td>\n",
       "        <td>MIT</td>\n",
       "        <td>bioengineering</td>\n",
       "    </tr>\n",
       "    <tr>\n",
       "        <td>Craig</td>\n",
       "        <td>543</td>\n",
       "        <td>MIT</td>\n",
       "        <td>CS</td>\n",
       "    </tr>\n",
       "    <tr>\n",
       "        <td>Doris</td>\n",
       "        <td>456</td>\n",
       "        <td>None</td>\n",
       "        <td>None</td>\n",
       "    </tr>\n",
       "    <tr>\n",
       "        <td>Edward</td>\n",
       "        <td>567</td>\n",
       "        <td>None</td>\n",
       "        <td>None</td>\n",
       "    </tr>\n",
       "    <tr>\n",
       "        <td>Fay</td>\n",
       "        <td>678</td>\n",
       "        <td>Stanford</td>\n",
       "        <td>history</td>\n",
       "    </tr>\n",
       "    <tr>\n",
       "        <td>Gary</td>\n",
       "        <td>789</td>\n",
       "        <td>None</td>\n",
       "        <td>None</td>\n",
       "    </tr>\n",
       "    <tr>\n",
       "        <td>Helen</td>\n",
       "        <td>987</td>\n",
       "        <td>Berkeley</td>\n",
       "        <td>CS</td>\n",
       "    </tr>\n",
       "    <tr>\n",
       "        <td>Helen</td>\n",
       "        <td>987</td>\n",
       "        <td>Stanford</td>\n",
       "        <td>CS</td>\n",
       "    </tr>\n",
       "    <tr>\n",
       "        <td>Irene</td>\n",
       "        <td>876</td>\n",
       "        <td>MIT</td>\n",
       "        <td>biology</td>\n",
       "    </tr>\n",
       "    <tr>\n",
       "        <td>Irene</td>\n",
       "        <td>876</td>\n",
       "        <td>MIT</td>\n",
       "        <td>marine biology</td>\n",
       "    </tr>\n",
       "    <tr>\n",
       "        <td>Irene</td>\n",
       "        <td>876</td>\n",
       "        <td>Stanford</td>\n",
       "        <td>CS</td>\n",
       "    </tr>\n",
       "    <tr>\n",
       "        <td>Jay</td>\n",
       "        <td>765</td>\n",
       "        <td>Cornell</td>\n",
       "        <td>history</td>\n",
       "    </tr>\n",
       "    <tr>\n",
       "        <td>Jay</td>\n",
       "        <td>765</td>\n",
       "        <td>Cornell</td>\n",
       "        <td>psychology</td>\n",
       "    </tr>\n",
       "    <tr>\n",
       "        <td>Jay</td>\n",
       "        <td>765</td>\n",
       "        <td>Stanford</td>\n",
       "        <td>history</td>\n",
       "    </tr>\n",
       "</table>"
      ],
      "text/plain": [
       "[('Amy', 123, 'Berkeley', 'CS'),\n",
       " ('Amy', 123, 'Cornell', 'EE'),\n",
       " ('Amy', 123, 'Stanford', 'CS'),\n",
       " ('Amy', 123, 'Stanford', 'EE'),\n",
       " ('Amy', 654, None, None),\n",
       " ('Bob', 234, 'Berkeley', 'biology'),\n",
       " ('Craig', 345, 'Cornell', 'CS'),\n",
       " ('Craig', 345, 'Cornell', 'EE'),\n",
       " ('Craig', 345, 'Cornell', 'bioengineering'),\n",
       " ('Craig', 345, 'MIT', 'bioengineering'),\n",
       " ('Craig', 543, 'MIT', 'CS'),\n",
       " ('Doris', 456, None, None),\n",
       " ('Edward', 567, None, None),\n",
       " ('Fay', 678, 'Stanford', 'history'),\n",
       " ('Gary', 789, None, None),\n",
       " ('Helen', 987, 'Berkeley', 'CS'),\n",
       " ('Helen', 987, 'Stanford', 'CS'),\n",
       " ('Irene', 876, 'MIT', 'biology'),\n",
       " ('Irene', 876, 'MIT', 'marine biology'),\n",
       " ('Irene', 876, 'Stanford', 'CS'),\n",
       " ('Jay', 765, 'Cornell', 'history'),\n",
       " ('Jay', 765, 'Cornell', 'psychology'),\n",
       " ('Jay', 765, 'Stanford', 'history')]"
      ]
     },
     "execution_count": 36,
     "metadata": {},
     "output_type": "execute_result"
    }
   ],
   "source": [
    "%%sql\n",
    "SELECT      s_name, s.s_id, c_name, major\n",
    "FROM        students s\n",
    "CROSS JOIN  applications a\n",
    "WHERE       s.s_id = a.s_id\n",
    "UNION\n",
    "SELECT      s_name, s_id, NULL, NULL\n",
    "FROM        students\n",
    "WHERE       s_id NOT IN (SELECT s_id\n",
    "                         FROM   applications)"
   ]
  },
  {
   "cell_type": "markdown",
   "metadata": {},
   "source": [
    "Seing this might help you understand what left outer join actually returns.\n",
    "\n",
    "Now, the opposite problem, we want to see applications with no matching students -- of course we could just swap `students` and `applications` in the query above, but we could also use a _right outer join_:"
   ]
  },
  {
   "cell_type": "code",
   "execution_count": 37,
   "metadata": {},
   "outputs": [
    {
     "name": "stdout",
     "output_type": "stream",
     "text": [
      " * sqlite:///lect01.sqlite\n",
      "(sqlite3.OperationalError) RIGHT and FULL OUTER JOINs are not currently supported\n",
      "[SQL: SELECT     s_name, s_id, c_name, major\n",
      "FROM       students\n",
      "RIGHT JOIN applications USING (s_id)]\n",
      "(Background on this error at: http://sqlalche.me/e/e3q8)\n"
     ]
    }
   ],
   "source": [
    "%%sql\n",
    "SELECT     s_name, s_id, c_name, major\n",
    "FROM       students\n",
    "RIGHT JOIN applications USING (s_id)"
   ]
  },
  {
   "cell_type": "markdown",
   "metadata": {},
   "source": [
    "There is also a _full outer join_, which combines the left-\n",
    "and the right outer joins:"
   ]
  },
  {
   "cell_type": "code",
   "execution_count": null,
   "metadata": {},
   "outputs": [],
   "source": [
    "%%sql\n",
    "SELECT    s_name, s_id, c_name, major\n",
    "FROM      students\n",
    "FULL JOIN applications USING (s_id)"
   ]
  },
  {
   "cell_type": "markdown",
   "metadata": {},
   "source": [
    "Up until recently, SQLite only supported left outer joins, the other ones were left out :-), but since 2022 it supports left, right and full outer joins -- not having right outer join wasn't that much of an issue, since we can always turn a left outer join into a right outer join by taking the tables in reverse order.\n",
    "If you run into problems using right or full outer joins in SQLite, you can either try to update SQLite (to at least 3.39.0), or just reverse the order of the tables (in case of a right outer join), or use `UNION` to combine two outer joins (in case of a full outer join).\n",
    "\n",
    "\n",
    "**Exercise:** _Find all 'spurious' applications, i.e., applications where the student id doesn't match any student's id._ Try to solve this exercise in two ways (one using an outer join, the other using subqueries)."
   ]
  },
  {
   "cell_type": "code",
   "execution_count": null,
   "metadata": {},
   "outputs": [],
   "source": [
    "%%sql\n"
   ]
  },
  {
   "cell_type": "code",
   "execution_count": null,
   "metadata": {},
   "outputs": [],
   "source": [
    "%%sql\n"
   ]
  },
  {
   "cell_type": "markdown",
   "metadata": {},
   "source": [
    "# Problems/Exercises\n",
    "\n",
    "**Problem:** _How many olympic games have each continent hosted?_"
   ]
  },
  {
   "cell_type": "code",
   "execution_count": 43,
   "metadata": {},
   "outputs": [
    {
     "name": "stdout",
     "output_type": "stream",
     "text": [
      " * sqlite:///lect01.sqlite\n",
      "Done.\n"
     ]
    },
    {
     "data": {
      "text/html": [
       "<table>\n",
       "    <tr>\n",
       "        <th>country</th>\n",
       "        <th>continent</th>\n",
       "    </tr>\n",
       "    <tr>\n",
       "        <td>France</td>\n",
       "        <td>Europe</td>\n",
       "    </tr>\n",
       "    <tr>\n",
       "        <td>Switzerland</td>\n",
       "        <td>Europe</td>\n",
       "    </tr>\n",
       "    <tr>\n",
       "        <td>United States</td>\n",
       "        <td>North America</td>\n",
       "    </tr>\n",
       "    <tr>\n",
       "        <td>Germany</td>\n",
       "        <td>Europe</td>\n",
       "    </tr>\n",
       "    <tr>\n",
       "        <td> Switzerland</td>\n",
       "        <td>Europe</td>\n",
       "    </tr>\n",
       "</table>"
      ],
      "text/plain": [
       "[('France', 'Europe'),\n",
       " ('Switzerland', 'Europe'),\n",
       " ('United States', 'North America'),\n",
       " ('Germany', 'Europe'),\n",
       " (' Switzerland', 'Europe')]"
      ]
     },
     "execution_count": 43,
     "metadata": {},
     "output_type": "execute_result"
    }
   ],
   "source": [
    "%%sql\n",
    "select *\n",
    "from continents\n",
    "limit 5"
   ]
  },
  {
   "cell_type": "code",
   "execution_count": 44,
   "metadata": {},
   "outputs": [
    {
     "name": "stdout",
     "output_type": "stream",
     "text": [
      " * sqlite:///lect01.sqlite\n",
      "Done.\n"
     ]
    },
    {
     "data": {
      "text/html": [
       "<table>\n",
       "    <tr>\n",
       "        <th>continent</th>\n",
       "        <th>Number of games hosted</th>\n",
       "    </tr>\n",
       "    <tr>\n",
       "        <td>Asia</td>\n",
       "        <td>8</td>\n",
       "    </tr>\n",
       "    <tr>\n",
       "        <td>Australia</td>\n",
       "        <td>2</td>\n",
       "    </tr>\n",
       "    <tr>\n",
       "        <td>Europe</td>\n",
       "        <td>31</td>\n",
       "    </tr>\n",
       "    <tr>\n",
       "        <td>North America</td>\n",
       "        <td>12</td>\n",
       "    </tr>\n",
       "    <tr>\n",
       "        <td>South America</td>\n",
       "        <td>1</td>\n",
       "    </tr>\n",
       "</table>"
      ],
      "text/plain": [
       "[('Asia', 8),\n",
       " ('Australia', 2),\n",
       " ('Europe', 31),\n",
       " ('North America', 12),\n",
       " ('South America', 1)]"
      ]
     },
     "execution_count": 44,
     "metadata": {},
     "output_type": "execute_result"
    }
   ],
   "source": [
    "%%sql\n",
    "select continent, count() as \"Number of games hosted\"\n",
    "from olympics\n",
    "join continents\n",
    "using (country)\n",
    "group by continent"
   ]
  },
  {
   "cell_type": "markdown",
   "metadata": {},
   "source": [
    "**Problem:** _Some years no Nobel prize was awarded in some categories, list all such years/categories (we'll only deal with physics, chemistry, medicine and literature, since they're the only ones we have in our database...)._\n",
    "\n",
    "Hint: To solve this problem we want to keep track of all possible prizes which could have been awarded, assuming all categories have been awarded since the outset (and indeed they have). So we want three things:\n",
    "\n",
    "+ all years when prizes were awarded (in any category)\n",
    "+ all categories (in our database...)\n",
    "+ all combinations of years/categories\n",
    "\n",
    "We can use a cross join to get all combinations:"
   ]
  },
  {
   "cell_type": "code",
   "execution_count": 53,
   "metadata": {},
   "outputs": [
    {
     "name": "stdout",
     "output_type": "stream",
     "text": [
      " * sqlite:///lect01.sqlite\n",
      "Done.\n"
     ]
    },
    {
     "data": {
      "text/html": [
       "<table>\n",
       "    <tr>\n",
       "        <th>category</th>\n",
       "        <th>year</th>\n",
       "    </tr>\n",
       "    <tr>\n",
       "        <td>literature</td>\n",
       "        <td>1914</td>\n",
       "    </tr>\n",
       "    <tr>\n",
       "        <td>medicine</td>\n",
       "        <td>1915</td>\n",
       "    </tr>\n",
       "    <tr>\n",
       "        <td>chemistry</td>\n",
       "        <td>1916</td>\n",
       "    </tr>\n",
       "    <tr>\n",
       "        <td>medicine</td>\n",
       "        <td>1916</td>\n",
       "    </tr>\n",
       "    <tr>\n",
       "        <td>physics</td>\n",
       "        <td>1916</td>\n",
       "    </tr>\n",
       "    <tr>\n",
       "        <td>chemistry</td>\n",
       "        <td>1917</td>\n",
       "    </tr>\n",
       "    <tr>\n",
       "        <td>medicine</td>\n",
       "        <td>1917</td>\n",
       "    </tr>\n",
       "    <tr>\n",
       "        <td>literature</td>\n",
       "        <td>1918</td>\n",
       "    </tr>\n",
       "    <tr>\n",
       "        <td>medicine</td>\n",
       "        <td>1918</td>\n",
       "    </tr>\n",
       "    <tr>\n",
       "        <td>chemistry</td>\n",
       "        <td>1919</td>\n",
       "    </tr>\n",
       "</table>"
      ],
      "text/plain": [
       "[('literature', 1914),\n",
       " ('medicine', 1915),\n",
       " ('chemistry', 1916),\n",
       " ('medicine', 1916),\n",
       " ('physics', 1916),\n",
       " ('chemistry', 1917),\n",
       " ('medicine', 1917),\n",
       " ('literature', 1918),\n",
       " ('medicine', 1918),\n",
       " ('chemistry', 1919)]"
      ]
     },
     "execution_count": 53,
     "metadata": {},
     "output_type": "execute_result"
    }
   ],
   "source": [
    "%%sql\n",
    "with \n",
    "    years_with_prizes(year) AS (\n",
    "        SELECT distinct year\n",
    "        FROM     nobel\n",
    "    ),\n",
    "    \n",
    "    categories(category) as (\n",
    "        select distinct category\n",
    "        from nobel\n",
    "    ),\n",
    "    \n",
    "    possible_years(year, category) as (\n",
    "        select year, category\n",
    "        from years_with_prizes\n",
    "        cross join\n",
    "        categories\n",
    "    ),\n",
    "    \n",
    "    actual_years(year, category) as(\n",
    "        select distinct year, category\n",
    "        from nobel\n",
    "    )\n",
    "    \n",
    "select category, year\n",
    "from possible_years\n",
    "where (year, category) not in actual_years\n",
    "limit 10"
   ]
  },
  {
   "cell_type": "markdown",
   "metadata": {},
   "source": [
    "Once we have all possible combinations, we can use various techniques to find the missing ones:"
   ]
  },
  {
   "cell_type": "code",
   "execution_count": null,
   "metadata": {},
   "outputs": [],
   "source": [
    "%%sql\n"
   ]
  },
  {
   "cell_type": "markdown",
   "metadata": {},
   "source": [
    "Comment: Recently, SQLite has introduced a function [`generate_series`](https://sqlite.org/series.html), which lets us generate a series of values -- to generate a list of the years of 'potential' olympic summer games we can write (it was a recent addition, so it may not work in your notebook):"
   ]
  },
  {
   "cell_type": "code",
   "execution_count": null,
   "metadata": {},
   "outputs": [],
   "source": [
    "%%sql\n",
    "SELECT  value\n",
    "FROM    generate_series(1900, 2000, 4)"
   ]
  },
  {
   "cell_type": "markdown",
   "metadata": {},
   "source": [
    "During the world wars, no olympics were organized, so the list isn't quite right -- in the same manner we could have generated a list of all potential years for nobel prizes, but for some years during the wars, no prizes were awarded (not for the lack of worthy recipients).\n",
    "\n",
    "\n",
    "**Problem:** _List the three programs (college/major) which has the highest gpa for the \"last accepted\" student._ (Assuming the students are accepted in order of decreasing gpa)."
   ]
  },
  {
   "cell_type": "code",
   "execution_count": null,
   "metadata": {},
   "outputs": [],
   "source": [
    "%%sql\n"
   ]
  },
  {
   "cell_type": "markdown",
   "metadata": {},
   "source": [
    "**Exercise:** _When was the first and the latest olympic games in each continent?_"
   ]
  },
  {
   "cell_type": "code",
   "execution_count": null,
   "metadata": {},
   "outputs": [],
   "source": [
    "%%sql\n"
   ]
  },
  {
   "cell_type": "markdown",
   "metadata": {},
   "source": [
    "**Exercise:** _Generate the unwieldly college application table we started out with above from the three smaller tables._"
   ]
  },
  {
   "cell_type": "code",
   "execution_count": null,
   "metadata": {},
   "outputs": [],
   "source": [
    "%%sql\n"
   ]
  },
  {
   "cell_type": "markdown",
   "metadata": {},
   "source": [
    "**Exercise:** _Recreate the original `olympics` table from the improved `olympics` and `continents`._"
   ]
  },
  {
   "cell_type": "code",
   "execution_count": null,
   "metadata": {},
   "outputs": [],
   "source": [
    "%%sql\n"
   ]
  },
  {
   "cell_type": "markdown",
   "metadata": {},
   "source": [
    "# Instead of lists\n",
    "\n",
    "One of the 'rules' of relational databases is that the values in our tables must be primitive, we're not allowed to have lists or objects as values.\n",
    "This requirement is called the [\"First normal form\"](https://en.wikipedia.org/wiki/First_normal_form), or \"1NF\" -- we'll return to 'normal forms' during lectures 7 and 8.\n",
    "\n",
    "If we were to write a program to keep track of the phone numbers of our friends, we could write something like this in Java:"
   ]
  },
  {
   "cell_type": "markdown",
   "metadata": {},
   "source": [
    "~~~java\n",
    "class Friend {\n",
    "\n",
    "    private String name;\n",
    "    private List<PhoneNumber> phoneNumbers;\n",
    "    \n",
    "    ...\n",
    "}\n",
    "\n",
    "List<Friend> friends = ...\n",
    "~~~\n"
   ]
  },
  {
   "cell_type": "markdown",
   "metadata": {},
   "source": [
    "A literal translation of this into a table would be something like:"
   ]
  },
  {
   "cell_type": "markdown",
   "metadata": {},
   "source": [
    "~~~\n",
    "name      phone_numbers\n",
    "----      -------------\n",
    "Adam      [123456, 654321]\n",
    "Bodil     [196811]\n",
    "~~~\n"
   ]
  },
  {
   "cell_type": "markdown",
   "metadata": {},
   "source": [
    "but this is in violation of the 'First normal form', so instead we have a new row for each phone number:"
   ]
  },
  {
   "cell_type": "markdown",
   "metadata": {},
   "source": [
    "~~~\n",
    "name      phone\n",
    "----      -----\n",
    "Adam      123456\n",
    "Adam      654321\n",
    "Bodil     196811\n",
    "~~~\n"
   ]
  },
  {
   "cell_type": "markdown",
   "metadata": {},
   "source": [
    "We can ask for Adam's number with:"
   ]
  },
  {
   "cell_type": "markdown",
   "metadata": {},
   "source": [
    "~~~sql\n",
    "SELECT phone\n",
    "FROM   friends\n",
    "WHERE  name = 'Adam'\n",
    "~~~\n"
   ]
  },
  {
   "cell_type": "markdown",
   "metadata": {},
   "source": [
    "and we'd get both numbers back:"
   ]
  },
  {
   "cell_type": "markdown",
   "metadata": {},
   "source": [
    "~~~\n",
    "phone\n",
    "-----\n",
    "123456\n",
    "654321\n",
    "~~~\n"
   ]
  },
  {
   "cell_type": "markdown",
   "metadata": {},
   "source": [
    "Now, assume we also want to save the birthdays of our friends. We could add a column for birthdays like this:"
   ]
  },
  {
   "cell_type": "markdown",
   "metadata": {},
   "source": [
    "~~~\n",
    "name    birthday    phone\n",
    "----    --------    -----\n",
    "Adam    2 dec       123456\n",
    "Adam    2 dec       654321\n",
    "Bodil   30 nov      196811\n",
    "~~~\n"
   ]
  },
  {
   "cell_type": "markdown",
   "metadata": {},
   "source": [
    "What's the problem with this?\n",
    "\n",
    "And what if we also want to save our friends' email addresses:"
   ]
  },
  {
   "cell_type": "markdown",
   "metadata": {},
   "source": [
    "~~~\n",
    "name        birthday    phone       email\n",
    "----        --------    -----       -----\n",
    "Adam        2 dec       123456      adam@gmail.com\n",
    "Adam        2 dec       123456      adam@yahoo.com\n",
    "Adam        2 dec       654321      adam@gmail.com\n",
    "Adam        2 dec       654321      adam@yahoo.com\n",
    "Bodil       30 nov      196811      bodil@itu.dk\n",
    "Bodil       30 nov      196811      bodil@lu.se\n",
    "Cecilia     9 apr       511235      cecilia@dn.se\n",
    "Cecilia     9 apr       641587      cecilia@dn.se\n",
    "David       12 jun      984531      david@gmail.co\n",
    "David       12 jun      984531      david@hotmail\n",
    "Emma        11 aug      123456      emma@lu.se\n",
    "~~~\n"
   ]
  },
  {
   "cell_type": "markdown",
   "metadata": {},
   "source": [
    "It may seem silly to have four rows for Adam, but if we removed one of them, we would loose vital information. If we removed the first row, and someone asked who had the phone number 123456 *and* the email address adam@gmail.com, the query:"
   ]
  },
  {
   "cell_type": "markdown",
   "metadata": {},
   "source": [
    "~~~sql\n",
    "SELECT  name, birthday\n",
    "FROM    friends\n",
    "WHERE   phone = '123456' AND email = 'adam@gmail.com'\n",
    "~~~\n"
   ]
  },
  {
   "cell_type": "markdown",
   "metadata": {},
   "source": [
    "would give an empty result.\n",
    "\n",
    "The problem with the table above is that we have a lot of redundance, i.e., information is repeated in many places. This is not only a waste of storage space, it also makes it much, much harder to keep our tables up to date -- insertions, updates and removals affects many rows, and if we're not careful, we might leave the table in a corrupted state.\n",
    "\n",
    "**Exercise:** _The data in the table above would be much easier to maintain if we split it into several tables -- suggest how to do that._"
   ]
  }
 ],
 "metadata": {
  "kernelspec": {
   "display_name": "Python 3",
   "language": "python",
   "name": "python3"
  },
  "language_info": {
   "codemirror_mode": {
    "name": "ipython",
    "version": 3
   },
   "file_extension": ".py",
   "mimetype": "text/x-python",
   "name": "python",
   "nbconvert_exporter": "python",
   "pygments_lexer": "ipython3",
   "version": "3.7.6"
  }
 },
 "nbformat": 4,
 "nbformat_minor": 5
}
