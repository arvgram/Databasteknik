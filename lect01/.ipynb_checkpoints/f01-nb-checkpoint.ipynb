{
 "cells": [
  {
   "cell_type": "markdown",
   "id": "dda61ed7",
   "metadata": {},
   "source": [
    "<!-- # -*- mode: markdown; coding: utf-8; fill-column: 60; org-indent-mode: t; column-number-mode: t; flyspell-mode: t; ispell-local-dictionary: \"en\"; eval: (visual-on); -*- -->\n",
    "\n",
    "<meta charset=\"utf-8\"/>\n",
    "<meta name=\"viewport\" content=\"width=device-width,initial-scale=1\"/>\n",
    "<link rel=\"stylesheet\" href=\"style.css\">\n",
    "\n",
    "\n",
    "# EDAF75 -- lectures 1 and 2\n",
    "\n",
    "In the text below there are two kinds of problems:\n",
    "\n",
    "+ **Problem:**-marked problems, which I intend to solve during the lecture. Depending on how fast we progress, I may or may not have time to solve them all -- those of the problems we have to skip during the lectures are left as exercises (see below), but we can discuss them during QA sessions.\n",
    "\n",
    "+ **Exercise:**-marked problems, which I suggest you solve yourselves (we can also work on them during the QA sessions).\n",
    "  \n",
    "-----\n",
    "\n",
    "# Index\n",
    "\n",
    "+ [Basic queries](#Basic-queries) (`SELECT-FROM-WHERE`, or SFW)\n",
    "+ [Set operations](#Set-operations)\n",
    "+ [Scalar functions and aggregate functions](#Scalar-functions-and-aggregate-functions)\n",
    "+ [Grouping](#Grouping) (`GROUP BY`)\n",
    "+ [Subqueries, Views and Common Table Expressions](#Subqueries,-Views-and-Common-Table-Expressions)\n",
    "+ [Exercises to prepare for lecture 2](Exercises-to-prepare-for-lecture-2)\n",
    "+ [Redundancy, and the case for splitting up tables](#Redundancy,-and-the-case-for-splitting-up-tables)\n",
    "+ [Joining tables together](#Joining-tables-together)\n",
    "\n",
    "-----\n",
    "\n",
    "\n",
    "This document should be used as a [_Jupyter notebook_](https://jupyter.org/), it contains _cells_ in which we can evaluate program code (I assume most of you have used notebooks before, but I'll have a QA-session after the lecture, where you can ask if you have any questions about it).\n",
    "\n",
    "Jupyter notebooks have built in support for _Julia_, _Python_, and _R_ (hence _Ju-Pyt-R_), here's some Python code:"
   ]
  },
  {
   "cell_type": "code",
   "execution_count": null,
   "id": "0b0789e0",
   "metadata": {},
   "outputs": [],
   "source": [
    "def hello(name):\n",
    "    print(f\"hello, {name}!\")\n",
    "\n",
    "def main():\n",
    "    name = input(\"What's your name: \")\n",
    "    hello(name)\n",
    "    \n",
    "main()"
   ]
  },
  {
   "cell_type": "markdown",
   "id": "9a438396",
   "metadata": {},
   "source": [
    "You can run the code snippet above by clicking somewhere in the box, and press Shift-Enter.\n",
    "\n",
    "We're primarily going to run SQL code (see below) in our notebooks, but I'll also show you some Python code later on in the course (you don't have to learn Python to take the course, though).\n",
    "\n",
    "\n",
    "# Introduction to relational databases\n",
    "\n",
    "If we were to keep track of all Nobel laureates in a Python or Java program, and didn't know about relational databases, we would probably define classes for the laureates, and put them in lists. We could also define classes for the categories, and have one list for each category, or have lists with one element per year, and somehow track all laureates in that year, or use some kind of dictionaries/maps. However we chose to keep track of the data, some searches, insertions and deletions would be easy to implement, and some would be cumbersome. We'd also have to be careful to keep our data consistent.\n",
    "\n",
    "In this course, we'll use a technique which may at first seem too simple to be useful, but which turns out to be *incredibly* powerful. We're going to use [_relational databases_](https://en.wikipedia.org/wiki/Relational_database), and we'll store the data in 'simple' [_tables_](https://en.wikipedia.org/wiki/Table_(database)). Each table looks like a simple spreadsheet -- here is a table with some Nobel laureates:\n",
    "\n",
    "<style type=\"text/css\">\n",
    ".tg  {border-collapse:collapse;border-spacing:0;border-color:#999;margin:0px auto}\n",
    ".tg td{font-family:Arial, sans-serif;font-size:14px;padding:10px 5px;border-style:solid;border-width:1px;overflow:hidden;word-break:normal;border-color:#999;color:#444;background-color:#F7FDFA;}\n",
    ".tg th{font-family:Arial, sans-serif;font-size:14px;font-weight:normal;padding:10px 5px;border-style:solid;border-width:1px;overflow:hidden;word-break:normal;border-color:#999;color:#fff;background-color:#26ADE4;}\n",
    ".tg .tg-e3zv{font-weight:bold}\n",
    ".tg .tg-9hbo{font-weight:bold;vertical-align:top}\n",
    ".tg .tg-yw4l{vertical-align:top}\n",
    "</style>\n",
    "<table class=\"tg\">\n",
    "  <tr>\n",
    "    <th class=\"tg-e3zv\">year</th>\n",
    "    <th class=\"tg-9hbo\">category</th>\n",
    "    <th class=\"tg-9hbo\">name</th>\n",
    "    <th class=\"tg-9hbo\">motivation</th>\n",
    "  </tr>\n",
    "  <tr>\n",
    "    <td class=\"tg-yw4l\">2011</td>\n",
    "    <td class=\"tg-yw4l\">Literature</td>\n",
    "    <td class=\"tg-yw4l\">Tomas Tranströmer</td>\n",
    "    <td class=\"tg-yw4l\">...</td>\n",
    "  </tr>\n",
    "  <tr>\n",
    "    <td class=\"tg-yw4l\">2011</td>\n",
    "    <td class=\"tg-yw4l\">Physics</td>\n",
    "    <td class=\"tg-yw4l\">Adam Riess</td>\n",
    "    <td class=\"tg-yw4l\">...</td>\n",
    "  </tr>\n",
    "  <tr>\n",
    "    <td class=\"tg-yw4l\">2011</td>\n",
    "    <td class=\"tg-yw4l\">Chemistry</td>\n",
    "    <td class=\"tg-yw4l\">Dan Shechtman</td>\n",
    "    <td class=\"tg-yw4l\">...</td>\n",
    "  </tr>\n",
    "  <tr>\n",
    "    <td class=\"tg-yw4l\">2011</td>\n",
    "    <td class=\"tg-yw4l\">Physiology or Medicine</td>\n",
    "    <td class=\"tg-yw4l\">Ralph Steinman</td>\n",
    "    <td class=\"tg-yw4l\">...</td>\n",
    "  </tr>\n",
    "</table>\n",
    "\n",
    "A _row_ represents an item, and a _column_ represents a property of the items.\n",
    "\n",
    "In the example above, each row describes a Nobel laurate, and for each laureate, we have columns showing what year the prize was awarded, in what category, the name of the laureate, and the motivation (not shown here).\n",
    "\n",
    "One basic idea of relational databases is that all 'cells' in a table should be simple values (no lists or objects), and that we can use simple operations from [_relational algebra_](https://en.wikipedia.org/wiki/Relational_algebra) to get information from it.\n",
    "We do it using a programming language which is highly specialized for manipulating and extracting information, it is called [SQL](https://en.wikipedia.org/wiki/SQL), which is short hand for _Structured Query Language_. SQL can be pronounced as either \"S-Q-L\", or \"sequel\".\n",
    "\n",
    "SQL is divided into several sub-languages:\n",
    "\n",
    " + _Data Definition Language_ (_DDL_): constructs used to define the tables of a database,\n",
    "\n",
    " + _Data Manipulation Language_ (_DML_): statements used to query and manipulate data in a database,\n",
    "   \n",
    " + _Transaction Control Language_ (_TCL_): commands used to handle transactions (we will return to what a transaction is later in the course), and\n",
    "   \n",
    " + _Data Control Language_ (_DCL_): commands used to controll access to our data (we'll will not deal with them in this course).\n",
    "\n",
    "This week we'll focus on \"Data Manipulation\", i.e., ways to query and modify our databases -- next week we'll look at how to design and create our databases, and then use DDL to define our tables.\n",
    "\n",
    "We'll begin by discussing the following operations from relational algebra:\n",
    "\n",
    " + _selection_: choosing some of the rows of a table\n",
    "\n",
    " + _projection_: choosing some of the columns of a table\n",
    "\n",
    "We will then see various ways to refine and combine queries.\n",
    "\n",
    "\n",
    "## An actual DBMS\n",
    "\n",
    "There are many different Relational Database Management Systems ([RDMBS:es](https://en.wikipedia.org/wiki/Relational_database)) which implements SQL, some of the most prominent are:\n",
    "\n",
    " *  [PostgreSQL](https://en.wikipedia.org/wiki/PostgreSQL)\n",
    " *  [MariaDB](https://en.wikipedia.org/wiki/MariaDB)\n",
    " *  [MySQL](https://en.wikipedia.org/wiki/MySQL)\n",
    " *  [Oracle](https://en.wikipedia.org/wiki/Oracle_Database)\n",
    " *  [Microsoft SQL Server](https://en.wikipedia.org/wiki/Microsoft_SQL_Server)\n",
    " *  [IBM DD2](https://en.wikipedia.org/wiki/IBM_Db2_Family)\n",
    " *  [SQLite](https://en.wikipedia.org/wiki/SQLite)\n",
    "\n",
    "Most of the systems above are [_client-server_](https://en.wikipedia.org/wiki/Client%E2%80%93server_model)-systems, i.e., they have one program, a SQL server, which handles the data, and clients who communicate with the server in various ways. There are several different kinds of clients:\n",
    "\n",
    "+ We can run an IDE, which allows us to see our tables in a GUI.\n",
    "\n",
    "+ We can run command line clients (CLI) -- they are text based programs who work like typical REPLs, output will just be text in a terminal window.\n",
    "\n",
    "+ We can write scripts which we send to the server, often through a CLI.\n",
    "  \n",
    "+ We can run a notebook (such as this one), and have it communicate with our database.\n",
    "\n",
    "+ We can write code in a general purpose language, and have it communicate with our database.\n",
    "  \n",
    "In the course, we'll try all of these methods to access our databases.\n",
    "\n",
    "The RDMBS we'll use in the course is [SQLite](https://en.wikipedia.org/wiki/SQLite), which is a lightweight but still very powerful system -- it is *by far* the most used RDBMS, and it's probably already running on all of your phones and computers (just as an example, if you use Chrome for browsing, your browsing history is typically saved in a SQL-database file `.config/google-chrome/Default/History `, and Mozilla use it for storing meta-data in Firefox and Thunderbird).\n",
    "It's actually not a client/server system (instead it is a library which keeps our databases in files on our computer) -- but in the course, we'll think of SQLite as if it were a traditional client/server system, because in many ways, it behaves as one.\n",
    "\n",
    "To be able to write SQL queries in this notebook, we first have to run:"
   ]
  },
  {
   "cell_type": "code",
   "execution_count": null,
   "id": "5fffdcdd",
   "metadata": {},
   "outputs": [],
   "source": [
    "%load_ext sql"
   ]
  },
  {
   "cell_type": "markdown",
   "id": "64223fb5",
   "metadata": {},
   "source": [
    "The zip-archive in which this notebook is distributed has a file `lect01.sqlite` which contains all Nobel Laureates since 1901 -- to use it in our notebook, we import it with:"
   ]
  },
  {
   "cell_type": "code",
   "execution_count": null,
   "id": "595cc5ab",
   "metadata": {},
   "outputs": [],
   "source": [
    "%sql sqlite:///lect01.sqlite"
   ]
  },
  {
   "cell_type": "markdown",
   "id": "bf049774",
   "metadata": {},
   "source": [
    "Now we're good to go, we just have to prefix our SQL queries with `%sql` (one line of SQL) or `%%sql` (several lines of SQL, this is the form we will use in most cases).\n",
    "\n",
    "\n",
    "# Basic queries\n",
    "\n",
    "A simple _SQL query_ can be written as:"
   ]
  },
  {
   "cell_type": "markdown",
   "id": "08359a2f",
   "metadata": {},
   "source": [
    "~~~{.sql}\n",
    "SELECT <what we're looking for>\n",
    "FROM   <what table we're looking in>\n",
    "~~~\n"
   ]
  },
  {
   "cell_type": "markdown",
   "id": "b7c4e4c5",
   "metadata": {},
   "source": [
    "Here `SELECT` is used to select all rows of a given table.\n",
    "\n",
    "If we're only interesting in some of the rows, and we normally are, we write:"
   ]
  },
  {
   "cell_type": "markdown",
   "id": "880e77b4",
   "metadata": {},
   "source": [
    "~~~{.sql}\n",
    "SELECT <what we're looking for>\n",
    "FROM   <what table we're looking in>\n",
    "WHERE  <what items we're interested in>\n",
    "~~~\n"
   ]
  },
  {
   "cell_type": "markdown",
   "id": "78d495a8",
   "metadata": {},
   "source": [
    "The latter form is so common that it's got its own acronym: \"SFW\" (short for `SELECT`-`FROM`-`WHERE`).\n",
    "\n",
    "You can see all versions of the `SELECT`-statement in SQLite on their [documentation for the `SELECT` statement](https://sqlite.org/lang_select.html) (there are corresponding pages for other commands).\n",
    "\n",
    "If we want to see all columns in our rows, we can use"
   ]
  },
  {
   "cell_type": "markdown",
   "id": "63297941",
   "metadata": {},
   "source": [
    "~~~{.text}\n",
    "SELECT *\n",
    "FROM   <what table we're looking in>\n",
    "WHERE  <what items we're interested in>\n",
    "~~~\n"
   ]
  },
  {
   "cell_type": "markdown",
   "id": "4895b47f",
   "metadata": {},
   "source": [
    "This is sometimes considered 'sloppy', and we can use a projection (see above) to get just the columns we're interested in:"
   ]
  },
  {
   "cell_type": "markdown",
   "id": "e446d90e",
   "metadata": {},
   "source": [
    "~~~{.text}\n",
    "SELECT <column 1>, <column 2>, ...\n",
    "FROM   <what table we're looking in>\n",
    "WHERE  <what items we're interested in>\n",
    "~~~\n"
   ]
  },
  {
   "cell_type": "markdown",
   "id": "d1f14e4e",
   "metadata": {},
   "source": [
    "Observe that the selection (what rows we're interested in) is given in the `WHERE` clause, whereas the projection (what columns we're interested in) is defined in the `SELECT` clause (the naming is somewhat counter-intuitive).\n",
    "\n",
    "Our Nobel Database contains the following information for each laureate:\n",
    "\n",
    " *  the _year_ the prize was awarded\n",
    " *  the _category_ ('chemistry', 'literature', 'physics', 'medicine')\n",
    " *  the _name_\n",
    " *  the _motivation_\n",
    "\n",
    "Let's use the first form above to see all Nobel prizes which has been handed out:"
   ]
  },
  {
   "cell_type": "code",
   "execution_count": null,
   "id": "afcd7e8f",
   "metadata": {},
   "outputs": [],
   "source": [
    "%%sql\n"
   ]
  },
  {
   "cell_type": "markdown",
   "id": "afe75269",
   "metadata": {},
   "source": [
    "This is too much to look through, so let's first limit the output to 10 rows (once again, look at the [documentation for `SELECT`](https://sqlite.org/lang_select.html), to see if you can find out how to do it).\n",
    "\n",
    "If we limit the number of returned rows, it's often useful to start listing a number of rows down into the table (otherwise we could only see the first few rows when we used `LIMIT`) -- we use `OFFSET` to do that.\n",
    "\n",
    "We can also select only those prizes awarded in 2013."
   ]
  },
  {
   "cell_type": "code",
   "execution_count": null,
   "id": "fe0133b1",
   "metadata": {},
   "outputs": [],
   "source": [
    "%%sql\n"
   ]
  },
  {
   "cell_type": "markdown",
   "id": "4b86e23f",
   "metadata": {},
   "source": [
    "Observe that the query returns a new table, we'll soon see that we can use the returned table in other queries.\n",
    "\n",
    "**Problem:** _What year did Albert Einstein get his award, and why?_"
   ]
  },
  {
   "cell_type": "code",
   "execution_count": null,
   "id": "b4dde751",
   "metadata": {},
   "outputs": [],
   "source": [
    "%%sql\n"
   ]
  },
  {
   "cell_type": "markdown",
   "id": "ad2bbf8b",
   "metadata": {},
   "source": [
    "The names of the columns in the returned table is shown above the actual output, if we want to rename any of the columns in the returned table, we can use an _alias_:"
   ]
  },
  {
   "cell_type": "code",
   "execution_count": null,
   "id": "6e286465",
   "metadata": {},
   "outputs": [],
   "source": [
    "%%sql\n"
   ]
  },
  {
   "cell_type": "markdown",
   "id": "c40e4809",
   "metadata": {},
   "source": [
    "**Problem:** _Who was awarded the physics prize in 1922?_"
   ]
  },
  {
   "cell_type": "code",
   "execution_count": null,
   "id": "1e70dcca",
   "metadata": {},
   "outputs": [],
   "source": [
    "%%sql\n"
   ]
  },
  {
   "cell_type": "markdown",
   "id": "36e0302f",
   "metadata": {},
   "source": [
    "## Set operations\n",
    "\n",
    "As was said above, the SQL language is built upon relational algebra, and sets are a first class citizen of relational algebra, so we can use set operations such as:\n",
    "\n",
    "+ _union_ (`UNION`)\n",
    "+ _intersection_ (`INTERSECT`)\n",
    "+ _difference_ (`EXCEPT`)\n",
    "\n",
    "We can use them to combine the results of two or more queries, _if the queries return tables of the same format_.\n",
    "\n",
    "**Problem:** _Who were awarded the physics prize in 1922 and 1923?_ Try to solve this problem in at least three different ways, and see if you can do it using a set operation (however clumpsy it might be in this case).\n",
    "You can look at the [documentation](https://sqlite.org/lang_select.html) to get some inspiration."
   ]
  },
  {
   "cell_type": "code",
   "execution_count": null,
   "id": "b7b9fb26",
   "metadata": {},
   "outputs": [],
   "source": [
    "%%sql\n"
   ]
  },
  {
   "cell_type": "code",
   "execution_count": null,
   "id": "0913316a",
   "metadata": {},
   "outputs": [],
   "source": [
    "%%sql\n"
   ]
  },
  {
   "cell_type": "code",
   "execution_count": null,
   "id": "d14f4e21",
   "metadata": {},
   "outputs": [],
   "source": [
    "%%sql\n"
   ]
  },
  {
   "cell_type": "markdown",
   "id": "073fe956",
   "metadata": {},
   "source": [
    "There are often several ways of doing things in SQL, and one of the main points of using SQL is that the database tries to optimize the operations it needs to fetch our data (there is some seriously clever code running behind the scenes).\n",
    "\n",
    "**Problem:** _Who has been awarded the prize in literature since 2010, ordered by name?_"
   ]
  },
  {
   "cell_type": "code",
   "execution_count": null,
   "id": "5fa1ace8",
   "metadata": {},
   "outputs": [],
   "source": [
    "%%sql\n"
   ]
  },
  {
   "cell_type": "markdown",
   "id": "9fb34f30",
   "metadata": {},
   "source": [
    "**Problem:** _What year did Winston Churchill win a prize, and in what category?_"
   ]
  },
  {
   "cell_type": "code",
   "execution_count": null,
   "id": "12d99c65",
   "metadata": {},
   "outputs": [],
   "source": [
    "%%sql\n"
   ]
  },
  {
   "cell_type": "markdown",
   "id": "1c082c87",
   "metadata": {},
   "source": [
    "Using `LIKE` in our conditions, we get some rudimentary form of wildcard matching (some SQL databases allow more advanced regular expressions, but that's beyond the scope of this course).\n",
    "\n",
    "If we want to categorize our output, we can use a `CASE` statement, it has the general form:"
   ]
  },
  {
   "cell_type": "markdown",
   "id": "df453a6a",
   "metadata": {},
   "source": [
    "~~~sql\n",
    "SELECT ..., \n",
    "       CASE \n",
    "           WHEN ... THEN ...\n",
    "           WHEN ... THEN ...\n",
    "           ELSE ...\n",
    "       END AS <name>\n",
    "FROM ...\n",
    "~~~\n"
   ]
  },
  {
   "cell_type": "markdown",
   "id": "676cc460",
   "metadata": {},
   "source": [
    "**Problem:** _Show all laureates in physics with a name beginning with 'P' -- if they won the prize before 1970 they're ancient, if the won the prize between 1970 and 2000 they're veterans, otherwise they're newbies._"
   ]
  },
  {
   "cell_type": "code",
   "execution_count": null,
   "id": "05afd0e7",
   "metadata": {},
   "outputs": [],
   "source": [
    "%%sql\n"
   ]
  },
  {
   "cell_type": "markdown",
   "id": "4f39fe46",
   "metadata": {},
   "source": [
    "## `SELECT` and `SELECT DISTINCT`\n",
    "\n",
    "**Problem:** _What are the different categories of Nobel prizes?_"
   ]
  },
  {
   "cell_type": "code",
   "execution_count": null,
   "id": "8f2f771f",
   "metadata": {},
   "outputs": [],
   "source": [
    "%%sql\n"
   ]
  },
  {
   "cell_type": "markdown",
   "id": "d8e16517",
   "metadata": {},
   "source": [
    "Using `SELECT DISTINCT` we only get unique rows in our output table (duplicate rows are removed from the result).\n",
    "\n",
    "\n",
    "## Scalar functions and aggregate functions\n",
    "\n",
    "There are some functions we can apply to our values, each RDBMS supplies their own set of functions -- you can see some of SQLite's functions [here](https://sqlite.org/lang_corefunc.html).\n",
    "\n",
    "**Problem:** _What was the initial letters of the laureates in year 2000?_ Hint: Use the [`substr`](https://sqlite.org/lang_corefunc.html#substr) function (and observe that the first character has index 1)."
   ]
  },
  {
   "cell_type": "code",
   "execution_count": null,
   "id": "f5617ab1",
   "metadata": {},
   "outputs": [],
   "source": [
    "%%sql\n"
   ]
  },
  {
   "cell_type": "markdown",
   "id": "1908517d",
   "metadata": {},
   "source": [
    "Here, the number of returned rows is the same as we would have had if we didn't apply the function.\n",
    "\n",
    "An _aggregate function_ can be applied to all rows in a table, _but then returns only one value_.\n",
    "\n",
    "The standard aggregate functions are:\n",
    "\n",
    " + `avg`: calculates the average for a given column\n",
    " + `count`: counts the rows in a given table\n",
    " + `min`: gets the minimum value of a given column\n",
    " + `max`: gets the maximum value of a given column\n",
    " + `sum`: calculates the sum of a given column\n",
    "\n",
    "Observe that these are all functions which operates on several values, but return a single value. You can see a list of al SQLite's aggregate functions [here](https://sqlite.org/lang_aggfunc.html).\n",
    "\n",
    "**Problem:** _How many laureates were there in year 2000?_"
   ]
  },
  {
   "cell_type": "code",
   "execution_count": null,
   "id": "0c243cc5",
   "metadata": {},
   "outputs": [],
   "source": [
    "%%sql\n"
   ]
  },
  {
   "cell_type": "markdown",
   "id": "61bab6a4",
   "metadata": {},
   "source": [
    "**Problem:** _How many of the laureates has had a first name beginning with an 'A'?_"
   ]
  },
  {
   "cell_type": "code",
   "execution_count": null,
   "id": "5a6a2319",
   "metadata": {},
   "outputs": [],
   "source": [
    "%%sql\n"
   ]
  },
  {
   "cell_type": "markdown",
   "id": "4ded6a7b",
   "metadata": {},
   "source": [
    "**Problem:** _What year was the first Nobel prize awarded?_"
   ]
  },
  {
   "cell_type": "code",
   "execution_count": null,
   "id": "03c67969",
   "metadata": {},
   "outputs": [],
   "source": [
    "%%sql\n"
   ]
  },
  {
   "cell_type": "markdown",
   "id": "d45d7f89",
   "metadata": {},
   "source": [
    "**Exercise:** _How many Nobel prizes for chemistry have been awarded?_"
   ]
  },
  {
   "cell_type": "code",
   "execution_count": null,
   "id": "21fb4308",
   "metadata": {},
   "outputs": [],
   "source": [
    "%%sql\n"
   ]
  },
  {
   "cell_type": "markdown",
   "id": "11f32a52",
   "metadata": {},
   "source": [
    "# Grouping\n",
    "\n",
    "Using `GROUP BY` we can handle rows in groups -- to understand how it works, lets first look at the following query:"
   ]
  },
  {
   "cell_type": "code",
   "execution_count": null,
   "id": "93e05f6b",
   "metadata": {},
   "outputs": [],
   "source": [
    "%%sql\n",
    "SELECT    year, category, name\n",
    "FROM      nobel\n",
    "WHERE     year = 2013\n",
    "ORDER BY  category"
   ]
  },
  {
   "cell_type": "markdown",
   "id": "cb540211",
   "metadata": {},
   "source": [
    "Here the rows of each category will end up adjacent to each other, and using `GROUP BY` we insert an invisible divider between the groups, and perform any aggregate function on the whole 'group':"
   ]
  },
  {
   "cell_type": "code",
   "execution_count": null,
   "id": "c52ddd35",
   "metadata": {},
   "outputs": [],
   "source": [
    "%%sql\n",
    "SELECT    category, count()\n",
    "FROM      nobel\n",
    "WHERE     year = 2013\n",
    "GROUP BY  category"
   ]
  },
  {
   "cell_type": "markdown",
   "id": "09098078",
   "metadata": {},
   "source": [
    "So, if we apply an aggregate function, such as `count()`, in a table which we have grouped, _it will be applied to each group_, not to the whole table. Instead of getting one `count()` for the whole table (it would be a single value), we get one `count()` for each group (as above).\n",
    "\n",
    "If we add `name` in the first line, we get a somewhat arbitrary result:"
   ]
  },
  {
   "cell_type": "code",
   "execution_count": null,
   "id": "978775b4",
   "metadata": {},
   "outputs": [],
   "source": [
    "%%sql\n",
    "SELECT    category, count(), name\n",
    "FROM      nobel\n",
    "WHERE     year = 2013\n",
    "GROUP BY  category"
   ]
  },
  {
   "cell_type": "markdown",
   "id": "98d251b5",
   "metadata": {},
   "source": [
    "The category and count is correct, but only one name is shown for each category.\n",
    "\n",
    "The 'problem' is that we only get one row per group in the output, and that there may be several laureates in each group -- our query will return one of them in a seemingly haphazard manner. We can concatenate all names in the group using the [`group_concat`](https://sqlite.org/lang_aggfunc.html#groupconcat)-function:"
   ]
  },
  {
   "cell_type": "code",
   "execution_count": null,
   "id": "98132c4a",
   "metadata": {},
   "outputs": [],
   "source": [
    "%%sql\n",
    "SELECT    category, count(), group_concat(name)\n",
    "FROM      nobel\n",
    "WHERE     year = 2013\n",
    "GROUP BY  category"
   ]
  },
  {
   "cell_type": "markdown",
   "id": "daaee5b9",
   "metadata": {},
   "source": [
    "There is no problem displaying `category` in the `SELECT`-statement above, we get a value which we know is the same for each row in the group (by definition, since that's what we grouped by).\n",
    "\n",
    "\n",
    "If we're only interested in those categories with less than three laureates, we use `HAVING` to select only _groups_ with a given property:"
   ]
  },
  {
   "cell_type": "code",
   "execution_count": null,
   "id": "70f988d7",
   "metadata": {},
   "outputs": [],
   "source": [
    "%%sql\n",
    "SELECT    category, count(), group_concat(name)\n",
    "FROM      nobel\n",
    "WHERE     year = 2013\n",
    "GROUP BY  category\n",
    "HAVING    count() < 3"
   ]
  },
  {
   "cell_type": "markdown",
   "id": "59b49a28",
   "metadata": {},
   "source": [
    "This corresponds to a `WHERE` statement, but it applies to groups, not to individual rows (as `WHERE` does) -- so, _`WHERE` and `HAVING` have similar effects (they somehow narrow a search), but they're absolutely not interchangable!_\n",
    "\n",
    "**Important** (and often misunderstood): In the query above we first have a `WHERE` statement to select some rows from the whole table, and then group the resulting selection.\n",
    "_Every time we have both a `WHERE` and a `HAVING` in the same query, we must first use `WHERE` to select rows we can group, and then use `HAVING` to select groups._\n",
    "We can use `WITH` statements or subqueries (see below) if we want to have it the other way around.\n",
    "\n",
    "\n",
    "**Problem:** _How many laureates are there in each category?_"
   ]
  },
  {
   "cell_type": "code",
   "execution_count": null,
   "id": "78b97ead",
   "metadata": {},
   "outputs": [],
   "source": [
    "%%sql\n"
   ]
  },
  {
   "cell_type": "markdown",
   "id": "b8e5091c",
   "metadata": {},
   "source": [
    "**Problem:** _Which categories have more than 200 laureates?_"
   ]
  },
  {
   "cell_type": "code",
   "execution_count": null,
   "id": "fe8a1d1a",
   "metadata": {},
   "outputs": [],
   "source": [
    "%%sql\n"
   ]
  },
  {
   "cell_type": "markdown",
   "id": "9674f03b",
   "metadata": {},
   "source": [
    "**Exercise:** _How many laureates were there each year between 1920 and 1930?_"
   ]
  },
  {
   "cell_type": "code",
   "execution_count": null,
   "id": "ffa3b80f",
   "metadata": {},
   "outputs": [],
   "source": [
    "%%sql\n"
   ]
  },
  {
   "cell_type": "markdown",
   "id": "2ad51997",
   "metadata": {},
   "source": [
    "**Exercise:** _Which years have seen more than 9 laureates?_"
   ]
  },
  {
   "cell_type": "code",
   "execution_count": null,
   "id": "2c73975d",
   "metadata": {},
   "outputs": [],
   "source": [
    "%%sql\n"
   ]
  },
  {
   "cell_type": "markdown",
   "id": "75fb43c3",
   "metadata": {},
   "source": [
    "**Exercise:** _Which have been the 20 years with most laureates?_ (We don't need to be precise in case of ties.)"
   ]
  },
  {
   "cell_type": "code",
   "execution_count": null,
   "id": "2885a502",
   "metadata": {},
   "outputs": [],
   "source": [
    "%%sql\n"
   ]
  },
  {
   "cell_type": "markdown",
   "id": "3904d709",
   "metadata": {},
   "source": [
    "# Quick intro to window functions\n",
    "\n",
    "As we saw above, we can treat partitions of our rows as 'groups', by using `GROUP BY`.\n",
    "\n",
    "We also saw than when we use an aggregate function on a group, we collapse whole groups into one row in the output -- but sometimes we want to apply functions within a group of values, *and keep each row in the output*.\n",
    "\n",
    "Above we listed all laureates in 2013, now we want to add one column to the output: for each laureate, we want to show how many laureates shared the prize in her or his category.\n",
    "\n",
    "If we use `GROUP BY` and the aggregate function `count()` on the categories, we would only get one row per category, and using `count()` without grouping would collapse the whole result into just one row:"
   ]
  },
  {
   "cell_type": "code",
   "execution_count": null,
   "id": "4f6ddeed",
   "metadata": {},
   "outputs": [],
   "source": [
    "%%sql\n",
    "SELECT    year, category, name, count() AS count      -- oh no!\n",
    "FROM      nobel\n",
    "WHERE     year = 2013\n",
    "ORDER BY  category"
   ]
  },
  {
   "cell_type": "markdown",
   "id": "7ad82e5d",
   "metadata": {},
   "source": [
    "Fortunately, SQL has introduced a way to apply functions only over 'partitions' of our tables, and keep all rows in the output -- using the reserved word `OVER` we can introduce a *window* of our rows, and apply the function only over this 'window':"
   ]
  },
  {
   "cell_type": "code",
   "execution_count": null,
   "id": "6de546ee",
   "metadata": {},
   "outputs": [],
   "source": [
    "%%sql\n",
    "SELECT    year, category, name, count() OVER (PARTITION by category) AS count\n",
    "FROM      nobel\n",
    "WHERE     year = 2013\n",
    "ORDER BY  category"
   ]
  },
  {
   "cell_type": "markdown",
   "id": "9f5a1b23",
   "metadata": {},
   "source": [
    "We can also give our windows names, using an alias:"
   ]
  },
  {
   "cell_type": "code",
   "execution_count": null,
   "id": "ef29f8c5",
   "metadata": {},
   "outputs": [],
   "source": [
    "%%sql\n",
    "SELECT    year, category, name, count() OVER categories AS count\n",
    "FROM      nobel\n",
    "WHERE     year = 2013\n",
    "WINDOW    categories AS (PARTITION by category)\n",
    "ORDER BY  category"
   ]
  },
  {
   "cell_type": "markdown",
   "id": "4bf20eaf",
   "metadata": {},
   "source": [
    "The aliased window definitions must come after any `WHERE` and `HAVING`, and before any `ORDER BY`.\n",
    "\n",
    "So, if we use the reserved word `OVER` after a function, it will be applied according to a 'window' (there is more to it than this, but this will suffice for now). In the window we can:\n",
    "\n",
    "+ define a *partition*, using `PARTITION BY`,\n",
    "+ define an *order*, using `ORDER BY`, and\n",
    "* define a *range*, which we can use to define groups of rows relative to each other (but we won't look at ranges in the course).\n",
    "\n",
    "The function will be applied to each partition, in the same way we applied aggregate functions to groups above, but now we won't collapse the partitions. *Observe that the partitioning and ordering are based only on the selection we make (i.e., only those rows which are chosen in our `WHERE` clause).*\n",
    "\n",
    "We can use our regular aggregate functions as window functions, but there are also a couple of dedicated window functions, such as (there are more, but we won't use them in the course):\n",
    "\n",
    "+ `rank()`: ranks rows by the order specified in the window, ties can occur,\n",
    "+ `row_number()`: as `rank()`, but now we avoid ties, and rank by row number in the output, and\n",
    "+ `percent_rank()`: gives a value between 0.0 and 1.0 (so it's a bit of a misnomer), giving the row's relative rank within its partition.\n",
    "\n",
    "You can find more [here](https://sqlite.org/windowfunctions.html).\n",
    "\n",
    "Window functions can be very powerful, but we'll not delve too deeply into them in the course -- I want you to be aware of them, though!\n",
    "\n",
    "**Problem:** Add one column which 'ranks' the laureates of 2013 in the table above according to the lengths of their names, within the categories -- shorter names should come before longer names."
   ]
  },
  {
   "cell_type": "code",
   "execution_count": null,
   "id": "d6d7bec9",
   "metadata": {},
   "outputs": [],
   "source": [
    "%%sql\n"
   ]
  },
  {
   "cell_type": "markdown",
   "id": "206c81be",
   "metadata": {},
   "source": [
    "**Problem:** For each laureate with the initial A, list their category, year, name, and 'freshness' within that category, i.e., the most recent laureate in a category is ranked 1, the second most recent laureate is ranked 2, etc. The ranks should be confined to laureates with the initial `A`."
   ]
  },
  {
   "cell_type": "code",
   "execution_count": null,
   "id": "48befacb",
   "metadata": {},
   "outputs": [],
   "source": [
    "%%sql\n"
   ]
  },
  {
   "cell_type": "markdown",
   "id": "dcd0ffc9",
   "metadata": {},
   "source": [
    "# Some exercises\n",
    "\n",
    "To spice things up a bit, I've included a table with all olympic games since 1896 -- the table `olympics` contains the columns:\n",
    "\n",
    "+ `year`\n",
    "+ `city`\n",
    "+ `country`\n",
    "+ `continent`\n",
    "+ `season`\n",
    "+ `ordinal_number`\n",
    "\n",
    "If we look carefully at this table, we can find some unnecessary repetition, we will soon address this problem (but for now, we'll let it pass).\n",
    "\n",
    "**Problem:** _How many olympic games have each continent hosted?_"
   ]
  },
  {
   "cell_type": "code",
   "execution_count": null,
   "id": "bf0c3255",
   "metadata": {},
   "outputs": [],
   "source": [
    "%%sql\n"
   ]
  },
  {
   "cell_type": "markdown",
   "id": "d7aad1c6",
   "metadata": {},
   "source": [
    "**Problem:** _When was the first olympic games in each continent?_"
   ]
  },
  {
   "cell_type": "code",
   "execution_count": null,
   "id": "890f2840",
   "metadata": {},
   "outputs": [],
   "source": [
    "%%sql\n"
   ]
  },
  {
   "cell_type": "markdown",
   "id": "f527eb38",
   "metadata": {},
   "source": [
    "**Problem:** _For each olympic game, show how many olympic games had come before it in its continent_"
   ]
  },
  {
   "cell_type": "code",
   "execution_count": null,
   "id": "8da38b1f",
   "metadata": {},
   "outputs": [],
   "source": [
    "%%sql\n"
   ]
  },
  {
   "cell_type": "markdown",
   "id": "c3bd729e",
   "metadata": {},
   "source": [
    "**Problem:** _Which countries have hosted the summer olympics more than once?_"
   ]
  },
  {
   "cell_type": "code",
   "execution_count": null,
   "id": "836cac5a",
   "metadata": {},
   "outputs": [],
   "source": [
    "%%sql\n"
   ]
  },
  {
   "cell_type": "markdown",
   "id": "a7a47463",
   "metadata": {},
   "source": [
    "**Exercise:** _List the continents in descending order by the number of times they've hosted the summer olympics_"
   ]
  },
  {
   "cell_type": "code",
   "execution_count": null,
   "id": "4002d885",
   "metadata": {},
   "outputs": [],
   "source": [
    "%%sql\n"
   ]
  },
  {
   "cell_type": "markdown",
   "id": "5622e37b",
   "metadata": {},
   "source": [
    "**Problem:** _Show a 'histogram' (no actual diagram, just the counts) over the the initial letter of the names of all Nobel laureates_"
   ]
  },
  {
   "cell_type": "code",
   "execution_count": null,
   "id": "342765a7",
   "metadata": {},
   "outputs": [],
   "source": [
    "%%sql\n"
   ]
  },
  {
   "cell_type": "markdown",
   "id": "16381bf0",
   "metadata": {},
   "source": [
    "We can group by more than one column, by inserting invisible borders between all combinations of the given column values:\n",
    "\n",
    "**Problem:** _Show a 'histogram' over the the initial letter of the names of all Nobel laureates, **for each category**_"
   ]
  },
  {
   "cell_type": "code",
   "execution_count": null,
   "id": "aba12c0f",
   "metadata": {},
   "outputs": [],
   "source": [
    "%%sql\n"
   ]
  },
  {
   "cell_type": "markdown",
   "id": "f7694106",
   "metadata": {},
   "source": [
    "**Problem:** _Has anyone won more than one Nobel prize?_ We can assume the names of the laureates are unique (so far they are!)."
   ]
  },
  {
   "cell_type": "code",
   "execution_count": null,
   "id": "9a17d809",
   "metadata": {},
   "outputs": [],
   "source": [
    "%%sql\n"
   ]
  },
  {
   "cell_type": "markdown",
   "id": "30a0777c",
   "metadata": {},
   "source": [
    "**Problem:** _Has anyone won more than one Nobel prize in the same category?_"
   ]
  },
  {
   "cell_type": "code",
   "execution_count": null,
   "id": "6c6dbc1e",
   "metadata": {},
   "outputs": [],
   "source": [
    "%%sql\n"
   ]
  },
  {
   "cell_type": "markdown",
   "id": "1cd98ca1",
   "metadata": {},
   "source": [
    "**Problem:** _Has anyone won Nobel prizes in different categories?_"
   ]
  },
  {
   "cell_type": "code",
   "execution_count": null,
   "id": "059cf428",
   "metadata": {},
   "outputs": [],
   "source": [
    "%%sql\n"
   ]
  },
  {
   "cell_type": "markdown",
   "id": "c06261bd",
   "metadata": {},
   "source": [
    "# Subqueries, Views and Common Table Expressions\n",
    "\n",
    "As we noted above, the result of a `SELECT`-statement is itself a (kind of) table, and we can use such a table inside other statements.\n",
    "\n",
    "One useful pattern is:"
   ]
  },
  {
   "cell_type": "markdown",
   "id": "2fb62c4b",
   "metadata": {},
   "source": [
    "~~~sql\n",
    "SELECT ...\n",
    "FROM   ...\n",
    "WHERE  ... IN\n",
    "       (SELECT ...\n",
    "        FROM ...\n",
    "        WHERE ...)\n",
    "~~~\n"
   ]
  },
  {
   "cell_type": "markdown",
   "id": "d7664e99",
   "metadata": {},
   "source": [
    "The second query is called a _subquery_.\n",
    "\n",
    "We'll use a subquery to find all literature laureates who split their prizes, we begin with a regular query:\n",
    "\n",
    "**Problem:** _Which years were the Nobel prize for literature split?_"
   ]
  },
  {
   "cell_type": "code",
   "execution_count": null,
   "id": "3cfb199b",
   "metadata": {},
   "outputs": [],
   "source": [
    "%%sql\n",
    "SELECT    year\n",
    "FROM      nobel\n",
    "WHERE     category = 'literature'\n",
    "GROUP BY  year\n",
    "HAVING    count() > 1"
   ]
  },
  {
   "cell_type": "markdown",
   "id": "f09cd152",
   "metadata": {},
   "source": [
    "... and now we use the result of that query to find out what we're really looking for:\n",
    "\n",
    "**Problem:** _Which literature laureates split their prizes?_"
   ]
  },
  {
   "cell_type": "code",
   "execution_count": null,
   "id": "898821a5",
   "metadata": {},
   "outputs": [],
   "source": [
    "%%sql\n",
    "SELECT    year, name\n",
    "FROM      nobel\n",
    "WHERE     category = 'literature'\n",
    "          AND year IN (\n",
    "              SELECT    year\n",
    "              FROM      nobel\n",
    "              WHERE     category = 'literature'\n",
    "              GROUP BY  year\n",
    "              HAVING    count() > 1)"
   ]
  },
  {
   "cell_type": "markdown",
   "id": "62a6b067",
   "metadata": {},
   "source": [
    "This can be simplified by using either of two ways to define 'temporary tables':\n",
    "\n",
    "+ _Views_, and\n",
    "+ _Common Table Expressions_ (a.k.a. a CTEs, or `WITH` statements).\n",
    "\n",
    "They are the result of a `SELECT` statement, so for our problem above we could have created a view with the `CREATE VIEW` statement:"
   ]
  },
  {
   "cell_type": "code",
   "execution_count": null,
   "id": "b9e081e4",
   "metadata": {},
   "outputs": [],
   "source": [
    "%%sql\n",
    "CREATE VIEW shared_literature_prize(year) AS\n",
    "  SELECT    year\n",
    "  FROM      nobel\n",
    "  WHERE     category = 'literature'\n",
    "  GROUP BY  year\n",
    "  HAVING    count() > 1"
   ]
  },
  {
   "cell_type": "markdown",
   "id": "f645e13b",
   "metadata": {},
   "source": [
    "We can then use this view as if it was a regular table, in:"
   ]
  },
  {
   "cell_type": "code",
   "execution_count": null,
   "id": "2b66ca5e",
   "metadata": {},
   "outputs": [],
   "source": [
    "%%sql\n",
    "SELECT    year, name\n",
    "FROM      nobel\n",
    "WHERE     category = 'literature'\n",
    "          AND year IN (\n",
    "              SELECT    year\n",
    "              FROM      shared_literature_prize)"
   ]
  },
  {
   "cell_type": "markdown",
   "id": "acb07634",
   "metadata": {},
   "source": [
    "Since `shared_literature_prize` has only one column, we can make the query even simpler (but beware that not all databases accept this simplification, and it only works in case we have exactly one column in our view):"
   ]
  },
  {
   "cell_type": "code",
   "execution_count": null,
   "id": "0a263b89",
   "metadata": {},
   "outputs": [],
   "source": [
    "%%sql\n",
    "SELECT    year, name\n",
    "FROM      nobel\n",
    "WHERE     category = 'literature'\n",
    "          AND year IN shared_literature_prize"
   ]
  },
  {
   "cell_type": "markdown",
   "id": "8fc6a9b2",
   "metadata": {},
   "source": [
    "A view will stay around until we explicitly drop it:"
   ]
  },
  {
   "cell_type": "code",
   "execution_count": null,
   "id": "df7b52ce",
   "metadata": {},
   "outputs": [],
   "source": [
    "%%sql\n",
    "DROP VIEW shared_literature_prize"
   ]
  },
  {
   "cell_type": "markdown",
   "id": "2ee648e9",
   "metadata": {},
   "source": [
    "Common table expressions are in many ways similar to views, but they are sometimes more convenient:\n",
    "\n",
    "+ they're defined as part of a `SELECT` statement (so there is nothing to drop afterwards),\n",
    "+ since they're part of a `SELECT` statement, we only need one statement (which will become useful when we call our database remotely, we'll return to that later in the course), and\n",
    "+ they can be defined recursively (we'll return to that later in the course).\n",
    "\n",
    "Using a CTE, the solution to the problem above becomes:"
   ]
  },
  {
   "cell_type": "code",
   "execution_count": null,
   "id": "057c50b5",
   "metadata": {},
   "outputs": [],
   "source": [
    "%%sql\n",
    "WITH shared_literature_prize(year) AS (\n",
    "  SELECT    year\n",
    "  FROM      nobel\n",
    "  WHERE     category = 'literature'\n",
    "  GROUP BY  year\n",
    "  HAVING    count() > 1\n",
    ")\n",
    "WHERE     category = 'literature'\n",
    "          AND year IN (\n",
    "              SELECT    year\n",
    "              FROM      shared_literature_prize)"
   ]
  },
  {
   "cell_type": "markdown",
   "id": "c5f618bc",
   "metadata": {},
   "source": [
    "or just (since our CTE has only one column):"
   ]
  },
  {
   "cell_type": "code",
   "execution_count": null,
   "id": "0374b05a",
   "metadata": {},
   "outputs": [],
   "source": [
    "%%sql\n",
    "WITH shared_literature_prize(year) AS (\n",
    "  SELECT    year\n",
    "  FROM      nobel\n",
    "  WHERE     category = 'literature'\n",
    "  GROUP BY  year\n",
    "  HAVING    count() > 1\n",
    ")\n",
    "WHERE     category = 'literature'\n",
    "          AND year IN shared_literature_prize"
   ]
  },
  {
   "cell_type": "markdown",
   "id": "f6ffacea",
   "metadata": {},
   "source": [
    "**Exercise:** _Show the years and categories for recurring laureates (i.e., laureates who has won more than once) -- use a CTE to do it._"
   ]
  },
  {
   "cell_type": "code",
   "execution_count": null,
   "id": "66242d71",
   "metadata": {},
   "outputs": [],
   "source": [
    "%%sql\n"
   ]
  },
  {
   "cell_type": "markdown",
   "id": "1d049e0c",
   "metadata": {},
   "source": [
    "**Exercise:** _Who has won the literature prize in a year when at least one chemistry laureate had a name beginning with 'L'?_ First try to solve this with a regular subquery, and then rewrite it using a CTE."
   ]
  },
  {
   "cell_type": "code",
   "execution_count": null,
   "id": "60ccdf22",
   "metadata": {},
   "outputs": [],
   "source": [
    "%%sql\n"
   ]
  },
  {
   "cell_type": "markdown",
   "id": "2aa6439d",
   "metadata": {},
   "source": [
    "We saw above that we can't have another `WHERE` after the `HAVING` clause:"
   ]
  },
  {
   "cell_type": "code",
   "execution_count": null,
   "id": "674d442d",
   "metadata": {},
   "outputs": [],
   "source": [
    "%%sql\n",
    "SELECT    category, count() AS count\n",
    "FROM      nobel\n",
    "WHERE     year = 2013\n",
    "GROUP BY  category\n",
    "HAVING    count() < 3\n",
    "WHERE     count > 1        --   <-- not allowed!"
   ]
  },
  {
   "cell_type": "markdown",
   "id": "4b22841c",
   "metadata": {},
   "source": [
    "but we can make our 'grouping query' into a subquery, and have another `WHERE` in the outer query"
   ]
  },
  {
   "cell_type": "code",
   "execution_count": null,
   "id": "dcba4219",
   "metadata": {},
   "outputs": [],
   "source": [
    "%%sql\n",
    "SELECT category, count\n",
    "FROM (\n",
    "    SELECT    category, count() AS count\n",
    "    FROM      nobel\n",
    "    WHERE     year = 2013\n",
    "    GROUP BY  category\n",
    "    HAVING    count() < 3)\n",
    "WHERE count > 1"
   ]
  },
  {
   "cell_type": "markdown",
   "id": "9f7af5fb",
   "metadata": {},
   "source": [
    "A somewhat tidier way of expressing this is to use a `WITH`-statement:"
   ]
  },
  {
   "cell_type": "code",
   "execution_count": null,
   "id": "84de6308",
   "metadata": {},
   "outputs": [],
   "source": [
    "%%sql\n",
    "WITH category_count(category, count) AS (\n",
    "    SELECT    category, count()\n",
    "    FROM      nobel\n",
    "    WHERE     year = 2013\n",
    "    GROUP BY  category\n",
    "    HAVING    count() < 3\n",
    ")\n",
    "SELECT category, count\n",
    "FROM   category_count\n",
    "WHERE  count > 1"
   ]
  },
  {
   "cell_type": "markdown",
   "id": "7d52a0ac",
   "metadata": {},
   "source": [
    "## Correlated subqueries\n",
    "\n",
    "Another form of subquery is:"
   ]
  },
  {
   "cell_type": "markdown",
   "id": "bd5873df",
   "metadata": {},
   "source": [
    "~~~sql\n",
    "SELECT ...,\n",
    "       (SELECT ...\n",
    "        FROM ...\n",
    "        WHERE ...)\n",
    "FROM   ...\n",
    "~~~\n"
   ]
  },
  {
   "cell_type": "markdown",
   "id": "921a8cc8",
   "metadata": {},
   "source": [
    "This works if the subquery produces one result, such as when we use an aggregate function. As an example, solve the following problem:\n",
    "\n",
    "**Problem:** _List the names of all laureates who has the longest name of all laureates in their category (in case of ties, all should be listed) -- order by category._\n",
    "\n",
    "Here we can use a subquery which is 'run' for each row in\n",
    "our main query:"
   ]
  },
  {
   "cell_type": "code",
   "execution_count": null,
   "id": "50d9ca0d",
   "metadata": {},
   "outputs": [],
   "source": [
    "%%sql\n",
    "SELECT  category, year, name\n",
    "FROM    nobel AS outer_nobel\n",
    "WHERE   length(name) = (\n",
    "            SELECT max(length(name))\n",
    "            FROM   nobel\n",
    "            WHERE  category = outer_nobel.category)\n",
    "ORDER BY category"
   ]
  },
  {
   "cell_type": "markdown",
   "id": "8596d415",
   "metadata": {},
   "source": [
    "This is called a _correlated subquery_ (since we refer to the enclosing query inside it). We use an alias to distinguish between the nobel table in the outer query and the nobel table in the subquery (it's the same table, but we 'iterate' through it separately).\n",
    "\n",
    "BTW, we could have skipped the `AS` in"
   ]
  },
  {
   "cell_type": "markdown",
   "id": "0ab9497a",
   "metadata": {},
   "source": [
    "~~~sql\n",
    "...\n",
    "FROM    nobel AS outer_nobel\n",
    "...\n",
    "~~~\n"
   ]
  },
  {
   "cell_type": "markdown",
   "id": "83f5293f",
   "metadata": {},
   "source": [
    "and just written:"
   ]
  },
  {
   "cell_type": "markdown",
   "id": "c77d6f8d",
   "metadata": {},
   "source": [
    "~~~sql\n",
    "...\n",
    "FROM    nobel outer_nobel\n",
    "...\n",
    "~~~\n"
   ]
  },
  {
   "cell_type": "markdown",
   "id": "7e24f676",
   "metadata": {},
   "source": [
    "The general opinion is that we should use `AS`, as it makes it more obvious that we're defining an alias.\n",
    "\n",
    "\n",
    "<hr>\n",
    "\n",
    "# Material to prepare for lecture 2\n",
    "\n",
    "Some of the exercises in this section have answers right below them, try to solve the exercises yourself before looking at the answers.\n",
    "\n",
    "**Exercise:** _Write a query to find out who has shared the chemistry prize with exactly one other laureate in years when the summer olympics were held in Europe?_"
   ]
  },
  {
   "cell_type": "code",
   "execution_count": null,
   "id": "0f229509",
   "metadata": {},
   "outputs": [],
   "source": [
    "%%sql\n"
   ]
  },
  {
   "cell_type": "markdown",
   "id": "611e6dd9",
   "metadata": {},
   "source": [
    "**Answer:** I'll solve this exercise during lecture 2.\n",
    "\n",
    "\n",
    "**Exercise:** _Above we said that there is some unnecessary repetition in the olympics database, in what way?_\n",
    "\n",
    "**Answer:** It is pretty obvious that countries never change continents (or at least it would literally take _eons_ of time to do so...), so repeating the fact that France is in Europe several times ..."
   ]
  },
  {
   "cell_type": "code",
   "execution_count": null,
   "id": "77b290f0",
   "metadata": {},
   "outputs": [],
   "source": [
    "%%sql\n",
    "SELECT    country, continent, season, year, city\n",
    "FROM      olympics\n",
    "WHERE     country = 'France'\n",
    "ORDER BY  year"
   ]
  },
  {
   "cell_type": "markdown",
   "id": "36957a38",
   "metadata": {},
   "source": [
    "... is _redundant_.\n",
    "\n",
    "And this redundance not only creates unnecessary repetition (and thus wastes disk space), it also introduces a risk of failures when we want to modify our table (we'll return to that later).\n",
    "\n",
    "The 'problem' here is that we always get the same answer when we ask which continent a given country is in -- this is what we will call a _functional dependency_ when we get back to it in a few weeks time (when we talk about _normalization_).\n",
    "\n",
    "The way we're going to solve the problem is to remove the continents from the `olympics`-table, and introduce another table, a kind of 'look-up'-table, to find the continent for each country -- we're going to do exactly that during this lecture.\n",
    "\n",
    "There is another potential redundance in our `olympics` table -- every time the game has taken place in, say, Paris, it has been in France:"
   ]
  },
  {
   "cell_type": "code",
   "execution_count": null,
   "id": "b38a3d5f",
   "metadata": {},
   "outputs": [],
   "source": [
    "%%sql\n",
    "SELECT    city, group_concat(year || \": \" || country, \", \")\n",
    "FROM      olympics\n",
    "GROUP BY  city\n",
    "HAVING    count() > 1\n",
    "ORDER BY  city"
   ]
  },
  {
   "cell_type": "markdown",
   "id": "e06b412a",
   "metadata": {},
   "source": [
    "So, it does look as if we could extract the countries as well, and put them into a seperate 'look-up'-table, but if Sarajevo were to hold the olympics in the future, it wouldn't be in Yugoslavia anymore, and Moscow is no longer in the Soviet Union, so just extracting the countries as we did with continents above would not work. There is a kind of database called _temporal databases_, which is designed to handle cases such as this, but we'll only briefly touch upon them in this course.\n",
    "\n",
    "And there is another, more fundamental reason for keeping both name and country: the names of cities aren't globally unique, there is a Paris in Texas, and a Moscow in Kansas, so the country helps us identify the cities uniquely (a _key_ is something which lets us identify values uniquely, we'll discuss keys next week, and then in week 4, when we give a more formal definition of the concept).\n",
    "\n",
    "\n",
    "**Exercise:** _How could we add information about birth dates, and birth cities to our Nobel laureates?_\n",
    "\n",
    "**Answer:** Since each laureate has one birth date, and one birth city, we can just add two more columns, `birth_date` and `birth_city` to our `nobel` table.\n",
    "\n",
    "\n",
    "**Exercise:** _How could we add information about academic affiliations for the Nobel laureates?_ Some of the laureates have many affiliations, and some have none -- and observe that the 'cells' of our table must only contain simple values, so no lists or objects. Don't spend to much time to come up with a solution for this -- we haven't yet discussed the mechanism we're going to use to solve it -- but it's a good thing if you can see the limitations of what we've seen so far.\n",
    "\n",
    "**Answer:** SQL allows us to use the value `NULL` when a value is missing, so for laureates without any affiliation, we can just use `NULL` (although doing it is somewhat controversial, and we can define our tables in a way which prohibits it -- more about that later).\n",
    "\n",
    "But handling laureates with several affiliations is more difficult. One very primitive way of doing it, would be to add several columns: `affiliation_1`, `affiliation_2`, ..., but it's not only ugly, it only works if we limit the number of affiliations to a fixed number.\n",
    "\n",
    "It turns out we can solve this problem in a manner similar to how we handled continents above: we can add another table (a 'look-up'-table), but this time the look-up table would have all affiliations for each laureate, so it could have several rows for each laureate.\n",
    "\n",
    "<hr>\n",
    "\n",
    "# Redundancy, and the case for splitting up tables\n",
    "\n",
    "The term [redundancy](https://en.wikipedia.org/wiki/Redundancy_(linguistics)) can be defined in many contexts, in general it refers to information which is expressed more than once. It is sometimes desirable (the human body has an enormous amount of redundancy, that's what enable our bodies to self-heal), and many systems use redundancies for checks (the penultimate digit in your social security number is an example).\n",
    "\n",
    "But for databases, redundancy is often a source of confusion and errors.\n",
    "So, in this course, we'll generally try to avoid redundancies when we design our databases, and we're going to see two completely different way of doing it:\n",
    "\n",
    "+ proper _ER-modeling_ (next week), and\n",
    "+ _normalization_ (week 4).\n",
    "\n",
    "Our original table of Olympic Games looks like this:"
   ]
  },
  {
   "cell_type": "code",
   "execution_count": null,
   "id": "dbdc7390",
   "metadata": {},
   "outputs": [],
   "source": [
    "%%sql\n",
    "SELECT *\n",
    "FROM   olympics"
   ]
  },
  {
   "cell_type": "markdown",
   "id": "ce2123c3",
   "metadata": {},
   "source": [
    "We can use SQL to create a much better version of our olympic database with the following lines:"
   ]
  },
  {
   "cell_type": "code",
   "execution_count": null,
   "id": "299c8c8b",
   "metadata": {},
   "outputs": [],
   "source": [
    "%%sql\n",
    "DROP TABLE IF EXISTS continents;\n",
    "CREATE TABLE continents (\n",
    "  country   TEXT,\n",
    "  continent TEXT NOT NULL,\n",
    "  PRIMARY KEY (country)\n",
    ");\n",
    "\n",
    "INSERT OR IGNORE\n",
    "INTO   continents(country, continent)\n",
    "SELECT country, continent\n",
    "FROM   olympics;\n",
    "\n",
    "DROP TABLE IF EXISTS better_olympics;\n",
    "CREATE TABLE  better_olympics (\n",
    "  year            INT,\n",
    "  city            TEXT,\n",
    "  country         TEXT,\n",
    "  season          TEXT,\n",
    "  ordinal_number  TEXT,\n",
    "  PRIMARY KEY (year, season)\n",
    ");\n",
    "\n",
    "INSERT\n",
    "INTO   better_olympics(year, city, country, season, ordinal_number)\n",
    "SELECT year, city, country, season, ordinal_number\n",
    "FROM   olympics;\n",
    "\n",
    "ALTER TABLE olympics\n",
    "RENAME TO   redundant_olympics;\n",
    "ALTER TABLE better_olympics\n",
    "RENAME TO   olympics;"
   ]
  },
  {
   "cell_type": "markdown",
   "id": "c1e632fe",
   "metadata": {},
   "source": [
    "Now we don't have to enter the continent the next time Athens, Paris or London is awarded the games.\n",
    "\n",
    "Our two tables look like this:"
   ]
  },
  {
   "cell_type": "code",
   "execution_count": null,
   "id": "1b5f71e4",
   "metadata": {},
   "outputs": [],
   "source": [
    "%%sql\n",
    "SELECT *\n",
    "FROM   olympics;"
   ]
  },
  {
   "cell_type": "code",
   "execution_count": null,
   "id": "97068749",
   "metadata": {},
   "outputs": [],
   "source": [
    "%%sql\n",
    "SELECT *\n",
    "FROM   continents;"
   ]
  },
  {
   "cell_type": "markdown",
   "id": "069728df",
   "metadata": {},
   "source": [
    "We've avoided some redundancy, but now we need a way to combine the information in our two tables, and that's what _joins_ are for.\n",
    "\n",
    "\n",
    "# Joining tables together\n",
    "\n",
    "To introduce joining, we're going to use a classic example: a database for handling college applications. In it a number of students applies for various majors at different colleges -- we want to keep track of:\n",
    "\n",
    " + student id (similar to stil-id)\n",
    " + student name\n",
    " + student's grade average (gpa)\n",
    " + the size of the student's highschool\n",
    " + the names of the colleges\n",
    " + the state for each college\n",
    " + the enrollment for each college\n",
    " + the major applied for\n",
    " + the decision ('Y' for accepted, 'N' otherwise)\n",
    "\n",
    "One way of doing this would be to use one big table:"
   ]
  },
  {
   "cell_type": "code",
   "execution_count": null,
   "id": "1c727da9",
   "metadata": {},
   "outputs": [],
   "source": [
    "%%sql\n",
    "SELECT *\n",
    "FROM   big_college"
   ]
  },
  {
   "cell_type": "markdown",
   "id": "f7d3924d",
   "metadata": {},
   "source": [
    "But, just as with our olympics database above, this would give us a lot of redundance, so we'd like to split this big table into several related tables.\n",
    "\n",
    "**Exercise:** In lectures 7 and 8 we'll discuss the theory and practice of splitting up tables -- for now, suggest tables which you think would make working with our data easier (don't look further down on this page until you've at least tried).\n",
    "\n",
    "<p>&nbsp;</p>\n",
    "<p>&nbsp;</p>\n",
    "<p>&nbsp;</p>\n",
    "<p>&nbsp;</p>\n",
    "<p>&nbsp;</p>\n",
    "<p>&nbsp;</p>\n",
    "\n",
    "**Solution:** We can have one table for the students:"
   ]
  },
  {
   "cell_type": "code",
   "execution_count": null,
   "id": "dbcdb341",
   "metadata": {},
   "outputs": [],
   "source": [
    "%%sql\n",
    "SELECT *\n",
    "FROM   students\n",
    "LIMIT 4"
   ]
  },
  {
   "cell_type": "markdown",
   "id": "93d8541d",
   "metadata": {},
   "source": [
    "One for the colleges:"
   ]
  },
  {
   "cell_type": "code",
   "execution_count": null,
   "id": "75a5bd2b",
   "metadata": {},
   "outputs": [],
   "source": [
    "%%sql\n",
    "SELECT *\n",
    "FROM   colleges\n",
    "LIMIT 4"
   ]
  },
  {
   "cell_type": "markdown",
   "id": "ce4ea133",
   "metadata": {},
   "source": [
    "And one for all collage applications made by the students:"
   ]
  },
  {
   "cell_type": "code",
   "execution_count": null,
   "id": "6a3235ca",
   "metadata": {},
   "outputs": [],
   "source": [
    "%%sql\n",
    "SELECT *\n",
    "FROM   applications\n",
    "LIMIT 4"
   ]
  },
  {
   "cell_type": "markdown",
   "id": "a0e7b962",
   "metadata": {},
   "source": [
    "The `applications` table uses `s_id` instead of `s_name`, since we could have several students with the same name (we actually have two 'Amy') -- `s_id` is guaranteed to be unique (we'll talk _much_ more about uniqueness next week).\n",
    "\n",
    "Now assume we want to display all applications, _with the names of the students_ (not just the student id). We then need a way to combine information in the `applications` table with information in the `students` table, and we'll do it with a [_join_](https://en.wikipedia.org/wiki/Join_(SQL)).\n",
    "\n",
    "The SQL standard specifies five different kinds of joins:\n",
    "\n",
    " + _cross join_\n",
    " + _inner join_\n",
    " + _left outer join_\n",
    " + _right outer join_\n",
    " + _full outer join_\n",
    "\n",
    "## Cross join\n",
    "\n",
    "The most primitive of the joins is the cross join -- we can write it as:"
   ]
  },
  {
   "cell_type": "markdown",
   "id": "c119c4a3",
   "metadata": {},
   "source": [
    "~~~\n",
    "SELECT      *\n",
    "FROM        a \n",
    "CROSS JOIN  b\n",
    "~~~\n"
   ]
  },
  {
   "cell_type": "markdown",
   "id": "5bc8a743",
   "metadata": {},
   "source": [
    "Doing this, we get all combinations of rows from each of table `a` and `b` (a.k.a. the [_Cartesian product_](https://en.wikipedia.org/wiki/Cartesian_product)) -- the rows will contain all attributes from both tables (unless we make a projection).\n",
    "\n",
    "If we do it with our `applications` and `students` tables we get:"
   ]
  },
  {
   "cell_type": "code",
   "execution_count": null,
   "id": "4ef47012",
   "metadata": {},
   "outputs": [],
   "source": [
    "%%sql\n",
    "SELECT      *\n",
    "FROM        applications \n",
    "CROSS JOIN  students"
   ]
  },
  {
   "cell_type": "markdown",
   "id": "20915434",
   "metadata": {},
   "source": [
    "The number of rows in this table is the product of the number of rows in each table, and most of the rows in the combined table are *totally* useless, since the `s_id`'s don't have anything to do with each other (e.g., in one line the fact that a student with `s_id` 123 has applied to CS at Stanford is combined with the fact that there is a student Bob with `s_id` 234 who has a `gpa` of 3.6).\n",
    "\n",
    "The only rows of interest to us are those where the student id from the `applications` table is the same as the student id from the `students` table, and we can express that as:"
   ]
  },
  {
   "cell_type": "code",
   "execution_count": null,
   "id": "36324a93",
   "metadata": {},
   "outputs": [],
   "source": [
    "%%sql\n",
    "SELECT      *\n",
    "FROM        applications \n",
    "CROSS JOIN  students\n",
    "WHERE       applications.s_id = students.s_id"
   ]
  },
  {
   "cell_type": "markdown",
   "id": "d46491cc",
   "metadata": {},
   "source": [
    "or, using aliases, so we don't have to write long table names:"
   ]
  },
  {
   "cell_type": "code",
   "execution_count": null,
   "id": "25bc0247",
   "metadata": {},
   "outputs": [],
   "source": [
    "%%sql\n",
    "SELECT      *\n",
    "FROM        applications AS a \n",
    "CROSS JOIN  students AS s\n",
    "WHERE       a.s_id = s.s_id"
   ]
  },
  {
   "cell_type": "markdown",
   "id": "674fd57b",
   "metadata": {},
   "source": [
    "We can clean up the output using a projection:"
   ]
  },
  {
   "cell_type": "code",
   "execution_count": null,
   "id": "a1f02046",
   "metadata": {},
   "outputs": [],
   "source": [
    "%%sql\n",
    "SELECT      s.s_name, a.c_name, a.major\n",
    "FROM        applications AS a \n",
    "CROSS JOIN  students AS s\n",
    "WHERE       a.s_id = s.s_id"
   ]
  },
  {
   "cell_type": "markdown",
   "id": "7a7960cd",
   "metadata": {},
   "source": [
    "or even"
   ]
  },
  {
   "cell_type": "code",
   "execution_count": null,
   "id": "1594d4a3",
   "metadata": {},
   "outputs": [],
   "source": [
    "%%sql\n",
    "SELECT      s_name AS name, c_name AS college, major\n",
    "FROM        applications AS a\n",
    "CROSS JOIN  students AS s\n",
    "WHERE       a.s_id = s.s_id"
   ]
  },
  {
   "cell_type": "markdown",
   "id": "b3edc2ab",
   "metadata": {},
   "source": [
    "(we only need to prefix column names when there would otherwise be an ambiguity).\n",
    "\n",
    "There is a shortcut for cross joins, we can just put a comma between the two tables we want to join:"
   ]
  },
  {
   "cell_type": "code",
   "execution_count": null,
   "id": "b2f95e59",
   "metadata": {},
   "outputs": [],
   "source": [
    "%%sql\n",
    "SELECT s_name AS name, c_name AS college, major\n",
    "FROM   applications, students\n",
    "WHERE  applications.s_id = students.s_id"
   ]
  },
  {
   "cell_type": "markdown",
   "id": "ce8ce9a2",
   "metadata": {},
   "source": [
    "This works, but there are *much* more elegant ways to write this query.\n",
    "\n",
    "\n",
    "## Inner joins\n",
    "\n",
    "An _inner join_ combines two tables into a new table (it's not actually saved as a table) -- it does this by creating combined rows only when rows from the two tables 'match' each other. In this case it's the `s_id` columns which should match, so we write:"
   ]
  },
  {
   "cell_type": "code",
   "execution_count": null,
   "id": "3a95479d",
   "metadata": {},
   "outputs": [],
   "source": [
    "%%sql\n",
    "SELECT      s_name AS name, c_name AS college, major\n",
    "FROM        applications\n",
    "INNER JOIN  students\n",
    "ON          applications.s_id = students.s_id"
   ]
  },
  {
   "cell_type": "markdown",
   "id": "ee255a7f",
   "metadata": {},
   "source": [
    "Logically it can be seen as the equivalent of a cross join and then a selection, but the database engine normally use algorithms which are much faster and requires much less memory when we define an inner join.\n",
    "Once you get used to them, inner joins will feel much better to use than cross joins (although, in theory, the database should try to optimize all queries, and _might_ find an efficient way to execute even cross joins).\n",
    "\n",
    "Inner joins are the default joins, so we can omit the word `INNER`, and just write `JOIN`:"
   ]
  },
  {
   "cell_type": "code",
   "execution_count": null,
   "id": "853bac9a",
   "metadata": {},
   "outputs": [],
   "source": [
    "%%sql\n",
    "SELECT  s_name AS name, c_name AS college, major\n",
    "FROM    applications\n",
    "JOIN    students\n",
    "ON      applications.s_id = students.s_id"
   ]
  },
  {
   "cell_type": "markdown",
   "id": "5676e1a6",
   "metadata": {},
   "source": [
    "The condition on which we join tables is often called the _join predicate_, and a join where the join predicate is an equality test, such as here, is sometimes called an _equi-join_.\n",
    "There is a special form of join when the columns we're comparing in an equi-join have the same name:"
   ]
  },
  {
   "cell_type": "code",
   "execution_count": null,
   "id": "1171f687",
   "metadata": {},
   "outputs": [],
   "source": [
    "%%sql\n",
    "SELECT  s_name AS name, c_name AS college, major\n",
    "FROM    applications\n",
    "JOIN    students\n",
    "USING   (s_id)"
   ]
  },
  {
   "cell_type": "markdown",
   "id": "807637d7",
   "metadata": {},
   "source": [
    "One benefit from using `USING` is that the columns we join over will not be duplicated, we get only one of them in the output.\n",
    "\n",
    "I'd say this is the preferred way of writing this query.\n",
    "\n",
    "There is an even simpler way to write it, using what's called a _natural join_, but it's error-prone, and you're *strongly* recommended not to use it.\n",
    "It's written as:"
   ]
  },
  {
   "cell_type": "code",
   "execution_count": null,
   "id": "88d70d9a",
   "metadata": {},
   "outputs": [],
   "source": [
    "%%sql\n",
    "SELECT        s_name AS name, c_name AS college, major\n",
    "FROM          applications\n",
    "NATURAL JOIN  students"
   ]
  },
  {
   "cell_type": "markdown",
   "id": "dd218224",
   "metadata": {},
   "source": [
    "and it joins the tables using an equi-join for all columns with coinciding names -- _this could create big problems if there are attributes in the tables which just happen to coincide without us realizing it!_\n",
    "If we use the `JOIN` ... `USING` instead, we explicitly declare on which attributes to join, so we guard ourselves against accidental column name collisions.\n",
    "\n",
    "Observe that we can use selections just as before when we join tables.\n",
    "\n",
    "**Problem:** _Write a SQL query which shows all applications as above, but only for students applying for CS at Stanford._"
   ]
  },
  {
   "cell_type": "code",
   "execution_count": null,
   "id": "7d0c5279",
   "metadata": {},
   "outputs": [],
   "source": [
    "%%sql\n"
   ]
  },
  {
   "cell_type": "markdown",
   "id": "56ac3bcc",
   "metadata": {},
   "source": [
    "**Problem:** _Write a SQL query which shows the average gpa for students who have applied for each college._\n",
    "\n",
    "This time it's OK to count applicants with several applications several times (so it becomes some kind of weighed average)."
   ]
  },
  {
   "cell_type": "code",
   "execution_count": null,
   "id": "58b7452a",
   "metadata": {},
   "outputs": [],
   "source": [
    "%%sql\n"
   ]
  },
  {
   "cell_type": "markdown",
   "id": "5668f78c",
   "metadata": {},
   "source": [
    "Using a CTE (`WITH` statement), we can solve this problem in a more satisfactory way (not counting grades more than once):"
   ]
  },
  {
   "cell_type": "code",
   "execution_count": null,
   "id": "eedcbd46",
   "metadata": {},
   "outputs": [],
   "source": [
    "%%sql\n"
   ]
  },
  {
   "cell_type": "markdown",
   "id": "ef71084a",
   "metadata": {},
   "source": [
    "We can join a table with itself, write a query which finds all pairs with the same Grade Point Average (GPA):\n",
    "\n",
    "We can do it either with a cross join:"
   ]
  },
  {
   "cell_type": "code",
   "execution_count": null,
   "id": "b2b01f50",
   "metadata": {},
   "outputs": [],
   "source": [
    "%%sql\n",
    "SELECT s1.s_id, s1.s_name, s1.gpa, s2.s_id, s2.s_name, s2.gpa\n",
    "FROM   students AS s1, students AS s2\n",
    "WHERE  s1.gpa = s2.gpa AND\n",
    "       s1.s_id < s2.s_id"
   ]
  },
  {
   "cell_type": "markdown",
   "id": "33a73fa9",
   "metadata": {},
   "source": [
    "or with an inner join:"
   ]
  },
  {
   "cell_type": "code",
   "execution_count": null,
   "id": "d83752ac",
   "metadata": {},
   "outputs": [],
   "source": [
    "%%sql\n",
    "SELECT s1.s_id, s1.s_name, s2.s_id, s2.s_name, gpa\n",
    "FROM   students AS s1 \n",
    "JOIN   students AS s2 \n",
    "USING  (gpa)\n",
    "WHERE  s1.s_id < s2.s_id"
   ]
  },
  {
   "cell_type": "markdown",
   "id": "ec874964",
   "metadata": {},
   "source": [
    "Joining a table with itself is called a _self join_.\n",
    "       \n",
    "**Exercise:** Show the student names and majors for all applications to Stanford:"
   ]
  },
  {
   "cell_type": "code",
   "execution_count": null,
   "id": "59107d1b",
   "metadata": {},
   "outputs": [],
   "source": [
    "%%sql\n"
   ]
  },
  {
   "cell_type": "markdown",
   "id": "af69eff0",
   "metadata": {},
   "source": [
    "**Exercise:** Show the average `size_hs` for applications to the different colleges, order by descending size:"
   ]
  },
  {
   "cell_type": "code",
   "execution_count": null,
   "id": "fae94cb1",
   "metadata": {},
   "outputs": [],
   "source": [
    "%%sql\n"
   ]
  },
  {
   "cell_type": "markdown",
   "id": "348ad721",
   "metadata": {},
   "source": [
    "We can apply joins in several steps, each time combining what we've previously joined with another table (the result of which is a new table, which can be joined over and over again...).\n",
    "\n",
    "**Exercise:** _Show the names of all students who have applied for a college in California -- also show the college and major._"
   ]
  },
  {
   "cell_type": "code",
   "execution_count": null,
   "id": "fc0e3c76",
   "metadata": {},
   "outputs": [],
   "source": [
    "%%sql\n"
   ]
  },
  {
   "cell_type": "markdown",
   "id": "4abfbe9f",
   "metadata": {},
   "source": [
    "In lab 1 you'll get plenty of exercise in joining.\n",
    "\n",
    "\n",
    "### Using CTEs and inner joins to simplify queries\n",
    "\n",
    "If we often use some query as part of other queries, we can save it using a _view_:"
   ]
  },
  {
   "cell_type": "code",
   "execution_count": null,
   "id": "dcd3d66f",
   "metadata": {},
   "outputs": [],
   "source": [
    "%%sql\n",
    "DROP VIEW IF EXISTS application_info;\n",
    "CREATE VIEW application_info(s_id, name, major, college, state) AS\n",
    "  SELECT s_id, s_name, major, c_name, state\n",
    "  FROM   applications\n",
    "  JOIN   students\n",
    "  USING  (s_id)\n",
    "  JOIN   colleges\n",
    "  USING  (c_name);\n",
    "\n",
    "SELECT DISTINCT name, state\n",
    "FROM   application_info\n",
    "WHERE  s_id IN (123, 234, 456);"
   ]
  },
  {
   "cell_type": "markdown",
   "id": "9d0ab214",
   "metadata": {},
   "source": [
    "In lab 1 there are a couple of queries which would be easier to write if we had one big redundant view of all data -- try to define such a view (once you've come up with it, the following queries will be very simple one-liners).\n",
    "\n",
    "Using joins we can also sometimes simplify unwieldly solutions with subqueries. We saw above that we could find all nobel laureates who had the longest name in each category (possibly tied), using the correlated subquery:"
   ]
  },
  {
   "cell_type": "code",
   "execution_count": null,
   "id": "704a5629",
   "metadata": {},
   "outputs": [],
   "source": [
    "%%sql\n",
    "SELECT  category, year, name\n",
    "FROM    nobel AS outer_nobel\n",
    "WHERE   length(name) = (\n",
    "            SELECT max(length(name))\n",
    "            FROM   nobel\n",
    "            WHERE  category = outer_nobel.category)\n",
    "ORDER BY category"
   ]
  },
  {
   "cell_type": "markdown",
   "id": "95280532",
   "metadata": {},
   "source": [
    "A nicer way of solving this is to first save the length of the longest name for each subquery in a temporary table, and then join this table using the category:"
   ]
  },
  {
   "cell_type": "code",
   "execution_count": null,
   "id": "f4cee5ed",
   "metadata": {},
   "outputs": [],
   "source": [
    "%%sql\n",
    "WITH max_category_name_length(category, max_name_length) AS (\n",
    "  SELECT   category, max(length(name))\n",
    "  FROM     nobel\n",
    "  GROUP BY category\n",
    ")\n",
    "SELECT year, category, name\n",
    "FROM   nobel\n",
    "JOIN   max_category_name_length\n",
    "USING  (category)\n",
    "WHERE  length(name) = max_name_length\n",
    "ORDER BY  category, year, name"
   ]
  },
  {
   "cell_type": "markdown",
   "id": "acc4d88e",
   "metadata": {},
   "source": [
    "In the joined table (`nobel JOIN max_category_name_length`), each row will get the additional `max_name_length` column, and it's the max length for the category of the award the row describes (since we joined using `category`).\n",
    "\n",
    "\n",
    "## Outer joins\n",
    "\n",
    "An inner join combines rows in different tables _when there is a match in the other table_, rows with no corresponding row in the other table will not turn up in the joined table.\n",
    "\n",
    "With an _outer join_ we can make sure that every row in one or both of the tables turn up in the joined table -- in case there is no match, it will be combined with a row containing only `NULL` values (`NULL` is written as `None` in our notebooks).\n",
    "\n",
    "As as example, we've seen how to join students and their applications:"
   ]
  },
  {
   "cell_type": "code",
   "execution_count": null,
   "id": "937f15d5",
   "metadata": {},
   "outputs": [],
   "source": [
    "%%sql\n"
   ]
  },
  {
   "cell_type": "markdown",
   "id": "386427a7",
   "metadata": {},
   "source": [
    "Now, assume we also want to see those students who haven't applied, we can do that using a _left outer join_:"
   ]
  },
  {
   "cell_type": "code",
   "execution_count": null,
   "id": "aa67c15d",
   "metadata": {},
   "outputs": [],
   "source": [
    "%%sql\n"
   ]
  },
  {
   "cell_type": "markdown",
   "id": "5da72ba9",
   "metadata": {},
   "source": [
    "We still get the rows we got before, but now we also get rows with `NULL`'s in the attributes from the right relation, if there is no row in the right table which corresponds to a row in the left table (i.e., the `s_id` found in the `students` table has no match in the `applications` table -- the tuples on the left are sometimes called _dangling tuples_).\n",
    "\n",
    "By the way, we can omit the `OUTER` keyword:"
   ]
  },
  {
   "cell_type": "code",
   "execution_count": null,
   "id": "df5061c9",
   "metadata": {},
   "outputs": [],
   "source": [
    "%%sql\n"
   ]
  },
  {
   "cell_type": "markdown",
   "id": "28b02d8b",
   "metadata": {},
   "source": [
    "There is a 'natural' version of outer joins ..."
   ]
  },
  {
   "cell_type": "code",
   "execution_count": null,
   "id": "d12b3caf",
   "metadata": {},
   "outputs": [],
   "source": [
    "%%sql\n"
   ]
  },
  {
   "cell_type": "markdown",
   "id": "1cf0db46",
   "metadata": {},
   "source": [
    "... but for the same reasons as for inner joins, it's _much_, _much_ better to explicitly declare which attribute we're joining (using `USING`).\n",
    "\n",
    "There is a way to get the same result without inner or outer joins, but it requires more code:"
   ]
  },
  {
   "cell_type": "code",
   "execution_count": null,
   "id": "df404d71",
   "metadata": {},
   "outputs": [],
   "source": [
    "%%sql\n",
    "SELECT      s_name, s.s_id, c_name, major\n",
    "FROM        students s\n",
    "CROSS JOIN  applications a\n",
    "WHERE       s.s_id = a.s_id\n",
    "UNION\n",
    "SELECT      s_name, s_id, NULL, NULL\n",
    "FROM        students\n",
    "WHERE       s_id NOT IN (SELECT s_id\n",
    "                         FROM   applications)"
   ]
  },
  {
   "cell_type": "markdown",
   "id": "603f293c",
   "metadata": {},
   "source": [
    "Seing this might help you understand what left outer join actually returns.\n",
    "\n",
    "Now, the opposite problem, we want to see applications with no matching students -- of course we could just swap `students` and `applications` in the query above, but we could also use a _right outer join_:"
   ]
  },
  {
   "cell_type": "code",
   "execution_count": null,
   "id": "b7e94a66",
   "metadata": {},
   "outputs": [],
   "source": [
    "%%sql\n",
    "SELECT     s_name, s_id, c_name, major\n",
    "FROM       students\n",
    "RIGHT JOIN applications USING (s_id)"
   ]
  },
  {
   "cell_type": "markdown",
   "id": "6005e4f7",
   "metadata": {},
   "source": [
    "There is also a _full outer join_, which combines the left-\n",
    "and the right outer joins:"
   ]
  },
  {
   "cell_type": "code",
   "execution_count": null,
   "id": "ba07b2e2",
   "metadata": {},
   "outputs": [],
   "source": [
    "%%sql\n",
    "SELECT    s_name, s_id, c_name, major\n",
    "FROM      students\n",
    "FULL JOIN applications USING (s_id)"
   ]
  },
  {
   "cell_type": "markdown",
   "id": "27b77592",
   "metadata": {},
   "source": [
    "Up until recently, SQLite only supported left outer joins, the other ones were left out :-), but since 2022 it supports left, right and full outer joins -- not having right outer join wasn't that much of an issue, since we can always turn a left outer join into a right outer join by taking the tables in reverse order.\n",
    "If you run into problems using right or full outer joins in SQLite, you can either try to update SQLite (to at least 3.39.0), or just reverse the order of the tables (in case of a right outer join), or use `UNION` to combine two outer joins (in case of a full outer join).\n",
    "\n",
    "\n",
    "**Exercise:** _Find all 'spurious' applications, i.e., applications where the student id doesn't match any student's id._ Try to solve this exercise in two ways (one using an outer join, the other using subqueries)."
   ]
  },
  {
   "cell_type": "code",
   "execution_count": null,
   "id": "87895f51",
   "metadata": {},
   "outputs": [],
   "source": [
    "%%sql\n"
   ]
  },
  {
   "cell_type": "code",
   "execution_count": null,
   "id": "ab42cbe7",
   "metadata": {},
   "outputs": [],
   "source": [
    "%%sql\n"
   ]
  },
  {
   "cell_type": "markdown",
   "id": "bf7e2f6a",
   "metadata": {},
   "source": [
    "# Problems/Exercises\n",
    "\n",
    "**Problem:** _How many olympic games have each continent hosted?_"
   ]
  },
  {
   "cell_type": "code",
   "execution_count": null,
   "id": "bf7c03ce",
   "metadata": {},
   "outputs": [],
   "source": [
    "%%sql\n"
   ]
  },
  {
   "cell_type": "markdown",
   "id": "f2e9a784",
   "metadata": {},
   "source": [
    "**Problem:** _Some years no Nobel prize was awarded in some categories, list all such years/categories (we'll only deal with physics, chemistry, medicine and literature, since they're the only ones we have in our database...)._\n",
    "\n",
    "Hint: To solve this problem we want to keep track of all possible prizes which could have been awarded, assuming all categories have been awarded since the outset (and indeed they have). So we want three things:\n",
    "\n",
    "+ all years when prizes were awarded (in any category)\n",
    "+ all categories (in our database...)\n",
    "+ all combinations of years/categories\n",
    "\n",
    "We can use a cross join to get all combinations:"
   ]
  },
  {
   "cell_type": "code",
   "execution_count": null,
   "id": "8b5a433f",
   "metadata": {},
   "outputs": [],
   "source": [
    "%%sql\n"
   ]
  },
  {
   "cell_type": "markdown",
   "id": "54ca6094",
   "metadata": {},
   "source": [
    "Once we have all possible combinations, we can use various techniques to find the missing ones:"
   ]
  },
  {
   "cell_type": "code",
   "execution_count": null,
   "id": "1eed6040",
   "metadata": {},
   "outputs": [],
   "source": [
    "%%sql\n"
   ]
  },
  {
   "cell_type": "markdown",
   "id": "3efbe0b0",
   "metadata": {},
   "source": [
    "Comment: Recently, SQLite has introduced a function [`generate_series`](https://sqlite.org/series.html), which lets us generate a series of values -- to generate a list of the years of 'potential' olympic summer games we can write (it was a recent addition, so it may not work in your notebook):"
   ]
  },
  {
   "cell_type": "code",
   "execution_count": null,
   "id": "7cffba49",
   "metadata": {},
   "outputs": [],
   "source": [
    "%%sql\n",
    "SELECT  value\n",
    "FROM    generate_series(1900, 2000, 4)"
   ]
  },
  {
   "cell_type": "markdown",
   "id": "75cade2f",
   "metadata": {},
   "source": [
    "During the world wars, no olympics were organized, so the list isn't quite right -- in the same manner we could have generated a list of all potential years for nobel prizes, but for some years during the wars, no prizes were awarded (not for the lack of worthy recipients).\n",
    "\n",
    "\n",
    "**Problem:** _List the three programs (college/major) which has the highest gpa for the \"last accepted\" student._ (Assuming the students are accepted in order of decreasing gpa)."
   ]
  },
  {
   "cell_type": "code",
   "execution_count": null,
   "id": "7461b9f4",
   "metadata": {},
   "outputs": [],
   "source": [
    "%%sql\n"
   ]
  },
  {
   "cell_type": "markdown",
   "id": "42c335bc",
   "metadata": {},
   "source": [
    "**Exercise:** _When was the first and the latest olympic games in each continent?_"
   ]
  },
  {
   "cell_type": "code",
   "execution_count": null,
   "id": "6ae746d3",
   "metadata": {},
   "outputs": [],
   "source": [
    "%%sql\n"
   ]
  },
  {
   "cell_type": "markdown",
   "id": "f4201e30",
   "metadata": {},
   "source": [
    "**Exercise:** _Generate the unwieldly college application table we started out with above from the three smaller tables._"
   ]
  },
  {
   "cell_type": "code",
   "execution_count": null,
   "id": "2520cddf",
   "metadata": {},
   "outputs": [],
   "source": [
    "%%sql\n"
   ]
  },
  {
   "cell_type": "markdown",
   "id": "d7a07771",
   "metadata": {},
   "source": [
    "**Exercise:** _Recreate the original `olympics` table from the improved `olympics` and `continents`._"
   ]
  },
  {
   "cell_type": "code",
   "execution_count": null,
   "id": "c76e900d",
   "metadata": {},
   "outputs": [],
   "source": [
    "%%sql\n"
   ]
  },
  {
   "cell_type": "markdown",
   "id": "3b65bb9a",
   "metadata": {},
   "source": [
    "# Instead of lists\n",
    "\n",
    "One of the 'rules' of relational databases is that the values in our tables must be primitive, we're not allowed to have lists or objects as values.\n",
    "This requirement is called the [\"First normal form\"](https://en.wikipedia.org/wiki/First_normal_form), or \"1NF\" -- we'll return to 'normal forms' during lectures 7 and 8.\n",
    "\n",
    "If we were to write a program to keep track of the phone numbers of our friends, we could write something like this in Java:"
   ]
  },
  {
   "cell_type": "markdown",
   "id": "b0d35282",
   "metadata": {},
   "source": [
    "~~~java\n",
    "class Friend {\n",
    "\n",
    "    private String name;\n",
    "    private List<PhoneNumber> phoneNumbers;\n",
    "    \n",
    "    ...\n",
    "}\n",
    "\n",
    "List<Friend> friends = ...\n",
    "~~~\n"
   ]
  },
  {
   "cell_type": "markdown",
   "id": "c423ff59",
   "metadata": {},
   "source": [
    "A literal translation of this into a table would be something like:"
   ]
  },
  {
   "cell_type": "markdown",
   "id": "6158a5b9",
   "metadata": {},
   "source": [
    "~~~\n",
    "name      phone_numbers\n",
    "----      -------------\n",
    "Adam      [123456, 654321]\n",
    "Bodil     [196811]\n",
    "~~~\n"
   ]
  },
  {
   "cell_type": "markdown",
   "id": "87ba22c8",
   "metadata": {},
   "source": [
    "but this is in violation of the 'First normal form', so instead we have a new row for each phone number:"
   ]
  },
  {
   "cell_type": "markdown",
   "id": "7608efa2",
   "metadata": {},
   "source": [
    "~~~\n",
    "name      phone\n",
    "----      -----\n",
    "Adam      123456\n",
    "Adam      654321\n",
    "Bodil     196811\n",
    "~~~\n"
   ]
  },
  {
   "cell_type": "markdown",
   "id": "365a6b1b",
   "metadata": {},
   "source": [
    "We can ask for Adam's number with:"
   ]
  },
  {
   "cell_type": "markdown",
   "id": "fbc73efc",
   "metadata": {},
   "source": [
    "~~~sql\n",
    "SELECT phone\n",
    "FROM   friends\n",
    "WHERE  name = 'Adam'\n",
    "~~~\n"
   ]
  },
  {
   "cell_type": "markdown",
   "id": "66a4c0d8",
   "metadata": {},
   "source": [
    "and we'd get both numbers back:"
   ]
  },
  {
   "cell_type": "markdown",
   "id": "04c25672",
   "metadata": {},
   "source": [
    "~~~\n",
    "phone\n",
    "-----\n",
    "123456\n",
    "654321\n",
    "~~~\n"
   ]
  },
  {
   "cell_type": "markdown",
   "id": "17f3cb68",
   "metadata": {},
   "source": [
    "Now, assume we also want to save the birthdays of our friends. We could add a column for birthdays like this:"
   ]
  },
  {
   "cell_type": "markdown",
   "id": "f98133ab",
   "metadata": {},
   "source": [
    "~~~\n",
    "name    birthday    phone\n",
    "----    --------    -----\n",
    "Adam    2 dec       123456\n",
    "Adam    2 dec       654321\n",
    "Bodil   30 nov      196811\n",
    "~~~\n"
   ]
  },
  {
   "cell_type": "markdown",
   "id": "4bb7a2ad",
   "metadata": {},
   "source": [
    "What's the problem with this?\n",
    "\n",
    "And what if we also want to save our friends' email addresses:"
   ]
  },
  {
   "cell_type": "markdown",
   "id": "5dce7a8a",
   "metadata": {},
   "source": [
    "~~~\n",
    "name        birthday    phone       email\n",
    "----        --------    -----       -----\n",
    "Adam        2 dec       123456      adam@gmail.com\n",
    "Adam        2 dec       123456      adam@yahoo.com\n",
    "Adam        2 dec       654321      adam@gmail.com\n",
    "Adam        2 dec       654321      adam@yahoo.com\n",
    "Bodil       30 nov      196811      bodil@itu.dk\n",
    "Bodil       30 nov      196811      bodil@lu.se\n",
    "Cecilia     9 apr       511235      cecilia@dn.se\n",
    "Cecilia     9 apr       641587      cecilia@dn.se\n",
    "David       12 jun      984531      david@gmail.co\n",
    "David       12 jun      984531      david@hotmail\n",
    "Emma        11 aug      123456      emma@lu.se\n",
    "~~~\n"
   ]
  },
  {
   "cell_type": "markdown",
   "id": "37b016ae",
   "metadata": {},
   "source": [
    "It may seem silly to have four rows for Adam, but if we removed one of them, we would loose vital information. If we removed the first row, and someone asked who had the phone number 123456 *and* the email address adam@gmail.com, the query:"
   ]
  },
  {
   "cell_type": "markdown",
   "id": "abbf102d",
   "metadata": {},
   "source": [
    "~~~sql\n",
    "SELECT  name, birthday\n",
    "FROM    friends\n",
    "WHERE   phone = '123456' AND email = 'adam@gmail.com'\n",
    "~~~\n"
   ]
  },
  {
   "cell_type": "markdown",
   "id": "68d730a2",
   "metadata": {},
   "source": [
    "would give an empty result.\n",
    "\n",
    "The problem with the table above is that we have a lot of redundance, i.e., information is repeated in many places. This is not only a waste of storage space, it also makes it much, much harder to keep our tables up to date -- insertions, updates and removals affects many rows, and if we're not careful, we might leave the table in a corrupted state.\n",
    "\n",
    "**Exercise:** _The data in the table above would be much easier to maintain if we split it into several tables -- suggest how to do that._"
   ]
  }
 ],
 "metadata": {},
 "nbformat": 4,
 "nbformat_minor": 5
}
